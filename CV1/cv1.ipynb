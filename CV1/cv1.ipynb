{
 "cells": [
  {
   "cell_type": "markdown",
   "metadata": {},
   "source": [
    "# Cvičení 1 - Stručný úvod do R, Kombinatorika\n",
    "## Adéla Vrtková, Michal Béreš, Martina Litschmannová"
   ]
  },
  {
   "cell_type": "markdown",
   "metadata": {},
   "source": [
    "Nejprve si projdeme některé základy Rka a naimplementujeme si některé kombinatorické funkce.\n",
    "\n",
    "# Krátký úvod do R"
   ]
  },
  {
   "cell_type": "code",
   "execution_count": null,
   "metadata": {},
   "outputs": [],
   "source": [
    "# jednoduché početní operace\n",
    "2+4\n",
    "5/2"
   ]
  },
  {
   "cell_type": "code",
   "execution_count": null,
   "metadata": {},
   "outputs": [],
   "source": [
    "# POZOR na závorky! Pro počítání se používají pouze kulaté! \n",
    "# Hranaté a složené mají v R jinou funkci!\n",
    "(((10+2)*(340-33))-2)/3"
   ]
  },
  {
   "cell_type": "code",
   "execution_count": null,
   "metadata": {},
   "outputs": [],
   "source": [
    "# kombinační číslo, faktoriály\n",
    "choose(10,2)\n",
    "factorial(4)"
   ]
  },
  {
   "cell_type": "code",
   "execution_count": null,
   "metadata": {},
   "outputs": [],
   "source": [
    "# datové typy -> numeric, character, logical, (complex)\n",
    "# funkcí class zjišťujeme typ objektu\n",
    "a=2+3\n",
    "class(a)"
   ]
  },
  {
   "cell_type": "code",
   "execution_count": null,
   "metadata": {},
   "outputs": [],
   "source": [
    "b=\"pismenko\"\n",
    "class(b)"
   ]
  },
  {
   "cell_type": "code",
   "execution_count": null,
   "metadata": {},
   "outputs": [],
   "source": [
    "c=(1>3)\n",
    "class(c)"
   ]
  },
  {
   "cell_type": "code",
   "execution_count": null,
   "metadata": {},
   "outputs": [],
   "source": [
    "d=3+1i\n",
    "class(d)"
   ]
  },
  {
   "cell_type": "markdown",
   "metadata": {},
   "source": [
    "## datové struktury v R\n",
    "\n",
    "- vector (rozumíme sloupcový vektor)\n",
    "- factor (speciální případ vektoru)\n",
    "- matrix (matice s rozměry n x m)\n",
    "- data.frame (datový rámec s rozměry n x p)\n",
    "- list (seznam)"
   ]
  },
  {
   "cell_type": "code",
   "execution_count": null,
   "metadata": {},
   "outputs": [],
   "source": [
    "# definování vektoru (sloupcový=column)\n",
    "a = c(3,4,6,7)\n",
    "a <- c(3,4,6,7)\n",
    "a[2]"
   ]
  },
  {
   "cell_type": "code",
   "execution_count": null,
   "metadata": {},
   "outputs": [],
   "source": [
    "# další možnosti\n",
    "rep(1,4) # vytvoří vektor se čtyřmi jedničkami"
   ]
  },
  {
   "cell_type": "code",
   "execution_count": null,
   "metadata": {},
   "outputs": [],
   "source": [
    "seq(1,10,2) #posloupnost od 1 do 10 s krokem 2"
   ]
  },
  {
   "cell_type": "code",
   "execution_count": null,
   "metadata": {},
   "outputs": [],
   "source": [
    "1:10  #posloupnost od 1 do 10 s krokem 1"
   ]
  },
  {
   "cell_type": "code",
   "execution_count": null,
   "metadata": {},
   "outputs": [],
   "source": [
    "b=c(\"A\",\"B\",\"C\",\"D\")\n",
    "b"
   ]
  },
  {
   "cell_type": "code",
   "execution_count": null,
   "metadata": {},
   "outputs": [],
   "source": [
    "class(b)"
   ]
  },
  {
   "cell_type": "code",
   "execution_count": null,
   "metadata": {},
   "outputs": [],
   "source": [
    "#předefinování objektu na jiný typ - např. as.vector, as.matrix, as.factor,...\n",
    "b=as.factor(b)\n",
    "b"
   ]
  },
  {
   "cell_type": "code",
   "execution_count": null,
   "metadata": {},
   "outputs": [],
   "source": [
    "#práce s vektory - slučování podle sloupců/řádků\n",
    "cbind(a,b)"
   ]
  },
  {
   "cell_type": "code",
   "execution_count": null,
   "metadata": {},
   "outputs": [],
   "source": [
    "rbind(a,b)"
   ]
  },
  {
   "cell_type": "code",
   "execution_count": null,
   "metadata": {},
   "outputs": [],
   "source": [
    "c(a,b)"
   ]
  },
  {
   "cell_type": "code",
   "execution_count": null,
   "metadata": {},
   "outputs": [],
   "source": [
    "## definování matice\n",
    "A=matrix(c(3,4,6,7,3,2),nrow=2,ncol=3)\n",
    "B=matrix(c(3,4,6,7,3,2),nrow=2,ncol=3,byrow=TRUE)\n",
    "C=matrix(c(3,4,6,7,3,2),nrow=3,ncol=2)"
   ]
  },
  {
   "cell_type": "code",
   "execution_count": null,
   "metadata": {},
   "outputs": [],
   "source": [
    "B"
   ]
  },
  {
   "cell_type": "code",
   "execution_count": null,
   "metadata": {},
   "outputs": [],
   "source": [
    "B[1,3]"
   ]
  },
  {
   "cell_type": "code",
   "execution_count": null,
   "metadata": {},
   "outputs": [],
   "source": [
    "A[1,]"
   ]
  },
  {
   "cell_type": "code",
   "execution_count": null,
   "metadata": {},
   "outputs": [],
   "source": [
    "A[,2:3]"
   ]
  },
  {
   "cell_type": "code",
   "execution_count": null,
   "metadata": {},
   "outputs": [],
   "source": [
    "#diagonální matice\n",
    "diag(4)"
   ]
  },
  {
   "cell_type": "code",
   "execution_count": null,
   "metadata": {},
   "outputs": [],
   "source": [
    "diag(4,2)"
   ]
  },
  {
   "cell_type": "code",
   "execution_count": null,
   "metadata": {},
   "outputs": [],
   "source": [
    "## operace s maticemi - pozor na maticové násobení -> %*%\n",
    "A+B"
   ]
  },
  {
   "cell_type": "code",
   "execution_count": null,
   "metadata": {},
   "outputs": [],
   "source": [
    "A-B"
   ]
  },
  {
   "cell_type": "code",
   "execution_count": null,
   "metadata": {},
   "outputs": [],
   "source": [
    "A*B"
   ]
  },
  {
   "cell_type": "code",
   "execution_count": null,
   "metadata": {},
   "outputs": [],
   "source": [
    "A%*%C"
   ]
  },
  {
   "cell_type": "markdown",
   "metadata": {},
   "source": [
    "<hr>\n",
    "\n",
    "# Kombinatorika\n",
    "\n",
    "## Variace\n",
    "\n",
    "V(n,k) - variace bez opakování, první argument bude celkový počet entit, druhý argument velikost výběru"
   ]
  },
  {
   "cell_type": "code",
   "execution_count": null,
   "metadata": {},
   "outputs": [],
   "source": [
    "# funkce se vytváří příkazem fucntion, je to objekt jehož jméno je dáno až proměnnou  \n",
    "# do které tento objekt přiřadím\n",
    "variace = function(n,k) # zde zadávám počet parametrů a jejich jména\n",
    "{ # celé tělo funkce je uzavřeno mezi závorkami {...}\n",
    "    citatel = factorial(n)  # faktoriál v originálním Rku existuje tak jej použijeme\n",
    "    jmenovatel = factorial(n-k)\n",
    "    return(citatel/jmenovatel)    # to co funkce vrátí se dává do příkazu return(...)\n",
    "}"
   ]
  },
  {
   "cell_type": "markdown",
   "metadata": {},
   "source": [
    "V*(n,k) - variace s opakováním"
   ]
  },
  {
   "cell_type": "code",
   "execution_count": null,
   "metadata": {},
   "outputs": [],
   "source": [
    "variace_opak = function(n,k)\n",
    "{\n",
    "  return(n^k)\n",
    "}"
   ]
  },
  {
   "cell_type": "markdown",
   "metadata": {},
   "source": [
    "## Permutace\n",
    "\n",
    "P(n)=V(n,n) - permutace"
   ]
  },
  {
   "cell_type": "code",
   "execution_count": null,
   "metadata": {},
   "outputs": [],
   "source": [
    "permutace = function(n)\n",
    "{\n",
    "  return(variace(n,n))\n",
    "}"
   ]
  },
  {
   "cell_type": "markdown",
   "metadata": {},
   "source": [
    "P*(n1,n2,n3,....,nk) - permutace s opakováním, vstup bude vektor s jednotlivými počty unikátních entit"
   ]
  },
  {
   "cell_type": "code",
   "execution_count": null,
   "metadata": {},
   "outputs": [],
   "source": [
    "permutace_opak = function(vec_n) # vec_n je vektro počtů hodnot př.: vec_n = c(2,2,2,4,3)\n",
    "{\n",
    "    n = sum(vec_n) # spočteme kolik máme hodnot celkem\n",
    "    res_temp=factorial(n) #jejich faktoriál = hodnota v čitateli\n",
    "    # jednoduchý cyklus začíná příkazem for, pak v závorkách následuje název iterátoru a z \n",
    "    # jakého seznamu bude brán\n",
    "    for(pocet in vec_n) # pocet je iterátor a postupně bude nabývat hodnot z vektoru vec_n\n",
    "    {\n",
    "        # postupně dělíme faktoriálem každého počtu unikátních entit\n",
    "        res_temp=res_temp/factorial(pocet) \n",
    "    }\n",
    "    return(res_temp)\n",
    "}"
   ]
  },
  {
   "cell_type": "markdown",
   "metadata": {},
   "source": [
    "## Kombinace\n",
    "\n",
    "C(n,k) - kombinace"
   ]
  },
  {
   "cell_type": "code",
   "execution_count": null,
   "metadata": {},
   "outputs": [],
   "source": [
    "kombinace = function(n,k)\n",
    "{\n",
    "  return(choose(n,k)) # funkce for kombinace už existuje v Rku a jmenuje se choose\n",
    "}"
   ]
  },
  {
   "cell_type": "markdown",
   "metadata": {},
   "source": [
    "C*(n,k) - kombinace s opakováním"
   ]
  },
  {
   "cell_type": "code",
   "execution_count": null,
   "metadata": {},
   "outputs": [],
   "source": [
    "kombinace_opak = function(n,k)\n",
    "{\n",
    "  return(choose(n+k-1,k)) # použijeme známý vzorec\n",
    "}"
   ]
  },
  {
   "cell_type": "markdown",
   "metadata": {},
   "source": [
    "# Úlohy na cvičení\n",
    "\n",
    "## Příklad 1.\n",
    "\n",
    "Které heslo je bezpečnější?\n",
    "* Heslo o délce osm znaků složené pouze z číslic.\n",
    "* Heslo o délce pět znaků složené pouze z písmen anglické abecedy."
   ]
  },
  {
   "cell_type": "code",
   "execution_count": null,
   "metadata": {},
   "outputs": [],
   "source": [
    "# heslo 1\n",
    "h1 = variace_opak(n = 10, k = 8)\n",
    "# heslo 2\n",
    "h2 = variace_opak(n = 26, k = 5)\n",
    "h1/h2"
   ]
  },
  {
   "cell_type": "markdown",
   "metadata": {},
   "source": [
    "## Příklad 2.\n",
    "\n",
    "Jak dlouho by trvalo vyřešení problému obchodního cestujícího pro n = 10 měst hrubou silou, jestliže vyhodnocení délky každé z možných cest trvá 1 µs?"
   ]
  },
  {
   "cell_type": "code",
   "execution_count": null,
   "metadata": {},
   "outputs": [],
   "source": [
    "n = 10\n",
    "pocet = permutace(n-1)/2\n",
    "cas = pocet/1000000\n",
    "cas"
   ]
  },
  {
   "cell_type": "markdown",
   "metadata": {},
   "source": [
    "## Příklad 3.\n",
    "\n",
    "Jak rozdělit kořist mezi 2 loupežníky, aby dostali oba věci ve stejné hodnotě (případně co nejbližší hodnotě). Tj. lze rozdělit N zadaných čísel do dvou skupin tak, aby součet čísel v obou skupinách byl stejný?\n",
    "\n",
    "**Kolik možností by bylo třeba vyzkoušet, pokud bychom úlohu řešili hrubou silou?**"
   ]
  },
  {
   "cell_type": "code",
   "execution_count": null,
   "metadata": {},
   "outputs": [],
   "source": [
    "N = 10\n",
    "L = 4\n",
    "variace_opak(n = L, k = N)"
   ]
  },
  {
   "cell_type": "markdown",
   "metadata": {},
   "source": [
    "## Příklad 4.\n",
    "\n",
    "Kolik anagramů slova \"AUTO\" můžeme vytvořit?\n",
    "\n",
    "Kolik anagramů slova \"AUTOMOBILKA\" můžeme vytvořit? Kolik z nich začína na \"K\"?"
   ]
  },
  {
   "cell_type": "code",
   "execution_count": null,
   "metadata": {},
   "outputs": [],
   "source": [
    "permutace(4)\n",
    "vec = c(2,1,1,2,1,1,1,1,1)\n",
    "sum(vec)\n",
    "permutace_opak(vec)\n",
    "\n",
    "vec = c(2,1,1,2,1,1,1,1)\n",
    "sum(vec)\n",
    "permutace_opak(vec)"
   ]
  },
  {
   "cell_type": "markdown",
   "metadata": {},
   "source": [
    "## Příklad 5. \n",
    "\n",
    "V obchodě mají 6 druhů barevných hrníčků. \n",
    "- Kolika různými způsoby můžeme koupit 4 různě-barevné hrníčky?\n",
    "- Kolika různými možnostmi můžeme nakoupit 5 hrníčků (pokud nám nevadí více od stejné barvy)?\n",
    "- Jak se situace změní, pokud budou mít od každého pouze 4 kusy (a nám nevadí více stejné barvy)?"
   ]
  },
  {
   "cell_type": "code",
   "execution_count": null,
   "metadata": {},
   "outputs": [],
   "source": [
    "kombinace(6,4)\n",
    "kombinace_opak(6,5)\n",
    "kombinace_opak(6,5) - 6"
   ]
  },
  {
   "cell_type": "markdown",
   "metadata": {},
   "source": [
    "## Příklad 6. (sbírka kap. 1, př. 7,8)\n",
    "\n",
    "Z urny se třemi koulemi, dvěma červenými a jednou bílou, budou současně vybrány dvě koule.\n",
    "Student a učitel uzavřou sázku. Pokud budou obě koule stejné barvy, vyhraje student. Pokud\n",
    "budou mít koule různou barvu, vyhraje učitel. \n",
    "- Je hra férová? Jaké jsou pravděpodobnosti výhry učitele a studenta?\n",
    "- Jakou kouli je třeba přidat, aby hra byla férová?"
   ]
  },
  {
   "cell_type": "code",
   "execution_count": null,
   "metadata": {},
   "outputs": [],
   "source": [
    "kombinace(3,2)\n",
    "kombinace(4,2)"
   ]
  },
  {
   "cell_type": "markdown",
   "metadata": {},
   "source": [
    "## Příklad 7.\n",
    "\n",
    "V balíčku je 5 různých párů ponožek (levá a pravá ponožka je vždy stejná).\n",
    "- Kolik různých dvojic ponožek lze vybrat?\n",
    "- Kolika různými způsoby se mohu obout? (tj. záleží na tom co je na které noze) "
   ]
  },
  {
   "cell_type": "code",
   "execution_count": null,
   "metadata": {},
   "outputs": [],
   "source": [
    "kombinace_opak(n = 5,k = 2)\n",
    "variace_opak(n=5,k=2)\n",
    "kombinace_opak(n = 5,k = 2)*2 - 5"
   ]
  },
  {
   "cell_type": "markdown",
   "metadata": {},
   "source": [
    "## Příklad 8.\n",
    "\n",
    "\n",
    "Mám 12 závaží o hmotnostech 1,2,...,12 kg.\n",
    "- Kolika způsoby je mohu rozdělit na 2 hromádky?\n",
    "- Kolika způsoby je mohu rozdělit na 3 hromádky?\n",
    "- Kolika způsoby je mohu rozdělit na 3 hromádky, má-li na všech být stejný počet závaží?\n",
    "- Kolika způsoby je mohu rozdělit na 3 hromádky o stejném počtu závaží, pokud hmotnost žádné z nich nesmí překročit 40 kg? "
   ]
  },
  {
   "cell_type": "code",
   "execution_count": null,
   "metadata": {},
   "outputs": [],
   "source": [
    "variace_opak(2,12)\n",
    "variace_opak(3,12)\n",
    "(variace_opak(3,12)-3)/permutace(3)+1\n",
    "(variace_opak(3,12)-(variace_opak(2,12)-2)*3-3)/permutace(3)\n",
    "kombinace(12,4)*kombinace(8,4)/permutace(3)\n",
    "permutace(12)/(permutace(4)*permutace(4)*permutace(4)*permutace(3))\n",
    "kombinace(12,4)*kombinace(8,4)/permutace(3)-kombinace(8,4)"
   ]
  },
  {
   "cell_type": "markdown",
   "metadata": {},
   "source": [
    "## Příklad 9.\n",
    "\n",
    "Mám 20 semínek od každého ze tří druhů zeleniny (mrkev, ředkvička, celer). Bohužel se pomíchala.\n",
    "- Do truhlíku zasadím 5 náhodných semínek. Jaká je pravděpodobnost, že mezi nimi budou alespoň tři ředkvičky?\n",
    "- Do truhlíku zasadím 5 náhodných semínek. Jaká je pravděpodobnost, že mezi nimi bude více mrkví než celerů? "
   ]
  },
  {
   "cell_type": "code",
   "execution_count": null,
   "metadata": {},
   "outputs": [],
   "source": [
    "(kombinace(20,3)*kombinace(40,2)+kombinace(20,4)*kombinace(40,1)+kombinace(20,5))/kombinace(60,5)"
   ]
  }
 ],
 "metadata": {
  "kernelspec": {
   "display_name": "R",
   "language": "R",
   "name": "ir"
  },
  "language_info": {
   "codemirror_mode": "r",
   "file_extension": ".r",
   "mimetype": "text/x-r-source",
   "name": "R",
   "pygments_lexer": "r",
   "version": "4.1.2"
  }
 },
 "nbformat": 4,
 "nbformat_minor": 4
}

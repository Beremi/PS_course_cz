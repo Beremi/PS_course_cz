{
 "cells": [
  {
   "cell_type": "markdown",
   "metadata": {},
   "source": [
    "# Cvičení 1 - Kombinatorika\n",
    "## Adéla Vrtková, Michal Béreš, Martina Litschmannová"
   ]
  },
  {
   "cell_type": "markdown",
   "metadata": {},
   "source": [
    "## Variace\n",
    "\n",
    "V(n,k) - variace bez opakování, první argument bude celkový počet entit, druhý argument velikost výběru"
   ]
  },
  {
   "cell_type": "code",
   "execution_count": null,
   "metadata": {
    "vscode": {
     "languageId": "r"
    }
   },
   "outputs": [],
   "source": [
    "# funkce se vytváří příkazem fucntion, je to objekt jehož jméno je dáno až proměnnou\n",
    "# do které tento objekt přiřadím\n",
    "variace <- function(n, k) # zde zadávám počet parametrů a jejich jména\n",
    "{ # celé tělo funkce je uzavřeno mezi závorkami {...}\n",
    "    citatel <- factorial(n) # faktoriál v originálním Rku existuje tak jej použijeme\n",
    "    jmenovatel <- factorial(n - k)\n",
    "    return(citatel / jmenovatel) # to co funkce vrátí se dává do příkazu return(...)\n",
    "}\n"
   ]
  },
  {
   "cell_type": "markdown",
   "metadata": {},
   "source": [
    "V*(n,k) - variace s opakováním"
   ]
  },
  {
   "cell_type": "code",
   "execution_count": null,
   "metadata": {
    "vscode": {
     "languageId": "r"
    }
   },
   "outputs": [],
   "source": [
    "variace_opak <- function(n, k) {\n",
    "  return(n^k)\n",
    "}\n"
   ]
  },
  {
   "cell_type": "markdown",
   "metadata": {},
   "source": [
    "## Permutace\n",
    "\n",
    "P(n)=V(n,n) - permutace"
   ]
  },
  {
   "cell_type": "code",
   "execution_count": null,
   "metadata": {
    "vscode": {
     "languageId": "r"
    }
   },
   "outputs": [],
   "source": [
    "permutace <- function(n) {\n",
    "  return(factorial(n))\n",
    "}\n"
   ]
  },
  {
   "cell_type": "markdown",
   "metadata": {},
   "source": [
    "P*(n1,n2,n3,....,nk) - permutace s opakováním, vstup bude vektor s jednotlivými počty unikátních entit"
   ]
  },
  {
   "cell_type": "code",
   "execution_count": null,
   "metadata": {
    "vscode": {
     "languageId": "r"
    }
   },
   "outputs": [],
   "source": [
    "permutace_opak <- function(vec_n) # vec_n je vektro počtů hodnot př.: vec_n = c(2,2,2,4,3)\n",
    "{\n",
    "    n <- sum(vec_n) # spočteme kolik máme hodnot celkem\n",
    "    res_temp <- factorial(n) # jejich faktoriál = hodnota v čitateli\n",
    "    # jednoduchý cyklus začíná příkazem for, pak v závorkách následuje název iterátoru a z\n",
    "    # jakého seznamu bude brán\n",
    "    for (pocet in vec_n) # pocet je iterátor a postupně bude nabývat hodnot z vektoru vec_n\n",
    "    {\n",
    "        # postupně dělíme faktoriálem každého počtu unikátních entit\n",
    "        res_temp <- res_temp / factorial(pocet)\n",
    "    }\n",
    "    return(res_temp)\n",
    "}\n"
   ]
  },
  {
   "cell_type": "markdown",
   "metadata": {},
   "source": [
    "## Kombinace\n",
    "\n",
    "C(n,k) - kombinace"
   ]
  },
  {
   "cell_type": "code",
   "execution_count": null,
   "metadata": {
    "vscode": {
     "languageId": "r"
    }
   },
   "outputs": [],
   "source": [
    "kombinace <- function(n, k) {\n",
    "  return(choose(n, k)) # funkce for kombinace už existuje v Rku a jmenuje se choose\n",
    "}\n"
   ]
  },
  {
   "cell_type": "markdown",
   "metadata": {},
   "source": [
    "C*(n,k) - kombinace s opakováním"
   ]
  },
  {
   "cell_type": "code",
   "execution_count": null,
   "metadata": {
    "vscode": {
     "languageId": "r"
    }
   },
   "outputs": [],
   "source": [
    "kombinace_opak <- function(n, k) {\n",
    "  return(choose(n + k - 1, k)) # použijeme známý vzorec\n",
    "}\n"
   ]
  },
  {
   "cell_type": "markdown",
   "metadata": {},
   "source": [
    "# Úlohy na cvičení\n",
    "\n",
    "## Příklad 1.\n",
    "\n",
    "Které heslo je bezpečnější?\n",
    "* Heslo o délce osm znaků složené pouze z číslic.\n",
    "* Heslo o délce pět znaků složené pouze z písmen anglické abecedy."
   ]
  },
  {
   "cell_type": "code",
   "execution_count": null,
   "metadata": {
    "vscode": {
     "languageId": "r"
    }
   },
   "outputs": [],
   "source": [
    "# heslo 1\n",
    "h1 <- variace_opak(n = 10, k = 8)\n",
    "# heslo 2\n",
    "h2 <- variace_opak(n = 26, k = 5)\n",
    "h1 / h2\n"
   ]
  },
  {
   "cell_type": "markdown",
   "metadata": {},
   "source": [
    "## Příklad 2.\n",
    "\n",
    "Jak dlouho by trvalo vyřešení problému obchodního cestujícího pro n = 10 měst hrubou silou, jestliže vyhodnocení délky každé z možných cest trvá 1 µs?"
   ]
  },
  {
   "cell_type": "code",
   "execution_count": null,
   "metadata": {
    "vscode": {
     "languageId": "r"
    }
   },
   "outputs": [],
   "source": [
    "n <- 10\n",
    "pocet <- permutace(n - 1) / 2\n",
    "cas <- pocet / 1000000\n",
    "cas\n"
   ]
  },
  {
   "cell_type": "markdown",
   "metadata": {},
   "source": [
    "## Příklad 3.\n",
    "\n",
    "Jak rozdělit kořist mezi 2 loupežníky, aby dostali oba věci ve stejné hodnotě (případně co nejbližší hodnotě). Tj. lze rozdělit N zadaných čísel do dvou skupin tak, aby součet čísel v obou skupinách byl stejný?\n",
    "\n",
    "**Kolik možností by bylo třeba vyzkoušet, pokud bychom úlohu řešili hrubou silou?**"
   ]
  },
  {
   "cell_type": "code",
   "execution_count": null,
   "metadata": {
    "vscode": {
     "languageId": "r"
    }
   },
   "outputs": [],
   "source": [
    "N <- 10\n",
    "L <- 4\n",
    "variace_opak(n = L, k = N)\n"
   ]
  },
  {
   "cell_type": "markdown",
   "metadata": {},
   "source": [
    "## Příklad 4.\n",
    "\n",
    "Kolik anagramů slova \"AUTO\" můžeme vytvořit?\n",
    "\n",
    "Kolik anagramů slova \"AUTOMOBILKA\" můžeme vytvořit? Kolik z nich začína na \"K\"?"
   ]
  },
  {
   "cell_type": "code",
   "execution_count": null,
   "metadata": {
    "vscode": {
     "languageId": "r"
    }
   },
   "outputs": [],
   "source": [
    "permutace(4)\n",
    "vec <- c(2, 1, 1, 2, 1, 1, 1, 1, 1)\n",
    "sum(vec)\n",
    "permutace_opak(vec)\n",
    "\n",
    "vec <- c(2, 1, 1, 2, 1, 1, 1, 1)\n",
    "sum(vec)\n",
    "permutace_opak(vec)\n"
   ]
  },
  {
   "cell_type": "markdown",
   "metadata": {},
   "source": [
    "## Příklad 5. \n",
    "\n",
    "V obchodě mají 6 druhů barevných hrníčků. \n",
    "- Kolika různými způsoby můžeme koupit 4 různě-barevné hrníčky?\n",
    "- Kolika různými možnostmi můžeme nakoupit 5 hrníčků (pokud nám nevadí více od stejné barvy)?\n",
    "- Jak se situace změní, pokud budou mít od každého pouze 4 kusy (a nám nevadí více stejné barvy)?"
   ]
  },
  {
   "cell_type": "code",
   "execution_count": null,
   "metadata": {
    "vscode": {
     "languageId": "r"
    }
   },
   "outputs": [],
   "source": [
    "kombinace(6, 4)\n",
    "kombinace_opak(6, 5)\n",
    "kombinace_opak(6, 5) - 6\n"
   ]
  },
  {
   "cell_type": "markdown",
   "metadata": {},
   "source": [
    "## Příklad 6. (sbírka kap. 1, př. 7,8)\n",
    "\n",
    "Z urny se třemi koulemi, dvěma červenými a jednou bílou, budou současně vybrány dvě koule.\n",
    "Student a učitel uzavřou sázku. Pokud budou obě koule stejné barvy, vyhraje student. Pokud\n",
    "budou mít koule různou barvu, vyhraje učitel. \n",
    "- Je hra férová? Jaké jsou pravděpodobnosti výhry učitele a studenta?\n",
    "- Jakou kouli je třeba přidat, aby hra byla férová?"
   ]
  },
  {
   "cell_type": "code",
   "execution_count": null,
   "metadata": {
    "vscode": {
     "languageId": "r"
    }
   },
   "outputs": [],
   "source": [
    "kombinace(3, 2)\n",
    "kombinace(4, 2)\n"
   ]
  },
  {
   "cell_type": "markdown",
   "metadata": {},
   "source": [
    "## Příklad 7.\n",
    "\n",
    "V balíčku je 5 různých párů ponožek (levá a pravá ponožka je vždy stejná).\n",
    "- Kolik různých dvojic ponožek lze vybrat?\n",
    "- Kolika různými způsoby se mohu obout? (tj. záleží na tom co je na které noze) "
   ]
  },
  {
   "cell_type": "code",
   "execution_count": null,
   "metadata": {
    "vscode": {
     "languageId": "r"
    }
   },
   "outputs": [],
   "source": [
    "kombinace_opak(n = 5, k = 2)\n",
    "variace_opak(n = 5, k = 2)\n",
    "kombinace_opak(n = 5, k = 2) * 2 - 5\n"
   ]
  },
  {
   "cell_type": "markdown",
   "metadata": {},
   "source": [
    "## Příklad 8.\n",
    "\n",
    "\n",
    "Mám 12 závaží o hmotnostech 1,2,...,12 kg.\n",
    "- Kolika způsoby je mohu rozdělit na 2 hromádky?\n",
    "- Kolika způsoby je mohu rozdělit na 3 hromádky?\n",
    "- Kolika způsoby je mohu rozdělit na 3 hromádky, má-li na všech být stejný počet závaží?\n",
    "- Kolika způsoby je mohu rozdělit na 3 hromádky o stejném počtu závaží, pokud hmotnost žádné z nich nesmí překročit 40 kg? "
   ]
  },
  {
   "cell_type": "code",
   "execution_count": null,
   "metadata": {
    "vscode": {
     "languageId": "r"
    }
   },
   "outputs": [],
   "source": [
    "variace_opak(2, 12)\n",
    "variace_opak(3, 12)\n",
    "(variace_opak(3, 12) - 3) / permutace(3) + 1\n",
    "(variace_opak(3, 12) - (variace_opak(2, 12) - 2) * 3 - 3) / permutace(3)\n",
    "kombinace(12, 4) * kombinace(8, 4) / permutace(3)\n",
    "permutace(12) / (permutace(4) * permutace(4) * permutace(4) * permutace(3))\n",
    "kombinace(12, 4) * kombinace(8, 4) / permutace(3) - kombinace(8, 4)\n"
   ]
  },
  {
   "cell_type": "markdown",
   "metadata": {},
   "source": [
    "## Příklad 9.\n",
    "\n",
    "Mám 20 semínek od každého ze tří druhů zeleniny (mrkev, ředkvička, celer). Bohužel se pomíchala.\n",
    "- Do truhlíku zasadím 5 náhodných semínek. Jaká je pravděpodobnost, že mezi nimi budou alespoň tři ředkvičky?\n",
    "- Do truhlíku zasadím 5 náhodných semínek. Jaká je pravděpodobnost, že mezi nimi bude více mrkví než celerů? "
   ]
  },
  {
   "cell_type": "code",
   "execution_count": null,
   "metadata": {
    "vscode": {
     "languageId": "r"
    }
   },
   "outputs": [],
   "source": [
    "(kombinace(20, 3) * kombinace(40, 2) + kombinace(20, 4) * kombinace(40, 1) + kombinace(20, 5)) / kombinace(60, 5)\n"
   ]
  }
 ],
 "metadata": {
  "kernelspec": {
   "display_name": "R",
   "language": "R",
   "name": "ir"
  },
  "language_info": {
   "codemirror_mode": "r",
   "file_extension": ".r",
   "mimetype": "text/x-r-source",
   "name": "R",
   "pygments_lexer": "r",
   "version": "4.3.1"
  }
 },
 "nbformat": 4,
 "nbformat_minor": 4
}

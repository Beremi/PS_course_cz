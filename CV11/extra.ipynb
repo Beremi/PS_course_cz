{
 "cells": [
  {
   "cell_type": "markdown",
   "id": "looking-extra",
   "metadata": {},
   "source": [
    " # Cvičení 12. Vícevýběrové testy - Extra pro zájemce\n",
    " ## Michal Béreš"
   ]
  },
  {
   "cell_type": "markdown",
   "id": "speaking-burning",
   "metadata": {},
   "source": [
    "## Načteme si testovací data a vyrobíme post-hoc + efekty pro ANOVU a KW test"
   ]
  },
  {
   "cell_type": "code",
   "execution_count": 4,
   "id": "saving-technology",
   "metadata": {
    "vscode": {
     "languageId": "r"
    }
   },
   "outputs": [
    {
     "name": "stderr",
     "output_type": "stream",
     "text": [
      "\n",
      "Attaching package: ‘dplyr’\n",
      "\n",
      "\n",
      "The following objects are masked from ‘package:stats’:\n",
      "\n",
      "    filter, lag\n",
      "\n",
      "\n",
      "The following objects are masked from ‘package:base’:\n",
      "\n",
      "    intersect, setdiff, setequal, union\n",
      "\n",
      "\n"
     ]
    }
   ],
   "source": [
    "data <- readxl::read_excel(\"data/snehurka.xlsx\")\n",
    "# data jsou ve standardním dtovém formátu\n",
    "library(dplyr)"
   ]
  },
  {
   "cell_type": "code",
   "execution_count": 18,
   "id": "d142773a",
   "metadata": {
    "vscode": {
     "languageId": "r"
    }
   },
   "outputs": [
    {
     "name": "stdout",
     "output_type": "stream",
     "text": [
      "  Kruskal-Wallis rank sum test\n",
      "\n",
      "data: x and group\n",
      "Kruskal-Wallis chi-squared = 105.1547, df = 6, p-value = 0\n",
      "\n",
      "\n",
      "                           Comparison of x by group                            \n",
      "                                 (Bonferroni)                                  \n",
      "Col Mean-|\n",
      "Row Mean |     Dřímal    Kejchal      Profa     Rejpal     Šmudla    Štístko\n",
      "---------+------------------------------------------------------------------\n",
      " Kejchal |  -3.952403\n",
      "         |    0.0016*\n",
      "         |\n",
      "   Profa |   2.138019   6.090422\n",
      "         |     0.6828    0.0000*\n",
      "         |\n",
      "  Rejpal |  -3.578199   0.374203  -5.716218\n",
      "         |    0.0073*     1.0000    0.0000*\n",
      "         |\n",
      "  Šmudla |  -6.778148  -2.825745  -8.916168  -3.199949\n",
      "         |    0.0000*     0.0991    0.0000*    0.0289*\n",
      "         |\n",
      " Štístko |  -2.647745   1.304657  -4.785765   0.930453   4.130402\n",
      "         |     0.1702     1.0000    0.0000*     1.0000    0.0008*\n",
      "         |\n",
      " Stydlín |  -0.529953   3.422449  -2.667973   3.048245   6.248194   2.117792\n",
      "         |     1.0000    0.0130*     0.1603    0.0483*    0.0000*     0.7180\n",
      "\n",
      "alpha = 0.05\n",
      "Reject Ho if p <= alpha\n"
     ]
    },
    {
     "name": "stdout",
     "output_type": "stream",
     "text": [
      "     res.comparisons round.res.altP.adjusted..3.\n",
      "1   Dřímal - Kejchal                       0.002\n",
      "2     Dřímal - Profa                       0.683\n",
      "3    Kejchal - Profa                       0.000\n",
      "4    Dřímal - Rejpal                       0.007\n",
      "5   Kejchal - Rejpal                       1.000\n",
      "6     Profa - Rejpal                       0.000\n",
      "7    Dřímal - Šmudla                       0.000\n",
      "8   Kejchal - Šmudla                       0.099\n",
      "9     Profa - Šmudla                       0.000\n",
      "10   Rejpal - Šmudla                       0.029\n",
      "11  Dřímal - Štístko                       0.170\n",
      "12 Kejchal - Štístko                       1.000\n",
      "13   Profa - Štístko                       0.000\n",
      "14  Rejpal - Štístko                       1.000\n",
      "15  Šmudla - Štístko                       0.001\n",
      "16  Dřímal - Stydlín                       1.000\n",
      "17 Kejchal - Stydlín                       0.013\n",
      "18   Profa - Stydlín                       0.160\n",
      "19  Rejpal - Stydlín                       0.048\n",
      "20  Šmudla - Stydlín                       0.000\n",
      "21 Štístko - Stydlín                       0.718\n"
     ]
    }
   ],
   "source": [
    "res <- dunn.test::dunn.test(data$hodnota, data$typ, method = \"bonferroni\", altp = TRUE);\n",
    "print(data.frame(res$comparisons, round(res$altP.adjusted, 3)))"
   ]
  },
  {
   "cell_type": "code",
   "execution_count": null,
   "id": "f9c063af",
   "metadata": {
    "vscode": {
     "languageId": "r"
    }
   },
   "outputs": [
    {
     "data": {
      "text/plain": [
       "NULL"
      ]
     },
     "metadata": {},
     "output_type": "display_data"
    }
   ],
   "source": [
    "res$altP.adjusted"
   ]
  },
  {
   "cell_type": "code",
   "execution_count": 19,
   "id": "234f95ee",
   "metadata": {
    "vscode": {
     "languageId": "r"
    }
   },
   "outputs": [
    {
     "name": "stdout",
     "output_type": "stream",
     "text": [
      "     res.comparisons round.res.altP.adjusted..3.\n",
      "1   Dřímal - Kejchal                       0.002\n",
      "2     Dřímal - Profa                       0.683\n",
      "3    Kejchal - Profa                       0.000\n",
      "4    Dřímal - Rejpal                       0.007\n",
      "5   Kejchal - Rejpal                       1.000\n",
      "6     Profa - Rejpal                       0.000\n",
      "7    Dřímal - Šmudla                       0.000\n",
      "8   Kejchal - Šmudla                       0.099\n",
      "9     Profa - Šmudla                       0.000\n",
      "10   Rejpal - Šmudla                       0.029\n",
      "11  Dřímal - Štístko                       0.170\n",
      "12 Kejchal - Štístko                       1.000\n",
      "13   Profa - Štístko                       0.000\n",
      "14  Rejpal - Štístko                       1.000\n",
      "15  Šmudla - Štístko                       0.001\n",
      "16  Dřímal - Stydlín                       1.000\n",
      "17 Kejchal - Stydlín                       0.013\n",
      "18   Profa - Stydlín                       0.160\n",
      "19  Rejpal - Stydlín                       0.048\n",
      "20  Šmudla - Stydlín                       0.000\n",
      "21 Štístko - Stydlín                       0.718\n"
     ]
    }
   ],
   "source": [
    "print(data.frame(res$comparisons, round(res$altP.adjusted, 3)))"
   ]
  },
  {
   "cell_type": "code",
   "execution_count": 9,
   "id": "a4425d63",
   "metadata": {
    "vscode": {
     "languageId": "r"
    }
   },
   "outputs": [
    {
     "name": "stdout",
     "output_type": "stream",
     "text": [
      "                p adj\n",
      "Kejchal-Dřímal  0.000\n",
      "Profa-Dřímal    0.005\n",
      "Rejpal-Dřímal   0.000\n",
      "Šmudla-Dřímal   0.000\n",
      "Štístko-Dřímal  0.013\n",
      "Stydlín-Dřímal  0.985\n",
      "Profa-Kejchal   0.000\n",
      "Rejpal-Kejchal  0.998\n",
      "Šmudla-Kejchal  0.000\n",
      "Štístko-Kejchal 0.713\n",
      "Stydlín-Kejchal 0.001\n",
      "Rejpal-Profa    0.000\n",
      "Šmudla-Profa    0.000\n",
      "Štístko-Profa   0.000\n",
      "Stydlín-Profa   0.000\n",
      "Šmudla-Rejpal   0.000\n",
      "Štístko-Rejpal  0.949\n",
      "Stydlín-Rejpal  0.006\n",
      "Štístko-Šmudla  0.000\n",
      "Stydlín-Šmudla  0.000\n",
      "Stydlín-Štístko 0.125\n"
     ]
    }
   ],
   "source": [
    "res <- aov(data$hodnota ~ data$typ)\n",
    "print(as.data.frame(round(TukeyHSD(res)[[1]], 3)) %>% select(4))"
   ]
  },
  {
   "cell_type": "code",
   "execution_count": 2,
   "id": "entertaining-midwest",
   "metadata": {
    "vscode": {
     "languageId": "r"
    }
   },
   "outputs": [
    {
     "data": {
      "text/html": [
       "<table class=\"dataframe\">\n",
       "<caption>A matrix: 21 × 4 of type dbl</caption>\n",
       "<thead>\n",
       "\t<tr><th></th><th scope=col>diff</th><th scope=col>lwr</th><th scope=col>upr</th><th scope=col>p adj</th></tr>\n",
       "</thead>\n",
       "<tbody>\n",
       "\t<tr><th scope=row>Kejchal-Dřímal</th><td> 0.61338486</td><td> 0.24635938</td><td> 0.98041034</td><td>2.769364e-05</td></tr>\n",
       "\t<tr><th scope=row>Profa-Dřímal</th><td>-0.45472230</td><td>-0.82174778</td><td>-0.08769682</td><td>5.265389e-03</td></tr>\n",
       "\t<tr><th scope=row>Rejpal-Dřímal</th><td> 0.54761573</td><td> 0.18059025</td><td> 0.91464121</td><td>2.871456e-04</td></tr>\n",
       "\t<tr><th scope=row>Šmudla-Dřímal</th><td> 1.18016854</td><td> 0.81314306</td><td> 1.54719402</td><td>2.609024e-14</td></tr>\n",
       "\t<tr><th scope=row>Štístko-Dřímal</th><td> 0.42198262</td><td> 0.05495714</td><td> 0.78900810</td><td>1.296949e-02</td></tr>\n",
       "\t<tr><th scope=row>Stydlín-Dřímal</th><td> 0.09891331</td><td>-0.26811217</td><td> 0.46593879</td><td>9.845413e-01</td></tr>\n",
       "\t<tr><th scope=row>Profa-Kejchal</th><td>-1.06810716</td><td>-1.43513263</td><td>-0.70108168</td><td>5.551115e-14</td></tr>\n",
       "\t<tr><th scope=row>Rejpal-Kejchal</th><td>-0.06576913</td><td>-0.43279460</td><td> 0.30125635</td><td>9.983200e-01</td></tr>\n",
       "\t<tr><th scope=row>Šmudla-Kejchal</th><td> 0.56678368</td><td> 0.19975820</td><td> 0.93380916</td><td>1.485215e-04</td></tr>\n",
       "\t<tr><th scope=row>Štístko-Kejchal</th><td>-0.19140224</td><td>-0.55842772</td><td> 0.17562324</td><td>7.125148e-01</td></tr>\n",
       "\t<tr><th scope=row>Stydlín-Kejchal</th><td>-0.51447155</td><td>-0.88149703</td><td>-0.14744607</td><td>8.575061e-04</td></tr>\n",
       "\t<tr><th scope=row>Rejpal-Profa</th><td> 1.00233803</td><td> 0.63531255</td><td> 1.36936351</td><td>8.026912e-13</td></tr>\n",
       "\t<tr><th scope=row>Šmudla-Profa</th><td> 1.63489084</td><td> 1.26786536</td><td> 2.00191632</td><td>0.000000e+00</td></tr>\n",
       "\t<tr><th scope=row>Štístko-Profa</th><td> 0.87670492</td><td> 0.50967944</td><td> 1.24373039</td><td>3.719213e-10</td></tr>\n",
       "\t<tr><th scope=row>Stydlín-Profa</th><td> 0.55363560</td><td> 0.18661013</td><td> 0.92066108</td><td>2.339229e-04</td></tr>\n",
       "\t<tr><th scope=row>Šmudla-Rejpal</th><td> 0.63255281</td><td> 0.26552733</td><td> 0.99957829</td><td>1.346718e-05</td></tr>\n",
       "\t<tr><th scope=row>Štístko-Rejpal</th><td>-0.12563312</td><td>-0.49265859</td><td> 0.24139236</td><td>9.491834e-01</td></tr>\n",
       "\t<tr><th scope=row>Stydlín-Rejpal</th><td>-0.44870243</td><td>-0.81572790</td><td>-0.08167695</td><td>6.246760e-03</td></tr>\n",
       "\t<tr><th scope=row>Štístko-Šmudla</th><td>-0.75818592</td><td>-1.12521140</td><td>-0.39116044</td><td>8.055135e-08</td></tr>\n",
       "\t<tr><th scope=row>Stydlín-Šmudla</th><td>-1.08125523</td><td>-1.44828071</td><td>-0.71422975</td><td>3.763656e-14</td></tr>\n",
       "\t<tr><th scope=row>Stydlín-Štístko</th><td>-0.32306931</td><td>-0.69009479</td><td> 0.04395617</td><td>1.250710e-01</td></tr>\n",
       "</tbody>\n",
       "</table>\n"
      ],
      "text/latex": [
       "A matrix: 21 × 4 of type dbl\n",
       "\\begin{tabular}{r|llll}\n",
       "  & diff & lwr & upr & p adj\\\\\n",
       "\\hline\n",
       "\tKejchal-Dřímal &  0.61338486 &  0.24635938 &  0.98041034 & 2.769364e-05\\\\\n",
       "\tProfa-Dřímal & -0.45472230 & -0.82174778 & -0.08769682 & 5.265389e-03\\\\\n",
       "\tRejpal-Dřímal &  0.54761573 &  0.18059025 &  0.91464121 & 2.871456e-04\\\\\n",
       "\tŠmudla-Dřímal &  1.18016854 &  0.81314306 &  1.54719402 & 2.609024e-14\\\\\n",
       "\tŠtístko-Dřímal &  0.42198262 &  0.05495714 &  0.78900810 & 1.296949e-02\\\\\n",
       "\tStydlín-Dřímal &  0.09891331 & -0.26811217 &  0.46593879 & 9.845413e-01\\\\\n",
       "\tProfa-Kejchal & -1.06810716 & -1.43513263 & -0.70108168 & 5.551115e-14\\\\\n",
       "\tRejpal-Kejchal & -0.06576913 & -0.43279460 &  0.30125635 & 9.983200e-01\\\\\n",
       "\tŠmudla-Kejchal &  0.56678368 &  0.19975820 &  0.93380916 & 1.485215e-04\\\\\n",
       "\tŠtístko-Kejchal & -0.19140224 & -0.55842772 &  0.17562324 & 7.125148e-01\\\\\n",
       "\tStydlín-Kejchal & -0.51447155 & -0.88149703 & -0.14744607 & 8.575061e-04\\\\\n",
       "\tRejpal-Profa &  1.00233803 &  0.63531255 &  1.36936351 & 8.026912e-13\\\\\n",
       "\tŠmudla-Profa &  1.63489084 &  1.26786536 &  2.00191632 & 0.000000e+00\\\\\n",
       "\tŠtístko-Profa &  0.87670492 &  0.50967944 &  1.24373039 & 3.719213e-10\\\\\n",
       "\tStydlín-Profa &  0.55363560 &  0.18661013 &  0.92066108 & 2.339229e-04\\\\\n",
       "\tŠmudla-Rejpal &  0.63255281 &  0.26552733 &  0.99957829 & 1.346718e-05\\\\\n",
       "\tŠtístko-Rejpal & -0.12563312 & -0.49265859 &  0.24139236 & 9.491834e-01\\\\\n",
       "\tStydlín-Rejpal & -0.44870243 & -0.81572790 & -0.08167695 & 6.246760e-03\\\\\n",
       "\tŠtístko-Šmudla & -0.75818592 & -1.12521140 & -0.39116044 & 8.055135e-08\\\\\n",
       "\tStydlín-Šmudla & -1.08125523 & -1.44828071 & -0.71422975 & 3.763656e-14\\\\\n",
       "\tStydlín-Štístko & -0.32306931 & -0.69009479 &  0.04395617 & 1.250710e-01\\\\\n",
       "\\end{tabular}\n"
      ],
      "text/markdown": [
       "\n",
       "A matrix: 21 × 4 of type dbl\n",
       "\n",
       "| <!--/--> | diff | lwr | upr | p adj |\n",
       "|---|---|---|---|---|\n",
       "| Kejchal-Dřímal |  0.61338486 |  0.24635938 |  0.98041034 | 2.769364e-05 |\n",
       "| Profa-Dřímal | -0.45472230 | -0.82174778 | -0.08769682 | 5.265389e-03 |\n",
       "| Rejpal-Dřímal |  0.54761573 |  0.18059025 |  0.91464121 | 2.871456e-04 |\n",
       "| Šmudla-Dřímal |  1.18016854 |  0.81314306 |  1.54719402 | 2.609024e-14 |\n",
       "| Štístko-Dřímal |  0.42198262 |  0.05495714 |  0.78900810 | 1.296949e-02 |\n",
       "| Stydlín-Dřímal |  0.09891331 | -0.26811217 |  0.46593879 | 9.845413e-01 |\n",
       "| Profa-Kejchal | -1.06810716 | -1.43513263 | -0.70108168 | 5.551115e-14 |\n",
       "| Rejpal-Kejchal | -0.06576913 | -0.43279460 |  0.30125635 | 9.983200e-01 |\n",
       "| Šmudla-Kejchal |  0.56678368 |  0.19975820 |  0.93380916 | 1.485215e-04 |\n",
       "| Štístko-Kejchal | -0.19140224 | -0.55842772 |  0.17562324 | 7.125148e-01 |\n",
       "| Stydlín-Kejchal | -0.51447155 | -0.88149703 | -0.14744607 | 8.575061e-04 |\n",
       "| Rejpal-Profa |  1.00233803 |  0.63531255 |  1.36936351 | 8.026912e-13 |\n",
       "| Šmudla-Profa |  1.63489084 |  1.26786536 |  2.00191632 | 0.000000e+00 |\n",
       "| Štístko-Profa |  0.87670492 |  0.50967944 |  1.24373039 | 3.719213e-10 |\n",
       "| Stydlín-Profa |  0.55363560 |  0.18661013 |  0.92066108 | 2.339229e-04 |\n",
       "| Šmudla-Rejpal |  0.63255281 |  0.26552733 |  0.99957829 | 1.346718e-05 |\n",
       "| Štístko-Rejpal | -0.12563312 | -0.49265859 |  0.24139236 | 9.491834e-01 |\n",
       "| Stydlín-Rejpal | -0.44870243 | -0.81572790 | -0.08167695 | 6.246760e-03 |\n",
       "| Štístko-Šmudla | -0.75818592 | -1.12521140 | -0.39116044 | 8.055135e-08 |\n",
       "| Stydlín-Šmudla | -1.08125523 | -1.44828071 | -0.71422975 | 3.763656e-14 |\n",
       "| Stydlín-Štístko | -0.32306931 | -0.69009479 |  0.04395617 | 1.250710e-01 |\n",
       "\n"
      ],
      "text/plain": [
       "                diff        lwr         upr         p adj       \n",
       "Kejchal-Dřímal   0.61338486  0.24635938  0.98041034 2.769364e-05\n",
       "Profa-Dřímal    -0.45472230 -0.82174778 -0.08769682 5.265389e-03\n",
       "Rejpal-Dřímal    0.54761573  0.18059025  0.91464121 2.871456e-04\n",
       "Šmudla-Dřímal    1.18016854  0.81314306  1.54719402 2.609024e-14\n",
       "Štístko-Dřímal   0.42198262  0.05495714  0.78900810 1.296949e-02\n",
       "Stydlín-Dřímal   0.09891331 -0.26811217  0.46593879 9.845413e-01\n",
       "Profa-Kejchal   -1.06810716 -1.43513263 -0.70108168 5.551115e-14\n",
       "Rejpal-Kejchal  -0.06576913 -0.43279460  0.30125635 9.983200e-01\n",
       "Šmudla-Kejchal   0.56678368  0.19975820  0.93380916 1.485215e-04\n",
       "Štístko-Kejchal -0.19140224 -0.55842772  0.17562324 7.125148e-01\n",
       "Stydlín-Kejchal -0.51447155 -0.88149703 -0.14744607 8.575061e-04\n",
       "Rejpal-Profa     1.00233803  0.63531255  1.36936351 8.026912e-13\n",
       "Šmudla-Profa     1.63489084  1.26786536  2.00191632 0.000000e+00\n",
       "Štístko-Profa    0.87670492  0.50967944  1.24373039 3.719213e-10\n",
       "Stydlín-Profa    0.55363560  0.18661013  0.92066108 2.339229e-04\n",
       "Šmudla-Rejpal    0.63255281  0.26552733  0.99957829 1.346718e-05\n",
       "Štístko-Rejpal  -0.12563312 -0.49265859  0.24139236 9.491834e-01\n",
       "Stydlín-Rejpal  -0.44870243 -0.81572790 -0.08167695 6.246760e-03\n",
       "Štístko-Šmudla  -0.75818592 -1.12521140 -0.39116044 8.055135e-08\n",
       "Stydlín-Šmudla  -1.08125523 -1.44828071 -0.71422975 3.763656e-14\n",
       "Stydlín-Štístko -0.32306931 -0.69009479  0.04395617 1.250710e-01"
      ]
     },
     "metadata": {},
     "output_type": "display_data"
    }
   ],
   "source": [
    "# POST-HOC ANOVA\n",
    "vysledky <- aov(data$hodnota ~ data$typ)\n",
    "PH.ANOVA <- TukeyHSD(vysledky)[[1]]\n",
    "PH.ANOVA\n"
   ]
  },
  {
   "cell_type": "code",
   "execution_count": 3,
   "id": "figured-silver",
   "metadata": {
    "vscode": {
     "languageId": "r"
    }
   },
   "outputs": [
    {
     "name": "stderr",
     "output_type": "stream",
     "text": [
      "\n",
      "Attaching package: ‘dplyr’\n",
      "\n",
      "\n",
      "The following objects are masked from ‘package:stats’:\n",
      "\n",
      "    filter, lag\n",
      "\n",
      "\n",
      "The following objects are masked from ‘package:base’:\n",
      "\n",
      "    intersect, setdiff, setequal, union\n",
      "\n",
      "\n"
     ]
    },
    {
     "data": {
      "text/html": [
       "<table class=\"dataframe\">\n",
       "<caption>A tibble: 7 × 3</caption>\n",
       "<thead>\n",
       "\t<tr><th scope=col>typ</th><th scope=col>mean_skup</th><th scope=col>efekt</th></tr>\n",
       "\t<tr><th scope=col>&lt;chr&gt;</th><th scope=col>&lt;dbl&gt;</th><th scope=col>&lt;dbl&gt;</th></tr>\n",
       "</thead>\n",
       "<tbody>\n",
       "\t<tr><td>Šmudla </td><td>2.849930</td><td> 0.83626243</td></tr>\n",
       "\t<tr><td>Kejchal</td><td>2.283146</td><td> 0.26947875</td></tr>\n",
       "\t<tr><td>Rejpal </td><td>2.217377</td><td> 0.20370962</td></tr>\n",
       "\t<tr><td>Štístko</td><td>2.091744</td><td> 0.07807651</td></tr>\n",
       "\t<tr><td>Stydlín</td><td>1.768674</td><td>-0.24499280</td></tr>\n",
       "\t<tr><td>Dřímal </td><td>1.669761</td><td>-0.34390611</td></tr>\n",
       "\t<tr><td>Profa  </td><td>1.215039</td><td>-0.79862841</td></tr>\n",
       "</tbody>\n",
       "</table>\n"
      ],
      "text/latex": [
       "A tibble: 7 × 3\n",
       "\\begin{tabular}{lll}\n",
       " typ & mean\\_skup & efekt\\\\\n",
       " <chr> & <dbl> & <dbl>\\\\\n",
       "\\hline\n",
       "\t Šmudla  & 2.849930 &  0.83626243\\\\\n",
       "\t Kejchal & 2.283146 &  0.26947875\\\\\n",
       "\t Rejpal  & 2.217377 &  0.20370962\\\\\n",
       "\t Štístko & 2.091744 &  0.07807651\\\\\n",
       "\t Stydlín & 1.768674 & -0.24499280\\\\\n",
       "\t Dřímal  & 1.669761 & -0.34390611\\\\\n",
       "\t Profa   & 1.215039 & -0.79862841\\\\\n",
       "\\end{tabular}\n"
      ],
      "text/markdown": [
       "\n",
       "A tibble: 7 × 3\n",
       "\n",
       "| typ &lt;chr&gt; | mean_skup &lt;dbl&gt; | efekt &lt;dbl&gt; |\n",
       "|---|---|---|\n",
       "| Šmudla  | 2.849930 |  0.83626243 |\n",
       "| Kejchal | 2.283146 |  0.26947875 |\n",
       "| Rejpal  | 2.217377 |  0.20370962 |\n",
       "| Štístko | 2.091744 |  0.07807651 |\n",
       "| Stydlín | 1.768674 | -0.24499280 |\n",
       "| Dřímal  | 1.669761 | -0.34390611 |\n",
       "| Profa   | 1.215039 | -0.79862841 |\n",
       "\n"
      ],
      "text/plain": [
       "  typ     mean_skup efekt      \n",
       "1 Šmudla  2.849930   0.83626243\n",
       "2 Kejchal 2.283146   0.26947875\n",
       "3 Rejpal  2.217377   0.20370962\n",
       "4 Štístko 2.091744   0.07807651\n",
       "5 Stydlín 1.768674  -0.24499280\n",
       "6 Dřímal  1.669761  -0.34390611\n",
       "7 Profa   1.215039  -0.79862841"
      ]
     },
     "metadata": {},
     "output_type": "display_data"
    }
   ],
   "source": [
    "# počítání efektů ANOVA\n",
    "library(dplyr)\n",
    "\n",
    "# celkový průměr\n",
    "prumer_vsech <- mean(data$hodnota)\n",
    "\n",
    "# průměry ve skupinách\n",
    "efekty <- data %>%\n",
    "    group_by(typ) %>%\n",
    "    summarize(mean_skup = mean(hodnota))\n",
    "\n",
    "# efekty\n",
    "efekty$efekt <- efekty$mean_skup - prumer_vsech\n",
    "\n",
    "# vypsat setřízené\n",
    "efekty.ANOVA <- efekty %>% arrange(desc(efekt))\n",
    "efekty.ANOVA\n"
   ]
  },
  {
   "cell_type": "code",
   "execution_count": 4,
   "id": "cathedral-hello",
   "metadata": {
    "vscode": {
     "languageId": "r"
    }
   },
   "outputs": [
    {
     "name": "stderr",
     "output_type": "stream",
     "text": [
      "Warning message:\n",
      "“data$typ was coerced to a factor.”\n"
     ]
    },
    {
     "data": {
      "text/html": [
       "<table class=\"dataframe\">\n",
       "<caption>A data.frame: 21 × 4</caption>\n",
       "<thead>\n",
       "\t<tr><th scope=col>Comparison</th><th scope=col>Z</th><th scope=col>P.unadj</th><th scope=col>P.adj</th></tr>\n",
       "\t<tr><th scope=col>&lt;chr&gt;</th><th scope=col>&lt;dbl&gt;</th><th scope=col>&lt;dbl&gt;</th><th scope=col>&lt;dbl&gt;</th></tr>\n",
       "</thead>\n",
       "<tbody>\n",
       "\t<tr><td>Dřímal - Kejchal </td><td>-3.9524030</td><td>7.737028e-05</td><td>1.624776e-03</td></tr>\n",
       "\t<tr><td>Dřímal - Profa   </td><td> 2.1380195</td><td>3.251516e-02</td><td>6.828185e-01</td></tr>\n",
       "\t<tr><td>Kejchal - Profa  </td><td> 6.0904225</td><td>1.126131e-09</td><td>2.364875e-08</td></tr>\n",
       "\t<tr><td>Dřímal - Rejpal  </td><td>-3.5781991</td><td>3.459699e-04</td><td>7.265368e-03</td></tr>\n",
       "\t<tr><td>Kejchal - Rejpal </td><td> 0.3742040</td><td>7.082526e-01</td><td>1.000000e+00</td></tr>\n",
       "\t<tr><td>Profa - Rejpal   </td><td>-5.7162185</td><td>1.089207e-08</td><td>2.287334e-07</td></tr>\n",
       "\t<tr><td>Dřímal - Šmudla  </td><td>-6.7781487</td><td>1.217255e-11</td><td>2.556236e-10</td></tr>\n",
       "\t<tr><td>Kejchal - Šmudla </td><td>-2.8257457</td><td>4.717070e-03</td><td>9.905847e-02</td></tr>\n",
       "\t<tr><td>Profa - Šmudla   </td><td>-8.9161682</td><td>4.827004e-19</td><td>1.013671e-17</td></tr>\n",
       "\t<tr><td>Rejpal - Šmudla  </td><td>-3.1999496</td><td>1.374516e-03</td><td>2.886484e-02</td></tr>\n",
       "\t<tr><td>Dřímal - Štístko </td><td>-2.6477459</td><td>8.103040e-03</td><td>1.701638e-01</td></tr>\n",
       "\t<tr><td>Kejchal - Štístko</td><td> 1.3046571</td><td>1.920096e-01</td><td>1.000000e+00</td></tr>\n",
       "\t<tr><td>Profa - Štístko  </td><td>-4.7857654</td><td>1.703369e-06</td><td>3.577076e-05</td></tr>\n",
       "\t<tr><td>Rejpal - Štístko </td><td> 0.9304531</td><td>3.521365e-01</td><td>1.000000e+00</td></tr>\n",
       "\t<tr><td>Šmudla - Štístko </td><td> 4.1304028</td><td>3.621282e-05</td><td>7.604693e-04</td></tr>\n",
       "\t<tr><td>Dřímal - Stydlín </td><td>-0.5299537</td><td>5.961440e-01</td><td>1.000000e+00</td></tr>\n",
       "\t<tr><td>Kejchal - Stydlín</td><td> 3.4224493</td><td>6.205967e-04</td><td>1.303253e-02</td></tr>\n",
       "\t<tr><td>Profa - Stydlín  </td><td>-2.6679732</td><td>7.631035e-03</td><td>1.602517e-01</td></tr>\n",
       "\t<tr><td>Rejpal - Stydlín </td><td> 3.0482453</td><td>2.301819e-03</td><td>4.833820e-02</td></tr>\n",
       "\t<tr><td>Šmudla - Stydlín </td><td> 6.2481950</td><td>4.152232e-10</td><td>8.719687e-09</td></tr>\n",
       "\t<tr><td>Štístko - Stydlín</td><td> 2.1177922</td><td>3.419267e-02</td><td>7.180461e-01</td></tr>\n",
       "</tbody>\n",
       "</table>\n"
      ],
      "text/latex": [
       "A data.frame: 21 × 4\n",
       "\\begin{tabular}{llll}\n",
       " Comparison & Z & P.unadj & P.adj\\\\\n",
       " <chr> & <dbl> & <dbl> & <dbl>\\\\\n",
       "\\hline\n",
       "\t Dřímal - Kejchal  & -3.9524030 & 7.737028e-05 & 1.624776e-03\\\\\n",
       "\t Dřímal - Profa    &  2.1380195 & 3.251516e-02 & 6.828185e-01\\\\\n",
       "\t Kejchal - Profa   &  6.0904225 & 1.126131e-09 & 2.364875e-08\\\\\n",
       "\t Dřímal - Rejpal   & -3.5781991 & 3.459699e-04 & 7.265368e-03\\\\\n",
       "\t Kejchal - Rejpal  &  0.3742040 & 7.082526e-01 & 1.000000e+00\\\\\n",
       "\t Profa - Rejpal    & -5.7162185 & 1.089207e-08 & 2.287334e-07\\\\\n",
       "\t Dřímal - Šmudla   & -6.7781487 & 1.217255e-11 & 2.556236e-10\\\\\n",
       "\t Kejchal - Šmudla  & -2.8257457 & 4.717070e-03 & 9.905847e-02\\\\\n",
       "\t Profa - Šmudla    & -8.9161682 & 4.827004e-19 & 1.013671e-17\\\\\n",
       "\t Rejpal - Šmudla   & -3.1999496 & 1.374516e-03 & 2.886484e-02\\\\\n",
       "\t Dřímal - Štístko  & -2.6477459 & 8.103040e-03 & 1.701638e-01\\\\\n",
       "\t Kejchal - Štístko &  1.3046571 & 1.920096e-01 & 1.000000e+00\\\\\n",
       "\t Profa - Štístko   & -4.7857654 & 1.703369e-06 & 3.577076e-05\\\\\n",
       "\t Rejpal - Štístko  &  0.9304531 & 3.521365e-01 & 1.000000e+00\\\\\n",
       "\t Šmudla - Štístko  &  4.1304028 & 3.621282e-05 & 7.604693e-04\\\\\n",
       "\t Dřímal - Stydlín  & -0.5299537 & 5.961440e-01 & 1.000000e+00\\\\\n",
       "\t Kejchal - Stydlín &  3.4224493 & 6.205967e-04 & 1.303253e-02\\\\\n",
       "\t Profa - Stydlín   & -2.6679732 & 7.631035e-03 & 1.602517e-01\\\\\n",
       "\t Rejpal - Stydlín  &  3.0482453 & 2.301819e-03 & 4.833820e-02\\\\\n",
       "\t Šmudla - Stydlín  &  6.2481950 & 4.152232e-10 & 8.719687e-09\\\\\n",
       "\t Štístko - Stydlín &  2.1177922 & 3.419267e-02 & 7.180461e-01\\\\\n",
       "\\end{tabular}\n"
      ],
      "text/markdown": [
       "\n",
       "A data.frame: 21 × 4\n",
       "\n",
       "| Comparison &lt;chr&gt; | Z &lt;dbl&gt; | P.unadj &lt;dbl&gt; | P.adj &lt;dbl&gt; |\n",
       "|---|---|---|---|\n",
       "| Dřímal - Kejchal  | -3.9524030 | 7.737028e-05 | 1.624776e-03 |\n",
       "| Dřímal - Profa    |  2.1380195 | 3.251516e-02 | 6.828185e-01 |\n",
       "| Kejchal - Profa   |  6.0904225 | 1.126131e-09 | 2.364875e-08 |\n",
       "| Dřímal - Rejpal   | -3.5781991 | 3.459699e-04 | 7.265368e-03 |\n",
       "| Kejchal - Rejpal  |  0.3742040 | 7.082526e-01 | 1.000000e+00 |\n",
       "| Profa - Rejpal    | -5.7162185 | 1.089207e-08 | 2.287334e-07 |\n",
       "| Dřímal - Šmudla   | -6.7781487 | 1.217255e-11 | 2.556236e-10 |\n",
       "| Kejchal - Šmudla  | -2.8257457 | 4.717070e-03 | 9.905847e-02 |\n",
       "| Profa - Šmudla    | -8.9161682 | 4.827004e-19 | 1.013671e-17 |\n",
       "| Rejpal - Šmudla   | -3.1999496 | 1.374516e-03 | 2.886484e-02 |\n",
       "| Dřímal - Štístko  | -2.6477459 | 8.103040e-03 | 1.701638e-01 |\n",
       "| Kejchal - Štístko |  1.3046571 | 1.920096e-01 | 1.000000e+00 |\n",
       "| Profa - Štístko   | -4.7857654 | 1.703369e-06 | 3.577076e-05 |\n",
       "| Rejpal - Štístko  |  0.9304531 | 3.521365e-01 | 1.000000e+00 |\n",
       "| Šmudla - Štístko  |  4.1304028 | 3.621282e-05 | 7.604693e-04 |\n",
       "| Dřímal - Stydlín  | -0.5299537 | 5.961440e-01 | 1.000000e+00 |\n",
       "| Kejchal - Stydlín |  3.4224493 | 6.205967e-04 | 1.303253e-02 |\n",
       "| Profa - Stydlín   | -2.6679732 | 7.631035e-03 | 1.602517e-01 |\n",
       "| Rejpal - Stydlín  |  3.0482453 | 2.301819e-03 | 4.833820e-02 |\n",
       "| Šmudla - Stydlín  |  6.2481950 | 4.152232e-10 | 8.719687e-09 |\n",
       "| Štístko - Stydlín |  2.1177922 | 3.419267e-02 | 7.180461e-01 |\n",
       "\n"
      ],
      "text/plain": [
       "   Comparison        Z          P.unadj      P.adj       \n",
       "1  Dřímal - Kejchal  -3.9524030 7.737028e-05 1.624776e-03\n",
       "2  Dřímal - Profa     2.1380195 3.251516e-02 6.828185e-01\n",
       "3  Kejchal - Profa    6.0904225 1.126131e-09 2.364875e-08\n",
       "4  Dřímal - Rejpal   -3.5781991 3.459699e-04 7.265368e-03\n",
       "5  Kejchal - Rejpal   0.3742040 7.082526e-01 1.000000e+00\n",
       "6  Profa - Rejpal    -5.7162185 1.089207e-08 2.287334e-07\n",
       "7  Dřímal - Šmudla   -6.7781487 1.217255e-11 2.556236e-10\n",
       "8  Kejchal - Šmudla  -2.8257457 4.717070e-03 9.905847e-02\n",
       "9  Profa - Šmudla    -8.9161682 4.827004e-19 1.013671e-17\n",
       "10 Rejpal - Šmudla   -3.1999496 1.374516e-03 2.886484e-02\n",
       "11 Dřímal - Štístko  -2.6477459 8.103040e-03 1.701638e-01\n",
       "12 Kejchal - Štístko  1.3046571 1.920096e-01 1.000000e+00\n",
       "13 Profa - Štístko   -4.7857654 1.703369e-06 3.577076e-05\n",
       "14 Rejpal - Štístko   0.9304531 3.521365e-01 1.000000e+00\n",
       "15 Šmudla - Štístko   4.1304028 3.621282e-05 7.604693e-04\n",
       "16 Dřímal - Stydlín  -0.5299537 5.961440e-01 1.000000e+00\n",
       "17 Kejchal - Stydlín  3.4224493 6.205967e-04 1.303253e-02\n",
       "18 Profa - Stydlín   -2.6679732 7.631035e-03 1.602517e-01\n",
       "19 Rejpal - Stydlín   3.0482453 2.301819e-03 4.833820e-02\n",
       "20 Šmudla - Stydlín   6.2481950 4.152232e-10 8.719687e-09\n",
       "21 Štístko - Stydlín  2.1177922 3.419267e-02 7.180461e-01"
      ]
     },
     "metadata": {},
     "output_type": "display_data"
    }
   ],
   "source": [
    "# POST-HOC KW\n",
    "# post hoc - jiná funkce s výstupem, který se nám více hodí\n",
    "# číselně odpovídá té použité na cvičení\n",
    "\n",
    "# install.packages(\"FSA\")\n",
    "result <- FSA::dunnTest(data$hodnota ~ data$typ, # library FSA\n",
    "    method = \"bonferroni\"\n",
    ")\n",
    "PH.KW <- result$res\n",
    "PH.KW\n"
   ]
  },
  {
   "cell_type": "code",
   "execution_count": 5,
   "id": "statutory-costa",
   "metadata": {
    "vscode": {
     "languageId": "r"
    }
   },
   "outputs": [
    {
     "data": {
      "text/html": [
       "<table class=\"dataframe\">\n",
       "<caption>A tibble: 7 × 3</caption>\n",
       "<thead>\n",
       "\t<tr><th scope=col>typ</th><th scope=col>mean_skup</th><th scope=col>efekt</th></tr>\n",
       "\t<tr><th scope=col>&lt;chr&gt;</th><th scope=col>&lt;dbl&gt;</th><th scope=col>&lt;dbl&gt;</th></tr>\n",
       "</thead>\n",
       "<tbody>\n",
       "\t<tr><td>Šmudla </td><td>2.771146</td><td> 0.71773377</td></tr>\n",
       "\t<tr><td>Kejchal</td><td>2.257263</td><td> 0.20385133</td></tr>\n",
       "\t<tr><td>Rejpal </td><td>2.241618</td><td> 0.18820595</td></tr>\n",
       "\t<tr><td>Štístko</td><td>2.064021</td><td> 0.01060918</td></tr>\n",
       "\t<tr><td>Stydlín</td><td>1.735187</td><td>-0.31822475</td></tr>\n",
       "\t<tr><td>Dřímal </td><td>1.660937</td><td>-0.39247543</td></tr>\n",
       "\t<tr><td>Profa  </td><td>1.251144</td><td>-0.80226851</td></tr>\n",
       "</tbody>\n",
       "</table>\n"
      ],
      "text/latex": [
       "A tibble: 7 × 3\n",
       "\\begin{tabular}{lll}\n",
       " typ & mean\\_skup & efekt\\\\\n",
       " <chr> & <dbl> & <dbl>\\\\\n",
       "\\hline\n",
       "\t Šmudla  & 2.771146 &  0.71773377\\\\\n",
       "\t Kejchal & 2.257263 &  0.20385133\\\\\n",
       "\t Rejpal  & 2.241618 &  0.18820595\\\\\n",
       "\t Štístko & 2.064021 &  0.01060918\\\\\n",
       "\t Stydlín & 1.735187 & -0.31822475\\\\\n",
       "\t Dřímal  & 1.660937 & -0.39247543\\\\\n",
       "\t Profa   & 1.251144 & -0.80226851\\\\\n",
       "\\end{tabular}\n"
      ],
      "text/markdown": [
       "\n",
       "A tibble: 7 × 3\n",
       "\n",
       "| typ &lt;chr&gt; | mean_skup &lt;dbl&gt; | efekt &lt;dbl&gt; |\n",
       "|---|---|---|\n",
       "| Šmudla  | 2.771146 |  0.71773377 |\n",
       "| Kejchal | 2.257263 |  0.20385133 |\n",
       "| Rejpal  | 2.241618 |  0.18820595 |\n",
       "| Štístko | 2.064021 |  0.01060918 |\n",
       "| Stydlín | 1.735187 | -0.31822475 |\n",
       "| Dřímal  | 1.660937 | -0.39247543 |\n",
       "| Profa   | 1.251144 | -0.80226851 |\n",
       "\n"
      ],
      "text/plain": [
       "  typ     mean_skup efekt      \n",
       "1 Šmudla  2.771146   0.71773377\n",
       "2 Kejchal 2.257263   0.20385133\n",
       "3 Rejpal  2.241618   0.18820595\n",
       "4 Štístko 2.064021   0.01060918\n",
       "5 Stydlín 1.735187  -0.31822475\n",
       "6 Dřímal  1.660937  -0.39247543\n",
       "7 Profa   1.251144  -0.80226851"
      ]
     },
     "metadata": {},
     "output_type": "display_data"
    }
   ],
   "source": [
    "# počítání efektů KW\n",
    "library(dplyr)\n",
    "\n",
    "# celkový průměr\n",
    "prumer_vsech <- median(data$hodnota)\n",
    "\n",
    "# průměry ve skupinách\n",
    "efekty <- data %>%\n",
    "    group_by(typ) %>%\n",
    "    summarize(mean_skup = median(hodnota))\n",
    "\n",
    "# efekty\n",
    "efekty$efekt <- efekty$mean_skup - prumer_vsech\n",
    "\n",
    "# vypsat setřízené\n",
    "efekty.KW <- efekty %>% arrange(desc(efekt))\n",
    "efekty.KW\n"
   ]
  },
  {
   "cell_type": "markdown",
   "id": "polyphonic-sight",
   "metadata": {},
   "source": [
    "# Pro zájemce (nepovinné) - vytvoření setřízené tabulky p-hodnot/pisménkové schéma automatizovaně"
   ]
  },
  {
   "cell_type": "code",
   "execution_count": 6,
   "id": "knowing-system",
   "metadata": {
    "vscode": {
     "languageId": "r"
    }
   },
   "outputs": [
    {
     "data": {
      "text/html": [
       "<table class=\"dataframe\">\n",
       "<caption>A matrix: 7 × 7 of type chr</caption>\n",
       "<thead>\n",
       "\t<tr><th></th><th scope=col>Šmudla</th><th scope=col>Kejchal</th><th scope=col>Rejpal</th><th scope=col>Štístko</th><th scope=col>Stydlín</th><th scope=col>Dřímal</th><th scope=col>Profa</th></tr>\n",
       "</thead>\n",
       "<tbody>\n",
       "\t<tr><th scope=row>Šmudla</th><td>-</td><td>-</td><td>-</td><td>-</td><td>-</td><td>-</td><td>-</td></tr>\n",
       "\t<tr><th scope=row>Kejchal</th><td>-</td><td>-</td><td>-</td><td>-</td><td>-</td><td>-</td><td>-</td></tr>\n",
       "\t<tr><th scope=row>Rejpal</th><td>-</td><td>-</td><td>-</td><td>-</td><td>-</td><td>-</td><td>-</td></tr>\n",
       "\t<tr><th scope=row>Štístko</th><td>-</td><td>-</td><td>-</td><td>-</td><td>-</td><td>-</td><td>-</td></tr>\n",
       "\t<tr><th scope=row>Stydlín</th><td>-</td><td>-</td><td>-</td><td>-</td><td>-</td><td>-</td><td>-</td></tr>\n",
       "\t<tr><th scope=row>Dřímal</th><td>-</td><td>-</td><td>-</td><td>-</td><td>-</td><td>-</td><td>-</td></tr>\n",
       "\t<tr><th scope=row>Profa</th><td>-</td><td>-</td><td>-</td><td>-</td><td>-</td><td>-</td><td>-</td></tr>\n",
       "</tbody>\n",
       "</table>\n"
      ],
      "text/latex": [
       "A matrix: 7 × 7 of type chr\n",
       "\\begin{tabular}{r|lllllll}\n",
       "  & Šmudla & Kejchal & Rejpal & Štístko & Stydlín & Dřímal & Profa\\\\\n",
       "\\hline\n",
       "\tŠmudla & - & - & - & - & - & - & -\\\\\n",
       "\tKejchal & - & - & - & - & - & - & -\\\\\n",
       "\tRejpal & - & - & - & - & - & - & -\\\\\n",
       "\tŠtístko & - & - & - & - & - & - & -\\\\\n",
       "\tStydlín & - & - & - & - & - & - & -\\\\\n",
       "\tDřímal & - & - & - & - & - & - & -\\\\\n",
       "\tProfa & - & - & - & - & - & - & -\\\\\n",
       "\\end{tabular}\n"
      ],
      "text/markdown": [
       "\n",
       "A matrix: 7 × 7 of type chr\n",
       "\n",
       "| <!--/--> | Šmudla | Kejchal | Rejpal | Štístko | Stydlín | Dřímal | Profa |\n",
       "|---|---|---|---|---|---|---|---|\n",
       "| Šmudla | - | - | - | - | - | - | - |\n",
       "| Kejchal | - | - | - | - | - | - | - |\n",
       "| Rejpal | - | - | - | - | - | - | - |\n",
       "| Štístko | - | - | - | - | - | - | - |\n",
       "| Stydlín | - | - | - | - | - | - | - |\n",
       "| Dřímal | - | - | - | - | - | - | - |\n",
       "| Profa | - | - | - | - | - | - | - |\n",
       "\n"
      ],
      "text/plain": [
       "        Šmudla Kejchal Rejpal Štístko Stydlín Dřímal Profa\n",
       "Šmudla  -      -       -      -       -       -      -    \n",
       "Kejchal -      -       -      -       -       -      -    \n",
       "Rejpal  -      -       -      -       -       -      -    \n",
       "Štístko -      -       -      -       -       -      -    \n",
       "Stydlín -      -       -      -       -       -      -    \n",
       "Dřímal  -      -       -      -       -       -      -    \n",
       "Profa   -      -       -      -       -       -      -    "
      ]
     },
     "metadata": {},
     "output_type": "display_data"
    }
   ],
   "source": [
    "# install.packages(\"stringi\")\n",
    "# toto je knihovna pro hledání v textu\n",
    "# budeme hledat jména šmoulů v párových post-hoc testech\n",
    "\n",
    "# inicializujeme si matici (pro pěkný výsledek jako textovou)\n",
    "# 7x7 protože máme 7 šmoulů\n",
    "POST.HOC.Phodnoty <- matrix(rep(\"-\", len = 7 * 7), nrow = 7, ncol = 7)\n",
    "# pojmenujeme její sloupce i řádky dle setřízených šmoulů\n",
    "colnames(POST.HOC.Phodnoty) <- efekty.ANOVA$typ\n",
    "rownames(POST.HOC.Phodnoty) <- efekty.ANOVA$typ\n",
    "POST.HOC.Phodnoty\n"
   ]
  },
  {
   "cell_type": "code",
   "execution_count": 7,
   "id": "driving-armenia",
   "metadata": {
    "vscode": {
     "languageId": "r"
    }
   },
   "outputs": [
    {
     "data": {
      "text/html": [
       "<table class=\"dataframe\">\n",
       "<caption>A matrix: 7 × 7 of type chr</caption>\n",
       "<thead>\n",
       "\t<tr><th></th><th scope=col>Šmudla</th><th scope=col>Kejchal</th><th scope=col>Rejpal</th><th scope=col>Štístko</th><th scope=col>Stydlín</th><th scope=col>Dřímal</th><th scope=col>Profa</th></tr>\n",
       "</thead>\n",
       "<tbody>\n",
       "\t<tr><th scope=row>Šmudla</th><td>-</td><td>0.001</td><td>0.001</td><td>0.001</td><td>0.001</td><td>0.001</td><td>0.001</td></tr>\n",
       "\t<tr><th scope=row>Kejchal</th><td>-</td><td>-    </td><td>0.998</td><td>0.713</td><td>0.001</td><td>0.001</td><td>0.001</td></tr>\n",
       "\t<tr><th scope=row>Rejpal</th><td>-</td><td>-    </td><td>-    </td><td>0.949</td><td>0.006</td><td>0.001</td><td>0.001</td></tr>\n",
       "\t<tr><th scope=row>Štístko</th><td>-</td><td>-    </td><td>-    </td><td>-    </td><td>0.125</td><td>0.013</td><td>0.001</td></tr>\n",
       "\t<tr><th scope=row>Stydlín</th><td>-</td><td>-    </td><td>-    </td><td>-    </td><td>-    </td><td>0.985</td><td>0.001</td></tr>\n",
       "\t<tr><th scope=row>Dřímal</th><td>-</td><td>-    </td><td>-    </td><td>-    </td><td>-    </td><td>-    </td><td>0.005</td></tr>\n",
       "\t<tr><th scope=row>Profa</th><td>-</td><td>-    </td><td>-    </td><td>-    </td><td>-    </td><td>-    </td><td>-    </td></tr>\n",
       "</tbody>\n",
       "</table>\n"
      ],
      "text/latex": [
       "A matrix: 7 × 7 of type chr\n",
       "\\begin{tabular}{r|lllllll}\n",
       "  & Šmudla & Kejchal & Rejpal & Štístko & Stydlín & Dřímal & Profa\\\\\n",
       "\\hline\n",
       "\tŠmudla & - & 0.001 & 0.001 & 0.001 & 0.001 & 0.001 & 0.001\\\\\n",
       "\tKejchal & - & -     & 0.998 & 0.713 & 0.001 & 0.001 & 0.001\\\\\n",
       "\tRejpal & - & -     & -     & 0.949 & 0.006 & 0.001 & 0.001\\\\\n",
       "\tŠtístko & - & -     & -     & -     & 0.125 & 0.013 & 0.001\\\\\n",
       "\tStydlín & - & -     & -     & -     & -     & 0.985 & 0.001\\\\\n",
       "\tDřímal & - & -     & -     & -     & -     & -     & 0.005\\\\\n",
       "\tProfa & - & -     & -     & -     & -     & -     & -    \\\\\n",
       "\\end{tabular}\n"
      ],
      "text/markdown": [
       "\n",
       "A matrix: 7 × 7 of type chr\n",
       "\n",
       "| <!--/--> | Šmudla | Kejchal | Rejpal | Štístko | Stydlín | Dřímal | Profa |\n",
       "|---|---|---|---|---|---|---|---|\n",
       "| Šmudla | - | 0.001 | 0.001 | 0.001 | 0.001 | 0.001 | 0.001 |\n",
       "| Kejchal | - | -     | 0.998 | 0.713 | 0.001 | 0.001 | 0.001 |\n",
       "| Rejpal | - | -     | -     | 0.949 | 0.006 | 0.001 | 0.001 |\n",
       "| Štístko | - | -     | -     | -     | 0.125 | 0.013 | 0.001 |\n",
       "| Stydlín | - | -     | -     | -     | -     | 0.985 | 0.001 |\n",
       "| Dřímal | - | -     | -     | -     | -     | -     | 0.005 |\n",
       "| Profa | - | -     | -     | -     | -     | -     | -     |\n",
       "\n"
      ],
      "text/plain": [
       "        Šmudla Kejchal Rejpal Štístko Stydlín Dřímal Profa\n",
       "Šmudla  -      0.001   0.001  0.001   0.001   0.001  0.001\n",
       "Kejchal -      -       0.998  0.713   0.001   0.001  0.001\n",
       "Rejpal  -      -       -      0.949   0.006   0.001  0.001\n",
       "Štístko -      -       -      -       0.125   0.013  0.001\n",
       "Stydlín -      -       -      -       -       0.985  0.001\n",
       "Dřímal  -      -       -      -       -       -      0.005\n",
       "Profa   -      -       -      -       -       -      -    "
      ]
     },
     "metadata": {},
     "output_type": "display_data"
    }
   ],
   "source": [
    "# smyčka přes všechny testy v post-hoc (řes názvy sloupců)\n",
    "for (pair.test in rownames(PH.ANOVA)) {\n",
    "    # kteří trpaslíci jsou přítomni v tomto párovém testu?\n",
    "    trp.truefalse <- stringi::stri_detect_fixed(pair.test, efekty.ANOVA$typ)\n",
    "    # jaké jsou indexy těchto trpaslíků\n",
    "    # indexy pro zápis do matice - vždy 2 hodnoty\n",
    "    indexy.trp <- which(trp.truefalse)\n",
    "    # zapíšu do matice (první index je menší -> automaticky do\n",
    "    # horního trojuhelníku)\n",
    "    POST.HOC.Phodnoty[indexy.trp[1], indexy.trp[2]] <-\n",
    "        round(max(PH.ANOVA[pair.test, \"p adj\"], 0.001), digits = 3)\n",
    "    # zapisujeme text (pokud je matice textová, čísla se automaticky\n",
    "    # převedou na text), hodnoty na tisíciny\n",
    "}\n",
    "POST.HOC.Phodnoty\n"
   ]
  },
  {
   "cell_type": "markdown",
   "id": "initial-chosen",
   "metadata": {},
   "source": [
    "### Funkce pro aoutomatizované znaménkové schéma (ručně napsané a z balíčku)\n",
    "#### Ručně napsané funkce (to co bychom dělali na papír)"
   ]
  },
  {
   "cell_type": "code",
   "execution_count": 8,
   "id": "tribal-dairy",
   "metadata": {
    "vscode": {
     "languageId": "r"
    }
   },
   "outputs": [],
   "source": [
    "# tabulka p-hodnot\n",
    "\n",
    "tabulka.phodnot <- function(setrizene.typy, parove.testy.nazvy,\n",
    "                            parove.testy.phodnoty) {\n",
    "    # pocet skupin\n",
    "    n <- length(setrizene.typy)\n",
    "    POST.HOC.Phodnoty <- matrix(rep(0, len = n * n), nrow = n, ncol = n)\n",
    "    # pojmenujeme její sloupce i řádky dle setřízených typů\n",
    "    colnames(POST.HOC.Phodnoty) <- setrizene.typy\n",
    "    rownames(POST.HOC.Phodnoty) <- setrizene.typy\n",
    "\n",
    "    # smyčka přes všechny testy v post-hoc (řes názvy sloupců)\n",
    "    for (i in seq_along(parove.testy.nazvy)) {\n",
    "        pair.test <- parove.testy.nazvy[i]\n",
    "        # kteří trpaslíci jsou přítomni v tomto párovém testu?\n",
    "        typ.truefalse <- stringi::stri_detect_fixed(pair.test, setrizene.typy)\n",
    "        # jaké jsou indexy těchto trpaslíků\n",
    "        # indexy pro zápis do matice - vždy 2 hodnoty\n",
    "        indexy.typ <- which(typ.truefalse)\n",
    "        # zapíšu do matice (první index je menší -> automaticky do\n",
    "        # horního trojuhelníku)\n",
    "        POST.HOC.Phodnoty[indexy.typ[1], indexy.typ[2]] <-\n",
    "            parove.testy.phodnoty[i]\n",
    "    }\n",
    "    return(POST.HOC.Phodnoty)\n",
    "}\n"
   ]
  },
  {
   "cell_type": "code",
   "execution_count": 9,
   "id": "cellular-density",
   "metadata": {
    "vscode": {
     "languageId": "r"
    }
   },
   "outputs": [],
   "source": [
    "# písmenkové schéma z tabulky\n",
    "\n",
    "pismenkove.schema <- function(POST.HOC.Phodnoty, alpha) {\n",
    "    # jak je velká matice\n",
    "    n <- nrow(POST.HOC.Phodnoty)\n",
    "    # inicilizace matice\n",
    "    pis.schema <- matrix(rep(0, len = n * n), nrow = n, ncol = n)\n",
    "    # názvy řádků - kopie od vstupu\n",
    "    rownames(pis.schema) <- rownames(POST.HOC.Phodnoty)\n",
    "    # nastavení diagonály na 1 - je v dané skupině\n",
    "    diag(pis.schema) <- 1\n",
    "\n",
    "    # cyklus přes všechny sloupce kde můžeme něco vyplňovat\n",
    "    for (i in 1:(n - 1)) {\n",
    "        # cyklus přes všechny řádky v sloupci kde sledujeme pval\n",
    "        for (j in (i + 1):n) {\n",
    "            # je-li pval > alpha tak přidáme do hom. skupiny\n",
    "            pis.schema[j, i] <- POST.HOC.Phodnoty[i, j] > alpha\n",
    "        }\n",
    "    }\n",
    "    return(pis.schema)\n",
    "}\n"
   ]
  },
  {
   "cell_type": "markdown",
   "id": "capital-cliff",
   "metadata": {},
   "source": [
    "#### Jak použít ručně napsané funkce pro ANOVU a KW test?"
   ]
  },
  {
   "cell_type": "code",
   "execution_count": 10,
   "id": "spread-repository",
   "metadata": {
    "vscode": {
     "languageId": "r"
    }
   },
   "outputs": [
    {
     "data": {
      "text/html": [
       "<table class=\"dataframe\">\n",
       "<caption>A matrix: 7 × 7 of type dbl</caption>\n",
       "<thead>\n",
       "\t<tr><th></th><th scope=col>Šmudla</th><th scope=col>Kejchal</th><th scope=col>Rejpal</th><th scope=col>Štístko</th><th scope=col>Stydlín</th><th scope=col>Dřímal</th><th scope=col>Profa</th></tr>\n",
       "</thead>\n",
       "<tbody>\n",
       "\t<tr><th scope=row>Šmudla</th><td>0</td><td>0</td><td>0.000</td><td>0.000</td><td>0.000</td><td>0.000</td><td>0.000</td></tr>\n",
       "\t<tr><th scope=row>Kejchal</th><td>0</td><td>0</td><td>0.998</td><td>0.713</td><td>0.001</td><td>0.000</td><td>0.000</td></tr>\n",
       "\t<tr><th scope=row>Rejpal</th><td>0</td><td>0</td><td>0.000</td><td>0.949</td><td>0.006</td><td>0.000</td><td>0.000</td></tr>\n",
       "\t<tr><th scope=row>Štístko</th><td>0</td><td>0</td><td>0.000</td><td>0.000</td><td>0.125</td><td>0.013</td><td>0.000</td></tr>\n",
       "\t<tr><th scope=row>Stydlín</th><td>0</td><td>0</td><td>0.000</td><td>0.000</td><td>0.000</td><td>0.985</td><td>0.000</td></tr>\n",
       "\t<tr><th scope=row>Dřímal</th><td>0</td><td>0</td><td>0.000</td><td>0.000</td><td>0.000</td><td>0.000</td><td>0.005</td></tr>\n",
       "\t<tr><th scope=row>Profa</th><td>0</td><td>0</td><td>0.000</td><td>0.000</td><td>0.000</td><td>0.000</td><td>0.000</td></tr>\n",
       "</tbody>\n",
       "</table>\n"
      ],
      "text/latex": [
       "A matrix: 7 × 7 of type dbl\n",
       "\\begin{tabular}{r|lllllll}\n",
       "  & Šmudla & Kejchal & Rejpal & Štístko & Stydlín & Dřímal & Profa\\\\\n",
       "\\hline\n",
       "\tŠmudla & 0 & 0 & 0.000 & 0.000 & 0.000 & 0.000 & 0.000\\\\\n",
       "\tKejchal & 0 & 0 & 0.998 & 0.713 & 0.001 & 0.000 & 0.000\\\\\n",
       "\tRejpal & 0 & 0 & 0.000 & 0.949 & 0.006 & 0.000 & 0.000\\\\\n",
       "\tŠtístko & 0 & 0 & 0.000 & 0.000 & 0.125 & 0.013 & 0.000\\\\\n",
       "\tStydlín & 0 & 0 & 0.000 & 0.000 & 0.000 & 0.985 & 0.000\\\\\n",
       "\tDřímal & 0 & 0 & 0.000 & 0.000 & 0.000 & 0.000 & 0.005\\\\\n",
       "\tProfa & 0 & 0 & 0.000 & 0.000 & 0.000 & 0.000 & 0.000\\\\\n",
       "\\end{tabular}\n"
      ],
      "text/markdown": [
       "\n",
       "A matrix: 7 × 7 of type dbl\n",
       "\n",
       "| <!--/--> | Šmudla | Kejchal | Rejpal | Štístko | Stydlín | Dřímal | Profa |\n",
       "|---|---|---|---|---|---|---|---|\n",
       "| Šmudla | 0 | 0 | 0.000 | 0.000 | 0.000 | 0.000 | 0.000 |\n",
       "| Kejchal | 0 | 0 | 0.998 | 0.713 | 0.001 | 0.000 | 0.000 |\n",
       "| Rejpal | 0 | 0 | 0.000 | 0.949 | 0.006 | 0.000 | 0.000 |\n",
       "| Štístko | 0 | 0 | 0.000 | 0.000 | 0.125 | 0.013 | 0.000 |\n",
       "| Stydlín | 0 | 0 | 0.000 | 0.000 | 0.000 | 0.985 | 0.000 |\n",
       "| Dřímal | 0 | 0 | 0.000 | 0.000 | 0.000 | 0.000 | 0.005 |\n",
       "| Profa | 0 | 0 | 0.000 | 0.000 | 0.000 | 0.000 | 0.000 |\n",
       "\n"
      ],
      "text/plain": [
       "        Šmudla Kejchal Rejpal Štístko Stydlín Dřímal Profa\n",
       "Šmudla  0      0       0.000  0.000   0.000   0.000  0.000\n",
       "Kejchal 0      0       0.998  0.713   0.001   0.000  0.000\n",
       "Rejpal  0      0       0.000  0.949   0.006   0.000  0.000\n",
       "Štístko 0      0       0.000  0.000   0.125   0.013  0.000\n",
       "Stydlín 0      0       0.000  0.000   0.000   0.985  0.000\n",
       "Dřímal  0      0       0.000  0.000   0.000   0.000  0.005\n",
       "Profa   0      0       0.000  0.000   0.000   0.000  0.000"
      ]
     },
     "metadata": {},
     "output_type": "display_data"
    },
    {
     "data": {
      "text/html": [
       "<table class=\"dataframe\">\n",
       "<caption>A matrix: 7 × 7 of type dbl</caption>\n",
       "<tbody>\n",
       "\t<tr><th scope=row>Šmudla</th><td>1</td><td>0</td><td>0</td><td>0</td><td>0</td><td>0</td><td>0</td></tr>\n",
       "\t<tr><th scope=row>Kejchal</th><td>0</td><td>1</td><td>0</td><td>0</td><td>0</td><td>0</td><td>0</td></tr>\n",
       "\t<tr><th scope=row>Rejpal</th><td>0</td><td>1</td><td>1</td><td>0</td><td>0</td><td>0</td><td>0</td></tr>\n",
       "\t<tr><th scope=row>Štístko</th><td>0</td><td>1</td><td>1</td><td>1</td><td>0</td><td>0</td><td>0</td></tr>\n",
       "\t<tr><th scope=row>Stydlín</th><td>0</td><td>0</td><td>0</td><td>1</td><td>1</td><td>0</td><td>0</td></tr>\n",
       "\t<tr><th scope=row>Dřímal</th><td>0</td><td>0</td><td>0</td><td>0</td><td>1</td><td>1</td><td>0</td></tr>\n",
       "\t<tr><th scope=row>Profa</th><td>0</td><td>0</td><td>0</td><td>0</td><td>0</td><td>0</td><td>1</td></tr>\n",
       "</tbody>\n",
       "</table>\n"
      ],
      "text/latex": [
       "A matrix: 7 × 7 of type dbl\n",
       "\\begin{tabular}{r|lllllll}\n",
       "\tŠmudla & 1 & 0 & 0 & 0 & 0 & 0 & 0\\\\\n",
       "\tKejchal & 0 & 1 & 0 & 0 & 0 & 0 & 0\\\\\n",
       "\tRejpal & 0 & 1 & 1 & 0 & 0 & 0 & 0\\\\\n",
       "\tŠtístko & 0 & 1 & 1 & 1 & 0 & 0 & 0\\\\\n",
       "\tStydlín & 0 & 0 & 0 & 1 & 1 & 0 & 0\\\\\n",
       "\tDřímal & 0 & 0 & 0 & 0 & 1 & 1 & 0\\\\\n",
       "\tProfa & 0 & 0 & 0 & 0 & 0 & 0 & 1\\\\\n",
       "\\end{tabular}\n"
      ],
      "text/markdown": [
       "\n",
       "A matrix: 7 × 7 of type dbl\n",
       "\n",
       "| Šmudla | 1 | 0 | 0 | 0 | 0 | 0 | 0 |\n",
       "| Kejchal | 0 | 1 | 0 | 0 | 0 | 0 | 0 |\n",
       "| Rejpal | 0 | 1 | 1 | 0 | 0 | 0 | 0 |\n",
       "| Štístko | 0 | 1 | 1 | 1 | 0 | 0 | 0 |\n",
       "| Stydlín | 0 | 0 | 0 | 1 | 1 | 0 | 0 |\n",
       "| Dřímal | 0 | 0 | 0 | 0 | 1 | 1 | 0 |\n",
       "| Profa | 0 | 0 | 0 | 0 | 0 | 0 | 1 |\n",
       "\n"
      ],
      "text/plain": [
       "        [,1] [,2] [,3] [,4] [,5] [,6] [,7]\n",
       "Šmudla  1    0    0    0    0    0    0   \n",
       "Kejchal 0    1    0    0    0    0    0   \n",
       "Rejpal  0    1    1    0    0    0    0   \n",
       "Štístko 0    1    1    1    0    0    0   \n",
       "Stydlín 0    0    0    1    1    0    0   \n",
       "Dřímal  0    0    0    0    1    1    0   \n",
       "Profa   0    0    0    0    0    0    1   "
      ]
     },
     "metadata": {},
     "output_type": "display_data"
    }
   ],
   "source": [
    "# Jak to udělat z POST-HOC ANOVY:\n",
    "\n",
    "# vyrobíme vstupní data\n",
    "setrizene.typy <- efekty.ANOVA$typ\n",
    "parove.testy.nazvy <- rownames(PH.ANOVA)\n",
    "parove.testy.phodnoty <- PH.ANOVA[, \"p adj\"]\n",
    "\n",
    "# vyrobíme setřízenou tabulku phodnot\n",
    "p.val.tab <- tabulka.phodnot(\n",
    "    setrizene.typy, parove.testy.nazvy,\n",
    "    parove.testy.phodnoty\n",
    ")\n",
    "# vykreslíme zaokrouhlené na tisíciny\n",
    "round(p.val.tab, digits = 3)\n",
    "\n",
    "# z tabulky phodnot vyrobíme písmenkové schéma\n",
    "pis.schema <- pismenkove.schema(p.val.tab, 0.05)\n",
    "pis.schema\n"
   ]
  },
  {
   "cell_type": "code",
   "execution_count": 11,
   "id": "proud-valuable",
   "metadata": {
    "vscode": {
     "languageId": "r"
    }
   },
   "outputs": [
    {
     "data": {
      "text/html": [
       "<table class=\"dataframe\">\n",
       "<caption>A matrix: 7 × 7 of type dbl</caption>\n",
       "<thead>\n",
       "\t<tr><th></th><th scope=col>Šmudla</th><th scope=col>Kejchal</th><th scope=col>Rejpal</th><th scope=col>Štístko</th><th scope=col>Stydlín</th><th scope=col>Dřímal</th><th scope=col>Profa</th></tr>\n",
       "</thead>\n",
       "<tbody>\n",
       "\t<tr><th scope=row>Šmudla</th><td>0</td><td>0.099</td><td>0.029</td><td>0.001</td><td>0.000</td><td>0.000</td><td>0.000</td></tr>\n",
       "\t<tr><th scope=row>Kejchal</th><td>0</td><td>0.000</td><td>1.000</td><td>1.000</td><td>0.013</td><td>0.002</td><td>0.000</td></tr>\n",
       "\t<tr><th scope=row>Rejpal</th><td>0</td><td>0.000</td><td>0.000</td><td>1.000</td><td>0.048</td><td>0.007</td><td>0.000</td></tr>\n",
       "\t<tr><th scope=row>Štístko</th><td>0</td><td>0.000</td><td>0.000</td><td>0.000</td><td>0.718</td><td>0.170</td><td>0.000</td></tr>\n",
       "\t<tr><th scope=row>Stydlín</th><td>0</td><td>0.000</td><td>0.000</td><td>0.000</td><td>0.000</td><td>1.000</td><td>0.160</td></tr>\n",
       "\t<tr><th scope=row>Dřímal</th><td>0</td><td>0.000</td><td>0.000</td><td>0.000</td><td>0.000</td><td>0.000</td><td>0.683</td></tr>\n",
       "\t<tr><th scope=row>Profa</th><td>0</td><td>0.000</td><td>0.000</td><td>0.000</td><td>0.000</td><td>0.000</td><td>0.000</td></tr>\n",
       "</tbody>\n",
       "</table>\n"
      ],
      "text/latex": [
       "A matrix: 7 × 7 of type dbl\n",
       "\\begin{tabular}{r|lllllll}\n",
       "  & Šmudla & Kejchal & Rejpal & Štístko & Stydlín & Dřímal & Profa\\\\\n",
       "\\hline\n",
       "\tŠmudla & 0 & 0.099 & 0.029 & 0.001 & 0.000 & 0.000 & 0.000\\\\\n",
       "\tKejchal & 0 & 0.000 & 1.000 & 1.000 & 0.013 & 0.002 & 0.000\\\\\n",
       "\tRejpal & 0 & 0.000 & 0.000 & 1.000 & 0.048 & 0.007 & 0.000\\\\\n",
       "\tŠtístko & 0 & 0.000 & 0.000 & 0.000 & 0.718 & 0.170 & 0.000\\\\\n",
       "\tStydlín & 0 & 0.000 & 0.000 & 0.000 & 0.000 & 1.000 & 0.160\\\\\n",
       "\tDřímal & 0 & 0.000 & 0.000 & 0.000 & 0.000 & 0.000 & 0.683\\\\\n",
       "\tProfa & 0 & 0.000 & 0.000 & 0.000 & 0.000 & 0.000 & 0.000\\\\\n",
       "\\end{tabular}\n"
      ],
      "text/markdown": [
       "\n",
       "A matrix: 7 × 7 of type dbl\n",
       "\n",
       "| <!--/--> | Šmudla | Kejchal | Rejpal | Štístko | Stydlín | Dřímal | Profa |\n",
       "|---|---|---|---|---|---|---|---|\n",
       "| Šmudla | 0 | 0.099 | 0.029 | 0.001 | 0.000 | 0.000 | 0.000 |\n",
       "| Kejchal | 0 | 0.000 | 1.000 | 1.000 | 0.013 | 0.002 | 0.000 |\n",
       "| Rejpal | 0 | 0.000 | 0.000 | 1.000 | 0.048 | 0.007 | 0.000 |\n",
       "| Štístko | 0 | 0.000 | 0.000 | 0.000 | 0.718 | 0.170 | 0.000 |\n",
       "| Stydlín | 0 | 0.000 | 0.000 | 0.000 | 0.000 | 1.000 | 0.160 |\n",
       "| Dřímal | 0 | 0.000 | 0.000 | 0.000 | 0.000 | 0.000 | 0.683 |\n",
       "| Profa | 0 | 0.000 | 0.000 | 0.000 | 0.000 | 0.000 | 0.000 |\n",
       "\n"
      ],
      "text/plain": [
       "        Šmudla Kejchal Rejpal Štístko Stydlín Dřímal Profa\n",
       "Šmudla  0      0.099   0.029  0.001   0.000   0.000  0.000\n",
       "Kejchal 0      0.000   1.000  1.000   0.013   0.002  0.000\n",
       "Rejpal  0      0.000   0.000  1.000   0.048   0.007  0.000\n",
       "Štístko 0      0.000   0.000  0.000   0.718   0.170  0.000\n",
       "Stydlín 0      0.000   0.000  0.000   0.000   1.000  0.160\n",
       "Dřímal  0      0.000   0.000  0.000   0.000   0.000  0.683\n",
       "Profa   0      0.000   0.000  0.000   0.000   0.000  0.000"
      ]
     },
     "metadata": {},
     "output_type": "display_data"
    },
    {
     "data": {
      "text/html": [
       "<table class=\"dataframe\">\n",
       "<caption>A matrix: 7 × 7 of type dbl</caption>\n",
       "<tbody>\n",
       "\t<tr><th scope=row>Šmudla</th><td>1</td><td>0</td><td>0</td><td>0</td><td>0</td><td>0</td><td>0</td></tr>\n",
       "\t<tr><th scope=row>Kejchal</th><td>1</td><td>1</td><td>0</td><td>0</td><td>0</td><td>0</td><td>0</td></tr>\n",
       "\t<tr><th scope=row>Rejpal</th><td>0</td><td>1</td><td>1</td><td>0</td><td>0</td><td>0</td><td>0</td></tr>\n",
       "\t<tr><th scope=row>Štístko</th><td>0</td><td>1</td><td>1</td><td>1</td><td>0</td><td>0</td><td>0</td></tr>\n",
       "\t<tr><th scope=row>Stydlín</th><td>0</td><td>0</td><td>0</td><td>1</td><td>1</td><td>0</td><td>0</td></tr>\n",
       "\t<tr><th scope=row>Dřímal</th><td>0</td><td>0</td><td>0</td><td>1</td><td>1</td><td>1</td><td>0</td></tr>\n",
       "\t<tr><th scope=row>Profa</th><td>0</td><td>0</td><td>0</td><td>0</td><td>1</td><td>1</td><td>1</td></tr>\n",
       "</tbody>\n",
       "</table>\n"
      ],
      "text/latex": [
       "A matrix: 7 × 7 of type dbl\n",
       "\\begin{tabular}{r|lllllll}\n",
       "\tŠmudla & 1 & 0 & 0 & 0 & 0 & 0 & 0\\\\\n",
       "\tKejchal & 1 & 1 & 0 & 0 & 0 & 0 & 0\\\\\n",
       "\tRejpal & 0 & 1 & 1 & 0 & 0 & 0 & 0\\\\\n",
       "\tŠtístko & 0 & 1 & 1 & 1 & 0 & 0 & 0\\\\\n",
       "\tStydlín & 0 & 0 & 0 & 1 & 1 & 0 & 0\\\\\n",
       "\tDřímal & 0 & 0 & 0 & 1 & 1 & 1 & 0\\\\\n",
       "\tProfa & 0 & 0 & 0 & 0 & 1 & 1 & 1\\\\\n",
       "\\end{tabular}\n"
      ],
      "text/markdown": [
       "\n",
       "A matrix: 7 × 7 of type dbl\n",
       "\n",
       "| Šmudla | 1 | 0 | 0 | 0 | 0 | 0 | 0 |\n",
       "| Kejchal | 1 | 1 | 0 | 0 | 0 | 0 | 0 |\n",
       "| Rejpal | 0 | 1 | 1 | 0 | 0 | 0 | 0 |\n",
       "| Štístko | 0 | 1 | 1 | 1 | 0 | 0 | 0 |\n",
       "| Stydlín | 0 | 0 | 0 | 1 | 1 | 0 | 0 |\n",
       "| Dřímal | 0 | 0 | 0 | 1 | 1 | 1 | 0 |\n",
       "| Profa | 0 | 0 | 0 | 0 | 1 | 1 | 1 |\n",
       "\n"
      ],
      "text/plain": [
       "        [,1] [,2] [,3] [,4] [,5] [,6] [,7]\n",
       "Šmudla  1    0    0    0    0    0    0   \n",
       "Kejchal 1    1    0    0    0    0    0   \n",
       "Rejpal  0    1    1    0    0    0    0   \n",
       "Štístko 0    1    1    1    0    0    0   \n",
       "Stydlín 0    0    0    1    1    0    0   \n",
       "Dřímal  0    0    0    1    1    1    0   \n",
       "Profa   0    0    0    0    1    1    1   "
      ]
     },
     "metadata": {},
     "output_type": "display_data"
    }
   ],
   "source": [
    "# Jak to udělat z POST-HOC KW:\n",
    "\n",
    "# vyrobíme vstupní data\n",
    "setrizene.typy <- efekty.KW$typ\n",
    "parove.testy.nazvy <- PH.KW$Comparison\n",
    "parove.testy.phodnoty <- PH.KW$P.adj\n",
    "\n",
    "# vyrobíme setřízenou tabulku phodnot\n",
    "p.val.tab <- tabulka.phodnot(\n",
    "    setrizene.typy, parove.testy.nazvy,\n",
    "    parove.testy.phodnoty\n",
    ")\n",
    "# vykreslíme zaokrouhlené na tisíciny\n",
    "round(p.val.tab, digits = 3)\n",
    "\n",
    "# z tabulky phodnot vyrobíme písmenkové schéma\n",
    "pis.schema <- pismenkove.schema(p.val.tab, 0.05)\n",
    "pis.schema\n"
   ]
  },
  {
   "cell_type": "markdown",
   "id": "tight-associate",
   "metadata": {},
   "source": [
    "## Písmenkové schéma pomocí vestavěné Rkové funkce\n",
    "Balíček rcompanion, funkce cldList"
   ]
  },
  {
   "cell_type": "code",
   "execution_count": 12,
   "id": "false-tucson",
   "metadata": {
    "vscode": {
     "languageId": "r"
    }
   },
   "outputs": [
    {
     "data": {
      "text/html": [
       "<table class=\"dataframe\">\n",
       "<caption>A data.frame: 7 × 3</caption>\n",
       "<thead>\n",
       "\t<tr><th scope=col>Group</th><th scope=col>Letter</th><th scope=col>MonoLetter</th></tr>\n",
       "\t<tr><th scope=col>&lt;chr&gt;</th><th scope=col>&lt;chr&gt;</th><th scope=col>&lt;chr&gt;</th></tr>\n",
       "</thead>\n",
       "<tbody>\n",
       "\t<tr><td>Kejchal</td><td>a </td><td>a    </td></tr>\n",
       "\t<tr><td>Profa  </td><td>b </td><td> b   </td></tr>\n",
       "\t<tr><td>Rejpal </td><td>a </td><td>a    </td></tr>\n",
       "\t<tr><td>Šmudla </td><td>c </td><td>  c  </td></tr>\n",
       "\t<tr><td>Štístko</td><td>ad</td><td>a  d </td></tr>\n",
       "\t<tr><td>Stydlín</td><td>de</td><td>   de</td></tr>\n",
       "\t<tr><td>Dřímal </td><td>e </td><td>    e</td></tr>\n",
       "</tbody>\n",
       "</table>\n"
      ],
      "text/latex": [
       "A data.frame: 7 × 3\n",
       "\\begin{tabular}{lll}\n",
       " Group & Letter & MonoLetter\\\\\n",
       " <chr> & <chr> & <chr>\\\\\n",
       "\\hline\n",
       "\t Kejchal & a  & a    \\\\\n",
       "\t Profa   & b  &  b   \\\\\n",
       "\t Rejpal  & a  & a    \\\\\n",
       "\t Šmudla  & c  &   c  \\\\\n",
       "\t Štístko & ad & a  d \\\\\n",
       "\t Stydlín & de &    de\\\\\n",
       "\t Dřímal  & e  &     e\\\\\n",
       "\\end{tabular}\n"
      ],
      "text/markdown": [
       "\n",
       "A data.frame: 7 × 3\n",
       "\n",
       "| Group &lt;chr&gt; | Letter &lt;chr&gt; | MonoLetter &lt;chr&gt; |\n",
       "|---|---|---|\n",
       "| Kejchal | a  | a     |\n",
       "| Profa   | b  |  b    |\n",
       "| Rejpal  | a  | a     |\n",
       "| Šmudla  | c  |   c   |\n",
       "| Štístko | ad | a  d  |\n",
       "| Stydlín | de |    de |\n",
       "| Dřímal  | e  |     e |\n",
       "\n"
      ],
      "text/plain": [
       "  Group   Letter MonoLetter\n",
       "1 Kejchal a      a         \n",
       "2 Profa   b       b        \n",
       "3 Rejpal  a      a         \n",
       "4 Šmudla  c        c       \n",
       "5 Štístko ad     a  d      \n",
       "6 Stydlín de        de     \n",
       "7 Dřímal  e          e     "
      ]
     },
     "metadata": {},
     "output_type": "display_data"
    }
   ],
   "source": [
    "# v případě ANOVY\n",
    "\n",
    "# nejprve vyrobíme dataframe se sloupci dvojic a phodnot\n",
    "input <- data.frame(\n",
    "        dvojice = rownames(PH.ANOVA),\n",
    "        pval = PH.ANOVA[, \"p adj\"]\n",
    ")\n",
    "\n",
    "# písmenkové schéma, library rcompanion\n",
    "# install.packages(\"rcompanion\")\n",
    "rcompanion::cldList(pval ~ dvojice,\n",
    "        data = input,\n",
    "        threshold = 0.05\n",
    ")\n"
   ]
  },
  {
   "cell_type": "code",
   "execution_count": 13,
   "id": "functioning-idaho",
   "metadata": {
    "vscode": {
     "languageId": "r"
    }
   },
   "outputs": [
    {
     "data": {
      "text/html": [
       "<table class=\"dataframe\">\n",
       "<caption>A data.frame: 7 × 3</caption>\n",
       "<thead>\n",
       "\t<tr><th scope=col>Group</th><th scope=col>Letter</th><th scope=col>MonoLetter</th></tr>\n",
       "\t<tr><th scope=col>&lt;chr&gt;</th><th scope=col>&lt;chr&gt;</th><th scope=col>&lt;chr&gt;</th></tr>\n",
       "</thead>\n",
       "<tbody>\n",
       "\t<tr><td>Dřímal </td><td>ab</td><td>ab  </td></tr>\n",
       "\t<tr><td>Kejchal</td><td>cd</td><td>  cd</td></tr>\n",
       "\t<tr><td>Profa  </td><td>a </td><td>a   </td></tr>\n",
       "\t<tr><td>Rejpal </td><td>c </td><td>  c </td></tr>\n",
       "\t<tr><td>Šmudla </td><td>d </td><td>   d</td></tr>\n",
       "\t<tr><td>Štístko</td><td>bc</td><td> bc </td></tr>\n",
       "\t<tr><td>Stydlín</td><td>ab</td><td>ab  </td></tr>\n",
       "</tbody>\n",
       "</table>\n"
      ],
      "text/latex": [
       "A data.frame: 7 × 3\n",
       "\\begin{tabular}{lll}\n",
       " Group & Letter & MonoLetter\\\\\n",
       " <chr> & <chr> & <chr>\\\\\n",
       "\\hline\n",
       "\t Dřímal  & ab & ab  \\\\\n",
       "\t Kejchal & cd &   cd\\\\\n",
       "\t Profa   & a  & a   \\\\\n",
       "\t Rejpal  & c  &   c \\\\\n",
       "\t Šmudla  & d  &    d\\\\\n",
       "\t Štístko & bc &  bc \\\\\n",
       "\t Stydlín & ab & ab  \\\\\n",
       "\\end{tabular}\n"
      ],
      "text/markdown": [
       "\n",
       "A data.frame: 7 × 3\n",
       "\n",
       "| Group &lt;chr&gt; | Letter &lt;chr&gt; | MonoLetter &lt;chr&gt; |\n",
       "|---|---|---|\n",
       "| Dřímal  | ab | ab   |\n",
       "| Kejchal | cd |   cd |\n",
       "| Profa   | a  | a    |\n",
       "| Rejpal  | c  |   c  |\n",
       "| Šmudla  | d  |    d |\n",
       "| Štístko | bc |  bc  |\n",
       "| Stydlín | ab | ab   |\n",
       "\n"
      ],
      "text/plain": [
       "  Group   Letter MonoLetter\n",
       "1 Dřímal  ab     ab        \n",
       "2 Kejchal cd       cd      \n",
       "3 Profa   a      a         \n",
       "4 Rejpal  c        c       \n",
       "5 Šmudla  d         d      \n",
       "6 Štístko bc      bc       \n",
       "7 Stydlín ab     ab        "
      ]
     },
     "metadata": {},
     "output_type": "display_data"
    }
   ],
   "source": [
    "# v případě KW\n",
    "\n",
    "# nejprve vyrobíme dataframe se sloupci dvojic a phodnot\n",
    "input <- data.frame(\n",
    "        dvojice = PH.KW$Comparison,\n",
    "        pval = PH.KW$P.adj\n",
    ")\n",
    "\n",
    "# písmenkové schéma, library rcompanion\n",
    "# install.packages(\"rcompanion\")\n",
    "rcompanion::cldList(pval ~ dvojice,\n",
    "        data = input,\n",
    "        threshold = 0.05\n",
    ")\n"
   ]
  }
 ],
 "metadata": {
  "kernelspec": {
   "display_name": "R",
   "language": "R",
   "name": "ir"
  },
  "language_info": {
   "codemirror_mode": "r",
   "file_extension": ".r",
   "mimetype": "text/x-r-source",
   "name": "R",
   "pygments_lexer": "r",
   "version": "4.3.2"
  }
 },
 "nbformat": 4,
 "nbformat_minor": 5
}

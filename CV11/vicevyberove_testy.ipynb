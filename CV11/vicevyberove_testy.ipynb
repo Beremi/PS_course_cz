{
 "cells": [
  {
   "cell_type": "markdown",
   "id": "transsexual-rogers",
   "metadata": {},
   "source": [
    " # Cvičení 11. Vícevýběrové testy\n",
    " ## Michal Béreš, Martina Litschmannová, Adéla Vrtková"
   ]
  },
  {
   "cell_type": "markdown",
   "id": "weekly-given",
   "metadata": {},
   "source": [
    "## Testovací data pro ukázku volání funkcí"
   ]
  },
  {
   "cell_type": "code",
   "execution_count": 1,
   "id": "painful-price",
   "metadata": {
    "vscode": {
     "languageId": "r"
    }
   },
   "outputs": [
    {
     "data": {
      "text/html": [
       "<table class=\"dataframe\">\n",
       "<caption>A data.frame: 6 × 2</caption>\n",
       "<thead>\n",
       "\t<tr><th></th><th scope=col>hodnota</th><th scope=col>typ</th></tr>\n",
       "\t<tr><th></th><th scope=col>&lt;dbl&gt;</th><th scope=col>&lt;fct&gt;</th></tr>\n",
       "</thead>\n",
       "<tbody>\n",
       "\t<tr><th scope=row>1</th><td>114.0966</td><td>a</td></tr>\n",
       "\t<tr><th scope=row>2</th><td>112.0691</td><td>a</td></tr>\n",
       "\t<tr><th scope=row>3</th><td>112.9446</td><td>a</td></tr>\n",
       "\t<tr><th scope=row>4</th><td>107.8346</td><td>a</td></tr>\n",
       "\t<tr><th scope=row>5</th><td>111.2253</td><td>a</td></tr>\n",
       "\t<tr><th scope=row>6</th><td>123.8451</td><td>a</td></tr>\n",
       "</tbody>\n",
       "</table>\n"
      ],
      "text/latex": [
       "A data.frame: 6 × 2\n",
       "\\begin{tabular}{r|ll}\n",
       "  & hodnota & typ\\\\\n",
       "  & <dbl> & <fct>\\\\\n",
       "\\hline\n",
       "\t1 & 114.0966 & a\\\\\n",
       "\t2 & 112.0691 & a\\\\\n",
       "\t3 & 112.9446 & a\\\\\n",
       "\t4 & 107.8346 & a\\\\\n",
       "\t5 & 111.2253 & a\\\\\n",
       "\t6 & 123.8451 & a\\\\\n",
       "\\end{tabular}\n"
      ],
      "text/markdown": [
       "\n",
       "A data.frame: 6 × 2\n",
       "\n",
       "| <!--/--> | hodnota &lt;dbl&gt; | typ &lt;fct&gt; |\n",
       "|---|---|---|\n",
       "| 1 | 114.0966 | a |\n",
       "| 2 | 112.0691 | a |\n",
       "| 3 | 112.9446 | a |\n",
       "| 4 | 107.8346 | a |\n",
       "| 5 | 111.2253 | a |\n",
       "| 6 | 123.8451 | a |\n",
       "\n"
      ],
      "text/plain": [
       "  hodnota  typ\n",
       "1 114.0966 a  \n",
       "2 112.0691 a  \n",
       "3 112.9446 a  \n",
       "4 107.8346 a  \n",
       "5 111.2253 a  \n",
       "6 123.8451 a  "
      ]
     },
     "metadata": {},
     "output_type": "display_data"
    }
   ],
   "source": [
    "# vyrobím data framy o jednom sloupci z náh. dat\n",
    "a <- as.data.frame(rnorm(n = 35, mean = 117, sd = 10))\n",
    "b <- as.data.frame(rnorm(n = 30, mean = 105, sd = 10))\n",
    "c <- as.data.frame(rnorm(n = 40, mean = 102, sd = 10))\n",
    "d <- as.data.frame(rnorm(n = 32, mean = 101, sd = 10))\n",
    "\n",
    "# přejmenuju název sloupce\n",
    "colnames(a) <- c(\"hodnota\")\n",
    "colnames(b) <- c(\"hodnota\")\n",
    "colnames(c) <- c(\"hodnota\")\n",
    "colnames(d) <- c(\"hodnota\")\n",
    "\n",
    "# doplním typ pro všechny data framy\n",
    "a$typ <- \"a\"\n",
    "b$typ <- \"b\"\n",
    "c$typ <- \"c\"\n",
    "d$typ <- \"d\"\n",
    "\n",
    "# slepím po řádcích dohromady\n",
    "data <- rbind(a, b, c, d)\n",
    "# převedu typ na typ factor\n",
    "data$typ <- as.factor(data$typ)\n",
    "\n",
    "head(data)\n"
   ]
  },
  {
   "cell_type": "code",
   "execution_count": 2,
   "id": "velvet-abortion",
   "metadata": {
    "vscode": {
     "languageId": "r"
    }
   },
   "outputs": [
    {
     "data": {
      "image/png": "[encoded data removed]",
      "text/plain": [
       "plot without title"
      ]
     },
     "metadata": {
      "image/png": {
       "height": 420,
       "width": 420
      }
     },
     "output_type": "display_data"
    }
   ],
   "source": [
    "boxplot(data$hodnota ~ data$typ)\n",
    "# pokud jsou k dispozici nějaká OP, budu je igrorovat\n",
    "# (vím, že data jsou z normálního rozdělení!)\n",
    "# (vím i že mají stejný rozptyl)\n"
   ]
  },
  {
   "cell_type": "markdown",
   "id": "passing-commercial",
   "metadata": {},
   "source": [
    "# Přehled funkcí \n",
    "## Míry variability\n",
    "### Bartlettův test\n",
    "- ověřuje shodu rozptylů\n",
    "    - $H_0: \\sigma^2_1 = \\sigma^2_2 = \\sigma^2_3 = \\ldots$\n",
    "    - $H_A: \\neg H_0$\n",
    "- předpokladem je normalita dat (a samozřejmě nezávislost a spojitost)"
   ]
  },
  {
   "cell_type": "code",
   "execution_count": 3,
   "id": "golden-accordance",
   "metadata": {
    "vscode": {
     "languageId": "r"
    }
   },
   "outputs": [
    {
     "data": {
      "text/plain": [
       "\n",
       "\tBartlett test of homogeneity of variances\n",
       "\n",
       "data:  data$hodnota by data$typ\n",
       "Bartlett's K-squared = 2.2629, df = 3, p-value = 0.5197\n"
      ]
     },
     "metadata": {},
     "output_type": "display_data"
    }
   ],
   "source": [
    "bartlett.test(data$hodnota ~ data$typ)\n"
   ]
  },
  {
   "cell_type": "markdown",
   "id": "accredited-picking",
   "metadata": {},
   "source": [
    "### Leveneův test\n",
    "- ověřuje shodu rozptylů\n",
    "    - $H_0: \\sigma^2_1 = \\sigma^2_2 = \\sigma^2_3 = \\ldots$\n",
    "    - $H_A: \\neg H_0$\n",
    "- předpokladem je pouze nezávislost a spojitost"
   ]
  },
  {
   "cell_type": "code",
   "execution_count": 4,
   "id": "incoming-bacteria",
   "metadata": {
    "vscode": {
     "languageId": "r"
    }
   },
   "outputs": [
    {
     "data": {
      "text/html": [
       "<table class=\"dataframe\">\n",
       "<caption>A anova: 2 × 3</caption>\n",
       "<thead>\n",
       "\t<tr><th></th><th scope=col>Df</th><th scope=col>F value</th><th scope=col>Pr(&gt;F)</th></tr>\n",
       "\t<tr><th></th><th scope=col>&lt;int&gt;</th><th scope=col>&lt;dbl&gt;</th><th scope=col>&lt;dbl&gt;</th></tr>\n",
       "</thead>\n",
       "<tbody>\n",
       "\t<tr><th scope=row>group</th><td>  3</td><td>1.852917</td><td>0.1406825</td></tr>\n",
       "\t<tr><th scope=row> </th><td>133</td><td>      NA</td><td>       NA</td></tr>\n",
       "</tbody>\n",
       "</table>\n"
      ],
      "text/latex": [
       "A anova: 2 × 3\n",
       "\\begin{tabular}{r|lll}\n",
       "  & Df & F value & Pr(>F)\\\\\n",
       "  & <int> & <dbl> & <dbl>\\\\\n",
       "\\hline\n",
       "\tgroup &   3 & 1.852917 & 0.1406825\\\\\n",
       "\t  & 133 &       NA &        NA\\\\\n",
       "\\end{tabular}\n"
      ],
      "text/markdown": [
       "\n",
       "A anova: 2 × 3\n",
       "\n",
       "| <!--/--> | Df &lt;int&gt; | F value &lt;dbl&gt; | Pr(&gt;F) &lt;dbl&gt; |\n",
       "|---|---|---|---|\n",
       "| group |   3 | 1.852917 | 0.1406825 |\n",
       "| <!----> | 133 |       NA |        NA |\n",
       "\n"
      ],
      "text/plain": [
       "      Df  F value  Pr(>F)   \n",
       "group   3 1.852917 0.1406825\n",
       "      133       NA        NA"
      ]
     },
     "metadata": {},
     "output_type": "display_data"
    }
   ],
   "source": [
    "car::leveneTest(data$hodnota ~ data$typ)\n"
   ]
  },
  {
   "cell_type": "markdown",
   "id": "wound-scheduling",
   "metadata": {},
   "source": [
    "### Cochranův a Hartleyův test\n",
    "- také ověřují shodu rozptylů\n",
    "- požadují normalitu dat a tzv. vyvážené třízení\n",
    "    - vyvážené třízení znamená, že máme přibližně stejné množství dat v každé skupině\n",
    "- nebudeme je používat\n",
    "\n",
    "## Míry polohy\n",
    "### ANOVA (analýza rozptylu)\n",
    "- ověřuje shodu polohy (středních hodnot)\n",
    "    - $H_0: \\mu_1 = \\mu_2 = \\mu_3 = \\ldots$\n",
    "    - $H_A: \\neg H_0$\n",
    "- předpoklady:\n",
    "    - normalita dat\n",
    "    - homoskedasticita (shodné rozptyly)\n",
    "    - (a samozřejmě nezávislost a spojitost)\n",
    "- pokud zamítáme $H_0$ je vyžadována Post-Hoc analýza\n",
    "    - pomocí TukeyHSD testu"
   ]
  },
  {
   "cell_type": "code",
   "execution_count": 5,
   "id": "brief-humor",
   "metadata": {
    "vscode": {
     "languageId": "r"
    }
   },
   "outputs": [
    {
     "data": {
      "text/plain": [
       "             Df Sum Sq Mean Sq F value   Pr(>F)    \n",
       "data$typ      3   8053  2684.4   30.38 5.05e-15 ***\n",
       "Residuals   133  11754    88.4                     \n",
       "---\n",
       "Signif. codes:  0 ‘***’ 0.001 ‘**’ 0.01 ‘*’ 0.05 ‘.’ 0.1 ‘ ’ 1"
      ]
     },
     "metadata": {},
     "output_type": "display_data"
    }
   ],
   "source": [
    "# Základní ANOVA\n",
    "# H0: mu1 = mu2 = mu3 = mu4\n",
    "# HA: ~H0 (negace H0)\n",
    "\n",
    "res <- aov(data$hodnota ~ data$typ)\n",
    "summary(res)\n"
   ]
  },
  {
   "cell_type": "code",
   "execution_count": 6,
   "id": "verbal-marketplace",
   "metadata": {
    "vscode": {
     "languageId": "r"
    }
   },
   "outputs": [
    {
     "data": {
      "text/plain": [
       "  Tukey multiple comparisons of means\n",
       "    95% family-wise confidence level\n",
       "\n",
       "Fit: aov(formula = data$hodnota ~ data$typ)\n",
       "\n",
       "$`data$typ`\n",
       "          diff        lwr        upr     p adj\n",
       "b-a -14.538829 -20.624329  -8.453329 0.0000000\n",
       "c-a -17.501414 -23.162515 -11.840314 0.0000000\n",
       "d-a -19.280643 -25.262867 -13.298419 0.0000000\n",
       "c-b  -2.962585  -8.869935   2.944764 0.5614954\n",
       "d-b  -4.741814 -10.957577   1.473950 0.1988974\n",
       "d-c  -1.779228  -7.580130   4.021673 0.8552174\n"
      ]
     },
     "metadata": {},
     "output_type": "display_data"
    }
   ],
   "source": [
    "# Post-Hoc analýza\n",
    "\n",
    "TukeyHSD(res)\n"
   ]
  },
  {
   "cell_type": "code",
   "execution_count": 7,
   "id": "special-brother",
   "metadata": {
    "vscode": {
     "languageId": "r"
    }
   },
   "outputs": [
    {
     "name": "stderr",
     "output_type": "stream",
     "text": [
      "\n",
      "Attaching package: ‘dplyr’\n",
      "\n",
      "\n",
      "The following objects are masked from ‘package:stats’:\n",
      "\n",
      "    filter, lag\n",
      "\n",
      "\n",
      "The following objects are masked from ‘package:base’:\n",
      "\n",
      "    intersect, setdiff, setequal, union\n",
      "\n",
      "\n"
     ]
    },
    {
     "data": {
      "text/html": [
       "105.517754234651"
      ],
      "text/latex": [
       "105.517754234651"
      ],
      "text/markdown": [
       "105.517754234651"
      ],
      "text/plain": [
       "[1] 105.5178"
      ]
     },
     "metadata": {},
     "output_type": "display_data"
    },
    {
     "data": {
      "text/html": [
       "<table class=\"dataframe\">\n",
       "<caption>A tibble: 4 × 3</caption>\n",
       "<thead>\n",
       "\t<tr><th scope=col>typ</th><th scope=col>mean_skup</th><th scope=col>efekt</th></tr>\n",
       "\t<tr><th scope=col>&lt;fct&gt;</th><th scope=col>&lt;dbl&gt;</th><th scope=col>&lt;dbl&gt;</th></tr>\n",
       "</thead>\n",
       "<tbody>\n",
       "\t<tr><td>a</td><td>118.31485</td><td>12.797095</td></tr>\n",
       "\t<tr><td>b</td><td>103.77602</td><td>-1.741734</td></tr>\n",
       "\t<tr><td>c</td><td>100.81343</td><td>-4.704319</td></tr>\n",
       "\t<tr><td>d</td><td> 99.03421</td><td>-6.483548</td></tr>\n",
       "</tbody>\n",
       "</table>\n"
      ],
      "text/latex": [
       "A tibble: 4 × 3\n",
       "\\begin{tabular}{lll}\n",
       " typ & mean\\_skup & efekt\\\\\n",
       " <fct> & <dbl> & <dbl>\\\\\n",
       "\\hline\n",
       "\t a & 118.31485 & 12.797095\\\\\n",
       "\t b & 103.77602 & -1.741734\\\\\n",
       "\t c & 100.81343 & -4.704319\\\\\n",
       "\t d &  99.03421 & -6.483548\\\\\n",
       "\\end{tabular}\n"
      ],
      "text/markdown": [
       "\n",
       "A tibble: 4 × 3\n",
       "\n",
       "| typ &lt;fct&gt; | mean_skup &lt;dbl&gt; | efekt &lt;dbl&gt; |\n",
       "|---|---|---|\n",
       "| a | 118.31485 | 12.797095 |\n",
       "| b | 103.77602 | -1.741734 |\n",
       "| c | 100.81343 | -4.704319 |\n",
       "| d |  99.03421 | -6.483548 |\n",
       "\n"
      ],
      "text/plain": [
       "  typ mean_skup efekt    \n",
       "1 a   118.31485 12.797095\n",
       "2 b   103.77602 -1.741734\n",
       "3 c   100.81343 -4.704319\n",
       "4 d    99.03421 -6.483548"
      ]
     },
     "metadata": {},
     "output_type": "display_data"
    }
   ],
   "source": [
    "# počítání efektů\n",
    "library(dplyr)\n",
    "\n",
    "# celkový průměr\n",
    "prumer_vsech <- mean(data$hodnota)\n",
    "prumer_vsech\n",
    "\n",
    "# průměry ve skupinách\n",
    "efekty <- data %>%\n",
    "    group_by(typ) %>%\n",
    "    summarize(mean_skup = mean(hodnota))\n",
    "\n",
    "# efekty\n",
    "efekty$efekt <- efekty$mean_skup - prumer_vsech\n",
    "\n",
    "# vypsat setřízené\n",
    "efekty %>% arrange(desc(efekt))\n"
   ]
  },
  {
   "cell_type": "markdown",
   "id": "immune-trouble",
   "metadata": {},
   "source": [
    "### Kruskalův - Wallisův test\n",
    "- ověřuje shodu polohy (mediánů)\n",
    "    - $H_0: X_{0.5,1} = X_{0.5,2} = X_{0.5,3} = \\ldots$\n",
    "    - $H_A: \\neg H_0$\n",
    "- předpoklady:\n",
    "    - symetrie dat\n",
    "    - (a samozřejmě nezávislost a spojitost)\n",
    "- pokud zamítáme $H_0$ je vyžadována Post-Hoc analýza\n",
    "    - pomocí Dunnové testu/metody"
   ]
  },
  {
   "cell_type": "code",
   "execution_count": 8,
   "id": "acting-shopping",
   "metadata": {
    "vscode": {
     "languageId": "r"
    }
   },
   "outputs": [
    {
     "data": {
      "text/plain": [
       "\n",
       "\tKruskal-Wallis rank sum test\n",
       "\n",
       "data:  data$hodnota by data$typ\n",
       "Kruskal-Wallis chi-squared = 51.107, df = 3, p-value = 4.642e-11\n"
      ]
     },
     "metadata": {},
     "output_type": "display_data"
    }
   ],
   "source": [
    "# Základní KW test\n",
    "# H0: X0.5,1 = X0.5,2 = X0.5,3 = X0.5,4\n",
    "# HA: ~H0 (negace H0)\n",
    "\n",
    "kruskal.test(data$hodnota ~ data$typ)\n"
   ]
  },
  {
   "cell_type": "code",
   "execution_count": 9,
   "id": "exotic-acrylic",
   "metadata": {
    "vscode": {
     "languageId": "r"
    }
   },
   "outputs": [
    {
     "name": "stdout",
     "output_type": "stream",
     "text": [
      "  Kruskal-Wallis rank sum test\n",
      "\n",
      "data: x and group\n",
      "Kruskal-Wallis chi-squared = 51.107, df = 3, p-value = 0\n",
      "\n",
      "\n",
      "                           Comparison of x by group                            \n",
      "                                 (Bonferroni)                                  \n",
      "Col Mean-|\n",
      "Row Mean |          a          b          c\n",
      "---------+---------------------------------\n",
      "       b |   4.232578\n",
      "         |    0.0001*\n",
      "         |\n",
      "       c |   5.894169   1.288247\n",
      "         |    0.0000*     1.0000\n",
      "         |\n",
      "       d |   6.454611   2.068220   0.904246\n",
      "         |    0.0000*     0.2317     1.0000\n",
      "\n",
      "alpha = 0.05\n",
      "Reject Ho if p <= alpha\n"
     ]
    }
   ],
   "source": [
    "# Post-Hoc analýza\n",
    "\n",
    "# altP = T nastavuje p-hodnotu tak,aby se při rozhodování\n",
    "# o statistické významnosti srovnávala s alfa\n",
    "# (defaultně: altp = FALSE, pak srovnáváme s alfa/2)\n",
    "\n",
    "# install.packages(\"dunn.test\")\n",
    "\n",
    "dunn.test::dunn.test(\n",
    "    x = data$hodnota, g = data$typ,\n",
    "    method = \"bonferroni\", altp = TRUE\n",
    ")\n"
   ]
  },
  {
   "cell_type": "code",
   "execution_count": 10,
   "id": "trying-orbit",
   "metadata": {
    "vscode": {
     "languageId": "r"
    }
   },
   "outputs": [
    {
     "data": {
      "text/html": [
       "105.31715355661"
      ],
      "text/latex": [
       "105.31715355661"
      ],
      "text/markdown": [
       "105.31715355661"
      ],
      "text/plain": [
       "[1] 105.3172"
      ]
     },
     "metadata": {},
     "output_type": "display_data"
    },
    {
     "data": {
      "text/html": [
       "<table class=\"dataframe\">\n",
       "<caption>A tibble: 4 × 3</caption>\n",
       "<thead>\n",
       "\t<tr><th scope=col>typ</th><th scope=col>median_skup</th><th scope=col>efekt</th></tr>\n",
       "\t<tr><th scope=col>&lt;fct&gt;</th><th scope=col>&lt;dbl&gt;</th><th scope=col>&lt;dbl&gt;</th></tr>\n",
       "</thead>\n",
       "<tbody>\n",
       "\t<tr><td>a</td><td>119.90213</td><td>14.58497321</td></tr>\n",
       "\t<tr><td>b</td><td>105.25164</td><td>-0.06551219</td></tr>\n",
       "\t<tr><td>c</td><td> 98.89353</td><td>-6.42361926</td></tr>\n",
       "\t<tr><td>d</td><td> 98.61793</td><td>-6.69922074</td></tr>\n",
       "</tbody>\n",
       "</table>\n"
      ],
      "text/latex": [
       "A tibble: 4 × 3\n",
       "\\begin{tabular}{lll}\n",
       " typ & median\\_skup & efekt\\\\\n",
       " <fct> & <dbl> & <dbl>\\\\\n",
       "\\hline\n",
       "\t a & 119.90213 & 14.58497321\\\\\n",
       "\t b & 105.25164 & -0.06551219\\\\\n",
       "\t c &  98.89353 & -6.42361926\\\\\n",
       "\t d &  98.61793 & -6.69922074\\\\\n",
       "\\end{tabular}\n"
      ],
      "text/markdown": [
       "\n",
       "A tibble: 4 × 3\n",
       "\n",
       "| typ &lt;fct&gt; | median_skup &lt;dbl&gt; | efekt &lt;dbl&gt; |\n",
       "|---|---|---|\n",
       "| a | 119.90213 | 14.58497321 |\n",
       "| b | 105.25164 | -0.06551219 |\n",
       "| c |  98.89353 | -6.42361926 |\n",
       "| d |  98.61793 | -6.69922074 |\n",
       "\n"
      ],
      "text/plain": [
       "  typ median_skup efekt      \n",
       "1 a   119.90213   14.58497321\n",
       "2 b   105.25164   -0.06551219\n",
       "3 c    98.89353   -6.42361926\n",
       "4 d    98.61793   -6.69922074"
      ]
     },
     "metadata": {},
     "output_type": "display_data"
    }
   ],
   "source": [
    "# počítání efektů\n",
    "\n",
    "# celkový median\n",
    "median_vsech <- median(data$hodnota)\n",
    "median_vsech\n",
    "\n",
    "# mediany ve skupinách\n",
    "efekty <- data %>%\n",
    "    group_by(typ) %>%\n",
    "    summarize(median_skup = median(hodnota))\n",
    "\n",
    "# efekty\n",
    "efekty$efekt <- efekty$median_skup - median_vsech\n",
    "\n",
    "# vypsat setřízené\n",
    "efekty %>% arrange(desc(efekt))\n"
   ]
  },
  {
   "attachments": {
    "4429db71-6c58-4bf9-b61f-fd9ec4015d20.png": {
     "image/png": "[encoded data removed]"
    }
   },
   "cell_type": "markdown",
   "id": "textile-trouble",
   "metadata": {},
   "source": [
    "# Příklady\n",
    "## Příklad 1.\n",
    "Testujeme nulovou hypotézu µ1 = µ2 = µ3. Bylo zjištěno, že data, která máme k dispozici jsou výběry z normálního rozdělení splňující předpoklad homoskedasticity (shody rozptylů). Na základě údajů získaných explorační analýzou doplňte tabulku ANOVA a vyplývající závěry.<br>\n",
    "![image.png](attachment:4429db71-6c58-4bf9-b61f-fd9ec4015d20.png)"
   ]
  },
  {
   "cell_type": "code",
   "execution_count": 11,
   "id": "hydraulic-internet",
   "metadata": {
    "vscode": {
     "languageId": "r"
    }
   },
   "outputs": [],
   "source": [
    "n <- c(40, 40, 42) # rozsahy výběrů\n",
    "prum <- c(300, 290, 310) # průměry v jednotlivých skupinách / třídách\n",
    "s <- c(33, 34, 31) # směr. odchylky v jednotlivých skup. / třídách\n"
   ]
  },
  {
   "cell_type": "code",
   "execution_count": 12,
   "id": "bacterial-black",
   "metadata": {
    "vscode": {
     "languageId": "r"
    }
   },
   "outputs": [],
   "source": [
    "n.total <- sum(n) # celkový rozsah výběrů\n",
    "k <- 3 # počet tříd\n",
    "df.b <- k - 1 # počet stupňů volnosti - meziskupinový\n",
    "df.e <- n.total - k # počet stupňů volnosti - reziduální\n"
   ]
  },
  {
   "cell_type": "code",
   "execution_count": 13,
   "id": "advisory-commander",
   "metadata": {
    "vscode": {
     "languageId": "r"
    }
   },
   "outputs": [
    {
     "data": {
      "text/html": [
       "300.16393442623"
      ],
      "text/latex": [
       "300.16393442623"
      ],
      "text/markdown": [
       "300.16393442623"
      ],
      "text/plain": [
       "[1] 300.1639"
      ]
     },
     "metadata": {},
     "output_type": "display_data"
    }
   ],
   "source": [
    "# celkový průměr (pomocí váženého průměru)\n",
    "prum.total <- weighted.mean(x = prum, w = n)\n",
    "prum.total\n"
   ]
  },
  {
   "cell_type": "code",
   "execution_count": 14,
   "id": "stainless-alert",
   "metadata": {
    "vscode": {
     "languageId": "r"
    }
   },
   "outputs": [
    {
     "data": {
      "text/html": [
       "8196.72131147541"
      ],
      "text/latex": [
       "8196.72131147541"
      ],
      "text/markdown": [
       "8196.72131147541"
      ],
      "text/plain": [
       "[1] 8196.721"
      ]
     },
     "metadata": {},
     "output_type": "display_data"
    }
   ],
   "source": [
    "# meziskupinový součet čtverců\n",
    "ss.b <- sum(n * (prum - prum.total)^2)\n",
    "ss.b\n"
   ]
  },
  {
   "cell_type": "code",
   "execution_count": 15,
   "id": "equivalent-belize",
   "metadata": {
    "vscode": {
     "languageId": "r"
    }
   },
   "outputs": [
    {
     "data": {
      "text/html": [
       "126956"
      ],
      "text/latex": [
       "126956"
      ],
      "text/markdown": [
       "126956"
      ],
      "text/plain": [
       "[1] 126956"
      ]
     },
     "metadata": {},
     "output_type": "display_data"
    }
   ],
   "source": [
    "# reziduální součet čtverců\n",
    "ss.e <- sum((n - 1) * s^2)\n",
    "ss.e\n"
   ]
  },
  {
   "cell_type": "code",
   "execution_count": 16,
   "id": "mobile-scientist",
   "metadata": {
    "vscode": {
     "languageId": "r"
    }
   },
   "outputs": [
    {
     "data": {
      "text/html": [
       "135152.721311475"
      ],
      "text/latex": [
       "135152.721311475"
      ],
      "text/markdown": [
       "135152.721311475"
      ],
      "text/plain": [
       "[1] 135152.7"
      ]
     },
     "metadata": {},
     "output_type": "display_data"
    }
   ],
   "source": [
    "# celkový součet čtverců\n",
    "ss.b + ss.e\n"
   ]
  },
  {
   "cell_type": "code",
   "execution_count": 17,
   "id": "acquired-smith",
   "metadata": {
    "vscode": {
     "languageId": "r"
    }
   },
   "outputs": [
    {
     "data": {
      "text/html": [
       "4098.3606557377"
      ],
      "text/latex": [
       "4098.3606557377"
      ],
      "text/markdown": [
       "4098.3606557377"
      ],
      "text/plain": [
       "[1] 4098.361"
      ]
     },
     "metadata": {},
     "output_type": "display_data"
    }
   ],
   "source": [
    "# rozptyl mezi skupinami / třídami\n",
    "ms.b <- ss.b / df.b\n",
    "ms.b\n"
   ]
  },
  {
   "cell_type": "code",
   "execution_count": 18,
   "id": "interesting-nylon",
   "metadata": {
    "vscode": {
     "languageId": "r"
    }
   },
   "outputs": [
    {
     "data": {
      "text/html": [
       "1066.85714285714"
      ],
      "text/latex": [
       "1066.85714285714"
      ],
      "text/markdown": [
       "1066.85714285714"
      ],
      "text/plain": [
       "[1] 1066.857"
      ]
     },
     "metadata": {},
     "output_type": "display_data"
    }
   ],
   "source": [
    "# rozptyl uvnitř skupin / tříd\n",
    "ms.e <- ss.e / df.e\n",
    "ms.e\n"
   ]
  },
  {
   "cell_type": "code",
   "execution_count": 19,
   "id": "gothic-signature",
   "metadata": {
    "vscode": {
     "languageId": "r"
    }
   },
   "outputs": [
    {
     "data": {
      "text/html": [
       "3.841527127767"
      ],
      "text/latex": [
       "3.841527127767"
      ],
      "text/markdown": [
       "3.841527127767"
      ],
      "text/plain": [
       "[1] 3.841527"
      ]
     },
     "metadata": {},
     "output_type": "display_data"
    }
   ],
   "source": [
    "# F-poměr\n",
    "F_ratio <- ms.b / ms.e\n",
    "F_ratio\n"
   ]
  },
  {
   "cell_type": "code",
   "execution_count": 20,
   "id": "olive-dimension",
   "metadata": {
    "vscode": {
     "languageId": "r"
    }
   },
   "outputs": [
    {
     "data": {
      "text/html": [
       "0.0241708509672042"
      ],
      "text/latex": [
       "0.0241708509672042"
      ],
      "text/markdown": [
       "0.0241708509672042"
      ],
      "text/plain": [
       "[1] 0.02417085"
      ]
     },
     "metadata": {},
     "output_type": "display_data"
    }
   ],
   "source": [
    "# p-hodnota\n",
    "p <- 1 - pf(F_ratio, df.b, df.e)\n",
    "p\n",
    "\n",
    "# Na hladině významnosti 0,05 zamítáme hypotézu o shodě středních hodnot\n",
    "# tj. střední hodnoty alespoň jedné dvojice skupin se stat. významně liší.\n"
   ]
  },
  {
   "cell_type": "code",
   "execution_count": 21,
   "id": "bored-example",
   "metadata": {
    "vscode": {
     "languageId": "r"
    }
   },
   "outputs": [
    {
     "data": {
      "text/html": [
       "<style>\n",
       ".list-inline {list-style: none; margin:0; padding: 0}\n",
       ".list-inline>li {display: inline-block}\n",
       ".list-inline>li:not(:last-child)::after {content: \"\\00b7\"; padding: 0 .5ex}\n",
       "</style>\n",
       "<ol class=list-inline><li>-0.163934426229503</li><li>-10.1639344262295</li><li>9.8360655737705</li></ol>\n"
      ],
      "text/latex": [
       "\\begin{enumerate*}\n",
       "\\item -0.163934426229503\n",
       "\\item -10.1639344262295\n",
       "\\item 9.8360655737705\n",
       "\\end{enumerate*}\n"
      ],
      "text/markdown": [
       "1. -0.163934426229503\n",
       "2. -10.1639344262295\n",
       "3. 9.8360655737705\n",
       "\n",
       "\n"
      ],
      "text/plain": [
       "[1]  -0.1639344 -10.1639344   9.8360656"
      ]
     },
     "metadata": {},
     "output_type": "display_data"
    }
   ],
   "source": [
    "# odhady skupinových efektů\n",
    "efekt <- prum - prum.total\n",
    "efekt\n",
    "\n",
    "# Oproti celkovému průměru vykazuje nejvíce podprůměrné výsledky skupina 2\n",
    "# (o cca 10 jednotek nižší než celkový průměr). Naopak průměr skupiny 3 je\n",
    "# o cca 10 jednotek vyšší než celkový průměr. Průměrné výsledky skupiny 1\n",
    "# odpovídají celkovému průměru.\n"
   ]
  },
  {
   "cell_type": "markdown",
   "id": "experimental-montana",
   "metadata": {},
   "source": [
    "## Příklad 2.\n",
    "122 pacientů, kteří podstoupili operaci srdce, bylo náhodně rozděleno do tří skupin.<br>\n",
    "**Skupina 1:** Pacienti dostali 50 % oxidu dusného a 50 % kyslíkové směsi nepřetržitě po dobu 24 hodin.<br>\n",
    "**Skupina 2:** Pacienti dostali 50 % oxidu dusného a 50 % kyslíkové směsi pouze během operace.<br>\n",
    "**Skupina 3:** Pacienti nedostali žádný oxid dusný, ale dostali 35-50 % kyslíku po dobu 24 hodin.<br>\n",
    "Data v souboru kyselina listova.xls odpovídají koncentracím soli kyseliny listové v červených krvinkách ve všech třech skupinách po uplynutí 24 hodin ventilace. Ověřte, zda pozorované rozdíly mezi koncentracemi soli kyseliny listové jsou statisticky významné, tj. zda existuje vliv složení směsi na sledovaný parametr."
   ]
  },
  {
   "cell_type": "code",
   "execution_count": 22,
   "id": "special-helen",
   "metadata": {
    "scrolled": true,
    "vscode": {
     "languageId": "r"
    }
   },
   "outputs": [
    {
     "data": {
      "text/html": [
       "<table class=\"dataframe\">\n",
       "<caption>A tibble: 42 × 3</caption>\n",
       "<thead>\n",
       "\t<tr><th scope=col>sk1</th><th scope=col>sk2</th><th scope=col>sk3</th></tr>\n",
       "\t<tr><th scope=col>&lt;dbl&gt;</th><th scope=col>&lt;dbl&gt;</th><th scope=col>&lt;dbl&gt;</th></tr>\n",
       "</thead>\n",
       "<tbody>\n",
       "\t<tr><td>234</td><td>267</td><td>351</td></tr>\n",
       "\t<tr><td>306</td><td>301</td><td>284</td></tr>\n",
       "\t<tr><td>261</td><td>253</td><td>291</td></tr>\n",
       "\t<tr><td>255</td><td>278</td><td>270</td></tr>\n",
       "\t<tr><td>267</td><td>216</td><td>205</td></tr>\n",
       "\t<tr><td>304</td><td>188</td><td>318</td></tr>\n",
       "\t<tr><td>301</td><td>264</td><td>282</td></tr>\n",
       "\t<tr><td>264</td><td>235</td><td>238</td></tr>\n",
       "\t<tr><td>307</td><td>211</td><td>309</td></tr>\n",
       "\t<tr><td>248</td><td>258</td><td>292</td></tr>\n",
       "\t<tr><td>337</td><td>194</td><td>226</td></tr>\n",
       "\t<tr><td>280</td><td>277</td><td>210</td></tr>\n",
       "\t<tr><td>314</td><td>234</td><td>275</td></tr>\n",
       "\t<tr><td>336</td><td>248</td><td>305</td></tr>\n",
       "\t<tr><td>322</td><td>290</td><td>307</td></tr>\n",
       "\t<tr><td>353</td><td>267</td><td>249</td></tr>\n",
       "\t<tr><td>389</td><td>226</td><td>256</td></tr>\n",
       "\t<tr><td>297</td><td>237</td><td>321</td></tr>\n",
       "\t<tr><td>328</td><td>281</td><td>195</td></tr>\n",
       "\t<tr><td>296</td><td>219</td><td>235</td></tr>\n",
       "\t<tr><td>291</td><td>310</td><td>338</td></tr>\n",
       "\t<tr><td>305</td><td>262</td><td>257</td></tr>\n",
       "\t<tr><td>320</td><td>260</td><td>255</td></tr>\n",
       "\t<tr><td>298</td><td>225</td><td>283</td></tr>\n",
       "\t<tr><td>260</td><td>230</td><td>282</td></tr>\n",
       "\t<tr><td>364</td><td>278</td><td>307</td></tr>\n",
       "\t<tr><td>343</td><td>273</td><td>297</td></tr>\n",
       "\t<tr><td>274</td><td>295</td><td>289</td></tr>\n",
       "\t<tr><td>338</td><td>189</td><td>296</td></tr>\n",
       "\t<tr><td>308</td><td>241</td><td>326</td></tr>\n",
       "\t<tr><td>333</td><td>286</td><td>317</td></tr>\n",
       "\t<tr><td>317</td><td>231</td><td>254</td></tr>\n",
       "\t<tr><td>325</td><td>209</td><td>211</td></tr>\n",
       "\t<tr><td>289</td><td>292</td><td>281</td></tr>\n",
       "\t<tr><td>308</td><td>227</td><td>293</td></tr>\n",
       "\t<tr><td>267</td><td>238</td><td>234</td></tr>\n",
       "\t<tr><td>343</td><td>321</td><td>249</td></tr>\n",
       "\t<tr><td>287</td><td>248</td><td>284</td></tr>\n",
       "\t<tr><td>272</td><td>276</td><td>295</td></tr>\n",
       "\t<tr><td>322</td><td>202</td><td>288</td></tr>\n",
       "\t<tr><td> NA</td><td> NA</td><td>346</td></tr>\n",
       "\t<tr><td> NA</td><td> NA</td><td>240</td></tr>\n",
       "</tbody>\n",
       "</table>\n"
      ],
      "text/latex": [
       "A tibble: 42 × 3\n",
       "\\begin{tabular}{lll}\n",
       " sk1 & sk2 & sk3\\\\\n",
       " <dbl> & <dbl> & <dbl>\\\\\n",
       "\\hline\n",
       "\t 234 & 267 & 351\\\\\n",
       "\t 306 & 301 & 284\\\\\n",
       "\t 261 & 253 & 291\\\\\n",
       "\t 255 & 278 & 270\\\\\n",
       "\t 267 & 216 & 205\\\\\n",
       "\t 304 & 188 & 318\\\\\n",
       "\t 301 & 264 & 282\\\\\n",
       "\t 264 & 235 & 238\\\\\n",
       "\t 307 & 211 & 309\\\\\n",
       "\t 248 & 258 & 292\\\\\n",
       "\t 337 & 194 & 226\\\\\n",
       "\t 280 & 277 & 210\\\\\n",
       "\t 314 & 234 & 275\\\\\n",
       "\t 336 & 248 & 305\\\\\n",
       "\t 322 & 290 & 307\\\\\n",
       "\t 353 & 267 & 249\\\\\n",
       "\t 389 & 226 & 256\\\\\n",
       "\t 297 & 237 & 321\\\\\n",
       "\t 328 & 281 & 195\\\\\n",
       "\t 296 & 219 & 235\\\\\n",
       "\t 291 & 310 & 338\\\\\n",
       "\t 305 & 262 & 257\\\\\n",
       "\t 320 & 260 & 255\\\\\n",
       "\t 298 & 225 & 283\\\\\n",
       "\t 260 & 230 & 282\\\\\n",
       "\t 364 & 278 & 307\\\\\n",
       "\t 343 & 273 & 297\\\\\n",
       "\t 274 & 295 & 289\\\\\n",
       "\t 338 & 189 & 296\\\\\n",
       "\t 308 & 241 & 326\\\\\n",
       "\t 333 & 286 & 317\\\\\n",
       "\t 317 & 231 & 254\\\\\n",
       "\t 325 & 209 & 211\\\\\n",
       "\t 289 & 292 & 281\\\\\n",
       "\t 308 & 227 & 293\\\\\n",
       "\t 267 & 238 & 234\\\\\n",
       "\t 343 & 321 & 249\\\\\n",
       "\t 287 & 248 & 284\\\\\n",
       "\t 272 & 276 & 295\\\\\n",
       "\t 322 & 202 & 288\\\\\n",
       "\t  NA &  NA & 346\\\\\n",
       "\t  NA &  NA & 240\\\\\n",
       "\\end{tabular}\n"
      ],
      "text/markdown": [
       "\n",
       "A tibble: 42 × 3\n",
       "\n",
       "| sk1 &lt;dbl&gt; | sk2 &lt;dbl&gt; | sk3 &lt;dbl&gt; |\n",
       "|---|---|---|\n",
       "| 234 | 267 | 351 |\n",
       "| 306 | 301 | 284 |\n",
       "| 261 | 253 | 291 |\n",
       "| 255 | 278 | 270 |\n",
       "| 267 | 216 | 205 |\n",
       "| 304 | 188 | 318 |\n",
       "| 301 | 264 | 282 |\n",
       "| 264 | 235 | 238 |\n",
       "| 307 | 211 | 309 |\n",
       "| 248 | 258 | 292 |\n",
       "| 337 | 194 | 226 |\n",
       "| 280 | 277 | 210 |\n",
       "| 314 | 234 | 275 |\n",
       "| 336 | 248 | 305 |\n",
       "| 322 | 290 | 307 |\n",
       "| 353 | 267 | 249 |\n",
       "| 389 | 226 | 256 |\n",
       "| 297 | 237 | 321 |\n",
       "| 328 | 281 | 195 |\n",
       "| 296 | 219 | 235 |\n",
       "| 291 | 310 | 338 |\n",
       "| 305 | 262 | 257 |\n",
       "| 320 | 260 | 255 |\n",
       "| 298 | 225 | 283 |\n",
       "| 260 | 230 | 282 |\n",
       "| 364 | 278 | 307 |\n",
       "| 343 | 273 | 297 |\n",
       "| 274 | 295 | 289 |\n",
       "| 338 | 189 | 296 |\n",
       "| 308 | 241 | 326 |\n",
       "| 333 | 286 | 317 |\n",
       "| 317 | 231 | 254 |\n",
       "| 325 | 209 | 211 |\n",
       "| 289 | 292 | 281 |\n",
       "| 308 | 227 | 293 |\n",
       "| 267 | 238 | 234 |\n",
       "| 343 | 321 | 249 |\n",
       "| 287 | 248 | 284 |\n",
       "| 272 | 276 | 295 |\n",
       "| 322 | 202 | 288 |\n",
       "|  NA |  NA | 346 |\n",
       "|  NA |  NA | 240 |\n",
       "\n"
      ],
      "text/plain": [
       "   sk1 sk2 sk3\n",
       "1  234 267 351\n",
       "2  306 301 284\n",
       "3  261 253 291\n",
       "4  255 278 270\n",
       "5  267 216 205\n",
       "6  304 188 318\n",
       "7  301 264 282\n",
       "8  264 235 238\n",
       "9  307 211 309\n",
       "10 248 258 292\n",
       "11 337 194 226\n",
       "12 280 277 210\n",
       "13 314 234 275\n",
       "14 336 248 305\n",
       "15 322 290 307\n",
       "16 353 267 249\n",
       "17 389 226 256\n",
       "18 297 237 321\n",
       "19 328 281 195\n",
       "20 296 219 235\n",
       "21 291 310 338\n",
       "22 305 262 257\n",
       "23 320 260 255\n",
       "24 298 225 283\n",
       "25 260 230 282\n",
       "26 364 278 307\n",
       "27 343 273 297\n",
       "28 274 295 289\n",
       "29 338 189 296\n",
       "30 308 241 326\n",
       "31 333 286 317\n",
       "32 317 231 254\n",
       "33 325 209 211\n",
       "34 289 292 281\n",
       "35 308 227 293\n",
       "36 267 238 234\n",
       "37 343 321 249\n",
       "38 287 248 284\n",
       "39 272 276 295\n",
       "40 322 202 288\n",
       "41  NA  NA 346\n",
       "42  NA  NA 240"
      ]
     },
     "metadata": {},
     "output_type": "display_data"
    }
   ],
   "source": [
    "kysel <- readxl::read_excel(\"data/testy_vicevyberove.xlsx\", sheet = 1)\n",
    "colnames(kysel) <- c(\"sk1\", \"sk2\", \"sk3\") # přejmenování sloupců\n",
    "kysel\n"
   ]
  },
  {
   "cell_type": "code",
   "execution_count": 23,
   "id": "pleased-november",
   "metadata": {
    "scrolled": true,
    "vscode": {
     "languageId": "r"
    }
   },
   "outputs": [
    {
     "data": {
      "text/html": [
       "<table class=\"dataframe\">\n",
       "<caption>A data.frame: 6 × 2</caption>\n",
       "<thead>\n",
       "\t<tr><th></th><th scope=col>hodnoty</th><th scope=col>skupina</th></tr>\n",
       "\t<tr><th></th><th scope=col>&lt;dbl&gt;</th><th scope=col>&lt;fct&gt;</th></tr>\n",
       "</thead>\n",
       "<tbody>\n",
       "\t<tr><th scope=row>1</th><td>234</td><td>sk1</td></tr>\n",
       "\t<tr><th scope=row>2</th><td>306</td><td>sk1</td></tr>\n",
       "\t<tr><th scope=row>3</th><td>261</td><td>sk1</td></tr>\n",
       "\t<tr><th scope=row>4</th><td>255</td><td>sk1</td></tr>\n",
       "\t<tr><th scope=row>5</th><td>267</td><td>sk1</td></tr>\n",
       "\t<tr><th scope=row>6</th><td>304</td><td>sk1</td></tr>\n",
       "</tbody>\n",
       "</table>\n"
      ],
      "text/latex": [
       "A data.frame: 6 × 2\n",
       "\\begin{tabular}{r|ll}\n",
       "  & hodnoty & skupina\\\\\n",
       "  & <dbl> & <fct>\\\\\n",
       "\\hline\n",
       "\t1 & 234 & sk1\\\\\n",
       "\t2 & 306 & sk1\\\\\n",
       "\t3 & 261 & sk1\\\\\n",
       "\t4 & 255 & sk1\\\\\n",
       "\t5 & 267 & sk1\\\\\n",
       "\t6 & 304 & sk1\\\\\n",
       "\\end{tabular}\n"
      ],
      "text/markdown": [
       "\n",
       "A data.frame: 6 × 2\n",
       "\n",
       "| <!--/--> | hodnoty &lt;dbl&gt; | skupina &lt;fct&gt; |\n",
       "|---|---|---|\n",
       "| 1 | 234 | sk1 |\n",
       "| 2 | 306 | sk1 |\n",
       "| 3 | 261 | sk1 |\n",
       "| 4 | 255 | sk1 |\n",
       "| 5 | 267 | sk1 |\n",
       "| 6 | 304 | sk1 |\n",
       "\n"
      ],
      "text/plain": [
       "  hodnoty skupina\n",
       "1 234     sk1    \n",
       "2 306     sk1    \n",
       "3 261     sk1    \n",
       "4 255     sk1    \n",
       "5 267     sk1    \n",
       "6 304     sk1    "
      ]
     },
     "metadata": {},
     "output_type": "display_data"
    }
   ],
   "source": [
    "# převod do standardního datového formátu\n",
    "kysel.s <- stack(kysel)\n",
    "colnames(kysel.s) <- c(\"hodnoty\", \"skupina\")\n",
    "kysel.s <- na.omit(kysel.s)\n",
    "head(kysel.s)\n"
   ]
  },
  {
   "cell_type": "code",
   "execution_count": 24,
   "id": "million-temperature",
   "metadata": {
    "vscode": {
     "languageId": "r"
    }
   },
   "outputs": [
    {
     "data": {
      "image/png": "[encoded data removed]",
      "text/plain": [
       "plot without title"
      ]
     },
     "metadata": {
      "image/png": {
       "height": 420,
       "width": 420
      }
     },
     "output_type": "display_data"
    }
   ],
   "source": [
    "boxplot(kysel.s$hodnoty ~ kysel.s$skupina)\n",
    "# Data neobsahují odlehlá pozorování.\n"
   ]
  },
  {
   "cell_type": "code",
   "execution_count": 25,
   "id": "forward-trauma",
   "metadata": {
    "vscode": {
     "languageId": "r"
    }
   },
   "outputs": [
    {
     "data": {
      "text/html": [
       "<table class=\"dataframe\">\n",
       "<caption>A tibble: 3 × 6</caption>\n",
       "<thead>\n",
       "\t<tr><th scope=col>skupina</th><th scope=col>norm.pval</th><th scope=col>sym.pval</th><th scope=col>prumery</th><th scope=col>smer</th><th scope=col>med</th></tr>\n",
       "\t<tr><th scope=col>&lt;fct&gt;</th><th scope=col>&lt;dbl&gt;</th><th scope=col>&lt;dbl&gt;</th><th scope=col>&lt;dbl&gt;</th><th scope=col>&lt;dbl&gt;</th><th scope=col>&lt;dbl&gt;</th></tr>\n",
       "</thead>\n",
       "<tbody>\n",
       "\t<tr><td>sk1</td><td>0.9767689</td><td>0.7202273</td><td>304.0750</td><td>33.78468</td><td>305.5</td></tr>\n",
       "\t<tr><td>sk2</td><td>0.7705138</td><td>0.9207286</td><td>250.9250</td><td>34.02291</td><td>250.5</td></tr>\n",
       "\t<tr><td>sk3</td><td>0.5249177</td><td>0.1507440</td><td>277.1667</td><td>38.49036</td><td>283.5</td></tr>\n",
       "</tbody>\n",
       "</table>\n"
      ],
      "text/latex": [
       "A tibble: 3 × 6\n",
       "\\begin{tabular}{llllll}\n",
       " skupina & norm.pval & sym.pval & prumery & smer & med\\\\\n",
       " <fct> & <dbl> & <dbl> & <dbl> & <dbl> & <dbl>\\\\\n",
       "\\hline\n",
       "\t sk1 & 0.9767689 & 0.7202273 & 304.0750 & 33.78468 & 305.5\\\\\n",
       "\t sk2 & 0.7705138 & 0.9207286 & 250.9250 & 34.02291 & 250.5\\\\\n",
       "\t sk3 & 0.5249177 & 0.1507440 & 277.1667 & 38.49036 & 283.5\\\\\n",
       "\\end{tabular}\n"
      ],
      "text/markdown": [
       "\n",
       "A tibble: 3 × 6\n",
       "\n",
       "| skupina &lt;fct&gt; | norm.pval &lt;dbl&gt; | sym.pval &lt;dbl&gt; | prumery &lt;dbl&gt; | smer &lt;dbl&gt; | med &lt;dbl&gt; |\n",
       "|---|---|---|---|---|---|\n",
       "| sk1 | 0.9767689 | 0.7202273 | 304.0750 | 33.78468 | 305.5 |\n",
       "| sk2 | 0.7705138 | 0.9207286 | 250.9250 | 34.02291 | 250.5 |\n",
       "| sk3 | 0.5249177 | 0.1507440 | 277.1667 | 38.49036 | 283.5 |\n",
       "\n"
      ],
      "text/plain": [
       "  skupina norm.pval sym.pval  prumery  smer     med  \n",
       "1 sk1     0.9767689 0.7202273 304.0750 33.78468 305.5\n",
       "2 sk2     0.7705138 0.9207286 250.9250 34.02291 250.5\n",
       "3 sk3     0.5249177 0.1507440 277.1667 38.49036 283.5"
      ]
     },
     "metadata": {},
     "output_type": "display_data"
    }
   ],
   "source": [
    "# otestujeme normalitu pomocí S.-W. testu\n",
    "library(dplyr)\n",
    "\n",
    "kysel.s %>%\n",
    "    group_by(skupina) %>%\n",
    "    summarise(norm.pval = shapiro.test(hodnoty)$p.value, sym.pval = lawstat::symmetry.test(hodnoty, boot = FALSE)$p.value,\n",
    "    prumery = mean(hodnoty), smer = sd(hodnoty), med = median(hodnoty)\n",
    "    \n",
    "    \n",
    "    )\n",
    "\n"
   ]
  },
  {
   "cell_type": "code",
   "execution_count": 26,
   "id": "fresh-wisdom",
   "metadata": {
    "vscode": {
     "languageId": "r"
    }
   },
   "outputs": [
    {
     "data": {
      "text/html": [
       "<table class=\"dataframe\">\n",
       "<caption>A tibble: 3 × 3</caption>\n",
       "<thead>\n",
       "\t<tr><th scope=col>skupina</th><th scope=col>len</th><th scope=col>st.dev</th></tr>\n",
       "\t<tr><th scope=col>&lt;fct&gt;</th><th scope=col>&lt;int&gt;</th><th scope=col>&lt;dbl&gt;</th></tr>\n",
       "</thead>\n",
       "<tbody>\n",
       "\t<tr><td>sk1</td><td>40</td><td>33.78468</td></tr>\n",
       "\t<tr><td>sk2</td><td>40</td><td>34.02291</td></tr>\n",
       "\t<tr><td>sk3</td><td>42</td><td>38.49036</td></tr>\n",
       "</tbody>\n",
       "</table>\n"
      ],
      "text/latex": [
       "A tibble: 3 × 3\n",
       "\\begin{tabular}{lll}\n",
       " skupina & len & st.dev\\\\\n",
       " <fct> & <int> & <dbl>\\\\\n",
       "\\hline\n",
       "\t sk1 & 40 & 33.78468\\\\\n",
       "\t sk2 & 40 & 34.02291\\\\\n",
       "\t sk3 & 42 & 38.49036\\\\\n",
       "\\end{tabular}\n"
      ],
      "text/markdown": [
       "\n",
       "A tibble: 3 × 3\n",
       "\n",
       "| skupina &lt;fct&gt; | len &lt;int&gt; | st.dev &lt;dbl&gt; |\n",
       "|---|---|---|\n",
       "| sk1 | 40 | 33.78468 |\n",
       "| sk2 | 40 | 34.02291 |\n",
       "| sk3 | 42 | 38.49036 |\n",
       "\n"
      ],
      "text/plain": [
       "  skupina len st.dev  \n",
       "1 sk1     40  33.78468\n",
       "2 sk2     40  34.02291\n",
       "3 sk3     42  38.49036"
      ]
     },
     "metadata": {},
     "output_type": "display_data"
    }
   ],
   "source": [
    "# Informace potřebné pro nastavení zaokrouhlování\n",
    "\n",
    "kysel.s %>%\n",
    "    group_by(skupina) %>%\n",
    "    summarise(len = length(hodnoty), st.dev = sd(hodnoty))\n",
    "\n",
    "# sd zaokrouhlujeme na 3 platné cifry\n",
    "# sd a míry polohy zaokrouhlujeme na desetiny\n"
   ]
  },
  {
   "cell_type": "code",
   "execution_count": 27,
   "id": "functional-browser",
   "metadata": {
    "vscode": {
     "languageId": "r"
    }
   },
   "outputs": [
    {
     "data": {
      "text/html": [
       "<table class=\"dataframe\">\n",
       "<caption>A tibble: 3 × 2</caption>\n",
       "<thead>\n",
       "\t<tr><th scope=col>skupina</th><th scope=col>var</th></tr>\n",
       "\t<tr><th scope=col>&lt;fct&gt;</th><th scope=col>&lt;dbl&gt;</th></tr>\n",
       "</thead>\n",
       "<tbody>\n",
       "\t<tr><td>sk1</td><td>1141.404</td></tr>\n",
       "\t<tr><td>sk2</td><td>1157.558</td></tr>\n",
       "\t<tr><td>sk3</td><td>1481.508</td></tr>\n",
       "</tbody>\n",
       "</table>\n"
      ],
      "text/latex": [
       "A tibble: 3 × 2\n",
       "\\begin{tabular}{ll}\n",
       " skupina & var\\\\\n",
       " <fct> & <dbl>\\\\\n",
       "\\hline\n",
       "\t sk1 & 1141.404\\\\\n",
       "\t sk2 & 1157.558\\\\\n",
       "\t sk3 & 1481.508\\\\\n",
       "\\end{tabular}\n"
      ],
      "text/markdown": [
       "\n",
       "A tibble: 3 × 2\n",
       "\n",
       "| skupina &lt;fct&gt; | var &lt;dbl&gt; |\n",
       "|---|---|\n",
       "| sk1 | 1141.404 |\n",
       "| sk2 | 1157.558 |\n",
       "| sk3 | 1481.508 |\n",
       "\n"
      ],
      "text/plain": [
       "  skupina var     \n",
       "1 sk1     1141.404\n",
       "2 sk2     1157.558\n",
       "3 sk3     1481.508"
      ]
     },
     "metadata": {},
     "output_type": "display_data"
    },
    {
     "data": {
      "text/html": [
       "1.29796942864859"
      ],
      "text/latex": [
       "1.29796942864859"
      ],
      "text/markdown": [
       "1.29796942864859"
      ],
      "text/plain": [
       "[1] 1.297969"
      ]
     },
     "metadata": {},
     "output_type": "display_data"
    }
   ],
   "source": [
    "# Ověření shody rozptylů\n",
    "s2 <- kysel.s %>%\n",
    "        group_by(skupina) %>%\n",
    "        summarise(var = sd(hodnoty)^2)\n",
    "s2 # výběrové rozptyly\n",
    "\n",
    "max(s2$var) / min(s2$var)\n",
    "# Dle krabicového grafu a informace o poměru největšího a nejmenšího\n",
    "# rozptylů (<2) nepředpokládáme, že se rozptyly statisticky významně liší\n"
   ]
  },
  {
   "cell_type": "code",
   "execution_count": 28,
   "id": "express-rabbit",
   "metadata": {
    "vscode": {
     "languageId": "r"
    }
   },
   "outputs": [
    {
     "data": {
      "text/plain": [
       "\n",
       "\tBartlett test of homogeneity of variances\n",
       "\n",
       "data:  kysel.s$hodnoty by kysel.s$skupina\n",
       "Bartlett's K-squared = 0.87826, df = 2, p-value = 0.6446\n"
      ]
     },
     "metadata": {},
     "output_type": "display_data"
    }
   ],
   "source": [
    "# Předpoklad normality nebyl zamítnut -> Bartlettův test\n",
    "bartlett.test(kysel.s$hodnoty ~ kysel.s$skupina)\n",
    "\n",
    "# Na hladině významnosti 0,05 nelze zamítnout předpoklad o shodě rozptylů\n",
    "# (Bartlettův test, x_OBS = 0,878, df = 2, p-hodnota = 0,645).\n"
   ]
  },
  {
   "cell_type": "code",
   "execution_count": 29,
   "id": "collect-navigator",
   "metadata": {
    "vscode": {
     "languageId": "r"
    }
   },
   "outputs": [
    {
     "data": {
      "text/plain": [
       "                 Df Sum Sq Mean Sq F value   Pr(>F)    \n",
       "kysel.s$skupina   2  56502   28251   22.35 5.73e-09 ***\n",
       "Residuals       119 150401    1264                     \n",
       "---\n",
       "Signif. codes:  0 ‘***’ 0.001 ‘**’ 0.01 ‘*’ 0.05 ‘.’ 0.1 ‘ ’ 1"
      ]
     },
     "metadata": {},
     "output_type": "display_data"
    }
   ],
   "source": [
    "# Chceme srovnávat stř. hodnoty nezávislých výběrů z normálních rozdělení\n",
    "# se stejnými rozptyly -> ANOVA\n",
    "# příkaz aov() vyžaduje data ve standardním datovém formátu\n",
    "\n",
    "vysledky <- aov(kysel.s$hodnoty ~ kysel.s$skupina)\n",
    "summary(vysledky)\n",
    "\n",
    "# Na hladině významnosti 0,05 zamítáme hypotézu o shodě středních hodnot\n",
    "# (ANOVA, p-hodnota<<0,001) -> mnohonásobné porovnávání\n"
   ]
  },
  {
   "cell_type": "code",
   "execution_count": 30,
   "id": "consecutive-authority",
   "metadata": {
    "vscode": {
     "languageId": "r"
    }
   },
   "outputs": [
    {
     "data": {
      "text/plain": [
       "  Tukey multiple comparisons of means\n",
       "    95% family-wise confidence level\n",
       "\n",
       "Fit: aov(formula = kysel.s$hodnoty ~ kysel.s$skupina)\n",
       "\n",
       "$`kysel.s$skupina`\n",
       "             diff        lwr       upr     p adj\n",
       "sk2-sk1 -53.15000 -72.017226 -34.28277 0.0000000\n",
       "sk3-sk1 -26.90833 -45.549597  -8.26707 0.0024094\n",
       "sk3-sk2  26.24167   7.600403  44.88293 0.0031788\n"
      ]
     },
     "metadata": {},
     "output_type": "display_data"
    }
   ],
   "source": [
    "# post-hoc analýza\n",
    "TukeyHSD(vysledky)\n"
   ]
  },
  {
   "cell_type": "code",
   "execution_count": 31,
   "id": "abstract-quebec",
   "metadata": {
    "vscode": {
     "languageId": "r"
    }
   },
   "outputs": [
    {
     "data": {
      "text/html": [
       "277.385245901639"
      ],
      "text/latex": [
       "277.385245901639"
      ],
      "text/markdown": [
       "277.385245901639"
      ],
      "text/plain": [
       "[1] 277.3852"
      ]
     },
     "metadata": {},
     "output_type": "display_data"
    },
    {
     "data": {
      "text/html": [
       "<table class=\"dataframe\">\n",
       "<caption>A tibble: 3 × 3</caption>\n",
       "<thead>\n",
       "\t<tr><th scope=col>skupina</th><th scope=col>mean_skup</th><th scope=col>efekt</th></tr>\n",
       "\t<tr><th scope=col>&lt;fct&gt;</th><th scope=col>&lt;dbl&gt;</th><th scope=col>&lt;dbl&gt;</th></tr>\n",
       "</thead>\n",
       "<tbody>\n",
       "\t<tr><td>sk1</td><td>304.0750</td><td> 26.6897541</td></tr>\n",
       "\t<tr><td>sk3</td><td>277.1667</td><td> -0.2185792</td></tr>\n",
       "\t<tr><td>sk2</td><td>250.9250</td><td>-26.4602459</td></tr>\n",
       "</tbody>\n",
       "</table>\n"
      ],
      "text/latex": [
       "A tibble: 3 × 3\n",
       "\\begin{tabular}{lll}\n",
       " skupina & mean\\_skup & efekt\\\\\n",
       " <fct> & <dbl> & <dbl>\\\\\n",
       "\\hline\n",
       "\t sk1 & 304.0750 &  26.6897541\\\\\n",
       "\t sk3 & 277.1667 &  -0.2185792\\\\\n",
       "\t sk2 & 250.9250 & -26.4602459\\\\\n",
       "\\end{tabular}\n"
      ],
      "text/markdown": [
       "\n",
       "A tibble: 3 × 3\n",
       "\n",
       "| skupina &lt;fct&gt; | mean_skup &lt;dbl&gt; | efekt &lt;dbl&gt; |\n",
       "|---|---|---|\n",
       "| sk1 | 304.0750 |  26.6897541 |\n",
       "| sk3 | 277.1667 |  -0.2185792 |\n",
       "| sk2 | 250.9250 | -26.4602459 |\n",
       "\n"
      ],
      "text/plain": [
       "  skupina mean_skup efekt      \n",
       "1 sk1     304.0750   26.6897541\n",
       "2 sk3     277.1667   -0.2185792\n",
       "3 sk2     250.9250  -26.4602459"
      ]
     },
     "metadata": {},
     "output_type": "display_data"
    }
   ],
   "source": [
    "# počítání efektů\n",
    "library(dplyr)\n",
    "\n",
    "# celkový průměr\n",
    "prumer_vsech <- mean(kysel.s$hodnoty)\n",
    "prumer_vsech\n",
    "\n",
    "# průměry ve skupinách\n",
    "efekty <- kysel.s %>%\n",
    "    group_by(skupina) %>%\n",
    "    summarize(mean_skup = mean(hodnoty))\n",
    "\n",
    "# efekty\n",
    "efekty$efekt <- efekty$mean_skup - prumer_vsech\n",
    "\n",
    "# vypsat setřízené\n",
    "efekty %>% arrange(desc(efekt))\n",
    "\n",
    "# Považujeme-li vysoký obsah kyseliny listové za pozitivní, pak statisticky\n",
    "# významně nejlepších výsledků dosáhli pacienti ze skupiny 1 (průměrný obsah\n",
    "# kys. listové o cca 27 jednotek vyšší než prům. obsah kys. listové v krvi\n",
    "# všech testovaných pacientů) a statisticky významně nejhorších výsledků\n",
    "# dosáhli pacienti ze skup. 2 (průměrný obsah kys. listové o cca 26 jednotek\n",
    "# nižší než průměrný obsah kys. listové v krvi všech testovaných pacientů).\n",
    "# Obsah kys. listové v krvi pacientů ze skupiny 3\n",
    "# odpovídá celkovému průměru. Všechny tři skupiny pacientů jsou navzájem dle\n",
    "# obsahu kys. listové v krvi statisticky významně odlišné.\n"
   ]
  },
  {
   "cell_type": "markdown",
   "id": "inner-marathon",
   "metadata": {},
   "source": [
    "## Příklad 3.\n",
    "Na farmě jsou chována tři plemena králíků. Byl proveden pokus kralici.xls, jehož cílem bylo zjistit, zda i když chováme a vykrmujeme všechny králíky po stejnou dobu a za stejných podmínek, existuje statisticky významný (průkazný) rozdíl mezi plemeny v hmotnostech králíků. Ověřte."
   ]
  },
  {
   "cell_type": "code",
   "execution_count": 32,
   "id": "jewish-exhibit",
   "metadata": {
    "scrolled": true,
    "vscode": {
     "languageId": "r"
    }
   },
   "outputs": [
    {
     "data": {
      "text/html": [
       "<table class=\"dataframe\">\n",
       "<caption>A tibble: 23 × 3</caption>\n",
       "<thead>\n",
       "\t<tr><th scope=col>viden</th><th scope=col>cesky</th><th scope=col>kalif</th></tr>\n",
       "\t<tr><th scope=col>&lt;dbl&gt;</th><th scope=col>&lt;dbl&gt;</th><th scope=col>&lt;dbl&gt;</th></tr>\n",
       "</thead>\n",
       "<tbody>\n",
       "\t<tr><td>4.125</td><td> 3.518</td><td>4.902</td></tr>\n",
       "\t<tr><td>3.923</td><td> 3.464</td><td>5.228</td></tr>\n",
       "\t<tr><td>4.046</td><td> 3.337</td><td>4.950</td></tr>\n",
       "\t<tr><td>4.247</td><td> 3.669</td><td>5.054</td></tr>\n",
       "\t<tr><td>3.869</td><td> 3.642</td><td>5.048</td></tr>\n",
       "\t<tr><td>4.094</td><td> 3.440</td><td>4.970</td></tr>\n",
       "\t<tr><td>4.080</td><td> 3.286</td><td>5.142</td></tr>\n",
       "\t<tr><td>4.156</td><td> 3.536</td><td>5.221</td></tr>\n",
       "\t<tr><td>3.948</td><td>38.100</td><td>4.903</td></tr>\n",
       "\t<tr><td>4.256</td><td> 3.141</td><td>5.013</td></tr>\n",
       "\t<tr><td>4.031</td><td> 3.622</td><td>5.153</td></tr>\n",
       "\t<tr><td>3.862</td><td> 3.631</td><td>4.891</td></tr>\n",
       "\t<tr><td>4.051</td><td> 3.424</td><td>4.631</td></tr>\n",
       "\t<tr><td>3.953</td><td> 3.640</td><td>4.825</td></tr>\n",
       "\t<tr><td>4.283</td><td> 3.406</td><td>5.180</td></tr>\n",
       "\t<tr><td>4.120</td><td> 3.415</td><td>4.927</td></tr>\n",
       "\t<tr><td>4.057</td><td> 3.423</td><td>4.606</td></tr>\n",
       "\t<tr><td>4.092</td><td> 3.392</td><td>5.213</td></tr>\n",
       "\t<tr><td>3.801</td><td> 3.582</td><td>   NA</td></tr>\n",
       "\t<tr><td>3.930</td><td> 3.474</td><td>   NA</td></tr>\n",
       "\t<tr><td>3.999</td><td> 3.576</td><td>   NA</td></tr>\n",
       "\t<tr><td>4.013</td><td> 3.595</td><td>   NA</td></tr>\n",
       "\t<tr><td>3.941</td><td> 3.276</td><td>   NA</td></tr>\n",
       "</tbody>\n",
       "</table>\n"
      ],
      "text/latex": [
       "A tibble: 23 × 3\n",
       "\\begin{tabular}{lll}\n",
       " viden & cesky & kalif\\\\\n",
       " <dbl> & <dbl> & <dbl>\\\\\n",
       "\\hline\n",
       "\t 4.125 &  3.518 & 4.902\\\\\n",
       "\t 3.923 &  3.464 & 5.228\\\\\n",
       "\t 4.046 &  3.337 & 4.950\\\\\n",
       "\t 4.247 &  3.669 & 5.054\\\\\n",
       "\t 3.869 &  3.642 & 5.048\\\\\n",
       "\t 4.094 &  3.440 & 4.970\\\\\n",
       "\t 4.080 &  3.286 & 5.142\\\\\n",
       "\t 4.156 &  3.536 & 5.221\\\\\n",
       "\t 3.948 & 38.100 & 4.903\\\\\n",
       "\t 4.256 &  3.141 & 5.013\\\\\n",
       "\t 4.031 &  3.622 & 5.153\\\\\n",
       "\t 3.862 &  3.631 & 4.891\\\\\n",
       "\t 4.051 &  3.424 & 4.631\\\\\n",
       "\t 3.953 &  3.640 & 4.825\\\\\n",
       "\t 4.283 &  3.406 & 5.180\\\\\n",
       "\t 4.120 &  3.415 & 4.927\\\\\n",
       "\t 4.057 &  3.423 & 4.606\\\\\n",
       "\t 4.092 &  3.392 & 5.213\\\\\n",
       "\t 3.801 &  3.582 &    NA\\\\\n",
       "\t 3.930 &  3.474 &    NA\\\\\n",
       "\t 3.999 &  3.576 &    NA\\\\\n",
       "\t 4.013 &  3.595 &    NA\\\\\n",
       "\t 3.941 &  3.276 &    NA\\\\\n",
       "\\end{tabular}\n"
      ],
      "text/markdown": [
       "\n",
       "A tibble: 23 × 3\n",
       "\n",
       "| viden &lt;dbl&gt; | cesky &lt;dbl&gt; | kalif &lt;dbl&gt; |\n",
       "|---|---|---|\n",
       "| 4.125 |  3.518 | 4.902 |\n",
       "| 3.923 |  3.464 | 5.228 |\n",
       "| 4.046 |  3.337 | 4.950 |\n",
       "| 4.247 |  3.669 | 5.054 |\n",
       "| 3.869 |  3.642 | 5.048 |\n",
       "| 4.094 |  3.440 | 4.970 |\n",
       "| 4.080 |  3.286 | 5.142 |\n",
       "| 4.156 |  3.536 | 5.221 |\n",
       "| 3.948 | 38.100 | 4.903 |\n",
       "| 4.256 |  3.141 | 5.013 |\n",
       "| 4.031 |  3.622 | 5.153 |\n",
       "| 3.862 |  3.631 | 4.891 |\n",
       "| 4.051 |  3.424 | 4.631 |\n",
       "| 3.953 |  3.640 | 4.825 |\n",
       "| 4.283 |  3.406 | 5.180 |\n",
       "| 4.120 |  3.415 | 4.927 |\n",
       "| 4.057 |  3.423 | 4.606 |\n",
       "| 4.092 |  3.392 | 5.213 |\n",
       "| 3.801 |  3.582 |    NA |\n",
       "| 3.930 |  3.474 |    NA |\n",
       "| 3.999 |  3.576 |    NA |\n",
       "| 4.013 |  3.595 |    NA |\n",
       "| 3.941 |  3.276 |    NA |\n",
       "\n"
      ],
      "text/plain": [
       "   viden cesky  kalif\n",
       "1  4.125  3.518 4.902\n",
       "2  3.923  3.464 5.228\n",
       "3  4.046  3.337 4.950\n",
       "4  4.247  3.669 5.054\n",
       "5  3.869  3.642 5.048\n",
       "6  4.094  3.440 4.970\n",
       "7  4.080  3.286 5.142\n",
       "8  4.156  3.536 5.221\n",
       "9  3.948 38.100 4.903\n",
       "10 4.256  3.141 5.013\n",
       "11 4.031  3.622 5.153\n",
       "12 3.862  3.631 4.891\n",
       "13 4.051  3.424 4.631\n",
       "14 3.953  3.640 4.825\n",
       "15 4.283  3.406 5.180\n",
       "16 4.120  3.415 4.927\n",
       "17 4.057  3.423 4.606\n",
       "18 4.092  3.392 5.213\n",
       "19 3.801  3.582    NA\n",
       "20 3.930  3.474    NA\n",
       "21 3.999  3.576    NA\n",
       "22 4.013  3.595    NA\n",
       "23 3.941  3.276    NA"
      ]
     },
     "metadata": {},
     "output_type": "display_data"
    }
   ],
   "source": [
    "kralici <- readxl::read_excel(\"data/testy_vicevyberove.xlsx\", sheet = 2)\n",
    "colnames(kralici) <- c(\"viden\", \"cesky\", \"kalif\") # přejmenování sloupců\n",
    "kralici\n"
   ]
  },
  {
   "cell_type": "code",
   "execution_count": 33,
   "id": "fatal-sister",
   "metadata": {
    "vscode": {
     "languageId": "r"
    }
   },
   "outputs": [
    {
     "data": {
      "text/html": [
       "<table class=\"dataframe\">\n",
       "<caption>A data.frame: 6 × 2</caption>\n",
       "<thead>\n",
       "\t<tr><th></th><th scope=col>hodnoty</th><th scope=col>skupina</th></tr>\n",
       "\t<tr><th></th><th scope=col>&lt;dbl&gt;</th><th scope=col>&lt;fct&gt;</th></tr>\n",
       "</thead>\n",
       "<tbody>\n",
       "\t<tr><th scope=row>1</th><td>4.125</td><td>viden</td></tr>\n",
       "\t<tr><th scope=row>2</th><td>3.923</td><td>viden</td></tr>\n",
       "\t<tr><th scope=row>3</th><td>4.046</td><td>viden</td></tr>\n",
       "\t<tr><th scope=row>4</th><td>4.247</td><td>viden</td></tr>\n",
       "\t<tr><th scope=row>5</th><td>3.869</td><td>viden</td></tr>\n",
       "\t<tr><th scope=row>6</th><td>4.094</td><td>viden</td></tr>\n",
       "</tbody>\n",
       "</table>\n"
      ],
      "text/latex": [
       "A data.frame: 6 × 2\n",
       "\\begin{tabular}{r|ll}\n",
       "  & hodnoty & skupina\\\\\n",
       "  & <dbl> & <fct>\\\\\n",
       "\\hline\n",
       "\t1 & 4.125 & viden\\\\\n",
       "\t2 & 3.923 & viden\\\\\n",
       "\t3 & 4.046 & viden\\\\\n",
       "\t4 & 4.247 & viden\\\\\n",
       "\t5 & 3.869 & viden\\\\\n",
       "\t6 & 4.094 & viden\\\\\n",
       "\\end{tabular}\n"
      ],
      "text/markdown": [
       "\n",
       "A data.frame: 6 × 2\n",
       "\n",
       "| <!--/--> | hodnoty &lt;dbl&gt; | skupina &lt;fct&gt; |\n",
       "|---|---|---|\n",
       "| 1 | 4.125 | viden |\n",
       "| 2 | 3.923 | viden |\n",
       "| 3 | 4.046 | viden |\n",
       "| 4 | 4.247 | viden |\n",
       "| 5 | 3.869 | viden |\n",
       "| 6 | 4.094 | viden |\n",
       "\n"
      ],
      "text/plain": [
       "  hodnoty skupina\n",
       "1 4.125   viden  \n",
       "2 3.923   viden  \n",
       "3 4.046   viden  \n",
       "4 4.247   viden  \n",
       "5 3.869   viden  \n",
       "6 4.094   viden  "
      ]
     },
     "metadata": {},
     "output_type": "display_data"
    }
   ],
   "source": [
    "# převod do standardního datového formátu\n",
    "kralici.s <- stack(kralici)\n",
    "colnames(kralici.s) <- c(\"hodnoty\", \"skupina\")\n",
    "kralici.s <- na.omit(kralici.s)\n",
    "head(kralici.s)\n"
   ]
  },
  {
   "cell_type": "code",
   "execution_count": 34,
   "id": "about-gnome",
   "metadata": {
    "vscode": {
     "languageId": "r"
    }
   },
   "outputs": [
    {
     "data": {
      "image/png": "[encoded data removed]",
      "text/plain": [
       "plot without title"
      ]
     },
     "metadata": {
      "image/png": {
       "height": 420,
       "width": 420
      }
     },
     "output_type": "display_data"
    }
   ],
   "source": [
    "boxplot(kralici.s$hodnoty ~ kralici.s$skupina)\n",
    "# data obsahojí OP\n"
   ]
  },
  {
   "cell_type": "code",
   "execution_count": 36,
   "id": "43f98b87",
   "metadata": {
    "vscode": {
     "languageId": "r"
    }
   },
   "outputs": [
    {
     "data": {
      "image/png": "[encoded data removed]",
      "text/plain": [
       "plot without title"
      ]
     },
     "metadata": {
      "image/png": {
       "height": 420,
       "width": 420
      }
     },
     "output_type": "display_data"
    }
   ],
   "source": [
    "# Odstranění odlehlého pozorování\n",
    "kralici.s$id <- seq_along(kralici.s$hodnoty)\n",
    "outliers <- kralici.s %>% group_by(skupina) %>% rstatix::identify_outliers(hodnoty)\n",
    "kralici.s <- kralici.s %>% mutate(hodnoty.bez = ifelse(id %in% outliers$id, NaN, hodnoty))\n",
    "\n",
    "boxplot(kralici.s$hodnoty.bez ~ kralici.s$skupina)"
   ]
  },
  {
   "cell_type": "code",
   "execution_count": 34,
   "id": "35e80f4d",
   "metadata": {
    "vscode": {
     "languageId": "r"
    }
   },
   "outputs": [
    {
     "data": {
      "text/html": [
       "<table class=\"dataframe\">\n",
       "<caption>A tibble: 1 × 5</caption>\n",
       "<thead>\n",
       "\t<tr><th scope=col>skupina</th><th scope=col>hodnoty</th><th scope=col>id</th><th scope=col>is.outlier</th><th scope=col>is.extreme</th></tr>\n",
       "\t<tr><th scope=col>&lt;fct&gt;</th><th scope=col>&lt;dbl&gt;</th><th scope=col>&lt;int&gt;</th><th scope=col>&lt;lgl&gt;</th><th scope=col>&lt;lgl&gt;</th></tr>\n",
       "</thead>\n",
       "<tbody>\n",
       "\t<tr><td>cesky</td><td>38.1</td><td>32</td><td>TRUE</td><td>TRUE</td></tr>\n",
       "</tbody>\n",
       "</table>\n"
      ],
      "text/latex": [
       "A tibble: 1 × 5\n",
       "\\begin{tabular}{lllll}\n",
       " skupina & hodnoty & id & is.outlier & is.extreme\\\\\n",
       " <fct> & <dbl> & <int> & <lgl> & <lgl>\\\\\n",
       "\\hline\n",
       "\t cesky & 38.1 & 32 & TRUE & TRUE\\\\\n",
       "\\end{tabular}\n"
      ],
      "text/markdown": [
       "\n",
       "A tibble: 1 × 5\n",
       "\n",
       "| skupina &lt;fct&gt; | hodnoty &lt;dbl&gt; | id &lt;int&gt; | is.outlier &lt;lgl&gt; | is.extreme &lt;lgl&gt; |\n",
       "|---|---|---|---|---|\n",
       "| cesky | 38.1 | 32 | TRUE | TRUE |\n",
       "\n"
      ],
      "text/plain": [
       "  skupina hodnoty id is.outlier is.extreme\n",
       "1 cesky   38.1    32 TRUE       TRUE      "
      ]
     },
     "metadata": {},
     "output_type": "display_data"
    },
    {
     "data": {
      "image/png": "[encoded data removed]",
      "text/plain": [
       "plot without title"
      ]
     },
     "metadata": {
      "image/png": {
       "height": 420,
       "width": 420
      }
     },
     "output_type": "display_data"
    }
   ],
   "source": [
    "# Odstranění odlehlého pozorování\n",
    "kralici.s$id <- seq_along(kralici.s$hodnoty)\n",
    "\n",
    "outliers <- kralici.s %>%\n",
    "    group_by(skupina) %>%\n",
    "    rstatix::identify_outliers(hodnoty)\n",
    "outliers\n",
    "kralici.s$hodnoty.bez <- ifelse(kralici.s$id %in% outliers$id, NaN, kralici.s$hodnoty)\n",
    "boxplot(kralici.s$hodnoty.bez ~ kralici.s$skupina)"
   ]
  },
  {
   "cell_type": "code",
   "execution_count": null,
   "id": "59312dec",
   "metadata": {
    "vscode": {
     "languageId": "r"
    }
   },
   "outputs": [
    {
     "data": {
      "text/html": [
       "<table class=\"dataframe\">\n",
       "<caption>A tibble: 1 × 5</caption>\n",
       "<thead>\n",
       "\t<tr><th scope=col>skupina</th><th scope=col>hodnoty</th><th scope=col>id</th><th scope=col>is.outlier</th><th scope=col>is.extreme</th></tr>\n",
       "\t<tr><th scope=col>&lt;fct&gt;</th><th scope=col>&lt;dbl&gt;</th><th scope=col>&lt;int&gt;</th><th scope=col>&lt;lgl&gt;</th><th scope=col>&lt;lgl&gt;</th></tr>\n",
       "</thead>\n",
       "<tbody>\n",
       "\t<tr><td>cesky</td><td>38.1</td><td>32</td><td>TRUE</td><td>TRUE</td></tr>\n",
       "</tbody>\n",
       "</table>\n"
      ],
      "text/latex": [
       "A tibble: 1 × 5\n",
       "\\begin{tabular}{lllll}\n",
       " skupina & hodnoty & id & is.outlier & is.extreme\\\\\n",
       " <fct> & <dbl> & <int> & <lgl> & <lgl>\\\\\n",
       "\\hline\n",
       "\t cesky & 38.1 & 32 & TRUE & TRUE\\\\\n",
       "\\end{tabular}\n"
      ],
      "text/markdown": [
       "\n",
       "A tibble: 1 × 5\n",
       "\n",
       "| skupina &lt;fct&gt; | hodnoty &lt;dbl&gt; | id &lt;int&gt; | is.outlier &lt;lgl&gt; | is.extreme &lt;lgl&gt; |\n",
       "|---|---|---|---|---|\n",
       "| cesky | 38.1 | 32 | TRUE | TRUE |\n",
       "\n"
      ],
      "text/plain": [
       "  skupina hodnoty id is.outlier is.extreme\n",
       "1 cesky   38.1    32 TRUE       TRUE      "
      ]
     },
     "metadata": {},
     "output_type": "display_data"
    },
    {
     "data": {
      "image/png": "[encoded data removed]",
      "text/plain": [
       "plot without title"
      ]
     },
     "metadata": {},
     "output_type": "display_data"
    }
   ],
   "source": [
    "dataset$id <- seq_along(dataset$hodnoty)\n",
    "outliers <- dataset %>% group_by(skupina) %>% rstatix::identify_outliers(hodnoty)\n",
    "dataset <- dataset %>% mutate(hodnoty.bez = ifelse(id %in% outliers$id, NaN, hodnoty))\n",
    "boxplot(dataset$hodnoty.bez ~ dataset$skupina)"
   ]
  },
  {
   "cell_type": "code",
   "execution_count": 36,
   "id": "increased-daughter",
   "metadata": {
    "vscode": {
     "languageId": "r"
    }
   },
   "outputs": [
    {
     "data": {
      "text/html": [
       "<table class=\"dataframe\">\n",
       "<caption>A tibble: 3 × 2</caption>\n",
       "<thead>\n",
       "\t<tr><th scope=col>skupina</th><th scope=col>norm.pval</th></tr>\n",
       "\t<tr><th scope=col>&lt;fct&gt;</th><th scope=col>&lt;dbl&gt;</th></tr>\n",
       "</thead>\n",
       "<tbody>\n",
       "\t<tr><td>viden</td><td>0.8247350</td></tr>\n",
       "\t<tr><td>cesky</td><td>0.2775194</td></tr>\n",
       "\t<tr><td>kalif</td><td>0.1685629</td></tr>\n",
       "</tbody>\n",
       "</table>\n"
      ],
      "text/latex": [
       "A tibble: 3 × 2\n",
       "\\begin{tabular}{ll}\n",
       " skupina & norm.pval\\\\\n",
       " <fct> & <dbl>\\\\\n",
       "\\hline\n",
       "\t viden & 0.8247350\\\\\n",
       "\t cesky & 0.2775194\\\\\n",
       "\t kalif & 0.1685629\\\\\n",
       "\\end{tabular}\n"
      ],
      "text/markdown": [
       "\n",
       "A tibble: 3 × 2\n",
       "\n",
       "| skupina &lt;fct&gt; | norm.pval &lt;dbl&gt; |\n",
       "|---|---|\n",
       "| viden | 0.8247350 |\n",
       "| cesky | 0.2775194 |\n",
       "| kalif | 0.1685629 |\n",
       "\n"
      ],
      "text/plain": [
       "  skupina norm.pval\n",
       "1 viden   0.8247350\n",
       "2 cesky   0.2775194\n",
       "3 kalif   0.1685629"
      ]
     },
     "metadata": {},
     "output_type": "display_data"
    }
   ],
   "source": [
    "library(dplyr)\n",
    "\n",
    "kralici.s %>%\n",
    "    group_by(skupina) %>%\n",
    "    summarise(norm.pval = shapiro.test(hodnoty.bez)$p.value)\n",
    "\n",
    "# Na hladině významnosti 0,05 nezamítáme předpoklad normality.\n"
   ]
  },
  {
   "cell_type": "code",
   "execution_count": 35,
   "id": "norman-transmission",
   "metadata": {
    "vscode": {
     "languageId": "r"
    }
   },
   "outputs": [
    {
     "data": {
      "text/html": [
       "<table class=\"dataframe\">\n",
       "<caption>A tibble: 3 × 3</caption>\n",
       "<thead>\n",
       "\t<tr><th scope=col>skupina</th><th scope=col>len</th><th scope=col>sd</th></tr>\n",
       "\t<tr><th scope=col>&lt;fct&gt;</th><th scope=col>&lt;int&gt;</th><th scope=col>&lt;dbl&gt;</th></tr>\n",
       "</thead>\n",
       "<tbody>\n",
       "\t<tr><td>viden</td><td>23</td><td>0.1270971</td></tr>\n",
       "\t<tr><td>cesky</td><td>22</td><td>0.1393983</td></tr>\n",
       "\t<tr><td>kalif</td><td>18</td><td>0.1859894</td></tr>\n",
       "</tbody>\n",
       "</table>\n"
      ],
      "text/latex": [
       "A tibble: 3 × 3\n",
       "\\begin{tabular}{lll}\n",
       " skupina & len & sd\\\\\n",
       " <fct> & <int> & <dbl>\\\\\n",
       "\\hline\n",
       "\t viden & 23 & 0.1270971\\\\\n",
       "\t cesky & 22 & 0.1393983\\\\\n",
       "\t kalif & 18 & 0.1859894\\\\\n",
       "\\end{tabular}\n"
      ],
      "text/markdown": [
       "\n",
       "A tibble: 3 × 3\n",
       "\n",
       "| skupina &lt;fct&gt; | len &lt;int&gt; | sd &lt;dbl&gt; |\n",
       "|---|---|---|\n",
       "| viden | 23 | 0.1270971 |\n",
       "| cesky | 22 | 0.1393983 |\n",
       "| kalif | 18 | 0.1859894 |\n",
       "\n"
      ],
      "text/plain": [
       "  skupina len sd       \n",
       "1 viden   23  0.1270971\n",
       "2 cesky   22  0.1393983\n",
       "3 kalif   18  0.1859894"
      ]
     },
     "metadata": {},
     "output_type": "display_data"
    }
   ],
   "source": [
    "# Informace potřebné pro nastavení zaokrouhlování\n",
    "kralici.s %>%\n",
    "    group_by(skupina) %>%\n",
    "    summarize(\n",
    "        len = sum(!is.nan(hodnoty.bez)),\n",
    "        sd = sd(hodnoty.bez, na.rm = TRUE)\n",
    "    )\n",
    "\n",
    "# sd zaokrouhlujeme na 2 platné cifry\n",
    "# sd a míry polohy zaok. na setiny (sjednocení napříč druhy králíků)\n"
   ]
  },
  {
   "cell_type": "code",
   "execution_count": null,
   "id": "painful-cream",
   "metadata": {
    "vscode": {
     "languageId": "r"
    }
   },
   "outputs": [],
   "source": [
    "# Ověření shody rozptylů\n",
    "s2 <- kralici.s %>%\n",
    "        group_by(skupina) %>%\n",
    "        summarize(var = sd(hodnoty.bez, na.rm = TRUE)^2)\n",
    "s2\n",
    "\n",
    "max(s2$var) / min(s2$var)\n",
    "# Dle krabicového grafu a informace o poměru největšího a nejmenšího rozpt.\n",
    "# (blízký 2, avšak rozsah výběrů < 30) je těžší odhadnout, zda lze\n",
    "# předpokládat shodu rozptylů. Rozhodnout nám pomůže test.\n"
   ]
  },
  {
   "cell_type": "code",
   "execution_count": 37,
   "id": "eastern-harvest",
   "metadata": {
    "vscode": {
     "languageId": "r"
    }
   },
   "outputs": [
    {
     "data": {
      "text/plain": [
       "\n",
       "\tBartlett test of homogeneity of variances\n",
       "\n",
       "data:  kralici.s$hodnoty.bez by kralici.s$skupina\n",
       "Bartlett's K-squared = 3.0553, df = 2, p-value = 0.217\n"
      ]
     },
     "metadata": {},
     "output_type": "display_data"
    }
   ],
   "source": [
    "# Předpoklad normality nebyl zamítnut -> Bartlettův test\n",
    "bartlett.test(kralici.s$hodnoty.bez ~ kralici.s$skupina)\n",
    "\n",
    "# Na hladině významnosti 0,05 nelze zamítnout předpoklad o shodě rozptylů\n",
    "# (Bartlettův test, x_OBS = 3,1, df = 2, p-hodnota = 0,217).\n"
   ]
  },
  {
   "cell_type": "code",
   "execution_count": 38,
   "id": "dried-parker",
   "metadata": {
    "vscode": {
     "languageId": "r"
    }
   },
   "outputs": [
    {
     "data": {
      "text/plain": [
       "                  Df Sum Sq Mean Sq F value Pr(>F)    \n",
       "kralici.s$skupina  2 22.943  11.472   509.3 <2e-16 ***\n",
       "Residuals         60  1.352   0.023                   \n",
       "---\n",
       "Signif. codes:  0 ‘***’ 0.001 ‘**’ 0.01 ‘*’ 0.05 ‘.’ 0.1 ‘ ’ 1\n",
       "1 observation deleted due to missingness"
      ]
     },
     "metadata": {},
     "output_type": "display_data"
    }
   ],
   "source": [
    "# Chceme srovnávat stř. hodnoty nezávislých výběrů z normálních\n",
    "# rozdělení se stejnými rozptyly -> ANOVA\n",
    "# příkaz aov() vyžaduje data ve standardním datovém formátu\n",
    "\n",
    "vysledky <- aov(kralici.s$hodnoty.bez ~ kralici.s$skupina)\n",
    "summary(vysledky)\n",
    "\n",
    "# Na hladině významnosti 0,05 zamítáme hypotézu o shodě středních hodnot\n",
    "# (p-hodnota<<0,001, ANOVA) -> mnohonásobné porovnávání\n"
   ]
  },
  {
   "cell_type": "code",
   "execution_count": 40,
   "id": "valid-darkness",
   "metadata": {
    "vscode": {
     "languageId": "r"
    }
   },
   "outputs": [
    {
     "data": {
      "text/plain": [
       "  Tukey multiple comparisons of means\n",
       "    95% family-wise confidence level\n",
       "\n",
       "Fit: aov(formula = kralici.s$hodnoty.bez ~ kralici.s$skupina)\n",
       "\n",
       "$`kralici.s$skupina`\n",
       "                  diff        lwr        upr p adj\n",
       "cesky-viden -0.5613577 -0.6689197 -0.4537957     0\n",
       "kalif-viden  0.9539251  0.8404189  1.0674313     0\n",
       "kalif-cesky  1.5152828  1.4006497  1.6299160     0\n"
      ]
     },
     "metadata": {},
     "output_type": "display_data"
    }
   ],
   "source": [
    "# post-hoc analýza\n",
    "TukeyHSD(vysledky)\n"
   ]
  },
  {
   "cell_type": "code",
   "execution_count": 39,
   "id": "nutritional-hamilton",
   "metadata": {
    "vscode": {
     "languageId": "r"
    }
   },
   "outputs": [
    {
     "data": {
      "text/html": [
       "4.11465079365079"
      ],
      "text/latex": [
       "4.11465079365079"
      ],
      "text/markdown": [
       "4.11465079365079"
      ],
      "text/plain": [
       "[1] 4.114651"
      ]
     },
     "metadata": {},
     "output_type": "display_data"
    },
    {
     "data": {
      "text/html": [
       "<table class=\"dataframe\">\n",
       "<caption>A tibble: 3 × 3</caption>\n",
       "<thead>\n",
       "\t<tr><th scope=col>skupina</th><th scope=col>mean_skup</th><th scope=col>efekt</th></tr>\n",
       "\t<tr><th scope=col>&lt;fct&gt;</th><th scope=col>&lt;dbl&gt;</th><th scope=col>&lt;dbl&gt;</th></tr>\n",
       "</thead>\n",
       "<tbody>\n",
       "\t<tr><td>kalif</td><td>4.992056</td><td> 0.87740476</td></tr>\n",
       "\t<tr><td>viden</td><td>4.038130</td><td>-0.07652036</td></tr>\n",
       "\t<tr><td>cesky</td><td>3.476773</td><td>-0.63787807</td></tr>\n",
       "</tbody>\n",
       "</table>\n"
      ],
      "text/latex": [
       "A tibble: 3 × 3\n",
       "\\begin{tabular}{lll}\n",
       " skupina & mean\\_skup & efekt\\\\\n",
       " <fct> & <dbl> & <dbl>\\\\\n",
       "\\hline\n",
       "\t kalif & 4.992056 &  0.87740476\\\\\n",
       "\t viden & 4.038130 & -0.07652036\\\\\n",
       "\t cesky & 3.476773 & -0.63787807\\\\\n",
       "\\end{tabular}\n"
      ],
      "text/markdown": [
       "\n",
       "A tibble: 3 × 3\n",
       "\n",
       "| skupina &lt;fct&gt; | mean_skup &lt;dbl&gt; | efekt &lt;dbl&gt; |\n",
       "|---|---|---|\n",
       "| kalif | 4.992056 |  0.87740476 |\n",
       "| viden | 4.038130 | -0.07652036 |\n",
       "| cesky | 3.476773 | -0.63787807 |\n",
       "\n"
      ],
      "text/plain": [
       "  skupina mean_skup efekt      \n",
       "1 kalif   4.992056   0.87740476\n",
       "2 viden   4.038130  -0.07652036\n",
       "3 cesky   3.476773  -0.63787807"
      ]
     },
     "metadata": {},
     "output_type": "display_data"
    }
   ],
   "source": [
    "# počítání efektů\n",
    "library(dplyr)\n",
    "\n",
    "# celkový průměr\n",
    "prumer_vsech <- mean(kralici.s$hodnoty.bez, na.rm = TRUE)\n",
    "prumer_vsech\n",
    "\n",
    "# průměry ve skupinách\n",
    "efekty <- kralici.s %>%\n",
    "    group_by(skupina) %>%\n",
    "    summarize(mean_skup = mean(hodnoty.bez, na.rm = TRUE))\n",
    "\n",
    "# efekty\n",
    "efekty$efekt <- efekty$mean_skup - prumer_vsech\n",
    "\n",
    "# vypsat setřízené\n",
    "efekty %>% arrange(desc(efekt))\n"
   ]
  },
  {
   "cell_type": "markdown",
   "id": "tough-lemon",
   "metadata": {},
   "source": [
    "## Příklad 4.\n",
    "Soutěž o nejlepší jakost výrobků obeslali čtyři výrobci A, B, C, D celkem 66 výrobky. Porota sestavila pořadí (uvedeno pouze pořadí výrobku od nejlepšího k nejhoršímu), jež je uvedené v souboru jakost.xls. Na základě uvedených údajů posuďte, zda původ výrobků má vliv na jeho jakost."
   ]
  },
  {
   "cell_type": "code",
   "execution_count": 41,
   "id": "continuous-water",
   "metadata": {
    "vscode": {
     "languageId": "r"
    }
   },
   "outputs": [
    {
     "data": {
      "text/html": [
       "<table class=\"dataframe\">\n",
       "<caption>A tibble: 6 × 2</caption>\n",
       "<thead>\n",
       "\t<tr><th scope=col>poradi</th><th scope=col>skupina</th></tr>\n",
       "\t<tr><th scope=col>&lt;dbl&gt;</th><th scope=col>&lt;chr&gt;</th></tr>\n",
       "</thead>\n",
       "<tbody>\n",
       "\t<tr><td>1</td><td>B</td></tr>\n",
       "\t<tr><td>2</td><td>D</td></tr>\n",
       "\t<tr><td>3</td><td>B</td></tr>\n",
       "\t<tr><td>4</td><td>B</td></tr>\n",
       "\t<tr><td>5</td><td>C</td></tr>\n",
       "\t<tr><td>6</td><td>B</td></tr>\n",
       "</tbody>\n",
       "</table>\n"
      ],
      "text/latex": [
       "A tibble: 6 × 2\n",
       "\\begin{tabular}{ll}\n",
       " poradi & skupina\\\\\n",
       " <dbl> & <chr>\\\\\n",
       "\\hline\n",
       "\t 1 & B\\\\\n",
       "\t 2 & D\\\\\n",
       "\t 3 & B\\\\\n",
       "\t 4 & B\\\\\n",
       "\t 5 & C\\\\\n",
       "\t 6 & B\\\\\n",
       "\\end{tabular}\n"
      ],
      "text/markdown": [
       "\n",
       "A tibble: 6 × 2\n",
       "\n",
       "| poradi &lt;dbl&gt; | skupina &lt;chr&gt; |\n",
       "|---|---|\n",
       "| 1 | B |\n",
       "| 2 | D |\n",
       "| 3 | B |\n",
       "| 4 | B |\n",
       "| 5 | C |\n",
       "| 6 | B |\n",
       "\n"
      ],
      "text/plain": [
       "  poradi skupina\n",
       "1 1      B      \n",
       "2 2      D      \n",
       "3 3      B      \n",
       "4 4      B      \n",
       "5 5      C      \n",
       "6 6      B      "
      ]
     },
     "metadata": {},
     "output_type": "display_data"
    }
   ],
   "source": [
    "jakost.s <- readxl::read_excel(\"data/testy_vicevyberove.xlsx\", sheet = 3)\n",
    "colnames(jakost.s) <- c(\"poradi\", \"skupina\") # přejmenování sloupců\n",
    "head(jakost.s)\n",
    "# data již jsou v standardním formátu\n"
   ]
  },
  {
   "cell_type": "code",
   "execution_count": 42,
   "id": "compressed-somalia",
   "metadata": {
    "vscode": {
     "languageId": "r"
    }
   },
   "outputs": [
    {
     "data": {
      "image/png": "[encoded data removed]",
      "text/plain": [
       "plot without title"
      ]
     },
     "metadata": {
      "image/png": {
       "height": 420,
       "width": 420
      }
     },
     "output_type": "display_data"
    }
   ],
   "source": [
    "boxplot(jakost.s$poradi ~ jakost.s$skupina)\n",
    "\n",
    "# Ověření normality nemá smysl provádět - z povahy jde o diskr. data-pořadí\n"
   ]
  },
  {
   "cell_type": "code",
   "execution_count": null,
   "id": "spoken-workplace",
   "metadata": {
    "vscode": {
     "languageId": "r"
    }
   },
   "outputs": [],
   "source": [
    "# Informace potřebné pro nastavení zaokrouhlování\n",
    "jakost.s %>%\n",
    "    group_by(skupina) %>%\n",
    "    summarize(\n",
    "        len = length(poradi),\n",
    "        sd = sd(poradi)\n",
    "    )\n",
    "\n",
    "# sd zaokrouhlujeme na 2 platné cifry\n",
    "# sd a míry polohy zaokrouhlujeme na celá čísla\n"
   ]
  },
  {
   "cell_type": "code",
   "execution_count": null,
   "id": "twelve-accreditation",
   "metadata": {
    "vscode": {
     "languageId": "r"
    }
   },
   "outputs": [],
   "source": [
    "# Ověření shody rozptylů\n",
    "s2 <- jakost.s %>%\n",
    "    group_by(skupina) %>%\n",
    "    summarize(var = sd(poradi)^2)\n",
    "s2\n",
    "\n",
    "max(s2$var) / min(s2$var)\n",
    "# Dle krabicového grafu a informace o poměru největšího a nejmenšího\n",
    "# rozptylů (<2) ze předpokládat shodu rozptylů.\n",
    "# (Kruskalův - Wallisův test má větší sílu testu, jsou-li data homosk.)\n"
   ]
  },
  {
   "cell_type": "code",
   "execution_count": null,
   "id": "moved-department",
   "metadata": {
    "vscode": {
     "languageId": "r"
    }
   },
   "outputs": [],
   "source": [
    "# Jde o \"pořadová\" data, nemá smysl uvažovat o předpokladu norm.\n",
    "# -> Leveneův test\n",
    "car::leveneTest(jakost.s$poradi ~ jakost.s$skupina)\n",
    "# Na hladině významnosti 0,05 nelze zamítnout předpoklad o shodě rozptylů\n",
    "# (Leveneho test, x_OBS = 0,4, df_num = 3, df_denom = 62, p-hodnota = 0,750)\n"
   ]
  },
  {
   "cell_type": "code",
   "execution_count": null,
   "id": "modular-forum",
   "metadata": {
    "vscode": {
     "languageId": "r"
    }
   },
   "outputs": [],
   "source": [
    "# Ověření symetrie\n",
    "\n",
    "jakost.s %>%\n",
    "    group_by(skupina) %>%\n",
    "    summarize(\n",
    "        sikmost = moments::skewness(poradi),\n",
    "        test.pval = lawstat::symmetry.test(poradi, boot = FALSE)$p.value\n",
    "    )\n"
   ]
  },
  {
   "cell_type": "code",
   "execution_count": 43,
   "id": "pediatric-football",
   "metadata": {
    "vscode": {
     "languageId": "r"
    }
   },
   "outputs": [
    {
     "data": {
      "text/plain": [
       "\n",
       "\tKruskal-Wallis rank sum test\n",
       "\n",
       "data:  jakost.s$poradi by jakost.s$skupina\n",
       "Kruskal-Wallis chi-squared = 3.7032, df = 3, p-value = 0.2953\n"
      ]
     },
     "metadata": {},
     "output_type": "display_data"
    }
   ],
   "source": [
    "# Chceme srovnávat mediány nezávislých výběrů -> Kruskalův-Wallisův test\n",
    "kruskal.test(jakost.s$poradi ~ jakost.s$skupina)\n",
    "\n",
    "# Na hladině významnosti 0,05 nelze zamítnout hypotézu o shodě mediánů\n",
    "# (Kruskalův-Wallisův test, x_OBS = 3,7, df = 3, p-hodnota=0,295).\n",
    "# Tj. statisticky významné rozdíly mezi výrobci (z hlediska pořadí\n",
    "# výrobků v soutěži) neexistují.\n"
   ]
  },
  {
   "cell_type": "markdown",
   "id": "complex-bottle",
   "metadata": {},
   "source": [
    "## Příklad 5.\n",
    "Byl sledován vliv tří preparátů na srážlivost krve. Kromě jiných ukazatelů byl zjišťován tzv. trombinový čas. Údaje o 42 sledovaných osobách jsou zaznamenány v souboru trombin.xls. Závisí velikost trombinového času na tom, jaký byl použit preparát?"
   ]
  },
  {
   "cell_type": "code",
   "execution_count": 44,
   "id": "defensive-fiction",
   "metadata": {
    "vscode": {
     "languageId": "r"
    }
   },
   "outputs": [
    {
     "data": {
      "text/html": [
       "<table class=\"dataframe\">\n",
       "<caption>A tibble: 6 × 2</caption>\n",
       "<thead>\n",
       "\t<tr><th scope=col>hodnoty</th><th scope=col>skupina</th></tr>\n",
       "\t<tr><th scope=col>&lt;dbl&gt;</th><th scope=col>&lt;chr&gt;</th></tr>\n",
       "</thead>\n",
       "<tbody>\n",
       "\t<tr><td>12</td><td>A</td></tr>\n",
       "\t<tr><td>10</td><td>A</td></tr>\n",
       "\t<tr><td>10</td><td>A</td></tr>\n",
       "\t<tr><td>12</td><td>A</td></tr>\n",
       "\t<tr><td>10</td><td>A</td></tr>\n",
       "\t<tr><td>12</td><td>A</td></tr>\n",
       "</tbody>\n",
       "</table>\n"
      ],
      "text/latex": [
       "A tibble: 6 × 2\n",
       "\\begin{tabular}{ll}\n",
       " hodnoty & skupina\\\\\n",
       " <dbl> & <chr>\\\\\n",
       "\\hline\n",
       "\t 12 & A\\\\\n",
       "\t 10 & A\\\\\n",
       "\t 10 & A\\\\\n",
       "\t 12 & A\\\\\n",
       "\t 10 & A\\\\\n",
       "\t 12 & A\\\\\n",
       "\\end{tabular}\n"
      ],
      "text/markdown": [
       "\n",
       "A tibble: 6 × 2\n",
       "\n",
       "| hodnoty &lt;dbl&gt; | skupina &lt;chr&gt; |\n",
       "|---|---|\n",
       "| 12 | A |\n",
       "| 10 | A |\n",
       "| 10 | A |\n",
       "| 12 | A |\n",
       "| 10 | A |\n",
       "| 12 | A |\n",
       "\n"
      ],
      "text/plain": [
       "  hodnoty skupina\n",
       "1 12      A      \n",
       "2 10      A      \n",
       "3 10      A      \n",
       "4 12      A      \n",
       "5 10      A      \n",
       "6 12      A      "
      ]
     },
     "metadata": {},
     "output_type": "display_data"
    }
   ],
   "source": [
    "trombin.s <- readxl::read_excel(\"data/testy_vicevyberove.xlsx\",\n",
    "    sheet = 4, skip = 1\n",
    ")\n",
    "colnames(trombin.s) <- c(\"hodnoty\", \"skupina\") # přejmenování sloupců\n",
    "\n",
    "head(trombin.s)\n",
    "# data jsou již ve standardním formátu\n"
   ]
  },
  {
   "cell_type": "code",
   "execution_count": 45,
   "id": "referenced-relations",
   "metadata": {
    "vscode": {
     "languageId": "r"
    }
   },
   "outputs": [
    {
     "data": {
      "image/png": "[encoded data removed]",
      "text/plain": [
       "plot without title"
      ]
     },
     "metadata": {
      "image/png": {
       "height": 420,
       "width": 420
      }
     },
     "output_type": "display_data"
    }
   ],
   "source": [
    "# explorační analýza - ověření OP\n",
    "boxplot(trombin.s$hodnoty ~ trombin.s$skupina)\n",
    "# neobsahuje OP\n"
   ]
  },
  {
   "cell_type": "code",
   "execution_count": 48,
   "id": "digital-latitude",
   "metadata": {
    "vscode": {
     "languageId": "r"
    }
   },
   "outputs": [
    {
     "data": {
      "text/html": [
       "<table class=\"dataframe\">\n",
       "<caption>A tibble: 3 × 3</caption>\n",
       "<thead>\n",
       "\t<tr><th scope=col>skupina</th><th scope=col>norm.pval</th><th scope=col>sym.pval</th></tr>\n",
       "\t<tr><th scope=col>&lt;chr&gt;</th><th scope=col>&lt;dbl&gt;</th><th scope=col>&lt;dbl&gt;</th></tr>\n",
       "</thead>\n",
       "<tbody>\n",
       "\t<tr><td>A</td><td>0.03179805</td><td>1.0000000</td></tr>\n",
       "\t<tr><td>B</td><td>0.94597139</td><td>0.7777511</td></tr>\n",
       "\t<tr><td>C</td><td>0.27138568</td><td>0.8792017</td></tr>\n",
       "</tbody>\n",
       "</table>\n"
      ],
      "text/latex": [
       "A tibble: 3 × 3\n",
       "\\begin{tabular}{lll}\n",
       " skupina & norm.pval & sym.pval\\\\\n",
       " <chr> & <dbl> & <dbl>\\\\\n",
       "\\hline\n",
       "\t A & 0.03179805 & 1.0000000\\\\\n",
       "\t B & 0.94597139 & 0.7777511\\\\\n",
       "\t C & 0.27138568 & 0.8792017\\\\\n",
       "\\end{tabular}\n"
      ],
      "text/markdown": [
       "\n",
       "A tibble: 3 × 3\n",
       "\n",
       "| skupina &lt;chr&gt; | norm.pval &lt;dbl&gt; | sym.pval &lt;dbl&gt; |\n",
       "|---|---|---|\n",
       "| A | 0.03179805 | 1.0000000 |\n",
       "| B | 0.94597139 | 0.7777511 |\n",
       "| C | 0.27138568 | 0.8792017 |\n",
       "\n"
      ],
      "text/plain": [
       "  skupina norm.pval  sym.pval \n",
       "1 A       0.03179805 1.0000000\n",
       "2 B       0.94597139 0.7777511\n",
       "3 C       0.27138568 0.8792017"
      ]
     },
     "metadata": {},
     "output_type": "display_data"
    }
   ],
   "source": [
    "# ověření normality\n",
    "library(dplyr)\n",
    "\n",
    "trombin.s %>%\n",
    "    group_by(skupina) %>%\n",
    "    summarize(norm.pval = shapiro.test(hodnoty)$p.value, sym.pval = lawstat::symmetry.test(hodnoty,boot = FALSE)$p.value)\n",
    "\n",
    "# Na hladině významnosti 0,05 zamítáme předpoklad normality (u Ačka)\n"
   ]
  },
  {
   "cell_type": "code",
   "execution_count": 52,
   "id": "danish-child",
   "metadata": {
    "vscode": {
     "languageId": "r"
    }
   },
   "outputs": [
    {
     "data": {
      "text/html": [
       "<table class=\"dataframe\">\n",
       "<caption>A tibble: 3 × 3</caption>\n",
       "<thead>\n",
       "\t<tr><th scope=col>skupina</th><th scope=col>len</th><th scope=col>stdev</th></tr>\n",
       "\t<tr><th scope=col>&lt;chr&gt;</th><th scope=col>&lt;int&gt;</th><th scope=col>&lt;dbl&gt;</th></tr>\n",
       "</thead>\n",
       "<tbody>\n",
       "\t<tr><td>A</td><td>14</td><td>0.9607689</td></tr>\n",
       "\t<tr><td>B</td><td>14</td><td>2.5677630</td></tr>\n",
       "\t<tr><td>C</td><td>14</td><td>4.7207748</td></tr>\n",
       "</tbody>\n",
       "</table>\n"
      ],
      "text/latex": [
       "A tibble: 3 × 3\n",
       "\\begin{tabular}{lll}\n",
       " skupina & len & stdev\\\\\n",
       " <chr> & <int> & <dbl>\\\\\n",
       "\\hline\n",
       "\t A & 14 & 0.9607689\\\\\n",
       "\t B & 14 & 2.5677630\\\\\n",
       "\t C & 14 & 4.7207748\\\\\n",
       "\\end{tabular}\n"
      ],
      "text/markdown": [
       "\n",
       "A tibble: 3 × 3\n",
       "\n",
       "| skupina &lt;chr&gt; | len &lt;int&gt; | stdev &lt;dbl&gt; |\n",
       "|---|---|---|\n",
       "| A | 14 | 0.9607689 |\n",
       "| B | 14 | 2.5677630 |\n",
       "| C | 14 | 4.7207748 |\n",
       "\n"
      ],
      "text/plain": [
       "  skupina len stdev    \n",
       "1 A       14  0.9607689\n",
       "2 B       14  2.5677630\n",
       "3 C       14  4.7207748"
      ]
     },
     "metadata": {},
     "output_type": "display_data"
    }
   ],
   "source": [
    "# Informace potřebné pro nastavení zaokrouhlování\n",
    "\n",
    "trombin.s %>%\n",
    "    group_by(skupina) %>%\n",
    "    summarize(len = length(hodnoty), stdev = sd(hodnoty))\n",
    "\n",
    "# sd zaokrouhlujeme na 2 platné cifry\n",
    "# sd a míry polohy zaokrouhlujeme na setiny (sjednocení napříč skupinami)\n"
   ]
  },
  {
   "cell_type": "code",
   "execution_count": null,
   "id": "overall-column",
   "metadata": {
    "vscode": {
     "languageId": "r"
    }
   },
   "outputs": [],
   "source": [
    "# Ověření shody rozptylů (není nutné - stejně musíme použít KW)\n",
    "s2 <- trombin.s %>%\n",
    "        group_by(skupina) %>%\n",
    "        summarize(var = sd(hodnoty)^2)\n",
    "s2\n",
    "\n",
    "max(s2$var) / min(s2$var)\n",
    "# Dle krabicového grafu a informace o poměru největšího a nejmenšího\n",
    "# rozptylů (>>2) nelze předpokládat shodu rozptylů.\n"
   ]
  },
  {
   "cell_type": "code",
   "execution_count": null,
   "id": "useful-wells",
   "metadata": {
    "vscode": {
     "languageId": "r"
    }
   },
   "outputs": [],
   "source": [
    "# Předpoklad normality byl zamítnut -> Leveneho test\n",
    "\n",
    "# trombin.s$skupina = as.factor(trombin.s$skupina)\n",
    "\n",
    "car::leveneTest(trombin.s$hodnoty ~ trombin.s$skupina)\n",
    "\n",
    "# předpoklad homoskedasticity byl zamítnut\n"
   ]
  },
  {
   "cell_type": "code",
   "execution_count": null,
   "id": "caroline-citizen",
   "metadata": {
    "vscode": {
     "languageId": "r"
    }
   },
   "outputs": [],
   "source": [
    "# Ověření symetrie\n",
    "trombin.s %>%\n",
    "  group_by(skupina) %>%\n",
    "  summarize(\n",
    "    sikmost = moments::skewness(hodnoty),\n",
    "    test.pval = lawstat::symmetry.test(hodnoty, boot = FALSE)$p.value\n",
    "  )\n",
    "# nezamítáme přepoklad symetrie dat\n"
   ]
  },
  {
   "cell_type": "code",
   "execution_count": 49,
   "id": "coordinated-velvet",
   "metadata": {
    "vscode": {
     "languageId": "r"
    }
   },
   "outputs": [
    {
     "data": {
      "text/plain": [
       "\n",
       "\tKruskal-Wallis rank sum test\n",
       "\n",
       "data:  trombin.s$hodnoty and trombin.s$skupina\n",
       "Kruskal-Wallis chi-squared = 34.535, df = 2, p-value = 3.169e-08\n"
      ]
     },
     "metadata": {},
     "output_type": "display_data"
    }
   ],
   "source": [
    "# Chceme srovnávat mediány nez. výběrů, která nemají norm. rozdělení\n",
    "# -> Kruskalův - Wallisův test\n",
    "\n",
    "kruskal.test(trombin.s$hodnoty, trombin.s$skupina)\n",
    "# Na hladině významnosti 0,05 zamítáme hypotézu o shodě mediánů\n",
    "# Tj. trombinový čas je statisticky významně\n",
    "# ovlivněn preparátem. -> mnohonásobné porovnávání\n"
   ]
  },
  {
   "cell_type": "code",
   "execution_count": 50,
   "id": "suited-trouble",
   "metadata": {
    "vscode": {
     "languageId": "r"
    }
   },
   "outputs": [
    {
     "name": "stdout",
     "output_type": "stream",
     "text": [
      "  Kruskal-Wallis rank sum test\n",
      "\n",
      "data: x and group\n",
      "Kruskal-Wallis chi-squared = 34.5348, df = 2, p-value = 0\n",
      "\n",
      "\n",
      "                           Comparison of x by group                            \n",
      "                                 (Bonferroni)                                  \n",
      "Col Mean-|\n",
      "Row Mean |          A          B\n",
      "---------+----------------------\n",
      "       B |  -3.189477\n",
      "         |    0.0043*\n",
      "         |\n",
      "       C |  -5.869256  -2.679778\n",
      "         |    0.0000*    0.0221*\n",
      "\n",
      "alpha = 0.05\n",
      "Reject Ho if p <= alpha\n"
     ]
    }
   ],
   "source": [
    "# altP = T nastavuje p-hodnotu tak,aby se při rozhodování\n",
    "# o statistické významnosti srovnávala s alfa\n",
    "# (defaultně: altp = FALSE, pak srovnáváme s alfa/2)\n",
    "\n",
    "dunn.test::dunn.test(trombin.s$hodnoty, trombin.s$skupina,\n",
    "    method = \"bonferroni\", altp = TRUE\n",
    ")\n"
   ]
  },
  {
   "cell_type": "code",
   "execution_count": 51,
   "id": "sustainable-executive",
   "metadata": {
    "vscode": {
     "languageId": "r"
    }
   },
   "outputs": [
    {
     "data": {
      "text/html": [
       "17"
      ],
      "text/latex": [
       "17"
      ],
      "text/markdown": [
       "17"
      ],
      "text/plain": [
       "[1] 17"
      ]
     },
     "metadata": {},
     "output_type": "display_data"
    },
    {
     "data": {
      "text/html": [
       "<table class=\"dataframe\">\n",
       "<caption>A tibble: 3 × 3</caption>\n",
       "<thead>\n",
       "\t<tr><th scope=col>skupina</th><th scope=col>median_skup</th><th scope=col>efekt</th></tr>\n",
       "\t<tr><th scope=col>&lt;chr&gt;</th><th scope=col>&lt;dbl&gt;</th><th scope=col>&lt;dbl&gt;</th></tr>\n",
       "</thead>\n",
       "<tbody>\n",
       "\t<tr><td>C</td><td>25</td><td> 8</td></tr>\n",
       "\t<tr><td>B</td><td>17</td><td> 0</td></tr>\n",
       "\t<tr><td>A</td><td>11</td><td>-6</td></tr>\n",
       "</tbody>\n",
       "</table>\n"
      ],
      "text/latex": [
       "A tibble: 3 × 3\n",
       "\\begin{tabular}{lll}\n",
       " skupina & median\\_skup & efekt\\\\\n",
       " <chr> & <dbl> & <dbl>\\\\\n",
       "\\hline\n",
       "\t C & 25 &  8\\\\\n",
       "\t B & 17 &  0\\\\\n",
       "\t A & 11 & -6\\\\\n",
       "\\end{tabular}\n"
      ],
      "text/markdown": [
       "\n",
       "A tibble: 3 × 3\n",
       "\n",
       "| skupina &lt;chr&gt; | median_skup &lt;dbl&gt; | efekt &lt;dbl&gt; |\n",
       "|---|---|---|\n",
       "| C | 25 |  8 |\n",
       "| B | 17 |  0 |\n",
       "| A | 11 | -6 |\n",
       "\n"
      ],
      "text/plain": [
       "  skupina median_skup efekt\n",
       "1 C       25           8   \n",
       "2 B       17           0   \n",
       "3 A       11          -6   "
      ]
     },
     "metadata": {},
     "output_type": "display_data"
    }
   ],
   "source": [
    "# počítání efektů\n",
    "library(dplyr)\n",
    "\n",
    "# celkový průměr\n",
    "median_vsech <- median(trombin.s$hodnoty)\n",
    "median_vsech\n",
    "\n",
    "# průměry ve skupinách\n",
    "efekty <- trombin.s %>%\n",
    "    group_by(skupina) %>%\n",
    "    summarize(median_skup = median(hodnoty))\n",
    "\n",
    "# efekty\n",
    "efekty$efekt <- efekty$median_skup - median_vsech\n",
    "\n",
    "# vypsat setřízené\n",
    "efekty %>% arrange(desc(efekt))\n"
   ]
  },
  {
   "cell_type": "markdown",
   "id": "extended-parks",
   "metadata": {},
   "source": [
    "## Příklad 6. (více skupin)\n",
    "Co se Sněhurka dostala k sedmi trpaslíkům vycítila příležitost nemalého výdělku. Trpaslíci Sněhurce v podstatě zobou z ruky a veškeré vydolované zlato jí ihned předávají. Sněhurce však ani toto úplně nestačí a má pocit, že by mohla z trpaslíků benefitovat více. Proto si začla zaznamenávat kolik kilogramů zlata denně od každého z trpaslíků obdrží (snehurka.xlsx). Ověřte, zda se trpaslíci liší v množství vytěženého zlata, pokud ano sestave homogenní skupiny z hlediska vytěženého zlata."
   ]
  },
  {
   "cell_type": "code",
   "execution_count": 53,
   "id": "activated-cooking",
   "metadata": {
    "vscode": {
     "languageId": "r"
    }
   },
   "outputs": [
    {
     "data": {
      "text/html": [
       "<table class=\"dataframe\">\n",
       "<caption>A tibble: 6 × 2</caption>\n",
       "<thead>\n",
       "\t<tr><th scope=col>hodnota</th><th scope=col>typ</th></tr>\n",
       "\t<tr><th scope=col>&lt;dbl&gt;</th><th scope=col>&lt;chr&gt;</th></tr>\n",
       "</thead>\n",
       "<tbody>\n",
       "\t<tr><td>0.8892697</td><td>Profa</td></tr>\n",
       "\t<tr><td>1.5882393</td><td>Profa</td></tr>\n",
       "\t<tr><td>2.0176732</td><td>Profa</td></tr>\n",
       "\t<tr><td>1.2511435</td><td>Profa</td></tr>\n",
       "\t<tr><td>2.1443305</td><td>Profa</td></tr>\n",
       "\t<tr><td>1.2500689</td><td>Profa</td></tr>\n",
       "</tbody>\n",
       "</table>\n"
      ],
      "text/latex": [
       "A tibble: 6 × 2\n",
       "\\begin{tabular}{ll}\n",
       " hodnota & typ\\\\\n",
       " <dbl> & <chr>\\\\\n",
       "\\hline\n",
       "\t 0.8892697 & Profa\\\\\n",
       "\t 1.5882393 & Profa\\\\\n",
       "\t 2.0176732 & Profa\\\\\n",
       "\t 1.2511435 & Profa\\\\\n",
       "\t 2.1443305 & Profa\\\\\n",
       "\t 1.2500689 & Profa\\\\\n",
       "\\end{tabular}\n"
      ],
      "text/markdown": [
       "\n",
       "A tibble: 6 × 2\n",
       "\n",
       "| hodnota &lt;dbl&gt; | typ &lt;chr&gt; |\n",
       "|---|---|\n",
       "| 0.8892697 | Profa |\n",
       "| 1.5882393 | Profa |\n",
       "| 2.0176732 | Profa |\n",
       "| 1.2511435 | Profa |\n",
       "| 2.1443305 | Profa |\n",
       "| 1.2500689 | Profa |\n",
       "\n"
      ],
      "text/plain": [
       "  hodnota   typ  \n",
       "1 0.8892697 Profa\n",
       "2 1.5882393 Profa\n",
       "3 2.0176732 Profa\n",
       "4 1.2511435 Profa\n",
       "5 2.1443305 Profa\n",
       "6 1.2500689 Profa"
      ]
     },
     "metadata": {},
     "output_type": "display_data"
    }
   ],
   "source": [
    "zlato <- readxl::read_excel(\"data/snehurka.xlsx\")\n",
    "head(zlato)\n",
    "# data jsou ve standardním dtovém formátu\n"
   ]
  },
  {
   "cell_type": "code",
   "execution_count": 54,
   "id": "czech-jaguar",
   "metadata": {
    "vscode": {
     "languageId": "r"
    }
   },
   "outputs": [
    {
     "data": {
      "image/png": "[encoded data removed]",
      "text/plain": [
       "plot without title"
      ]
     },
     "metadata": {
      "image/png": {
       "height": 420,
       "width": 420
      }
     },
     "output_type": "display_data"
    }
   ],
   "source": [
    "boxplot(zlato$hodnota ~ zlato$typ)\n",
    "# data neobsahují OP\n"
   ]
  },
  {
   "cell_type": "code",
   "execution_count": 55,
   "id": "international-douglas",
   "metadata": {
    "vscode": {
     "languageId": "r"
    }
   },
   "outputs": [
    {
     "data": {
      "text/html": [
       "<table class=\"dataframe\">\n",
       "<caption>A tibble: 7 × 2</caption>\n",
       "<thead>\n",
       "\t<tr><th scope=col>typ</th><th scope=col>p.hodnota</th></tr>\n",
       "\t<tr><th scope=col>&lt;chr&gt;</th><th scope=col>&lt;dbl&gt;</th></tr>\n",
       "</thead>\n",
       "<tbody>\n",
       "\t<tr><td>Dřímal </td><td>0.8295308</td></tr>\n",
       "\t<tr><td>Kejchal</td><td>0.8162545</td></tr>\n",
       "\t<tr><td>Profa  </td><td>0.8265843</td></tr>\n",
       "\t<tr><td>Rejpal </td><td>0.6555333</td></tr>\n",
       "\t<tr><td>Stydlín</td><td>0.9177484</td></tr>\n",
       "\t<tr><td>Šmudla </td><td>0.1177217</td></tr>\n",
       "\t<tr><td>Štístko</td><td>0.1866139</td></tr>\n",
       "</tbody>\n",
       "</table>\n"
      ],
      "text/latex": [
       "A tibble: 7 × 2\n",
       "\\begin{tabular}{ll}\n",
       " typ & p.hodnota\\\\\n",
       " <chr> & <dbl>\\\\\n",
       "\\hline\n",
       "\t Dřímal  & 0.8295308\\\\\n",
       "\t Kejchal & 0.8162545\\\\\n",
       "\t Profa   & 0.8265843\\\\\n",
       "\t Rejpal  & 0.6555333\\\\\n",
       "\t Stydlín & 0.9177484\\\\\n",
       "\t Šmudla  & 0.1177217\\\\\n",
       "\t Štístko & 0.1866139\\\\\n",
       "\\end{tabular}\n"
      ],
      "text/markdown": [
       "\n",
       "A tibble: 7 × 2\n",
       "\n",
       "| typ &lt;chr&gt; | p.hodnota &lt;dbl&gt; |\n",
       "|---|---|\n",
       "| Dřímal  | 0.8295308 |\n",
       "| Kejchal | 0.8162545 |\n",
       "| Profa   | 0.8265843 |\n",
       "| Rejpal  | 0.6555333 |\n",
       "| Stydlín | 0.9177484 |\n",
       "| Šmudla  | 0.1177217 |\n",
       "| Štístko | 0.1866139 |\n",
       "\n"
      ],
      "text/plain": [
       "  typ     p.hodnota\n",
       "1 Dřímal  0.8295308\n",
       "2 Kejchal 0.8162545\n",
       "3 Profa   0.8265843\n",
       "4 Rejpal  0.6555333\n",
       "5 Stydlín 0.9177484\n",
       "6 Šmudla  0.1177217\n",
       "7 Štístko 0.1866139"
      ]
     },
     "metadata": {},
     "output_type": "display_data"
    }
   ],
   "source": [
    "# ověření normality\n",
    "library(dplyr)\n",
    "\n",
    "zlato %>%\n",
    "    group_by(typ) %>%\n",
    "    summarize(p.hodnota = shapiro.test(hodnota)$p.value)\n",
    "\n",
    "# Na hladině významnosti 0,05 ne zamítáme předpoklad normality\n"
   ]
  },
  {
   "cell_type": "code",
   "execution_count": 56,
   "id": "chicken-lambda",
   "metadata": {
    "vscode": {
     "languageId": "r"
    }
   },
   "outputs": [
    {
     "data": {
      "text/plain": [
       "\n",
       "\tBartlett test of homogeneity of variances\n",
       "\n",
       "data:  zlato$hodnota by zlato$typ\n",
       "Bartlett's K-squared = 5.1736, df = 6, p-value = 0.5217\n"
      ]
     },
     "metadata": {},
     "output_type": "display_data"
    }
   ],
   "source": [
    "# Předpoklad normality nebyl zamítnut -> Bartlettův test\n",
    "bartlett.test(zlato$hodnota ~ zlato$typ)\n",
    "\n",
    "# Na hladině významnosti 0,05 nelze zamítnout předpoklad o shodě rozptylů\n"
   ]
  },
  {
   "cell_type": "code",
   "execution_count": 57,
   "id": "international-tokyo",
   "metadata": {
    "vscode": {
     "languageId": "r"
    }
   },
   "outputs": [
    {
     "data": {
      "text/plain": [
       "             Df Sum Sq Mean Sq F value Pr(>F)    \n",
       "zlato$typ     6  50.71   8.451   35.87 <2e-16 ***\n",
       "Residuals   210  49.47   0.236                   \n",
       "---\n",
       "Signif. codes:  0 ‘***’ 0.001 ‘**’ 0.01 ‘*’ 0.05 ‘.’ 0.1 ‘ ’ 1"
      ]
     },
     "metadata": {},
     "output_type": "display_data"
    }
   ],
   "source": [
    "# ANOVA\n",
    "vysledky <- aov(zlato$hodnota ~ zlato$typ)\n",
    "summary(vysledky)\n",
    "# Zamítáme předpoklad o shodě\n",
    "# -> existují stat. významné rozdíly ve středních hodnotách\n"
   ]
  },
  {
   "cell_type": "code",
   "execution_count": 58,
   "id": "entitled-middle",
   "metadata": {
    "vscode": {
     "languageId": "r"
    }
   },
   "outputs": [
    {
     "data": {
      "text/html": [
       "<table class=\"dataframe\">\n",
       "<caption>A matrix: 21 × 4 of type dbl</caption>\n",
       "<thead>\n",
       "\t<tr><th></th><th scope=col>diff</th><th scope=col>lwr</th><th scope=col>upr</th><th scope=col>p adj</th></tr>\n",
       "</thead>\n",
       "<tbody>\n",
       "\t<tr><th scope=row>Kejchal-Dřímal</th><td> 0.61338486</td><td> 0.24635938</td><td> 0.98041034</td><td>2.769364e-05</td></tr>\n",
       "\t<tr><th scope=row>Profa-Dřímal</th><td>-0.45472230</td><td>-0.82174778</td><td>-0.08769682</td><td>5.265389e-03</td></tr>\n",
       "\t<tr><th scope=row>Rejpal-Dřímal</th><td> 0.54761573</td><td> 0.18059025</td><td> 0.91464121</td><td>2.871456e-04</td></tr>\n",
       "\t<tr><th scope=row>Šmudla-Dřímal</th><td> 1.18016854</td><td> 0.81314306</td><td> 1.54719402</td><td>2.609024e-14</td></tr>\n",
       "\t<tr><th scope=row>Štístko-Dřímal</th><td> 0.42198262</td><td> 0.05495714</td><td> 0.78900810</td><td>1.296949e-02</td></tr>\n",
       "\t<tr><th scope=row>Stydlín-Dřímal</th><td> 0.09891331</td><td>-0.26811217</td><td> 0.46593879</td><td>9.845413e-01</td></tr>\n",
       "\t<tr><th scope=row>Profa-Kejchal</th><td>-1.06810716</td><td>-1.43513263</td><td>-0.70108168</td><td>5.551115e-14</td></tr>\n",
       "\t<tr><th scope=row>Rejpal-Kejchal</th><td>-0.06576913</td><td>-0.43279460</td><td> 0.30125635</td><td>9.983200e-01</td></tr>\n",
       "\t<tr><th scope=row>Šmudla-Kejchal</th><td> 0.56678368</td><td> 0.19975820</td><td> 0.93380916</td><td>1.485215e-04</td></tr>\n",
       "\t<tr><th scope=row>Štístko-Kejchal</th><td>-0.19140224</td><td>-0.55842772</td><td> 0.17562324</td><td>7.125148e-01</td></tr>\n",
       "\t<tr><th scope=row>Stydlín-Kejchal</th><td>-0.51447155</td><td>-0.88149703</td><td>-0.14744607</td><td>8.575061e-04</td></tr>\n",
       "\t<tr><th scope=row>Rejpal-Profa</th><td> 1.00233803</td><td> 0.63531255</td><td> 1.36936351</td><td>8.026912e-13</td></tr>\n",
       "\t<tr><th scope=row>Šmudla-Profa</th><td> 1.63489084</td><td> 1.26786536</td><td> 2.00191632</td><td>0.000000e+00</td></tr>\n",
       "\t<tr><th scope=row>Štístko-Profa</th><td> 0.87670492</td><td> 0.50967944</td><td> 1.24373039</td><td>3.719213e-10</td></tr>\n",
       "\t<tr><th scope=row>Stydlín-Profa</th><td> 0.55363560</td><td> 0.18661013</td><td> 0.92066108</td><td>2.339229e-04</td></tr>\n",
       "\t<tr><th scope=row>Šmudla-Rejpal</th><td> 0.63255281</td><td> 0.26552733</td><td> 0.99957829</td><td>1.346718e-05</td></tr>\n",
       "\t<tr><th scope=row>Štístko-Rejpal</th><td>-0.12563312</td><td>-0.49265859</td><td> 0.24139236</td><td>9.491834e-01</td></tr>\n",
       "\t<tr><th scope=row>Stydlín-Rejpal</th><td>-0.44870243</td><td>-0.81572790</td><td>-0.08167695</td><td>6.246760e-03</td></tr>\n",
       "\t<tr><th scope=row>Štístko-Šmudla</th><td>-0.75818592</td><td>-1.12521140</td><td>-0.39116044</td><td>8.055135e-08</td></tr>\n",
       "\t<tr><th scope=row>Stydlín-Šmudla</th><td>-1.08125523</td><td>-1.44828071</td><td>-0.71422975</td><td>3.763656e-14</td></tr>\n",
       "\t<tr><th scope=row>Stydlín-Štístko</th><td>-0.32306931</td><td>-0.69009479</td><td> 0.04395617</td><td>1.250710e-01</td></tr>\n",
       "</tbody>\n",
       "</table>\n"
      ],
      "text/latex": [
       "A matrix: 21 × 4 of type dbl\n",
       "\\begin{tabular}{r|llll}\n",
       "  & diff & lwr & upr & p adj\\\\\n",
       "\\hline\n",
       "\tKejchal-Dřímal &  0.61338486 &  0.24635938 &  0.98041034 & 2.769364e-05\\\\\n",
       "\tProfa-Dřímal & -0.45472230 & -0.82174778 & -0.08769682 & 5.265389e-03\\\\\n",
       "\tRejpal-Dřímal &  0.54761573 &  0.18059025 &  0.91464121 & 2.871456e-04\\\\\n",
       "\tŠmudla-Dřímal &  1.18016854 &  0.81314306 &  1.54719402 & 2.609024e-14\\\\\n",
       "\tŠtístko-Dřímal &  0.42198262 &  0.05495714 &  0.78900810 & 1.296949e-02\\\\\n",
       "\tStydlín-Dřímal &  0.09891331 & -0.26811217 &  0.46593879 & 9.845413e-01\\\\\n",
       "\tProfa-Kejchal & -1.06810716 & -1.43513263 & -0.70108168 & 5.551115e-14\\\\\n",
       "\tRejpal-Kejchal & -0.06576913 & -0.43279460 &  0.30125635 & 9.983200e-01\\\\\n",
       "\tŠmudla-Kejchal &  0.56678368 &  0.19975820 &  0.93380916 & 1.485215e-04\\\\\n",
       "\tŠtístko-Kejchal & -0.19140224 & -0.55842772 &  0.17562324 & 7.125148e-01\\\\\n",
       "\tStydlín-Kejchal & -0.51447155 & -0.88149703 & -0.14744607 & 8.575061e-04\\\\\n",
       "\tRejpal-Profa &  1.00233803 &  0.63531255 &  1.36936351 & 8.026912e-13\\\\\n",
       "\tŠmudla-Profa &  1.63489084 &  1.26786536 &  2.00191632 & 0.000000e+00\\\\\n",
       "\tŠtístko-Profa &  0.87670492 &  0.50967944 &  1.24373039 & 3.719213e-10\\\\\n",
       "\tStydlín-Profa &  0.55363560 &  0.18661013 &  0.92066108 & 2.339229e-04\\\\\n",
       "\tŠmudla-Rejpal &  0.63255281 &  0.26552733 &  0.99957829 & 1.346718e-05\\\\\n",
       "\tŠtístko-Rejpal & -0.12563312 & -0.49265859 &  0.24139236 & 9.491834e-01\\\\\n",
       "\tStydlín-Rejpal & -0.44870243 & -0.81572790 & -0.08167695 & 6.246760e-03\\\\\n",
       "\tŠtístko-Šmudla & -0.75818592 & -1.12521140 & -0.39116044 & 8.055135e-08\\\\\n",
       "\tStydlín-Šmudla & -1.08125523 & -1.44828071 & -0.71422975 & 3.763656e-14\\\\\n",
       "\tStydlín-Štístko & -0.32306931 & -0.69009479 &  0.04395617 & 1.250710e-01\\\\\n",
       "\\end{tabular}\n"
      ],
      "text/markdown": [
       "\n",
       "A matrix: 21 × 4 of type dbl\n",
       "\n",
       "| <!--/--> | diff | lwr | upr | p adj |\n",
       "|---|---|---|---|---|\n",
       "| Kejchal-Dřímal |  0.61338486 |  0.24635938 |  0.98041034 | 2.769364e-05 |\n",
       "| Profa-Dřímal | -0.45472230 | -0.82174778 | -0.08769682 | 5.265389e-03 |\n",
       "| Rejpal-Dřímal |  0.54761573 |  0.18059025 |  0.91464121 | 2.871456e-04 |\n",
       "| Šmudla-Dřímal |  1.18016854 |  0.81314306 |  1.54719402 | 2.609024e-14 |\n",
       "| Štístko-Dřímal |  0.42198262 |  0.05495714 |  0.78900810 | 1.296949e-02 |\n",
       "| Stydlín-Dřímal |  0.09891331 | -0.26811217 |  0.46593879 | 9.845413e-01 |\n",
       "| Profa-Kejchal | -1.06810716 | -1.43513263 | -0.70108168 | 5.551115e-14 |\n",
       "| Rejpal-Kejchal | -0.06576913 | -0.43279460 |  0.30125635 | 9.983200e-01 |\n",
       "| Šmudla-Kejchal |  0.56678368 |  0.19975820 |  0.93380916 | 1.485215e-04 |\n",
       "| Štístko-Kejchal | -0.19140224 | -0.55842772 |  0.17562324 | 7.125148e-01 |\n",
       "| Stydlín-Kejchal | -0.51447155 | -0.88149703 | -0.14744607 | 8.575061e-04 |\n",
       "| Rejpal-Profa |  1.00233803 |  0.63531255 |  1.36936351 | 8.026912e-13 |\n",
       "| Šmudla-Profa |  1.63489084 |  1.26786536 |  2.00191632 | 0.000000e+00 |\n",
       "| Štístko-Profa |  0.87670492 |  0.50967944 |  1.24373039 | 3.719213e-10 |\n",
       "| Stydlín-Profa |  0.55363560 |  0.18661013 |  0.92066108 | 2.339229e-04 |\n",
       "| Šmudla-Rejpal |  0.63255281 |  0.26552733 |  0.99957829 | 1.346718e-05 |\n",
       "| Štístko-Rejpal | -0.12563312 | -0.49265859 |  0.24139236 | 9.491834e-01 |\n",
       "| Stydlín-Rejpal | -0.44870243 | -0.81572790 | -0.08167695 | 6.246760e-03 |\n",
       "| Štístko-Šmudla | -0.75818592 | -1.12521140 | -0.39116044 | 8.055135e-08 |\n",
       "| Stydlín-Šmudla | -1.08125523 | -1.44828071 | -0.71422975 | 3.763656e-14 |\n",
       "| Stydlín-Štístko | -0.32306931 | -0.69009479 |  0.04395617 | 1.250710e-01 |\n",
       "\n"
      ],
      "text/plain": [
       "                diff        lwr         upr         p adj       \n",
       "Kejchal-Dřímal   0.61338486  0.24635938  0.98041034 2.769364e-05\n",
       "Profa-Dřímal    -0.45472230 -0.82174778 -0.08769682 5.265389e-03\n",
       "Rejpal-Dřímal    0.54761573  0.18059025  0.91464121 2.871456e-04\n",
       "Šmudla-Dřímal    1.18016854  0.81314306  1.54719402 2.609024e-14\n",
       "Štístko-Dřímal   0.42198262  0.05495714  0.78900810 1.296949e-02\n",
       "Stydlín-Dřímal   0.09891331 -0.26811217  0.46593879 9.845413e-01\n",
       "Profa-Kejchal   -1.06810716 -1.43513263 -0.70108168 5.551115e-14\n",
       "Rejpal-Kejchal  -0.06576913 -0.43279460  0.30125635 9.983200e-01\n",
       "Šmudla-Kejchal   0.56678368  0.19975820  0.93380916 1.485215e-04\n",
       "Štístko-Kejchal -0.19140224 -0.55842772  0.17562324 7.125148e-01\n",
       "Stydlín-Kejchal -0.51447155 -0.88149703 -0.14744607 8.575061e-04\n",
       "Rejpal-Profa     1.00233803  0.63531255  1.36936351 8.026912e-13\n",
       "Šmudla-Profa     1.63489084  1.26786536  2.00191632 0.000000e+00\n",
       "Štístko-Profa    0.87670492  0.50967944  1.24373039 3.719213e-10\n",
       "Stydlín-Profa    0.55363560  0.18661013  0.92066108 2.339229e-04\n",
       "Šmudla-Rejpal    0.63255281  0.26552733  0.99957829 1.346718e-05\n",
       "Štístko-Rejpal  -0.12563312 -0.49265859  0.24139236 9.491834e-01\n",
       "Stydlín-Rejpal  -0.44870243 -0.81572790 -0.08167695 6.246760e-03\n",
       "Štístko-Šmudla  -0.75818592 -1.12521140 -0.39116044 8.055135e-08\n",
       "Stydlín-Šmudla  -1.08125523 -1.44828071 -0.71422975 3.763656e-14\n",
       "Stydlín-Štístko -0.32306931 -0.69009479  0.04395617 1.250710e-01"
      ]
     },
     "metadata": {},
     "output_type": "display_data"
    }
   ],
   "source": [
    "# POST-HOC\n",
    "res <- TukeyHSD(vysledky)[[1]]\n",
    "res\n"
   ]
  },
  {
   "cell_type": "code",
   "execution_count": 59,
   "id": "blank-challenge",
   "metadata": {
    "vscode": {
     "languageId": "r"
    }
   },
   "outputs": [
    {
     "data": {
      "text/html": [
       "2.01366708938714"
      ],
      "text/latex": [
       "2.01366708938714"
      ],
      "text/markdown": [
       "2.01366708938714"
      ],
      "text/plain": [
       "[1] 2.013667"
      ]
     },
     "metadata": {},
     "output_type": "display_data"
    },
    {
     "data": {
      "text/html": [
       "<table class=\"dataframe\">\n",
       "<caption>A tibble: 7 × 3</caption>\n",
       "<thead>\n",
       "\t<tr><th scope=col>typ</th><th scope=col>mean_skup</th><th scope=col>efekt</th></tr>\n",
       "\t<tr><th scope=col>&lt;chr&gt;</th><th scope=col>&lt;dbl&gt;</th><th scope=col>&lt;dbl&gt;</th></tr>\n",
       "</thead>\n",
       "<tbody>\n",
       "\t<tr><td>Šmudla </td><td>2.849930</td><td> 0.83626243</td></tr>\n",
       "\t<tr><td>Kejchal</td><td>2.283146</td><td> 0.26947875</td></tr>\n",
       "\t<tr><td>Rejpal </td><td>2.217377</td><td> 0.20370962</td></tr>\n",
       "\t<tr><td>Štístko</td><td>2.091744</td><td> 0.07807651</td></tr>\n",
       "\t<tr><td>Stydlín</td><td>1.768674</td><td>-0.24499280</td></tr>\n",
       "\t<tr><td>Dřímal </td><td>1.669761</td><td>-0.34390611</td></tr>\n",
       "\t<tr><td>Profa  </td><td>1.215039</td><td>-0.79862841</td></tr>\n",
       "</tbody>\n",
       "</table>\n"
      ],
      "text/latex": [
       "A tibble: 7 × 3\n",
       "\\begin{tabular}{lll}\n",
       " typ & mean\\_skup & efekt\\\\\n",
       " <chr> & <dbl> & <dbl>\\\\\n",
       "\\hline\n",
       "\t Šmudla  & 2.849930 &  0.83626243\\\\\n",
       "\t Kejchal & 2.283146 &  0.26947875\\\\\n",
       "\t Rejpal  & 2.217377 &  0.20370962\\\\\n",
       "\t Štístko & 2.091744 &  0.07807651\\\\\n",
       "\t Stydlín & 1.768674 & -0.24499280\\\\\n",
       "\t Dřímal  & 1.669761 & -0.34390611\\\\\n",
       "\t Profa   & 1.215039 & -0.79862841\\\\\n",
       "\\end{tabular}\n"
      ],
      "text/markdown": [
       "\n",
       "A tibble: 7 × 3\n",
       "\n",
       "| typ &lt;chr&gt; | mean_skup &lt;dbl&gt; | efekt &lt;dbl&gt; |\n",
       "|---|---|---|\n",
       "| Šmudla  | 2.849930 |  0.83626243 |\n",
       "| Kejchal | 2.283146 |  0.26947875 |\n",
       "| Rejpal  | 2.217377 |  0.20370962 |\n",
       "| Štístko | 2.091744 |  0.07807651 |\n",
       "| Stydlín | 1.768674 | -0.24499280 |\n",
       "| Dřímal  | 1.669761 | -0.34390611 |\n",
       "| Profa   | 1.215039 | -0.79862841 |\n",
       "\n"
      ],
      "text/plain": [
       "  typ     mean_skup efekt      \n",
       "1 Šmudla  2.849930   0.83626243\n",
       "2 Kejchal 2.283146   0.26947875\n",
       "3 Rejpal  2.217377   0.20370962\n",
       "4 Štístko 2.091744   0.07807651\n",
       "5 Stydlín 1.768674  -0.24499280\n",
       "6 Dřímal  1.669761  -0.34390611\n",
       "7 Profa   1.215039  -0.79862841"
      ]
     },
     "metadata": {},
     "output_type": "display_data"
    }
   ],
   "source": [
    "# počítání efektů\n",
    "library(dplyr)\n",
    "\n",
    "# celkový průměr\n",
    "prumer_vsech <- mean(zlato$hodnota)\n",
    "prumer_vsech\n",
    "\n",
    "# průměry ve skupinách\n",
    "efekty <- zlato %>%\n",
    "    group_by(typ) %>%\n",
    "    summarize(mean_skup = mean(hodnota))\n",
    "\n",
    "# efekty\n",
    "efekty$efekt <- efekty$mean_skup - prumer_vsech\n",
    "\n",
    "# vypsat setřízené\n",
    "efekty.s <- efekty %>% arrange(desc(efekt))\n",
    "efekty.s\n"
   ]
  },
  {
   "cell_type": "code",
   "execution_count": 1,
   "id": "cd2042a9",
   "metadata": {
    "vscode": {
     "languageId": "r"
    }
   },
   "outputs": [
    {
     "name": "stderr",
     "output_type": "stream",
     "text": [
      "Installing package into ‘/usr/local/lib/R/site-library’\n",
      "(as ‘lib’ is unspecified)\n",
      "\n"
     ]
    }
   ],
   "source": [
    "install.packages(\"dunn.test\")"
   ]
  }
 ],
 "metadata": {
  "kernelspec": {
   "display_name": "R",
   "language": "R",
   "name": "ir"
  },
  "language_info": {
   "codemirror_mode": "r",
   "file_extension": ".r",
   "mimetype": "text/x-r-source",
   "name": "R",
   "pygments_lexer": "r",
   "version": "4.3.2"
  }
 },
 "nbformat": 4,
 "nbformat_minor": 5
}

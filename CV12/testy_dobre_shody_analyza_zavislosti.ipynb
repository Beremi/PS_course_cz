{
 "cells": [
  {
   "cell_type": "markdown",
   "id": "consecutive-event",
   "metadata": {},
   "source": [
    " # Cvičení 12. Neparametrické testy, testy dobré shody\n",
    " ## Michal Béreš, Martina Litschmannová, Adéla Vrtková"
   ]
  },
  {
   "cell_type": "markdown",
   "id": "vertical-warner",
   "metadata": {},
   "source": [
    "# Testování shody rozdělení pravděpodobnosti diskrétní NV (o konečném počtu hodnot) - test dobré shody\n",
    "- testujeme zda naměřená data (jejich relativní četnosti) souhlasí s nějakým konkrétním rozdělením (tedy jeho pravděpodobnostmi)\n",
    "- testujeme pomocí $\\chi^2$ testu dobré shody \n",
    "- předpoklady testu: (POZOR týkají se předpokládaných četností - tedy těch které bychom sledovali pokud by naměřená data byla 100% dle rozdělení v hypotéze)\n",
    "    - Očekávané četnosti ≥ 2, \n",
    "    - alespoň 80% očekávaných četností > 5 \n",
    "- testová statistika (ta která má $\\chi^2$ rozdělení) je $G = \\sum_{i = 1}^k (O_i - E_i)^2 / E_i$\n",
    "- rozdělení ma stupeň volnosti $df = k - 1 - h$\n",
    "    - k je počet možností\n",
    "    - h je počet odhadovaných parametrů (toto se týká neúplně specifikovaných testů)"
   ]
  },
  {
   "cell_type": "code",
   "execution_count": null,
   "id": "unexpected-posting",
   "metadata": {
    "vscode": {
     "languageId": "r"
    }
   },
   "outputs": [],
   "source": [
    "# ukázka viz příklad 1\n"
   ]
  },
  {
   "cell_type": "markdown",
   "id": "elder-elephant",
   "metadata": {},
   "source": [
    "## Test dobré shody pro spojitou náhodnou veličinu (případně diskrétní o nekonežném počtu hodnot)\n",
    "- musíme převést na tabulku s konečným počtem hodnot\n",
    "- u diskrétní (např. poison) shlukneme od určitého  počtu kolonek např. 4,5,6,... na \"4 a více\"\n",
    "- u spojité vyrobíme sérii intervalů a koukáme se kolik hodnot spadne do daného intervalu\n",
    "    - např.: (-$\\infty$, 3), <3, 4), ..., <10, $\\infty$)\n",
    "    - pak musíme pro očekávané rozdělení napočítat pro každý interval kolik % dat do nich patří, čímž získáme tabulku očekávaných pravděpodobností\n",
    "- dále pokračujeme jako u předchozího\n",
    "- pro testování normality rozdělení existuje funkce pearson.test(data) z balíčku nortest"
   ]
  },
  {
   "cell_type": "code",
   "execution_count": null,
   "id": "attractive-bristol",
   "metadata": {
    "vscode": {
     "languageId": "r"
    }
   },
   "outputs": [],
   "source": [
    "# ukázka příklady 2,3,4\n"
   ]
  },
  {
   "cell_type": "markdown",
   "id": "quiet-edmonton",
   "metadata": {},
   "source": [
    "# Kontingenční tabulky\n",
    "- tabulky obsahující data v závislosti na dvou faktorech\n",
    "- jeden z faktorů je z pravidla nezávislá proměnná u které sledujeme, zda má vliv na druhý faktor (závislá proměnná)\n",
    "    - nezávislá proměnná je zpravidla v řádcích\n",
    "    - závislá je zpravidla ve sloupcích\n",
    "- pozor celé testování zkoumá korelaci, nikoliv kauzalitu! Kauzalita se dá posoudit \"expertním\" zhodnocením\n",
    "    - statistický závěr: existuje statisticky významná závislost mezi nezávislou a závislou proměnnou (korelace)\n",
    "    - expertní posouzení: nezávislá proměnná statisticky významně ovlivňuje závislou proměnnou (kauzalita)"
   ]
  },
  {
   "cell_type": "markdown",
   "id": "greater-sewing",
   "metadata": {},
   "source": [
    "## Vizualizace kontingenční tabulky\n",
    "- vizualizace např. pomocí funkce barplot\n",
    "    - pozor na to co jsou řádky a sloupce, vždy chceme aby jednotlivé dělené sloupce byly přes nezávislé proměnné (každý sloupec pro jednu hodnotu nezávislé proměnné)\n",
    "    - beside = T určuje zda chceme přilehlé sloupce sloučit do jednoho děleného sloupce, či ne\n",
    "- preferovaná vizualizace pomocí mozaikového grafu mosaicplot\n",
    "    - totéž co u barplotu, spojené sloupce musí být přes nezávislé proměnné"
   ]
  },
  {
   "cell_type": "code",
   "execution_count": null,
   "id": "perfect-cincinnati",
   "metadata": {
    "vscode": {
     "languageId": "r"
    }
   },
   "outputs": [],
   "source": [
    "# ukázky v příkladech 5,6,7\n"
   ]
  },
  {
   "cell_type": "markdown",
   "id": "neutral-plasma",
   "metadata": {},
   "source": [
    "## Míry závislosti v koningenční tabulce\n",
    "- Koeficient korelace CC\n",
    "- Korigovaný koeficient korelace CCcor\n",
    "- Cramerův koeficient V\n",
    "    - tento budeme používat především\n",
    "    - funkce cramersV(kont.tab) z balíčku lsr"
   ]
  },
  {
   "cell_type": "code",
   "execution_count": null,
   "id": "nervous-novelty",
   "metadata": {
    "vscode": {
     "languageId": "r"
    }
   },
   "outputs": [],
   "source": [
    "# ukázky v příkladech 5,6,7\n"
   ]
  },
  {
   "cell_type": "markdown",
   "id": "promising-influence",
   "metadata": {},
   "source": [
    "## Test závislosti v kontingenční tabulce\n",
    "- $H_0:$ neexistuje závislost mezi nezávislou (např. je kouřák) a závislou (např. trpí onemocněním) proměnnou\n",
    "- $H_A: \\neg H_0$\n",
    "- funkce chisq.test(kont.tab)\n",
    "    - předpoklady: Očekávané četnosti ≥ 2, alespoň 80% očekávaných četností > 5\n",
    "    - očekávané četnosti se dají zjistit z chisq.test(kont.tab)\\$expected"
   ]
  },
  {
   "cell_type": "markdown",
   "id": "automotive-envelope",
   "metadata": {},
   "source": [
    "# Asociační tabulky\n",
    "- jedná se o speciální případ kontingenční tabulky\n",
    "- má vždy právě 2 možnosti pro závislou a právě 2 možnosti pro nezávislou proměnnou"
   ]
  },
  {
   "cell_type": "markdown",
   "id": "challenging-comparison",
   "metadata": {},
   "source": [
    "## Povinný tvar asociační tabulky\n",
    "- řádky označují možnosti nezávislé proměnné\n",
    "    - první řádek je takzvaná exponovaná část populace (ta vystavena jevu který zkoumáme - např. kuřáci poku zkoumáme vliv kouření)\n",
    "    - druhý řádek je neexponovaná část populace\n",
    "- sloupce označují možnosti závislé proměnné\n",
    "    - první sloupec označuje výskyt zkoumaného jevu (např. výskyt nemoci, chyba výrobku, ...)\n",
    "    - druhý sloupec označuje zbytek - bez výskytu zkoumaného jevu"
   ]
  },
  {
   "cell_type": "markdown",
   "id": "prepared-camera",
   "metadata": {},
   "source": [
    "## Relativní riziko a poměr šancí\n",
    "- Relativní riziko a poměr šancí podávají stejnou informaci, pouze v jiném formátu\n",
    "- všechny bodové IO se spočtou pomocí funkce epi.2by2(asoc.tab) z balíčku epiR\n",
    "    - funkce bere jako vstup asociační tabulku, která musí být ve správném formátu!"
   ]
  },
  {
   "cell_type": "markdown",
   "id": "promotional-siemens",
   "metadata": {},
   "source": [
    "### Relativní riziko\n",
    "- značíme $RR$\n",
    "- jedná se o poměr rizika (pravděpodobnost výskytu zkoumaného jevu) u exponované a neexponované populace\n",
    "    - pokud je roven 1 tak to značí stejné pravděpodobnosti výskytu u exponované i u neexponované\n",
    "    - pokud je větší než 1 pak exponovaná polulace má větší pravděpodobnost výskytu\n",
    "    - pokud je menší než 1 pak exponovaná populace má menší pravděpodobnost výskytu\n",
    "- bodový odhad $\\hat{RR}$ se spočte jako poměr rel. četností zkoumaného jevu u exponované a neexponované populace\n",
    "- funkce epi.2by2 dodá intervalové odhady\n",
    "- pokud IO neobsahuje hodnotu 1 pak existuje statisticky významná závislost mezi závislou a nezávislou proměnnou"
   ]
  },
  {
   "cell_type": "markdown",
   "id": "liked-fisher",
   "metadata": {},
   "source": [
    "### Poměr šancí\n",
    "- značíme $OR$\n",
    "- jedná se o poměr šancí (šance výskytu zkoumaného jevu) u exponované a neexponované populace\n",
    "    - pokud je roven 1 tak to značí stejné šance výskytu u exponované i u neexponované\n",
    "    - pokud je větší než 1 pak exponovaná polulace má větší šanci výskytu\n",
    "    - pokud je menší než 1 pak exponovaná populace má menší šanci výskytu\n",
    "- bodový odhad $\\hat{OR}$ se spočte jako poměr šancí (výběrových) zkoumaného jevu u exponované a neexponované populace\n",
    "- funkce epi.2by2 dodá intervalové odhady\n",
    "- pokud IO neobsahuje hodnotu 1 pak existuje statisticky významná závislost mezi závislou a nezávislou proměnnou"
   ]
  },
  {
   "cell_type": "code",
   "execution_count": null,
   "id": "cross-museum",
   "metadata": {
    "vscode": {
     "languageId": "r"
    }
   },
   "outputs": [],
   "source": [
    "# ukázka v příkladu 7\n"
   ]
  },
  {
   "attachments": {
    "64f1169e-6bc1-470a-8afb-b282230c2c9f.png": {
     "image/png": "[encoded data removed]"
    }
   },
   "cell_type": "markdown",
   "id": "above-round",
   "metadata": {},
   "source": [
    "# Příklady (testy dobré shody)\n",
    "## Příklad 1.\n",
    "Hodilo se 6 000 krát hrací kostkou a zaznamenaly se počty padlých ok.<br>\n",
    "Je možné na základě příslušného testu na hladině významnosti 0,05 spolehlivě tvrdit, že kostka\n",
    "je „falešná“, tj. že pravděpodobnosti všech čísel na kostce nejsou stejné?<br>\n",
    "![image.png](attachment:64f1169e-6bc1-470a-8afb-b282230c2c9f.png)"
   ]
  },
  {
   "cell_type": "code",
   "execution_count": null,
   "id": "earlier-disclaimer",
   "metadata": {
    "vscode": {
     "languageId": "r"
    }
   },
   "outputs": [],
   "source": [
    "# H0: Kostka je férová. (tedy všechny pravděpodobnosti jsou 1/6)\n",
    "# Ha: Kostka není férová. (negace H0)\n",
    "\n",
    "x <- c(1, 2, 3, 4, 5, 6)\n",
    "n.obs <- c(979, 1002, 1015, 980, 1040, 984)\n",
    "p.exp <- c(1 / 6, 1 / 6, 1 / 6, 1 / 6, 1 / 6, 1 / 6)\n",
    "n.exp <- 6000 * p.exp\n",
    "n.exp # nutno zkontrolovat předpoklady testu\n",
    "# Všechny očekávané četnosti jsou větší než 5.\n"
   ]
  },
  {
   "cell_type": "code",
   "execution_count": null,
   "id": "dominant-cooperation",
   "metadata": {
    "vscode": {
     "languageId": "r"
    }
   },
   "outputs": [],
   "source": [
    "x.obs <- sum(((n.obs - n.exp)^2) / n.exp)\n",
    "x.obs\n"
   ]
  },
  {
   "cell_type": "code",
   "execution_count": null,
   "id": "apparent-escape",
   "metadata": {
    "vscode": {
     "languageId": "r"
    }
   },
   "outputs": [],
   "source": [
    "p.hodnota <- 1 - pchisq(x.obs, 5)\n",
    "p.hodnota\n",
    "\n",
    "# Na hladině významnosti 0,05 nezamítáme HO (p-hodnota = 0,711,\n",
    "# Chí-kvadrát test nezávislosti, df = 5).\n"
   ]
  },
  {
   "attachments": {
    "65bc506a-e77d-4533-b942-ae5e7596ad9a.png": {
     "image/png": "[encoded data removed]"
    }
   },
   "cell_type": "markdown",
   "id": "fifty-reception",
   "metadata": {},
   "source": [
    "## Příklad 2.\n",
    "Výrobní firma odhaduje počet poruch určitého zařízení během 100 hodin pomocí Poissonova\n",
    "rozdělení s parametrem 1,2. Zaměstnanci zaznamenali pro kontrolu skutečné počty poruch\n",
    "celkem ve 150 100hodinových intervalech (výsledky jsou uvedeny v tabulce). Ověřte čistým testem významnosti, zda má počet poruch daného zařízení během 100 hodin skutečně Poissonovo\n",
    "rozdělení s parametrem λt = 1,2.<br>\n",
    "![image.png](attachment:65bc506a-e77d-4533-b942-ae5e7596ad9a.png)"
   ]
  },
  {
   "cell_type": "code",
   "execution_count": null,
   "id": "committed-boston",
   "metadata": {
    "vscode": {
     "languageId": "r"
    }
   },
   "outputs": [],
   "source": [
    "# Úplně specifikovaný test\n",
    "\n",
    "# H0: Počet poruch během 100 hodin provozu lze modelovat\n",
    "#     Poissonovým rozdělením s parametrem 1,2.\n",
    "# Ha: Počet poruch během 100 hodin provozu nelze modelovat\n",
    "#     Poissonovým rozdělením s parametrem 1,2.\n",
    "\n",
    "x <- c(0, 1, 2, 3, 4)\n",
    "n.obs <- c(52, 48, 36, 10, 4)\n"
   ]
  },
  {
   "cell_type": "code",
   "execution_count": null,
   "id": "raised-residence",
   "metadata": {
    "vscode": {
     "languageId": "r"
    }
   },
   "outputs": [],
   "source": [
    "p.exp <- dpois(x, 1.2)\n",
    "p.exp[5] <- 1 - sum(p.exp[1:4])\n",
    "p.exp\n",
    "sum(p.exp)\n"
   ]
  },
  {
   "cell_type": "code",
   "execution_count": null,
   "id": "accredited-samba",
   "metadata": {
    "vscode": {
     "languageId": "r"
    }
   },
   "outputs": [],
   "source": [
    "n.exp <- 150 * p.exp\n",
    "n.exp # nutno zkontrolovat předpoklady testu\n",
    "# 4 z 5 očekávaných četnosti, tj. 80%, jsou větší než 5.\n"
   ]
  },
  {
   "cell_type": "code",
   "execution_count": null,
   "id": "eleven-archives",
   "metadata": {
    "vscode": {
     "languageId": "r"
    }
   },
   "outputs": [],
   "source": [
    "x.obs <- sum(((n.obs - n.exp)^2) / n.exp)\n",
    "x.obs\n"
   ]
  },
  {
   "cell_type": "code",
   "execution_count": null,
   "id": "sophisticated-batman",
   "metadata": {
    "vscode": {
     "languageId": "r"
    }
   },
   "outputs": [],
   "source": [
    "p.hodnota <- 1 - pchisq(x.obs, 4)\n",
    "p.hodnota\n",
    "\n",
    "# Na hladině významnosti 0,05 nezamítáme HO (p-hodnota = 0,590,\n",
    "# Chí-kvadrát test nezávislosti, df = 4).\n"
   ]
  },
  {
   "attachments": {
    "4da89057-87d1-4bcd-a488-3365237654f7.png": {
     "image/png": "[encoded data removed]"
    }
   },
   "cell_type": "markdown",
   "id": "civil-premiere",
   "metadata": {},
   "source": [
    "## Příklad 3.\n",
    "Zaměstnanci zaznamenali pro kontrolu počty poruch celkem ve 150 100hodinových intervalech\n",
    "(výsledky jsou uvedeny v tabulce). Ověřte čistým testem významnosti, zda má počet poruch\n",
    "daného zařízení během 100 hodin skutečně Poissonovo rozdělení.<br>\n",
    "![image.png](attachment:4da89057-87d1-4bcd-a488-3365237654f7.png)"
   ]
  },
  {
   "cell_type": "code",
   "execution_count": null,
   "id": "outer-approach",
   "metadata": {
    "vscode": {
     "languageId": "r"
    }
   },
   "outputs": [],
   "source": [
    "# Neúplně specifikovaný test\n",
    "\n",
    "# H0: Počet poruch během 100 hodin provozu lze modelovat\n",
    "#     Poissonovým rozdělením.\n",
    "# Ha: Počet poruch během 100 hodin provozu nelze modelovat\n",
    "#     Poissonovým rozdělením.\n",
    "\n",
    "x <- c(0, 1, 2, 3, 4)\n",
    "n.obs <- c(52, 48, 36, 10, 4)\n",
    "\n",
    "lambda.t <- weighted.mean(x, n.obs) # odhad parametru Poissonova rozdělení\n",
    "lambda.t\n"
   ]
  },
  {
   "cell_type": "code",
   "execution_count": null,
   "id": "latter-bobby",
   "metadata": {
    "vscode": {
     "languageId": "r"
    }
   },
   "outputs": [],
   "source": [
    "p.exp <- dpois(x, lambda.t)\n",
    "p.exp[5] <- 1 - sum(p.exp[1:4])\n",
    "p.exp\n",
    "sum(p.exp)\n"
   ]
  },
  {
   "cell_type": "code",
   "execution_count": null,
   "id": "smoking-deployment",
   "metadata": {
    "vscode": {
     "languageId": "r"
    }
   },
   "outputs": [],
   "source": [
    "n.exp <- 150 * p.exp\n",
    "n.exp # nutno zkontrolovat předpoklady testu\n",
    "# 4 z 5 očekávaných četnosti, tj. 80%, jsou větší než 5.\n"
   ]
  },
  {
   "cell_type": "code",
   "execution_count": null,
   "id": "neural-mongolia",
   "metadata": {
    "vscode": {
     "languageId": "r"
    }
   },
   "outputs": [],
   "source": [
    "x.obs <- sum(((n.obs - n.exp)^2) / n.exp)\n",
    "x.obs\n"
   ]
  },
  {
   "cell_type": "code",
   "execution_count": null,
   "id": "aggregate-science",
   "metadata": {
    "vscode": {
     "languageId": "r"
    }
   },
   "outputs": [],
   "source": [
    "p.hodnota <- 1 - pchisq(x.obs, 3)\n",
    "p.hodnota\n",
    "\n",
    "# Na hladině významnosti 0,05 nezamítáme HO (p-hodnota = 0,491,\n",
    "# Chí-kvadrát test nezávislosti, df = 3).\n"
   ]
  },
  {
   "cell_type": "markdown",
   "id": "tender-miami",
   "metadata": {},
   "source": [
    "## Příklad 4. \n",
    "Na dálnici byly v průběhu několika minut měřeny časové odstupy (s) mezi průjezdy jednotlivých vozidel. Zjištěné hodnoty těchto odstupů jsou zaznamenány v souboru dalnice.xlsx. Ověřte, zda se jedná o data z normálního rozdělení (použijte test dobré shody)."
   ]
  },
  {
   "cell_type": "code",
   "execution_count": null,
   "id": "spoken-trinidad",
   "metadata": {
    "vscode": {
     "languageId": "r"
    }
   },
   "outputs": [],
   "source": [
    "# automatický test dobré shody ze spojitých dat\n",
    "\n",
    "dalnice <- readxl::read_excel(\"data/neparametricke_hypotezy.xlsx\", sheet = 2)\n",
    "colnames(dalnice) <- \"hodnoty\"\n",
    "head(dalnice)\n"
   ]
  },
  {
   "cell_type": "code",
   "execution_count": null,
   "id": "temporal-canada",
   "metadata": {
    "vscode": {
     "languageId": "r"
    }
   },
   "outputs": [],
   "source": [
    "mu <- mean(dalnice$hodnoty)\n",
    "sigma <- sd(dalnice$hodnoty)\n",
    "mu\n",
    "sigma\n"
   ]
  },
  {
   "cell_type": "code",
   "execution_count": null,
   "id": "placed-regular",
   "metadata": {
    "vscode": {
     "languageId": "r"
    }
   },
   "outputs": [],
   "source": [
    "# generování hodnot pro osu x\n",
    "xfit <- seq(from = -20, to = 30, length = 100)\n",
    "# generování hodnot pro osu y\n",
    "yfit <- dnorm(xfit, mean = mu, sd = sigma)\n",
    "\n",
    "hist(dalnice$hodnoty, freq = FALSE, xlim = c(-20, 30))\n",
    "# do posledního grafu přidání křivky na základě výše vygenerovaných hodnot\n",
    "lines(xfit, yfit, col = \"black\", lwd = 2)\n"
   ]
  },
  {
   "cell_type": "code",
   "execution_count": null,
   "id": "complete-granny",
   "metadata": {
    "vscode": {
     "languageId": "r"
    }
   },
   "outputs": [],
   "source": [
    "# install.packages(\"nortest\")\n"
   ]
  },
  {
   "cell_type": "code",
   "execution_count": null,
   "id": "suspected-traffic",
   "metadata": {
    "vscode": {
     "languageId": "r"
    }
   },
   "outputs": [],
   "source": [
    "# H0: Rozestupy mezi vozidly lze modelovat normálním rozdělením.\n",
    "# Ha: Rozestupy mezi vozidly nelze modelovat normálním rozdělením.\n",
    "\n",
    "nortest::pearson.test(dalnice$hodnoty)\n"
   ]
  },
  {
   "cell_type": "code",
   "execution_count": null,
   "id": "amazing-consciousness",
   "metadata": {
    "vscode": {
     "languageId": "r"
    }
   },
   "outputs": [],
   "source": [
    "# Určení počtu stupňů volbnosti\n",
    "pom <- nortest::pearson.test(dalnice$hodnoty, n.classes = 5)\n",
    "attributes(pom)\n"
   ]
  },
  {
   "cell_type": "code",
   "execution_count": null,
   "id": "difficult-rally",
   "metadata": {
    "vscode": {
     "languageId": "r"
    }
   },
   "outputs": [],
   "source": [
    "pom$method\n",
    "pom$n.classes\n",
    "pom$df\n",
    "pom$p.value\n",
    "\n",
    "# Na hladině významnosti 0,05 lze zamítnout HO (p-hodnota << 0,001,\n",
    "# Chí-kvadrát test dobré shody, df = 12).\n"
   ]
  },
  {
   "cell_type": "code",
   "execution_count": null,
   "id": "lasting-surface",
   "metadata": {
    "vscode": {
     "languageId": "r"
    }
   },
   "outputs": [],
   "source": [
    "# test co už znáte\n",
    "shapiro.test(dalnice$hodnoty)\n"
   ]
  },
  {
   "cell_type": "markdown",
   "id": "posted-demand",
   "metadata": {},
   "source": [
    "# Příklady na kontingenční a asociační tabulky\n",
    "## Příklad 5.\n",
    "Rozhodněte na základě datového souboru experimentovani-s-telem.xls (Dudová, J. - Experimentování s tělem (výsledky průzkumu), 2013. Dostupné online na http://experimentovani-stelem.vyplnto.cz), zda existuje souvislost mezi pohlavím respondentů a tím, zda mají tetování. Pro posouzení míry kontingence použijte Cramerovo V."
   ]
  },
  {
   "cell_type": "code",
   "execution_count": 1,
   "id": "banned-theme",
   "metadata": {
    "vscode": {
     "languageId": "r"
    }
   },
   "outputs": [
    {
     "name": "stderr",
     "output_type": "stream",
     "text": [
      "\u001b[1m\u001b[22mNew names:\n",
      "\u001b[36m•\u001b[39m `Pokud ano, kde?` -> `Pokud ano, kde?...9`\n",
      "\u001b[36m•\u001b[39m `Pokud ano, kde?` -> `Pokud ano, kde?...11`\n"
     ]
    },
    {
     "data": {
      "text/html": [
       "<table class=\"dataframe\">\n",
       "<caption>A tibble: 6 × 25</caption>\n",
       "<thead>\n",
       "\t<tr><th scope=col>ID respondenta</th><th scope=col>UID respondenta</th><th scope=col>Datum vyplnění</th><th scope=col>Délka vyplňování (s)</th><th scope=col>QS parametry</th><th scope=col>Vaše pohlaví?</th><th scope=col>Váš věk?</th><th scope=col>Máte piercing (včetně náušnic)?</th><th scope=col>Pokud ano, kde?...9</th><th scope=col>Máte tetování?</th><th scope=col>⋯</th><th scope=col>Pokud ano, které? - LSD</th><th scope=col>Pokud ano, které? - houbičky (psilocybin)</th><th scope=col>Pokud ano, které? - heroin</th><th scope=col>Pokud ano, které? - opium</th><th scope=col>Pokud ano, které? - crack</th><th scope=col>Pokud ano, které? - kokain</th><th scope=col>Pokud ano, které? - pervitin</th><th scope=col>Pokud ano, které? - rozpouštědla (toluen, lepidla, barvy)</th><th scope=col>Pokud ano, které? - vlastní odpověď</th><th scope=col>Máte/chtěli byste ozdobit své tělo skarifikací? (skarifikace = vyřezávání či vypalování obrazců/slov do kůže)</th></tr>\n",
       "\t<tr><th scope=col>&lt;dbl&gt;</th><th scope=col>&lt;dbl&gt;</th><th scope=col>&lt;chr&gt;</th><th scope=col>&lt;dbl&gt;</th><th scope=col>&lt;chr&gt;</th><th scope=col>&lt;chr&gt;</th><th scope=col>&lt;dbl&gt;</th><th scope=col>&lt;chr&gt;</th><th scope=col>&lt;chr&gt;</th><th scope=col>&lt;chr&gt;</th><th scope=col>⋯</th><th scope=col>&lt;chr&gt;</th><th scope=col>&lt;chr&gt;</th><th scope=col>&lt;chr&gt;</th><th scope=col>&lt;chr&gt;</th><th scope=col>&lt;chr&gt;</th><th scope=col>&lt;chr&gt;</th><th scope=col>&lt;chr&gt;</th><th scope=col>&lt;chr&gt;</th><th scope=col>&lt;chr&gt;</th><th scope=col>&lt;chr&gt;</th></tr>\n",
       "</thead>\n",
       "<tbody>\n",
       "\t<tr><td>1</td><td>2280997</td><td>2013-04-20 21:31:41</td><td>33</td><td>NA</td><td>žena</td><td>30</td><td>ano</td><td>uši       </td><td>ne</td><td>⋯</td><td>NA</td><td>NA</td><td>NA</td><td>NA</td><td>NA</td><td>NA</td><td>NA</td><td>NA</td><td>NA</td><td>ne</td></tr>\n",
       "\t<tr><td>2</td><td>2281002</td><td>2013-04-20 21:32:35</td><td>48</td><td>NA</td><td>žena</td><td>20</td><td>ano</td><td>v uších   </td><td>ne</td><td>⋯</td><td>NA</td><td>NA</td><td>NA</td><td>NA</td><td>NA</td><td>NA</td><td>NA</td><td>NA</td><td>NA</td><td>ne</td></tr>\n",
       "\t<tr><td>3</td><td>2281003</td><td>2013-04-20 21:32:37</td><td>94</td><td>NA</td><td>žena</td><td>20</td><td>ano</td><td>uši, pupík</td><td>ne</td><td>⋯</td><td>NA</td><td>NA</td><td>NA</td><td>NA</td><td>NA</td><td>NA</td><td>NA</td><td>NA</td><td>NA</td><td>ne</td></tr>\n",
       "\t<tr><td>4</td><td>2281006</td><td>2013-04-20 21:33:39</td><td>44</td><td>NA</td><td>muž </td><td>21</td><td>ne </td><td>NA        </td><td>ne</td><td>⋯</td><td>NA</td><td>NA</td><td>NA</td><td>NA</td><td>NA</td><td>NA</td><td>NA</td><td>NA</td><td>NA</td><td>ne</td></tr>\n",
       "\t<tr><td>5</td><td>2281008</td><td>2013-04-20 21:34:01</td><td>40</td><td>NA</td><td>žena</td><td>23</td><td>ano</td><td>uši       </td><td>ne</td><td>⋯</td><td>NA</td><td>NA</td><td>NA</td><td>NA</td><td>NA</td><td>NA</td><td>NA</td><td>NA</td><td>NA</td><td>ne</td></tr>\n",
       "\t<tr><td>6</td><td>2281010</td><td>2013-04-20 21:34:39</td><td>36</td><td>NA</td><td>žena</td><td>20</td><td>ne </td><td>NA        </td><td>ne</td><td>⋯</td><td>NA</td><td>NA</td><td>NA</td><td>NA</td><td>NA</td><td>NA</td><td>NA</td><td>NA</td><td>NA</td><td>ne</td></tr>\n",
       "</tbody>\n",
       "</table>\n"
      ],
      "text/latex": [
       "A tibble: 6 × 25\n",
       "\\begin{tabular}{lllllllllllllllllllll}\n",
       " ID respondenta & UID respondenta & Datum vyplnění & Délka vyplňování (s) & QS parametry & Vaše pohlaví? & Váš věk? & Máte piercing (včetně náušnic)? & Pokud ano, kde?...9 & Máte tetování? & ⋯ & Pokud ano, které? - LSD & Pokud ano, které? - houbičky (psilocybin) & Pokud ano, které? - heroin & Pokud ano, které? - opium & Pokud ano, které? - crack & Pokud ano, které? - kokain & Pokud ano, které? - pervitin & Pokud ano, které? - rozpouštědla (toluen, lepidla, barvy) & Pokud ano, které? - vlastní odpověď & Máte/chtěli byste ozdobit své tělo skarifikací? (skarifikace = vyřezávání či vypalování obrazců/slov do kůže)\\\\\n",
       " <dbl> & <dbl> & <chr> & <dbl> & <chr> & <chr> & <dbl> & <chr> & <chr> & <chr> & ⋯ & <chr> & <chr> & <chr> & <chr> & <chr> & <chr> & <chr> & <chr> & <chr> & <chr>\\\\\n",
       "\\hline\n",
       "\t 1 & 2280997 & 2013-04-20 21:31:41 & 33 & NA & žena & 30 & ano & uši        & ne & ⋯ & NA & NA & NA & NA & NA & NA & NA & NA & NA & ne\\\\\n",
       "\t 2 & 2281002 & 2013-04-20 21:32:35 & 48 & NA & žena & 20 & ano & v uších    & ne & ⋯ & NA & NA & NA & NA & NA & NA & NA & NA & NA & ne\\\\\n",
       "\t 3 & 2281003 & 2013-04-20 21:32:37 & 94 & NA & žena & 20 & ano & uši, pupík & ne & ⋯ & NA & NA & NA & NA & NA & NA & NA & NA & NA & ne\\\\\n",
       "\t 4 & 2281006 & 2013-04-20 21:33:39 & 44 & NA & muž  & 21 & ne  & NA         & ne & ⋯ & NA & NA & NA & NA & NA & NA & NA & NA & NA & ne\\\\\n",
       "\t 5 & 2281008 & 2013-04-20 21:34:01 & 40 & NA & žena & 23 & ano & uši        & ne & ⋯ & NA & NA & NA & NA & NA & NA & NA & NA & NA & ne\\\\\n",
       "\t 6 & 2281010 & 2013-04-20 21:34:39 & 36 & NA & žena & 20 & ne  & NA         & ne & ⋯ & NA & NA & NA & NA & NA & NA & NA & NA & NA & ne\\\\\n",
       "\\end{tabular}\n"
      ],
      "text/markdown": [
       "\n",
       "A tibble: 6 × 25\n",
       "\n",
       "| ID respondenta &lt;dbl&gt; | UID respondenta &lt;dbl&gt; | Datum vyplnění &lt;chr&gt; | Délka vyplňování (s) &lt;dbl&gt; | QS parametry &lt;chr&gt; | Vaše pohlaví? &lt;chr&gt; | Váš věk? &lt;dbl&gt; | Máte piercing (včetně náušnic)? &lt;chr&gt; | Pokud ano, kde?...9 &lt;chr&gt; | Máte tetování? &lt;chr&gt; | ⋯ ⋯ | Pokud ano, které? - LSD &lt;chr&gt; | Pokud ano, které? - houbičky (psilocybin) &lt;chr&gt; | Pokud ano, které? - heroin &lt;chr&gt; | Pokud ano, které? - opium &lt;chr&gt; | Pokud ano, které? - crack &lt;chr&gt; | Pokud ano, které? - kokain &lt;chr&gt; | Pokud ano, které? - pervitin &lt;chr&gt; | Pokud ano, které? - rozpouštědla (toluen, lepidla, barvy) &lt;chr&gt; | Pokud ano, které? - vlastní odpověď &lt;chr&gt; | Máte/chtěli byste ozdobit své tělo skarifikací? (skarifikace = vyřezávání či vypalování obrazců/slov do kůže) &lt;chr&gt; |\n",
       "|---|---|---|---|---|---|---|---|---|---|---|---|---|---|---|---|---|---|---|---|---|\n",
       "| 1 | 2280997 | 2013-04-20 21:31:41 | 33 | NA | žena | 30 | ano | uši        | ne | ⋯ | NA | NA | NA | NA | NA | NA | NA | NA | NA | ne |\n",
       "| 2 | 2281002 | 2013-04-20 21:32:35 | 48 | NA | žena | 20 | ano | v uších    | ne | ⋯ | NA | NA | NA | NA | NA | NA | NA | NA | NA | ne |\n",
       "| 3 | 2281003 | 2013-04-20 21:32:37 | 94 | NA | žena | 20 | ano | uši, pupík | ne | ⋯ | NA | NA | NA | NA | NA | NA | NA | NA | NA | ne |\n",
       "| 4 | 2281006 | 2013-04-20 21:33:39 | 44 | NA | muž  | 21 | ne  | NA         | ne | ⋯ | NA | NA | NA | NA | NA | NA | NA | NA | NA | ne |\n",
       "| 5 | 2281008 | 2013-04-20 21:34:01 | 40 | NA | žena | 23 | ano | uši        | ne | ⋯ | NA | NA | NA | NA | NA | NA | NA | NA | NA | ne |\n",
       "| 6 | 2281010 | 2013-04-20 21:34:39 | 36 | NA | žena | 20 | ne  | NA         | ne | ⋯ | NA | NA | NA | NA | NA | NA | NA | NA | NA | ne |\n",
       "\n"
      ],
      "text/plain": [
       "  ID respondenta UID respondenta Datum vyplnění      Délka vyplňování (s)\n",
       "1 1              2280997         2013-04-20 21:31:41 33                  \n",
       "2 2              2281002         2013-04-20 21:32:35 48                  \n",
       "3 3              2281003         2013-04-20 21:32:37 94                  \n",
       "4 4              2281006         2013-04-20 21:33:39 44                  \n",
       "5 5              2281008         2013-04-20 21:34:01 40                  \n",
       "6 6              2281010         2013-04-20 21:34:39 36                  \n",
       "  QS parametry Vaše pohlaví? Váš věk? Máte piercing (včetně náušnic)?\n",
       "1 NA           žena          30       ano                            \n",
       "2 NA           žena          20       ano                            \n",
       "3 NA           žena          20       ano                            \n",
       "4 NA           muž           21       ne                             \n",
       "5 NA           žena          23       ano                            \n",
       "6 NA           žena          20       ne                             \n",
       "  Pokud ano, kde?...9 Máte tetování? ⋯ Pokud ano, které? - LSD\n",
       "1 uši                 ne             ⋯ NA                     \n",
       "2 v uších             ne             ⋯ NA                     \n",
       "3 uši, pupík          ne             ⋯ NA                     \n",
       "4 NA                  ne             ⋯ NA                     \n",
       "5 uši                 ne             ⋯ NA                     \n",
       "6 NA                  ne             ⋯ NA                     \n",
       "  Pokud ano, které? - houbičky (psilocybin) Pokud ano, které? - heroin\n",
       "1 NA                                        NA                        \n",
       "2 NA                                        NA                        \n",
       "3 NA                                        NA                        \n",
       "4 NA                                        NA                        \n",
       "5 NA                                        NA                        \n",
       "6 NA                                        NA                        \n",
       "  Pokud ano, které? - opium Pokud ano, které? - crack\n",
       "1 NA                        NA                       \n",
       "2 NA                        NA                       \n",
       "3 NA                        NA                       \n",
       "4 NA                        NA                       \n",
       "5 NA                        NA                       \n",
       "6 NA                        NA                       \n",
       "  Pokud ano, které? - kokain Pokud ano, které? - pervitin\n",
       "1 NA                         NA                          \n",
       "2 NA                         NA                          \n",
       "3 NA                         NA                          \n",
       "4 NA                         NA                          \n",
       "5 NA                         NA                          \n",
       "6 NA                         NA                          \n",
       "  Pokud ano, které? - rozpouštědla (toluen, lepidla, barvy)\n",
       "1 NA                                                       \n",
       "2 NA                                                       \n",
       "3 NA                                                       \n",
       "4 NA                                                       \n",
       "5 NA                                                       \n",
       "6 NA                                                       \n",
       "  Pokud ano, které? - vlastní odpověď\n",
       "1 NA                                 \n",
       "2 NA                                 \n",
       "3 NA                                 \n",
       "4 NA                                 \n",
       "5 NA                                 \n",
       "6 NA                                 \n",
       "  Máte/chtěli byste ozdobit své tělo skarifikací? (skarifikace = vyřezávání či vypalování obrazců/slov do kůže)\n",
       "1 ne                                                                                                           \n",
       "2 ne                                                                                                           \n",
       "3 ne                                                                                                           \n",
       "4 ne                                                                                                           \n",
       "5 ne                                                                                                           \n",
       "6 ne                                                                                                           "
      ]
     },
     "metadata": {},
     "output_type": "display_data"
    }
   ],
   "source": [
    "tet <- readxl::read_excel(\"data/neparametricke_hypotezy.xlsx\", sheet = 3)\n",
    "head(tet)\n"
   ]
  },
  {
   "cell_type": "code",
   "execution_count": 2,
   "id": "oriented-distance",
   "metadata": {
    "vscode": {
     "languageId": "r"
    }
   },
   "outputs": [
    {
     "data": {
      "text/html": [
       "<table class=\"dataframe\">\n",
       "<caption>A tibble: 6 × 2</caption>\n",
       "<thead>\n",
       "\t<tr><th scope=col>pohlavi</th><th scope=col>tetovani</th></tr>\n",
       "\t<tr><th scope=col>&lt;chr&gt;</th><th scope=col>&lt;chr&gt;</th></tr>\n",
       "</thead>\n",
       "<tbody>\n",
       "\t<tr><td>žena</td><td>ne</td></tr>\n",
       "\t<tr><td>žena</td><td>ne</td></tr>\n",
       "\t<tr><td>žena</td><td>ne</td></tr>\n",
       "\t<tr><td>muž </td><td>ne</td></tr>\n",
       "\t<tr><td>žena</td><td>ne</td></tr>\n",
       "\t<tr><td>žena</td><td>ne</td></tr>\n",
       "</tbody>\n",
       "</table>\n"
      ],
      "text/latex": [
       "A tibble: 6 × 2\n",
       "\\begin{tabular}{ll}\n",
       " pohlavi & tetovani\\\\\n",
       " <chr> & <chr>\\\\\n",
       "\\hline\n",
       "\t žena & ne\\\\\n",
       "\t žena & ne\\\\\n",
       "\t žena & ne\\\\\n",
       "\t muž  & ne\\\\\n",
       "\t žena & ne\\\\\n",
       "\t žena & ne\\\\\n",
       "\\end{tabular}\n"
      ],
      "text/markdown": [
       "\n",
       "A tibble: 6 × 2\n",
       "\n",
       "| pohlavi &lt;chr&gt; | tetovani &lt;chr&gt; |\n",
       "|---|---|\n",
       "| žena | ne |\n",
       "| žena | ne |\n",
       "| žena | ne |\n",
       "| muž  | ne |\n",
       "| žena | ne |\n",
       "| žena | ne |\n",
       "\n"
      ],
      "text/plain": [
       "  pohlavi tetovani\n",
       "1 žena    ne      \n",
       "2 žena    ne      \n",
       "3 žena    ne      \n",
       "4 muž     ne      \n",
       "5 žena    ne      \n",
       "6 žena    ne      "
      ]
     },
     "metadata": {},
     "output_type": "display_data"
    }
   ],
   "source": [
    "tet <- tet[, c(6, 10)]\n",
    "colnames(tet) <- c(\"pohlavi\", \"tetovani\")\n",
    "head(tet)\n"
   ]
  },
  {
   "cell_type": "code",
   "execution_count": 3,
   "id": "existing-concert",
   "metadata": {
    "vscode": {
     "languageId": "r"
    }
   },
   "outputs": [
    {
     "data": {
      "text/plain": [
       "      \n",
       "       ano  ne\n",
       "  muž   13 194\n",
       "  žena  58 331"
      ]
     },
     "metadata": {},
     "output_type": "display_data"
    }
   ],
   "source": [
    "# Preprocessing\n",
    "# Varianty kat. proměnných (faktorů) je nutné uspořádat a pojmenovat tak,\n",
    "# jak mají být uspořádány a pojmenovány v kont. tabulce\n",
    "\n",
    "\n",
    "kont.tab <- table(tet$pohlavi, tet$tetovani)\n",
    "kont.tab\n"
   ]
  },
  {
   "cell_type": "code",
   "execution_count": 4,
   "id": "molecular-boring",
   "metadata": {
    "vscode": {
     "languageId": "r"
    }
   },
   "outputs": [
    {
     "data": {
      "text/plain": [
       "      \n",
       "       má tetování nemá tetování\n",
       "  muž           13           194\n",
       "  žena          58           331"
      ]
     },
     "metadata": {},
     "output_type": "display_data"
    }
   ],
   "source": [
    "colnames(kont.tab) <- c(\"má tetování\", \"nemá tetování\")\n",
    "kont.tab\n"
   ]
  },
  {
   "cell_type": "code",
   "execution_count": 5,
   "id": "affecting-passenger",
   "metadata": {
    "vscode": {
     "languageId": "r"
    }
   },
   "outputs": [
    {
     "data": {
      "text/plain": [
       "      \n",
       "       má tetování nemá tetování\n",
       "  muž   0.02181208    0.32550336\n",
       "  žena  0.09731544    0.55536913"
      ]
     },
     "metadata": {},
     "output_type": "display_data"
    },
    {
     "data": {
      "text/plain": [
       "      \n",
       "       má tetování nemá tetování\n",
       "  muž   0.06280193    0.93719807\n",
       "  žena  0.14910026    0.85089974"
      ]
     },
     "metadata": {},
     "output_type": "display_data"
    },
    {
     "data": {
      "text/plain": [
       "      \n",
       "       má tetování nemá tetování\n",
       "  muž    0.1830986     0.3695238\n",
       "  žena   0.8169014     0.6304762"
      ]
     },
     "metadata": {},
     "output_type": "display_data"
    }
   ],
   "source": [
    "# Explorační analýza\n",
    "prop.table(kont.tab) # sdružené relativní četnosti\n",
    "prop.table(kont.tab, 1) # řádkové relativní četnosti\n",
    "prop.table(kont.tab, 2) # sloupcové relativní četnosti\n"
   ]
  },
  {
   "cell_type": "code",
   "execution_count": 6,
   "id": "accomplished-arbitration",
   "metadata": {
    "vscode": {
     "languageId": "r"
    }
   },
   "outputs": [
    {
     "data": {
      "image/png": "[encoded data removed]",
      "text/plain": [
       "plot without title"
      ]
     },
     "metadata": {
      "image/png": {
       "height": 420,
       "width": 720
      }
     },
     "output_type": "display_data"
    }
   ],
   "source": [
    "# Vizualizace ve standardním R\n",
    "# Shlukový sloupcový graf\n",
    "# srovnejte grafy, který z grafů je pro prezentaci daných dat vhodnější\n",
    "\n",
    "options(repr.plot.width = 12) # šířka grafů v Jupyteru\n",
    "par(mfrow = c(1, 2)) # matice grafů 1x2\n",
    "\n",
    "barplot(t(kont.tab),\n",
    "        legend = colnames(kont.tab),\n",
    "        beside = TRUE\n",
    ")\n",
    "\n",
    "barplot(kont.tab,\n",
    "        legend = rownames(kont.tab),\n",
    "        beside = TRUE\n",
    ")\n"
   ]
  },
  {
   "cell_type": "code",
   "execution_count": 7,
   "id": "touched-reminder",
   "metadata": {
    "vscode": {
     "languageId": "r"
    }
   },
   "outputs": [
    {
     "data": {
      "image/png": "[encoded data removed]",
      "text/plain": [
       "plot without title"
      ]
     },
     "metadata": {
      "image/png": {
       "height": 420,
       "width": 720
      }
     },
     "output_type": "display_data"
    }
   ],
   "source": [
    "# Skládaný sloupcový graf\n",
    "\n",
    "options(repr.plot.width = 12) # šířka grafů v Jupyteru\n",
    "par(mfrow = c(1, 2)) # matice grafů 1x2\n",
    "\n",
    "barplot(t(kont.tab),\n",
    "        legend = colnames(kont.tab)\n",
    ")\n",
    "\n",
    "barplot(kont.tab,\n",
    "        legend = rownames(kont.tab)\n",
    ")\n"
   ]
  },
  {
   "cell_type": "code",
   "execution_count": 8,
   "id": "lesser-homework",
   "metadata": {
    "vscode": {
     "languageId": "r"
    }
   },
   "outputs": [
    {
     "data": {
      "image/png": "[encoded data removed]",
      "text/plain": [
       "Plot with title “t(kont.tab)”"
      ]
     },
     "metadata": {
      "image/png": {
       "height": 420,
       "width": 480
      }
     },
     "output_type": "display_data"
    },
    {
     "data": {
      "image/png": "[encoded data removed]",
      "text/plain": [
       "Plot with title “kont.tab”"
      ]
     },
     "metadata": {
      "image/png": {
       "height": 420,
       "width": 480
      }
     },
     "output_type": "display_data"
    }
   ],
   "source": [
    "# Mozaikový graf\n",
    "\n",
    "options(repr.plot.width = 8) # šířka grafů v Jupyteru\n",
    "\n",
    "mosaicplot(t(kont.tab),\n",
    "    las = 1, # otočení popisků osy y\n",
    "    color = gray.colors(2)\n",
    ")\n",
    "\n",
    "# srovnejte, který z grafů je pro prezentaci daných dat vhodnější\n",
    "mosaicplot(kont.tab,\n",
    "    las = 1,\n",
    "    color = gray.colors(2)\n",
    ")\n"
   ]
  },
  {
   "cell_type": "code",
   "execution_count": null,
   "id": "comfortable-cornwall",
   "metadata": {
    "vscode": {
     "languageId": "r"
    }
   },
   "outputs": [],
   "source": [
    "# install.packages(\"lsr\")\n"
   ]
  },
  {
   "cell_type": "code",
   "execution_count": 9,
   "id": "coordinated-silicon",
   "metadata": {
    "vscode": {
     "languageId": "r"
    }
   },
   "outputs": [
    {
     "data": {
      "text/html": [
       "0.121399849510563"
      ],
      "text/latex": [
       "0.121399849510563"
      ],
      "text/markdown": [
       "0.121399849510563"
      ],
      "text/plain": [
       "[1] 0.1213998"
      ]
     },
     "metadata": {},
     "output_type": "display_data"
    }
   ],
   "source": [
    "# Výpočet Cramerova V ####\n",
    "lsr::cramersV(kont.tab)\n"
   ]
  },
  {
   "cell_type": "code",
   "execution_count": 10,
   "id": "boring-vehicle",
   "metadata": {
    "vscode": {
     "languageId": "r"
    }
   },
   "outputs": [
    {
     "data": {
      "text/html": [
       "<dl>\n",
       "\t<dt>$names</dt>\n",
       "\t\t<dd><style>\n",
       ".list-inline {list-style: none; margin:0; padding: 0}\n",
       ".list-inline>li {display: inline-block}\n",
       ".list-inline>li:not(:last-child)::after {content: \"\\00b7\"; padding: 0 .5ex}\n",
       "</style>\n",
       "<ol class=list-inline><li>'statistic'</li><li>'parameter'</li><li>'p.value'</li><li>'method'</li><li>'data.name'</li><li>'observed'</li><li>'expected'</li><li>'residuals'</li><li>'stdres'</li></ol>\n",
       "</dd>\n",
       "\t<dt>$class</dt>\n",
       "\t\t<dd>'htest'</dd>\n",
       "</dl>\n"
      ],
      "text/latex": [
       "\\begin{description}\n",
       "\\item[\\$names] \\begin{enumerate*}\n",
       "\\item 'statistic'\n",
       "\\item 'parameter'\n",
       "\\item 'p.value'\n",
       "\\item 'method'\n",
       "\\item 'data.name'\n",
       "\\item 'observed'\n",
       "\\item 'expected'\n",
       "\\item 'residuals'\n",
       "\\item 'stdres'\n",
       "\\end{enumerate*}\n",
       "\n",
       "\\item[\\$class] 'htest'\n",
       "\\end{description}\n"
      ],
      "text/markdown": [
       "$names\n",
       ":   1. 'statistic'\n",
       "2. 'parameter'\n",
       "3. 'p.value'\n",
       "4. 'method'\n",
       "5. 'data.name'\n",
       "6. 'observed'\n",
       "7. 'expected'\n",
       "8. 'residuals'\n",
       "9. 'stdres'\n",
       "\n",
       "\n",
       "\n",
       "$class\n",
       ":   'htest'\n",
       "\n",
       "\n"
      ],
      "text/plain": [
       "$names\n",
       "[1] \"statistic\" \"parameter\" \"p.value\"   \"method\"    \"data.name\" \"observed\" \n",
       "[7] \"expected\"  \"residuals\" \"stdres\"   \n",
       "\n",
       "$class\n",
       "[1] \"htest\"\n"
      ]
     },
     "metadata": {},
     "output_type": "display_data"
    }
   ],
   "source": [
    "# Test nezávislosti v kontingenční tabulce\n",
    "\n",
    "# H0: Data jsou nezávislá -> to jestli je jedinec muž nebo žena\n",
    "# neovlivní jeho pravděpodobnost, že budemít tetování\n",
    "# HA: negace H0 (existuje závislost)\n",
    "\n",
    "pom <- chisq.test(kont.tab)\n",
    "attributes(pom)\n"
   ]
  },
  {
   "cell_type": "code",
   "execution_count": 11,
   "id": "bulgarian-diabetes",
   "metadata": {
    "vscode": {
     "languageId": "r"
    }
   },
   "outputs": [
    {
     "data": {
      "text/html": [
       "<table class=\"dataframe\">\n",
       "<caption>A matrix: 2 × 2 of type dbl</caption>\n",
       "<thead>\n",
       "\t<tr><th></th><th scope=col>má tetování</th><th scope=col>nemá tetování</th></tr>\n",
       "</thead>\n",
       "<tbody>\n",
       "\t<tr><th scope=row>muž</th><td>24.6594</td><td>182.3406</td></tr>\n",
       "\t<tr><th scope=row>žena</th><td>46.3406</td><td>342.6594</td></tr>\n",
       "</tbody>\n",
       "</table>\n"
      ],
      "text/latex": [
       "A matrix: 2 × 2 of type dbl\n",
       "\\begin{tabular}{r|ll}\n",
       "  & má tetování & nemá tetování\\\\\n",
       "\\hline\n",
       "\tmuž & 24.6594 & 182.3406\\\\\n",
       "\tžena & 46.3406 & 342.6594\\\\\n",
       "\\end{tabular}\n"
      ],
      "text/markdown": [
       "\n",
       "A matrix: 2 × 2 of type dbl\n",
       "\n",
       "| <!--/--> | má tetování | nemá tetování |\n",
       "|---|---|---|\n",
       "| muž | 24.6594 | 182.3406 |\n",
       "| žena | 46.3406 | 342.6594 |\n",
       "\n"
      ],
      "text/plain": [
       "      \n",
       "       má tetování nemá tetování\n",
       "  muž  24.6594     182.3406     \n",
       "  žena 46.3406     342.6594     "
      ]
     },
     "metadata": {},
     "output_type": "display_data"
    }
   ],
   "source": [
    "pom$expected # Nutné pro ověření předpokladů\n",
    "# Všechny očekávané četnosti jsou větší než 5.\n"
   ]
  },
  {
   "cell_type": "code",
   "execution_count": 12,
   "id": "ongoing-floating",
   "metadata": {
    "vscode": {
     "languageId": "r"
    }
   },
   "outputs": [
    {
     "data": {
      "text/plain": [
       "\n",
       "\tPearson's Chi-squared test with Yates' continuity correction\n",
       "\n",
       "data:  kont.tab\n",
       "X-squared = 8.7838, df = 1, p-value = 0.003039\n"
      ]
     },
     "metadata": {},
     "output_type": "display_data"
    }
   ],
   "source": [
    "pom\n",
    "\n",
    "# Na hladině významnosti 0,05 lze zamítnout HO (p-hodnota = 0,003,\n",
    "# Chí-kvadrát test dobré shody, df = 1).\n",
    "# Pozorovanou závislost lze hodnotit jako slabou (Cramerovo V = 0,121).\n"
   ]
  },
  {
   "attachments": {
    "ebc6062c-1020-4fab-8855-6665d65d59a7.png": {
     "image/png": "[encoded data removed]"
    }
   },
   "cell_type": "markdown",
   "id": "political-murray",
   "metadata": {},
   "source": [
    "## Příklad 6.\n",
    "Pro diferencovaný přístup v personální politice potřebuje vedení podniku vědět, zda spokojenost v práci závisí na tom, jedná-li se o pražský závod či závody mimopražské. Výsledky šetření jsou v následující tabulce. Zobrazte data pomocí mozaikového grafu a na základě testu nezávislosti v kombinační tabulce rozhodněte o závislosti spokojenosti v zaměstnání na umístnění podniku. Pro posouzení míry kontingence použijte Cramerovo V.<br>\n",
    "![image.png](attachment:ebc6062c-1020-4fab-8855-6665d65d59a7.png)"
   ]
  },
  {
   "cell_type": "code",
   "execution_count": 13,
   "id": "interior-original",
   "metadata": {
    "vscode": {
     "languageId": "r"
    }
   },
   "outputs": [
    {
     "data": {
      "text/plain": [
       "       velmi nespokojen spíše nespokojen spíše spokojen velmi spokojen\n",
       "Praha                10               25             50             15\n",
       "Venkov               20               10            130             40"
      ]
     },
     "metadata": {},
     "output_type": "display_data"
    }
   ],
   "source": [
    "# Nemáme k dispozici datovou matici, tj. kont. tabulku musíme zadat \"ručně\"\n",
    "kont.tab <- matrix(c(10, 25, 50, 15, 20, 10, 130, 40),\n",
    "    nrow = 2, byrow = TRUE\n",
    ")\n",
    "rownames(kont.tab) <- c(\"Praha\", \"Venkov\")\n",
    "colnames(kont.tab) <- c(\n",
    "    \"velmi nespokojen\", \"spíše nespokojen\",\n",
    "    \"spíše spokojen\", \"velmi spokojen\"\n",
    ")\n",
    "kont.tab <- as.table(kont.tab)\n",
    "kont.tab\n"
   ]
  },
  {
   "cell_type": "code",
   "execution_count": 14,
   "id": "cooked-feature",
   "metadata": {
    "vscode": {
     "languageId": "r"
    }
   },
   "outputs": [
    {
     "data": {
      "text/plain": [
       "       velmi nespokojen spíše nespokojen spíše spokojen velmi spokojen\n",
       "Praha        0.03333333       0.08333333     0.16666667     0.05000000\n",
       "Venkov       0.06666667       0.03333333     0.43333333     0.13333333"
      ]
     },
     "metadata": {},
     "output_type": "display_data"
    },
    {
     "data": {
      "text/plain": [
       "       velmi nespokojen spíše nespokojen spíše spokojen velmi spokojen\n",
       "Praha              0.10             0.25           0.50           0.15\n",
       "Venkov             0.10             0.05           0.65           0.20"
      ]
     },
     "metadata": {},
     "output_type": "display_data"
    },
    {
     "data": {
      "text/plain": [
       "       velmi nespokojen spíše nespokojen spíše spokojen velmi spokojen\n",
       "Praha         0.3333333        0.7142857      0.2777778      0.2727273\n",
       "Venkov        0.6666667        0.2857143      0.7222222      0.7272727"
      ]
     },
     "metadata": {},
     "output_type": "display_data"
    }
   ],
   "source": [
    "# Explorační analýza ####\n",
    "prop.table(kont.tab) # sdružené relativní četnosti\n",
    "prop.table(kont.tab, 1) # řádkové relativní četnosti\n",
    "prop.table(kont.tab, 2) # sloupcové relativní četnosti\n"
   ]
  },
  {
   "cell_type": "code",
   "execution_count": 15,
   "id": "molecular-valley",
   "metadata": {
    "vscode": {
     "languageId": "r"
    }
   },
   "outputs": [
    {
     "data": {
      "image/png": "[encoded data removed]",
      "text/plain": [
       "Plot with title “kont.tab”"
      ]
     },
     "metadata": {
      "image/png": {
       "height": 420,
       "width": 480
      }
     },
     "output_type": "display_data"
    }
   ],
   "source": [
    "# Vizualizace ve standardním R\n",
    "# Mozaikový graf\n",
    "mosaicplot(kont.tab,\n",
    "    las = 1, # otočení popisků osy y o 90\n",
    "    color = gray.colors(4)\n",
    ")\n"
   ]
  },
  {
   "cell_type": "code",
   "execution_count": 16,
   "id": "pointed-glance",
   "metadata": {
    "vscode": {
     "languageId": "r"
    }
   },
   "outputs": [
    {
     "data": {
      "text/html": [
       "0.295895441928585"
      ],
      "text/latex": [
       "0.295895441928585"
      ],
      "text/markdown": [
       "0.295895441928585"
      ],
      "text/plain": [
       "[1] 0.2958954"
      ]
     },
     "metadata": {},
     "output_type": "display_data"
    }
   ],
   "source": [
    "# Cramerovo V\n",
    "lsr::cramersV(kont.tab)\n"
   ]
  },
  {
   "cell_type": "code",
   "execution_count": 17,
   "id": "excited-bottle",
   "metadata": {
    "vscode": {
     "languageId": "r"
    }
   },
   "outputs": [
    {
     "data": {
      "text/html": [
       "<table class=\"dataframe\">\n",
       "<caption>A matrix: 2 × 4 of type dbl</caption>\n",
       "<thead>\n",
       "\t<tr><th></th><th scope=col>velmi nespokojen</th><th scope=col>spíše nespokojen</th><th scope=col>spíše spokojen</th><th scope=col>velmi spokojen</th></tr>\n",
       "</thead>\n",
       "<tbody>\n",
       "\t<tr><th scope=row>Praha</th><td>10</td><td>11.66667</td><td> 60</td><td>18.33333</td></tr>\n",
       "\t<tr><th scope=row>Venkov</th><td>20</td><td>23.33333</td><td>120</td><td>36.66667</td></tr>\n",
       "</tbody>\n",
       "</table>\n"
      ],
      "text/latex": [
       "A matrix: 2 × 4 of type dbl\n",
       "\\begin{tabular}{r|llll}\n",
       "  & velmi nespokojen & spíše nespokojen & spíše spokojen & velmi spokojen\\\\\n",
       "\\hline\n",
       "\tPraha & 10 & 11.66667 &  60 & 18.33333\\\\\n",
       "\tVenkov & 20 & 23.33333 & 120 & 36.66667\\\\\n",
       "\\end{tabular}\n"
      ],
      "text/markdown": [
       "\n",
       "A matrix: 2 × 4 of type dbl\n",
       "\n",
       "| <!--/--> | velmi nespokojen | spíše nespokojen | spíše spokojen | velmi spokojen |\n",
       "|---|---|---|---|---|\n",
       "| Praha | 10 | 11.66667 |  60 | 18.33333 |\n",
       "| Venkov | 20 | 23.33333 | 120 | 36.66667 |\n",
       "\n"
      ],
      "text/plain": [
       "       velmi nespokojen spíše nespokojen spíše spokojen velmi spokojen\n",
       "Praha  10               11.66667          60            18.33333      \n",
       "Venkov 20               23.33333         120            36.66667      "
      ]
     },
     "metadata": {},
     "output_type": "display_data"
    }
   ],
   "source": [
    "# H0: Mezi spokojenosti v práci a umístěním podniku neexistuje souvislost.\n",
    "# Ha: Mezi spokojenosti v práci a umístěním podniku existuje souvislost.\n",
    "\n",
    "# Chí-kvadrát test nezávislosti v kontingenční tabulce ####\n",
    "pom <- chisq.test(kont.tab)\n",
    "pom$expected\n",
    "# Všechny očekávané četnosti jsou větší než 5.\n"
   ]
  },
  {
   "cell_type": "code",
   "execution_count": 18,
   "id": "outside-aurora",
   "metadata": {
    "vscode": {
     "languageId": "r"
    }
   },
   "outputs": [
    {
     "data": {
      "text/plain": [
       "\n",
       "\tPearson's Chi-squared test\n",
       "\n",
       "data:  kont.tab\n",
       "X-squared = 26.266, df = 3, p-value = 8.388e-06\n"
      ]
     },
     "metadata": {},
     "output_type": "display_data"
    }
   ],
   "source": [
    "pom\n",
    "\n",
    "# Na hladině významnosti 0,05 lze zamítnout HO (p-hodnota << 0,001,\n",
    "# Chí-kvadrát test dobré shody, df = 3).\n",
    "# Pozorovanou závislost lze hodnotit jako středně silnou (Cramerovo V = 0,296)\n"
   ]
  },
  {
   "cell_type": "markdown",
   "id": "apparent-founder",
   "metadata": {},
   "source": [
    "## Příklad 7. (Asociační tabulka)\n",
    "V letech 1965 až 1968 bylo v kohortové studii kardiovaskulárních onemocnění v rámci „Honolulu Heart Program“ zahájeno sledování 8 006 mužů, z nichž 7 872 nemělo při zahájení studie v anamnéze mrtvici (apoplexii). Z tohoto počtu bylo 3 435 kuřáků a 4 437 nekuřáků. Při jejich sledování po dobu 12 let dostalo mrtvici 171 mužů ve skupině kuřáků a 117 mužů ve skupině nekuřáků. \n",
    "#### a) \n",
    "Zapište zjištěné výsledky do asociační tabulky."
   ]
  },
  {
   "cell_type": "code",
   "execution_count": 19,
   "id": "approved-grain",
   "metadata": {
    "vscode": {
     "languageId": "r"
    }
   },
   "outputs": [
    {
     "data": {
      "text/html": [
       "<table class=\"dataframe\">\n",
       "<caption>A matrix: 2 × 2 of type dbl</caption>\n",
       "<thead>\n",
       "\t<tr><th></th><th scope=col>ano</th><th scope=col>ne</th></tr>\n",
       "</thead>\n",
       "<tbody>\n",
       "\t<tr><th scope=row>kuřák</th><td>171</td><td>3264</td></tr>\n",
       "\t<tr><th scope=row>nekuřák</th><td>117</td><td>4320</td></tr>\n",
       "</tbody>\n",
       "</table>\n"
      ],
      "text/latex": [
       "A matrix: 2 × 2 of type dbl\n",
       "\\begin{tabular}{r|ll}\n",
       "  & ano & ne\\\\\n",
       "\\hline\n",
       "\tkuřák & 171 & 3264\\\\\n",
       "\tnekuřák & 117 & 4320\\\\\n",
       "\\end{tabular}\n"
      ],
      "text/markdown": [
       "\n",
       "A matrix: 2 × 2 of type dbl\n",
       "\n",
       "| <!--/--> | ano | ne |\n",
       "|---|---|---|\n",
       "| kuřák | 171 | 3264 |\n",
       "| nekuřák | 117 | 4320 |\n",
       "\n"
      ],
      "text/plain": [
       "        ano ne  \n",
       "kuřák   171 3264\n",
       "nekuřák 117 4320"
      ]
     },
     "metadata": {},
     "output_type": "display_data"
    }
   ],
   "source": [
    "kont.tab <- matrix(c(171, 3264, 117, 4320), nrow = 2, byrow = TRUE)\n",
    "rownames(kont.tab) <- c(\"kuřák\", \"nekuřák\")\n",
    "colnames(kont.tab) <- c(\"ano\", \"ne\")\n",
    "kont.tab\n"
   ]
  },
  {
   "cell_type": "code",
   "execution_count": 20,
   "id": "physical-radical",
   "metadata": {
    "vscode": {
     "languageId": "r"
    }
   },
   "outputs": [
    {
     "data": {
      "text/html": [
       "<table class=\"dataframe\">\n",
       "<caption>A matrix: 3 × 3 of type dbl</caption>\n",
       "<thead>\n",
       "\t<tr><th></th><th scope=col>ano</th><th scope=col>ne</th><th scope=col>sum</th></tr>\n",
       "</thead>\n",
       "<tbody>\n",
       "\t<tr><th scope=row>kuřák</th><td>171</td><td>3264</td><td>3435</td></tr>\n",
       "\t<tr><th scope=row>nekuřák</th><td>117</td><td>4320</td><td>4437</td></tr>\n",
       "\t<tr><th scope=row>sum</th><td>288</td><td>7584</td><td>7872</td></tr>\n",
       "</tbody>\n",
       "</table>\n"
      ],
      "text/latex": [
       "A matrix: 3 × 3 of type dbl\n",
       "\\begin{tabular}{r|lll}\n",
       "  & ano & ne & sum\\\\\n",
       "\\hline\n",
       "\tkuřák & 171 & 3264 & 3435\\\\\n",
       "\tnekuřák & 117 & 4320 & 4437\\\\\n",
       "\tsum & 288 & 7584 & 7872\\\\\n",
       "\\end{tabular}\n"
      ],
      "text/markdown": [
       "\n",
       "A matrix: 3 × 3 of type dbl\n",
       "\n",
       "| <!--/--> | ano | ne | sum |\n",
       "|---|---|---|---|\n",
       "| kuřák | 171 | 3264 | 3435 |\n",
       "| nekuřák | 117 | 4320 | 4437 |\n",
       "| sum | 288 | 7584 | 7872 |\n",
       "\n"
      ],
      "text/plain": [
       "        ano ne   sum \n",
       "kuřák   171 3264 3435\n",
       "nekuřák 117 4320 4437\n",
       "sum     288 7584 7872"
      ]
     },
     "metadata": {},
     "output_type": "display_data"
    }
   ],
   "source": [
    "# doplnění tabulky absolutních četností\n",
    "kont.tab.full <- matrix(rep(0, 9), nrow = 3, ncol = 3)\n",
    "rownames(kont.tab.full) <- c(\"kuřák\", \"nekuřák\", \"sum\")\n",
    "colnames(kont.tab.full) <- c(\"ano\", \"ne\", \"sum\")\n",
    "\n",
    "kont.tab.full[1:2, 1:2] <- kont.tab\n",
    "kont.tab.full[1:2, 3] <- rowSums(kont.tab)\n",
    "kont.tab.full[3, 1:2] <- colSums(kont.tab)\n",
    "kont.tab.full[3, 3] <- sum(kont.tab)\n",
    "kont.tab.full\n"
   ]
  },
  {
   "cell_type": "code",
   "execution_count": 21,
   "id": "interim-conversion",
   "metadata": {
    "vscode": {
     "languageId": "r"
    }
   },
   "outputs": [
    {
     "data": {
      "text/html": [
       "<table class=\"dataframe\">\n",
       "<caption>A matrix: 3 × 3 of type dbl</caption>\n",
       "<thead>\n",
       "\t<tr><th></th><th scope=col>ano</th><th scope=col>ne</th><th scope=col>sum</th></tr>\n",
       "</thead>\n",
       "<tbody>\n",
       "\t<tr><th scope=row>kuřák</th><td>0.02172256</td><td>0.4146341</td><td>0.4363567</td></tr>\n",
       "\t<tr><th scope=row>nekuřák</th><td>0.01486280</td><td>0.5487805</td><td>0.5636433</td></tr>\n",
       "\t<tr><th scope=row>sum</th><td>0.03658537</td><td>0.9634146</td><td>1.0000000</td></tr>\n",
       "</tbody>\n",
       "</table>\n"
      ],
      "text/latex": [
       "A matrix: 3 × 3 of type dbl\n",
       "\\begin{tabular}{r|lll}\n",
       "  & ano & ne & sum\\\\\n",
       "\\hline\n",
       "\tkuřák & 0.02172256 & 0.4146341 & 0.4363567\\\\\n",
       "\tnekuřák & 0.01486280 & 0.5487805 & 0.5636433\\\\\n",
       "\tsum & 0.03658537 & 0.9634146 & 1.0000000\\\\\n",
       "\\end{tabular}\n"
      ],
      "text/markdown": [
       "\n",
       "A matrix: 3 × 3 of type dbl\n",
       "\n",
       "| <!--/--> | ano | ne | sum |\n",
       "|---|---|---|---|\n",
       "| kuřák | 0.02172256 | 0.4146341 | 0.4363567 |\n",
       "| nekuřák | 0.01486280 | 0.5487805 | 0.5636433 |\n",
       "| sum | 0.03658537 | 0.9634146 | 1.0000000 |\n",
       "\n"
      ],
      "text/plain": [
       "        ano        ne        sum      \n",
       "kuřák   0.02172256 0.4146341 0.4363567\n",
       "nekuřák 0.01486280 0.5487805 0.5636433\n",
       "sum     0.03658537 0.9634146 1.0000000"
      ]
     },
     "metadata": {},
     "output_type": "display_data"
    }
   ],
   "source": [
    "# doplnění tabulky relativních četností\n",
    "kont.tab.rel <- matrix(rep(0, 9), nrow = 3, ncol = 3)\n",
    "rownames(kont.tab.rel) <- c(\"kuřák\", \"nekuřák\", \"sum\")\n",
    "colnames(kont.tab.rel) <- c(\"ano\", \"ne\", \"sum\")\n",
    "\n",
    "kont.tab.rel[1:2, 1:2] <- prop.table(kont.tab)\n",
    "kont.tab.rel[1:2, 3] <- rowSums(kont.tab.rel[1:2, 1:2])\n",
    "kont.tab.rel[3, 1:2] <- colSums(kont.tab.rel[1:2, 1:2])\n",
    "kont.tab.rel[3, 3] <- sum(kont.tab.rel[1:2, 1:2])\n",
    "kont.tab.rel\n"
   ]
  },
  {
   "cell_type": "markdown",
   "id": "phantom-corpus",
   "metadata": {},
   "source": [
    "#### b)\n",
    "Na základě vizuálního posouzení odhadněte vliv kouření na výskyt kardiovaskulárních onemocnění."
   ]
  },
  {
   "cell_type": "code",
   "execution_count": 22,
   "id": "understood-hygiene",
   "metadata": {
    "vscode": {
     "languageId": "r"
    }
   },
   "outputs": [
    {
     "data": {
      "image/png": "[encoded data removed]",
      "text/plain": [
       "Plot with title “kont.tab”"
      ]
     },
     "metadata": {
      "image/png": {
       "height": 420,
       "width": 480
      }
     },
     "output_type": "display_data"
    }
   ],
   "source": [
    "# Vizualizace mozaikovým grafem v základním R\n",
    "mosaicplot(kont.tab,\n",
    "    color = gray.colors(2)\n",
    ")\n"
   ]
  },
  {
   "cell_type": "code",
   "execution_count": 23,
   "id": "hispanic-stocks",
   "metadata": {
    "vscode": {
     "languageId": "r"
    }
   },
   "outputs": [
    {
     "data": {
      "text/html": [
       "0.0611636289024134"
      ],
      "text/latex": [
       "0.0611636289024134"
      ],
      "text/markdown": [
       "0.0611636289024134"
      ],
      "text/plain": [
       "[1] 0.06116363"
      ]
     },
     "metadata": {},
     "output_type": "display_data"
    }
   ],
   "source": [
    "# Výpočet Cramerova V ####\n",
    "lsr::cramersV(kont.tab)\n",
    "\n",
    "# Dle mozaikového grafu a Cramerova V (0,061) lze souvislost mezi kuřáctvím\n",
    "# a výskytem apoplexie hodnotit jako velmi slabou.\n"
   ]
  },
  {
   "cell_type": "markdown",
   "id": "critical-accessory",
   "metadata": {},
   "source": [
    "#### c)\n",
    "Určete absolutní riziko vzniku kardiovaskulárních onemocnění u kuřáků a nekuřáků."
   ]
  },
  {
   "cell_type": "code",
   "execution_count": 24,
   "id": "personal-accommodation",
   "metadata": {
    "vscode": {
     "languageId": "r"
    }
   },
   "outputs": [
    {
     "data": {
      "text/html": [
       "<table class=\"dataframe\">\n",
       "<caption>A matrix: 3 × 3 of type dbl</caption>\n",
       "<thead>\n",
       "\t<tr><th></th><th scope=col>ano</th><th scope=col>ne</th><th scope=col>sum</th></tr>\n",
       "</thead>\n",
       "<tbody>\n",
       "\t<tr><th scope=row>kuřák</th><td>171</td><td>3264</td><td>3435</td></tr>\n",
       "\t<tr><th scope=row>nekuřák</th><td>117</td><td>4320</td><td>4437</td></tr>\n",
       "\t<tr><th scope=row>sum</th><td>288</td><td>7584</td><td>7872</td></tr>\n",
       "</tbody>\n",
       "</table>\n"
      ],
      "text/latex": [
       "A matrix: 3 × 3 of type dbl\n",
       "\\begin{tabular}{r|lll}\n",
       "  & ano & ne & sum\\\\\n",
       "\\hline\n",
       "\tkuřák & 171 & 3264 & 3435\\\\\n",
       "\tnekuřák & 117 & 4320 & 4437\\\\\n",
       "\tsum & 288 & 7584 & 7872\\\\\n",
       "\\end{tabular}\n"
      ],
      "text/markdown": [
       "\n",
       "A matrix: 3 × 3 of type dbl\n",
       "\n",
       "| <!--/--> | ano | ne | sum |\n",
       "|---|---|---|---|\n",
       "| kuřák | 171 | 3264 | 3435 |\n",
       "| nekuřák | 117 | 4320 | 4437 |\n",
       "| sum | 288 | 7584 | 7872 |\n",
       "\n"
      ],
      "text/plain": [
       "        ano ne   sum \n",
       "kuřák   171 3264 3435\n",
       "nekuřák 117 4320 4437\n",
       "sum     288 7584 7872"
      ]
     },
     "metadata": {},
     "output_type": "display_data"
    }
   ],
   "source": [
    "# riziko = pravděpodobnost\n",
    "kont.tab.full\n"
   ]
  },
  {
   "cell_type": "code",
   "execution_count": 25,
   "id": "intensive-weather",
   "metadata": {
    "vscode": {
     "languageId": "r"
    }
   },
   "outputs": [
    {
     "data": {
      "text/html": [
       "0.0497816593886463"
      ],
      "text/latex": [
       "0.0497816593886463"
      ],
      "text/markdown": [
       "0.0497816593886463"
      ],
      "text/plain": [
       "[1] 0.04978166"
      ]
     },
     "metadata": {},
     "output_type": "display_data"
    }
   ],
   "source": [
    "# Kuřáci\n",
    "# Kontrola předpokladů\n",
    "p <- 171 / 3435\n",
    "p\n"
   ]
  },
  {
   "cell_type": "code",
   "execution_count": 26,
   "id": "circular-massachusetts",
   "metadata": {
    "vscode": {
     "languageId": "r"
    }
   },
   "outputs": [
    {
     "data": {
      "text/html": [
       "190.260981037152"
      ],
      "text/latex": [
       "190.260981037152"
      ],
      "text/markdown": [
       "190.260981037152"
      ],
      "text/plain": [
       "[1] 190.261"
      ]
     },
     "metadata": {},
     "output_type": "display_data"
    }
   ],
   "source": [
    "9 / (p * (1 - p))\n",
    "# OK (3 435 > 190,3)\n"
   ]
  },
  {
   "cell_type": "code",
   "execution_count": 27,
   "id": "wired-perspective",
   "metadata": {
    "vscode": {
     "languageId": "r"
    }
   },
   "outputs": [
    {
     "data": {
      "text/plain": [
       "\n",
       "\t1-sample proportions test with continuity correction\n",
       "\n",
       "data:  171 out of 3435, null probability 0.5\n",
       "X-squared = 2783.3, df = 1, p-value < 2.2e-16\n",
       "alternative hypothesis: true p is not equal to 0.5\n",
       "95 percent confidence interval:\n",
       " 0.04286263 0.05772662\n",
       "sample estimates:\n",
       "         p \n",
       "0.04978166 \n"
      ]
     },
     "metadata": {},
     "output_type": "display_data"
    }
   ],
   "source": [
    "# Výpočet bodového a 95% Clopperova-Pearsonova intervalového odhadu\n",
    "prop.test(x = 171, n = 3435)\n",
    "\n",
    "# U kuřáku je riziko vzniku apoplexie cca 5,0 %. 95% Clopperův-Pearsonův\n",
    "# intervalový odhad tohoto rizika je 4,2 % až 5,8 %.\n"
   ]
  },
  {
   "cell_type": "code",
   "execution_count": 28,
   "id": "economic-version",
   "metadata": {
    "vscode": {
     "languageId": "r"
    }
   },
   "outputs": [
    {
     "data": {
      "text/html": [
       "0.026369168356998"
      ],
      "text/latex": [
       "0.026369168356998"
      ],
      "text/markdown": [
       "0.026369168356998"
      ],
      "text/plain": [
       "[1] 0.02636917"
      ]
     },
     "metadata": {},
     "output_type": "display_data"
    }
   ],
   "source": [
    "# Nekuřáci\n",
    "# Kontrola předpokladů\n",
    "p <- 117 / 4437\n",
    "p\n"
   ]
  },
  {
   "cell_type": "code",
   "execution_count": 29,
   "id": "steady-supplement",
   "metadata": {
    "vscode": {
     "languageId": "r"
    }
   },
   "outputs": [
    {
     "data": {
      "text/html": [
       "350.551442307692"
      ],
      "text/latex": [
       "350.551442307692"
      ],
      "text/markdown": [
       "350.551442307692"
      ],
      "text/plain": [
       "[1] 350.5514"
      ]
     },
     "metadata": {},
     "output_type": "display_data"
    }
   ],
   "source": [
    "9 / p / (1 - p)\n",
    "# OK (4 437 > 350,6)\n"
   ]
  },
  {
   "cell_type": "code",
   "execution_count": 30,
   "id": "juvenile-ranking",
   "metadata": {
    "vscode": {
     "languageId": "r"
    }
   },
   "outputs": [
    {
     "data": {
      "text/plain": [
       "\n",
       "\t1-sample proportions test with continuity correction\n",
       "\n",
       "data:  117 out of 4437, null probability 0.5\n",
       "X-squared = 3979.4, df = 1, p-value < 2.2e-16\n",
       "alternative hypothesis: true p is not equal to 0.5\n",
       "95 percent confidence interval:\n",
       " 0.02194567 0.03163158\n",
       "sample estimates:\n",
       "         p \n",
       "0.02636917 \n"
      ]
     },
     "metadata": {},
     "output_type": "display_data"
    }
   ],
   "source": [
    "# Výpočet bodového a 95% Clopperova-Pearsonova intervalového odhadu\n",
    "prop.test(117, 4437)\n",
    "\n",
    "# U nekuřáku je riziko vzniku apoplexie cca 2,6 %. 95% Clopperův-Pearsonův\n",
    "# intervalový odhad tohoto rizika je 2,1 % až 3,2 %.\n"
   ]
  },
  {
   "cell_type": "markdown",
   "id": "christian-judgment",
   "metadata": {},
   "source": [
    "#### d)\n",
    "Určete relativní riziko (včetně 95% intervalového odhadu) vzniku kardiovaskulárních onemocnění u kuřáků a nekuřáků. Vysvětlete praktický význam zjištěných výsledků."
   ]
  },
  {
   "cell_type": "code",
   "execution_count": 31,
   "id": "innovative-graphics",
   "metadata": {
    "vscode": {
     "languageId": "r"
    }
   },
   "outputs": [],
   "source": [
    "# install.packages(\"epiR\")\n"
   ]
  },
  {
   "cell_type": "code",
   "execution_count": 32,
   "id": "caroline-laser",
   "metadata": {
    "vscode": {
     "languageId": "r"
    }
   },
   "outputs": [
    {
     "data": {
      "text/html": [
       "<table class=\"dataframe\">\n",
       "<caption>A matrix: 2 × 2 of type dbl</caption>\n",
       "<thead>\n",
       "\t<tr><th></th><th scope=col>ano</th><th scope=col>ne</th></tr>\n",
       "</thead>\n",
       "<tbody>\n",
       "\t<tr><th scope=row>kuřák</th><td>171</td><td>3264</td></tr>\n",
       "\t<tr><th scope=row>nekuřák</th><td>117</td><td>4320</td></tr>\n",
       "</tbody>\n",
       "</table>\n"
      ],
      "text/latex": [
       "A matrix: 2 × 2 of type dbl\n",
       "\\begin{tabular}{r|ll}\n",
       "  & ano & ne\\\\\n",
       "\\hline\n",
       "\tkuřák & 171 & 3264\\\\\n",
       "\tnekuřák & 117 & 4320\\\\\n",
       "\\end{tabular}\n"
      ],
      "text/markdown": [
       "\n",
       "A matrix: 2 × 2 of type dbl\n",
       "\n",
       "| <!--/--> | ano | ne |\n",
       "|---|---|---|\n",
       "| kuřák | 171 | 3264 |\n",
       "| nekuřák | 117 | 4320 |\n",
       "\n"
      ],
      "text/plain": [
       "        ano ne  \n",
       "kuřák   171 3264\n",
       "nekuřák 117 4320"
      ]
     },
     "metadata": {},
     "output_type": "display_data"
    }
   ],
   "source": [
    "kont.tab\n"
   ]
  },
  {
   "cell_type": "code",
   "execution_count": 33,
   "id": "universal-anatomy",
   "metadata": {
    "vscode": {
     "languageId": "r"
    }
   },
   "outputs": [
    {
     "data": {
      "text/plain": [
       "             Outcome +    Outcome -      Total                 Inc risk *\n",
       "Exposed +          171         3264       3435        4.98 (4.27 to 5.76)\n",
       "Exposed -          117         4320       4437        2.64 (2.19 to 3.15)\n",
       "Total              288         7584       7872        3.66 (3.25 to 4.10)\n",
       "\n",
       "Point estimates and 95% CIs:\n",
       "-------------------------------------------------------------------\n",
       "Inc risk ratio                                 1.89 (1.50, 2.38)\n",
       "Inc odds ratio                                 1.93 (1.52, 2.46)\n",
       "Attrib risk in the exposed *                   2.34 (1.47, 3.21)\n",
       "Attrib fraction in the exposed (%)            47.03 (33.27, 57.95)\n",
       "Attrib risk in the population *                1.02 (0.39, 1.65)\n",
       "Attrib fraction in the population (%)         27.92 (17.32, 37.17)\n",
       "-------------------------------------------------------------------\n",
       "Uncorrected chi2 test that OR = 1: chi2(1) = 30.110 Pr>chi2 = <0.001\n",
       "Fisher exact test that OR = 1: Pr>chi2 = <0.001\n",
       " Wald confidence limits\n",
       " CI: confidence interval\n",
       " * Outcomes per 100 population units "
      ]
     },
     "metadata": {},
     "output_type": "display_data"
    }
   ],
   "source": [
    "epiR::epi.2by2(kont.tab)\n",
    "\n",
    "# U kuřáků je cca 1,89 krát vyšší riziko apoplexie než u nekuřáků. 95%\n",
    "# intervalový odhad tohoto relativního rizika je 1,50 až 2,38.\n",
    "# Dle intervalového odhadu relativního rizika je zřejmé, že na hladině\n",
    "# významnosti 0,05 je u kuřáků statisticky významně vyšší riziko vzniku\n",
    "# apoplexie než u nekuřáků.\n"
   ]
  },
  {
   "cell_type": "markdown",
   "id": "alike-smith",
   "metadata": {},
   "source": [
    "#### e)\n",
    "Určete absolutní šance vzniku kardiovaskulárních onemocnění u kuřáků a nekuřáků."
   ]
  },
  {
   "cell_type": "code",
   "execution_count": null,
   "id": "common-tracy",
   "metadata": {
    "vscode": {
     "languageId": "r"
    }
   },
   "outputs": [],
   "source": [
    "# U kuřáku je šance vzniku apoplexie cca 52:1 000. Tj. u 1 052 kuřáků\n",
    "# lze očekávat cca 52 výskytů apoplexie.\n",
    "# U nekuřáku je šance vzniku apoplexie cca 27:1 000. Tj. u 1 027 nekuřáků\n",
    "# lze očekávat cca 27 výskytů apoplexie.\n"
   ]
  },
  {
   "cell_type": "markdown",
   "id": "floral-keeping",
   "metadata": {},
   "source": [
    " #### f)\n",
    " Určete relativní šance vzniku kardiovaskulárních onemocnění u kuřáků."
   ]
  },
  {
   "cell_type": "code",
   "execution_count": null,
   "id": "strategic-intent",
   "metadata": {
    "vscode": {
     "languageId": "r"
    }
   },
   "outputs": [],
   "source": [
    "# U kuřáků je cca 1,93 (= 0,0524/0,0271) krát vyšší šance apoplexie\n",
    "# než u nekuřáků. 95% intervalový odhad tohoto poměru\n",
    "# šancí je 1,52 až 2,46.\n",
    "# Dle intervalového odhadu poměru šancí je zřejmé, že na hladině\n",
    "# významnosti 0,05 je u kuřáků\n",
    "# statisticky významně vyšší šance na vznik apoplexie než u nekuřáků.\n"
   ]
  },
  {
   "cell_type": "markdown",
   "id": "foreign-spain",
   "metadata": {},
   "source": [
    "#### g)\n",
    "Rozhodněte na hladině významnosti 0,05 o závislosti výskytu kardiovaskulárních chorob na kouření."
   ]
  },
  {
   "cell_type": "code",
   "execution_count": null,
   "id": "confused-shark",
   "metadata": {
    "vscode": {
     "languageId": "r"
    }
   },
   "outputs": [],
   "source": [
    "# Pozor! Příkaz epi.2by2 nemá jako výstup očekávané četnosti pro\n",
    "# Chí-kvadrát test nezávislosti.\n",
    "# Není tak možno ověřit předpoklady testu!\n",
    "\n",
    "# H0: Mezi kouřením a výskytem apoplexie neexistuje souvislost.\n",
    "# Ha: Mezi kouřením a výskytem apoplexie existuje souvislost.\n",
    "\n",
    "pom <- chisq.test(kont.tab)\n",
    "pom$expected\n",
    "# Všechny očekávané četnosti jsou větší než 5.\n"
   ]
  },
  {
   "cell_type": "code",
   "execution_count": null,
   "id": "reverse-expression",
   "metadata": {
    "vscode": {
     "languageId": "r"
    }
   },
   "outputs": [],
   "source": [
    "pom\n"
   ]
  },
  {
   "cell_type": "code",
   "execution_count": null,
   "id": "british-cookie",
   "metadata": {
    "vscode": {
     "languageId": "r"
    }
   },
   "outputs": [],
   "source": [
    "lsr::cramersV(kont.tab)\n",
    "\n",
    "# Na hladině významnosti 0,05 lze zamítnout HO (p-hodnota << 0,001,\n",
    "# Chí-kvadrát test dobré shody,\n",
    "# df = 1). Pozorovanou závislost lze hodnotit jako velmi slabou\n",
    "# (Cramerovo V = 0,061).\n"
   ]
  }
 ],
 "metadata": {
  "kernelspec": {
   "display_name": "R",
   "language": "R",
   "name": "ir"
  },
  "language_info": {
   "codemirror_mode": "r",
   "file_extension": ".r",
   "mimetype": "text/x-r-source",
   "name": "R",
   "pygments_lexer": "r",
   "version": "4.3.2"
  }
 },
 "nbformat": 4,
 "nbformat_minor": 5
}

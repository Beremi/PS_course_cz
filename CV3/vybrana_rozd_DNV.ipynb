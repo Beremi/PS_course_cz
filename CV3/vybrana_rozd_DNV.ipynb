{
 "cells": [
  {
   "cell_type": "markdown",
   "metadata": {},
   "source": [
    "# Cvičení 3 - Vybraná rozdělení diskrétní náhodné veličiny\n",
    "## Martina Litschmannová, Adéla Vrtková, Michal Béreš"
   ]
  },
  {
   "cell_type": "markdown",
   "metadata": {},
   "source": [
    "# Přehled rozdělení a jejich funkcí\n",
    "## Úvod: Pravděpodobnostní, Kumulativní pravděpodobnostní (Distribuční) a Kvantilová funkce\n",
    "### Pravděpodobnostní funkce\n",
    "- začíná písmenkem **d**: $p = P(X = x)$: p = d...(x, ...)\n",
    "\n",
    "### Kumulativní pravděpodobnostní (Distribuční funkce)\n",
    "- začíná písmenkem **p**: $p = P(X \\leq x)$: p = p...(x, ...)\n",
    "- pozor Kumulativní pravděpodobnostní je s alternativní definicí $P(X \\leq t)$\n",
    "- pro naši distribuční funkci $F(t) = P(X<t)$: F(t) = p...(t - 1, ...)\n",
    "\n",
    "### Kvantilová funkce\n",
    "- začíná písmenkem **q**:  $p \\geq P(X \\leq x)$: x = q...(p, ...)\n",
    "- hledá nejmenší $x$ pro které je $P(X \\leq x)$ větší než $p$"
   ]
  },
  {
   "cell_type": "markdown",
   "metadata": {},
   "source": [
    "## Binomické (Alternativní): $X \\sim Bi(n, π),X \\sim A(π) = Bi(1, π)$\n",
    "- počet úspěchů v $n$ Bernoulliho pokusech (případně pro jeden pokus v případě Alternativní)\n",
    "- každý pokus má šanci na úspěch $π$"
   ]
  },
  {
   "cell_type": "code",
   "execution_count": null,
   "metadata": {
    "vscode": {
     "languageId": "r"
    }
   },
   "outputs": [],
   "source": [
    "# Pravděpodobnostní funkce P(X = x)\n",
    "x <- 10 # hodnota, pro níž hledáme p-stní funkci\n",
    "n <- 21 # rozsah výběru\n",
    "p <- 0.5 # pravděpodobnost úspěchu\n",
    "dbinom(x, n, p)\n"
   ]
  },
  {
   "cell_type": "code",
   "execution_count": null,
   "metadata": {
    "vscode": {
     "languageId": "r"
    }
   },
   "outputs": [],
   "source": [
    "dbinom(3.2, n, p)\n"
   ]
  },
  {
   "cell_type": "code",
   "execution_count": null,
   "metadata": {
    "vscode": {
     "languageId": "r"
    }
   },
   "outputs": [],
   "source": [
    "options(warn = -1) # tímto se dají vypnout warningy\n"
   ]
  },
  {
   "cell_type": "code",
   "execution_count": null,
   "metadata": {
    "vscode": {
     "languageId": "r"
    }
   },
   "outputs": [],
   "source": [
    "dbinom(3.2, n, p)\n"
   ]
  },
  {
   "cell_type": "code",
   "execution_count": null,
   "metadata": {
    "vscode": {
     "languageId": "r"
    }
   },
   "outputs": [],
   "source": [
    "options(warn = 0) # tímto zase zapnout\n"
   ]
  },
  {
   "cell_type": "code",
   "execution_count": null,
   "metadata": {
    "vscode": {
     "languageId": "r"
    }
   },
   "outputs": [],
   "source": [
    "# vykreslíme si pravděpodobnostní funkci\n",
    "x <- 0:21 # minimálně 0, maximálně n má kladnou pravděpodobnost\n",
    "P_x <- dbinom(x, n, p)\n",
    "plot(x, P_x)\n",
    "grid()\n"
   ]
  },
  {
   "cell_type": "code",
   "execution_count": null,
   "metadata": {
    "vscode": {
     "languageId": "r"
    }
   },
   "outputs": [],
   "source": [
    "# Kumulativní pravděpodobnostní funkce P(X <= x)\n",
    "x <- 10 # hodnota, pro níž hledáme kumulativní p-stní funkci\n",
    "n <- 21 # rozsah výběru\n",
    "p <- 0.5 # pravděpodobnost úspěchu\n",
    "pbinom(x, n, p)\n"
   ]
  },
  {
   "cell_type": "code",
   "execution_count": null,
   "metadata": {
    "vscode": {
     "languageId": "r"
    }
   },
   "outputs": [],
   "source": [
    "# Distribuční funkce F(x) = P(X < x)\n",
    "x <- 10 # hodnota, pro níž hledáme kumulativní p-stní funkci\n",
    "n <- 21 # rozsah výběru\n",
    "p <- 0.5 # pravděpodobnost úspěchu\n",
    "pbinom(x, n, p) - dbinom(x, n, p)\n",
    "# nebo\n",
    "pbinom(x - 1, n, p)\n"
   ]
  },
  {
   "cell_type": "code",
   "execution_count": null,
   "metadata": {
    "vscode": {
     "languageId": "r"
    }
   },
   "outputs": [],
   "source": [
    "# vykreslíme si distribuční funkci\n",
    "x <- 0:21 # minimálně 0, maximálně n má kladnou pravděpodobnost\n",
    "P_x <- dbinom(x, n, p)\n",
    "F_x <- cumsum(P_x)\n",
    "plot(x, F_x, type = \"s\")\n",
    "grid()\n"
   ]
  },
  {
   "cell_type": "code",
   "execution_count": null,
   "metadata": {
    "vscode": {
     "languageId": "r"
    }
   },
   "outputs": [],
   "source": [
    "# nebo\n",
    "x <- seq(0, 21, 0.01) # minimálně 0, maximálně n\n",
    "options(warn = -1)\n",
    "F_x <- pbinom(x, n, p) - dbinom(x, n, p)\n",
    "plot(x, F_x, cex = 0.3)\n",
    "grid()\n",
    "options(warn = 0)\n"
   ]
  },
  {
   "cell_type": "code",
   "execution_count": null,
   "metadata": {
    "vscode": {
     "languageId": "r"
    }
   },
   "outputs": [],
   "source": [
    "# zkontrolujeme korektnost na hodnotě 10\n",
    "x <- seq(9.9, 10.1, 0.01) # minimálně 0, maximálně n\n",
    "options(warn = -1)\n",
    "F_x <- pbinom(x, n, p) - dbinom(x, n, p)\n",
    "options(warn = 0)\n",
    "plot(x, F_x, cex = 0.5)\n",
    "grid()\n"
   ]
  },
  {
   "cell_type": "code",
   "execution_count": null,
   "metadata": {
    "vscode": {
     "languageId": "r"
    }
   },
   "outputs": [],
   "source": [
    "# najdi x pro dané q: q = P(X <= x)\n",
    "q <- 0.7 # h\n",
    "n <- 21 # rozsah výběru\n",
    "p <- 0.5 # pravděpodobnost úspěchu\n",
    "qbinom(q, n, p)\n",
    "pbinom(11, n, p)\n",
    "pbinom(12, n, p)\n",
    "pbinom(13, n, p)\n"
   ]
  },
  {
   "cell_type": "code",
   "execution_count": null,
   "metadata": {
    "vscode": {
     "languageId": "r"
    }
   },
   "outputs": [],
   "source": [
    "# Kvantilová funkce (inverzi dist. fce): q = F(x) = P(X < x)\n",
    "q <- 0.7 # pravděpodobnost pro kterou hledáme kvantil\n",
    "n <- 21 # rozsah výběru\n",
    "p <- 0.5 # pravděpodobnost úspěchu\n",
    "qbinom(q, n, p) + 1\n",
    "pbinom(12 - 1, n, p)\n",
    "pbinom(13 - 1, n, p)\n",
    "pbinom(14 - 1, n, p)\n"
   ]
  },
  {
   "cell_type": "markdown",
   "metadata": {},
   "source": [
    "## Hypergeometrické: $X \\sim H(N, M, n)$\n",
    "- počet úspěchů v $n$ závislých pokusech\n",
    "- závislost typu: \n",
    " - $N$ objektů, \n",
    " - z toho $M$ objektů se zadanou vlastností, \n",
    " - výběr velikosti $n$\n",
    " - **při výběru nevracíme zpět - pravděpodobnost výběru objektu s danou vlastností se mění s každým dalším vybraným objektem**\n",
    "- **R funkce bere jako parametry *hyper(k, M, N - M, n)**\n",
    " - k je počet úspěchů pro které počítáme pravděpodobnost,\n",
    " - M je počet objektů se zadanou vlastností,\n",
    " - N-M je počet objektů bez zadané vlastnosti,\n",
    " - n je ceklová velikost výběru."
   ]
  },
  {
   "cell_type": "code",
   "execution_count": null,
   "metadata": {
    "vscode": {
     "languageId": "r"
    }
   },
   "outputs": [],
   "source": [
    "# Pravděpodobnostní funkce P(X = x)\n",
    "x <- 5 # hodnota, pro níž hledáme p-stní funkci\n",
    "N <- 20 # celkový počet objektů\n",
    "M <- 5 # z toho se zadanou vlastností\n",
    "n <- 10 # velikost výběru\n",
    "dhyper(x, M, N - M, n)\n"
   ]
  },
  {
   "cell_type": "code",
   "execution_count": null,
   "metadata": {
    "vscode": {
     "languageId": "r"
    }
   },
   "outputs": [],
   "source": [
    "# vykreslíme si pravděpodobnostní funkci\n",
    "x <- 0:5 # minimálně 0, maximálně n nebo M má kladnou pravd.\n",
    "P_x <- dhyper(x, M, N - M, n)\n",
    "plot(x, P_x)\n",
    "grid()\n"
   ]
  },
  {
   "cell_type": "code",
   "execution_count": null,
   "metadata": {
    "vscode": {
     "languageId": "r"
    }
   },
   "outputs": [],
   "source": [
    "# Distribuční funkce F(x) = P(X < x)\n",
    "x <- 5 # hodnota, pro níž hledáme dist. funkci\n",
    "N <- 20 # celkový počet objektů\n",
    "M <- 5 # z toho se zadanou vlastností\n",
    "n <- 10 # velikost výběru\n",
    "phyper(x - 1, M, N - M, n)\n"
   ]
  },
  {
   "cell_type": "code",
   "execution_count": null,
   "metadata": {
    "vscode": {
     "languageId": "r"
    }
   },
   "outputs": [],
   "source": [
    "# vykreslíme si Distribuční funkci\n",
    "x <- 0:5 # minimálně 0, maximálně n nebo M má kladnou pravd.\n",
    "P_x <- dhyper(x, M, N - M, n)\n",
    "F_x <- cumsum(P_x)\n",
    "plot(x, F_x, type = \"s\")\n",
    "grid()\n"
   ]
  },
  {
   "cell_type": "code",
   "execution_count": null,
   "metadata": {
    "vscode": {
     "languageId": "r"
    }
   },
   "outputs": [],
   "source": [
    "# Kvantilová funkce (inverzi dist. fce): q = P(X < x)\n",
    "q <- 0.7 # pravděpodobnost pro kterou hledáme kvantil\n",
    "N <- 20 # celkový počet objektů\n",
    "M <- 5 # z toho se zadanou vlastností\n",
    "n <- 10 # velikost výběru\n",
    "qhyper(q, M, N - M, n) + 1\n",
    "phyper(3 - 1, M, N - M, n)\n",
    "phyper(4 - 1, M, N - M, n)\n",
    "phyper(5 - 1, M, N - M, n)\n"
   ]
  },
  {
   "cell_type": "markdown",
   "metadata": {},
   "source": [
    "## Negativně binomické (Geometrické): $X \\sim NB(k, π), X \\sim Ge(π) = NB(1, π)$\n",
    "- počet pokusů do $k$. úspěchu (včetně)\n",
    "- každý pokus má šanci na úspěch $π$\n",
    "- **Negativně binomická NV je v Rku definována jako počet neúspěchů před k-tým úspěchem**\n",
    " - proto jako první parametr budeme posílat x - k"
   ]
  },
  {
   "cell_type": "code",
   "execution_count": null,
   "metadata": {
    "vscode": {
     "languageId": "r"
    }
   },
   "outputs": [],
   "source": [
    "# Pravděpodobnostní funkce P(X = x)\n",
    "x <- 15 # počet pokusů pro který hledáme pravd. fci\n",
    "k <- 5 # požadovaný počet úspěchů\n",
    "p <- 0.3 # pravd. jednotlivých pokusů\n",
    "# pozor první argument musí být počet neúspěchů\n",
    "dnbinom(x - k, k, p)\n"
   ]
  },
  {
   "cell_type": "code",
   "execution_count": null,
   "metadata": {
    "vscode": {
     "languageId": "r"
    }
   },
   "outputs": [],
   "source": [
    "# vykreslíme si pravděpodobnostní funkci\n",
    "x <- 0:40 # minimálně k, maximum neomezeno\n",
    "P_x <- dnbinom(x - k, k, p)\n",
    "plot(x, P_x)\n",
    "grid()\n",
    "# hodnoty 0,1,2,3,4 mají P(x)=0\n"
   ]
  },
  {
   "cell_type": "code",
   "execution_count": null,
   "metadata": {
    "vscode": {
     "languageId": "r"
    }
   },
   "outputs": [],
   "source": [
    "# Distribuční funkce F(x) = P(X < x)\n",
    "x <- 15 # počet pokusů pro který hledáme pravd. fci\n",
    "k <- 5 # požadovaný počet úspěchů\n",
    "p <- 0.3 # pravd. jednotlivých pokusů\n",
    "# pozor první argument musí být počet neúspěchů\n",
    "pnbinom(x - k - 1, k, p)\n"
   ]
  },
  {
   "cell_type": "code",
   "execution_count": null,
   "metadata": {
    "vscode": {
     "languageId": "r"
    }
   },
   "outputs": [],
   "source": [
    "# vykreslíme si Distribuční funkci\n",
    "x <- 0:40 # minimálně 0, maximálně n nebo M má kladnou pravd.\n",
    "P_x <- dnbinom(x - k, k, p)\n",
    "F_x <- cumsum(P_x)\n",
    "plot(x, F_x, type = \"s\")\n",
    "grid()\n"
   ]
  },
  {
   "cell_type": "code",
   "execution_count": null,
   "metadata": {
    "vscode": {
     "languageId": "r"
    }
   },
   "outputs": [],
   "source": [
    "# Kvantilová funkce (inverzi dist. fce): q = P(X < x)\n",
    "q <- 0.7 # pravd. pro kvantil\n",
    "k <- 5 # požadovaný počet úspěchů\n",
    "p <- 0.3 # pravd. jednotlivých pokusů\n",
    "qnbinom(q, k, p) + k + 1\n",
    "pnbinom(19 - k - 1, k, p)\n",
    "pnbinom(20 - k - 1, k, p)\n",
    "pnbinom(21 - k - 1, k, p)\n"
   ]
  },
  {
   "cell_type": "markdown",
   "metadata": {},
   "source": [
    "## Poissonovo: $X \\sim Po(λt)$\n",
    "- počet událostí v Poissonově procesu v uzavřené oblasti (v čase, na ploše, v objemu)\n",
    "- s hustotou výskytu $λ$ \n",
    "- v čase/ploše/objemu velikosti $t$"
   ]
  },
  {
   "cell_type": "code",
   "execution_count": null,
   "metadata": {
    "vscode": {
     "languageId": "r"
    }
   },
   "outputs": [],
   "source": [
    "# Pravděpodobnostní funkce P(X = x)\n",
    "x <- 9 # počet pokusů pro který hledáme pravd. fci\n",
    "lambda <- 5 # hustota výskytu\n",
    "t <- 2 # pravd. jednotlivých pokusů\n",
    "lt <- lambda * t\n",
    "dpois(x, lt)\n"
   ]
  },
  {
   "cell_type": "code",
   "execution_count": null,
   "metadata": {
    "vscode": {
     "languageId": "r"
    }
   },
   "outputs": [],
   "source": [
    "# vykreslíme si pravděpodobnostní funkci\n",
    "x <- 0:25 # minimálně 0, maximum neomezeno\n",
    "P_x <- dpois(x, lt)\n",
    "plot(x, P_x)\n",
    "grid()\n"
   ]
  },
  {
   "cell_type": "code",
   "execution_count": null,
   "metadata": {
    "vscode": {
     "languageId": "r"
    }
   },
   "outputs": [],
   "source": [
    "# Distribuční funkce F(x) = P(X < x)\n",
    "x <- 9 # počet pokusů pro který hledáme pravd. fci\n",
    "lambda <- 5 # hustota výskytu\n",
    "t <- 2 # pravd. jednotlivých pokusů\n",
    "lt <- lambda * t\n",
    "ppois(x - 1, lt)\n"
   ]
  },
  {
   "cell_type": "code",
   "execution_count": null,
   "metadata": {
    "vscode": {
     "languageId": "r"
    }
   },
   "outputs": [],
   "source": [
    "# vykreslíme si Distribuční funkci\n",
    "x <- 0:25 # minimálně 0, maximálně n nebo M má kladnou pravd.\n",
    "P_x <- dpois(x, lt)\n",
    "F_x <- cumsum(P_x)\n",
    "plot(x, F_x, type = \"s\")\n",
    "grid()\n"
   ]
  },
  {
   "cell_type": "code",
   "execution_count": null,
   "metadata": {
    "vscode": {
     "languageId": "r"
    }
   },
   "outputs": [],
   "source": [
    "# Kvantilová funkce (inverzi dist. fce): q = P(X < x)\n",
    "q <- 0.4 # pravd. pro kvantil\n",
    "lambda <- 5 # hustota výskytu\n",
    "t <- 2 # pravd. jednotlivých pokusů\n",
    "lt <- lambda * t\n",
    "qpois(q, lt) + 1\n",
    "ppois(9 - 1, lt)\n",
    "ppois(10 - 1, lt)\n",
    "ppois(11 - 1, lt)\n"
   ]
  },
  {
   "cell_type": "markdown",
   "metadata": {},
   "source": [
    "# Příklady\n",
    "## Příklad 1.\n",
    "Bridž se hraje s 52 bridžovými kartami, které se rozdají mezi 4 hráče. Vždy 2 hráči hrají spolu. Při rozdávání (13 karet) jste dostali do rukou 2 esa. Jaká je pravděpodobnost, že váš partner bude mít zbývající dvě esa?"
   ]
  },
  {
   "cell_type": "code",
   "execution_count": null,
   "metadata": {
    "vscode": {
     "languageId": "r"
    }
   },
   "outputs": [],
   "source": [
    "# X ... počet es mezi 13 kartami\n",
    "# X ~ H(N = 39, M = 2, n = 13)\n",
    "# P(X = 2)\n",
    "M <- 2\n",
    "N <- 39 # 52-13\n",
    "n <- 13\n",
    "# výpočet\n",
    "dhyper(2, M, N - M, n) # což je dhyper(2,2,37,13)\n"
   ]
  },
  {
   "cell_type": "code",
   "execution_count": null,
   "metadata": {
    "vscode": {
     "languageId": "r"
    }
   },
   "outputs": [],
   "source": [
    "# graf pravděpodobnostní funkce\n",
    "x <- 0:M # všechny možné realizace NV X\n",
    "p <- dhyper(x, M, N - M, n) # hodnoty pravděpodobnostní funkce pro x\n",
    "plot(x, p)\n"
   ]
  },
  {
   "cell_type": "markdown",
   "metadata": {},
   "source": [
    "## Příklad 2.\n",
    "Pokusy se zjistilo, že radioaktivní látka vyzařuje během 7,5 s průměrně 3,87 α-částice. Určete pravděpodobnost toho, že za 1 sekundu vyzáří tato látka alespoň jednu α-částici."
   ]
  },
  {
   "cell_type": "code",
   "execution_count": null,
   "metadata": {
    "vscode": {
     "languageId": "r"
    }
   },
   "outputs": [],
   "source": [
    "# X ... počet vyzářených alfa částic během 1 s\n",
    "# X ~ Po(lt = 3.87/7.5)\n",
    "\n",
    "lambda <- 3.87 / 7.5 # četnost výskytu\n",
    "t <- 1 # za 1 sekundu\n",
    "lt <- lambda * t # parametr Poissonova rozdělení\n",
    "\n",
    "# P(X >= 1) = P(X > 0) = 1 - P(X <= 0)\n",
    "1 - ppois(1 - 1, lt)\n"
   ]
  },
  {
   "cell_type": "code",
   "execution_count": null,
   "metadata": {
    "vscode": {
     "languageId": "r"
    }
   },
   "outputs": [],
   "source": [
    "# graf pravděpodobnostní funkce\n",
    "# teoreticky může být vyzářeno až nekonečně mnoho částic,\n",
    "# od jisté hodnoty je pravděpodobnost zanedbatelná\n",
    "x <- 0:10\n",
    "p <- dpois(x, lt) # hodnoty pravděpodobnostní funkce pro x\n",
    "plot(x, p)\n"
   ]
  },
  {
   "cell_type": "markdown",
   "metadata": {},
   "source": [
    "## Příklad 3.\n",
    "Kamarád vás pošle do sklepa, abyste donesl(a) 4 lahvová piva - z toho dvě desítky a dvě dvanáctky. Nevíte, kde rozsvítit, proto vezmete z basy poslepu 4 láhve. S jakou pravděpodobností jste vyhověl(a), víte-li, že v base bylo celkem 10 desítek a 6 dvanáctek?"
   ]
  },
  {
   "cell_type": "code",
   "execution_count": null,
   "metadata": {
    "vscode": {
     "languageId": "r"
    }
   },
   "outputs": [],
   "source": [
    "# X ... počet 10°piv mezi 4 vybranými\n",
    "# X ~ H(N = 16, M = 10, n = 4)\n",
    "\n",
    "x <- 2\n",
    "N <- 16\n",
    "M <- 10\n",
    "n <- 4\n",
    "\n",
    "# P(X = 2)\n",
    "dhyper(x, M, N - M, n)\n"
   ]
  },
  {
   "cell_type": "code",
   "execution_count": null,
   "metadata": {
    "vscode": {
     "languageId": "r"
    }
   },
   "outputs": [],
   "source": [
    "# graf pravděpodobnostní funkce\n",
    "x <- 0:4 # všechny možné realizace NV X\n",
    "p <- dhyper(x, M, N - M, n) # hodnoty pravděpodobnostní funkce pro x\n",
    "plot(x, p)\n"
   ]
  },
  {
   "cell_type": "markdown",
   "metadata": {},
   "source": [
    "## Příklad 4.\n",
    "V jednom mililitru určitého dokonale rozmíchaného roztoku se v průměru nachází 15 určitých mikroorganismů. Určete pravděpodobnost, že při náhodném výběru vzorku o objemu 1/2 mililitru bude ve zkumavce méně než 5 těchto mikroorganismu."
   ]
  },
  {
   "cell_type": "code",
   "execution_count": null,
   "metadata": {
    "vscode": {
     "languageId": "r"
    }
   },
   "outputs": [],
   "source": [
    "# X ... počet mikroorganismů v 0.5 ml roztoku\n",
    "# X ~ Po(lt = 15/2)\n",
    "\n",
    "lambda <- 15\n",
    "t <- 1 / 2\n",
    "lt <- lambda * t # parametr Poissonova rozd.\n",
    "\n",
    "# P(X < 5) = P(X <= 4)\n",
    "ppois(5 - 1, lt)\n",
    "# nebo\n",
    "ppois(5, lt) - dpois(5, lt)\n"
   ]
  },
  {
   "cell_type": "code",
   "execution_count": null,
   "metadata": {
    "vscode": {
     "languageId": "r"
    }
   },
   "outputs": [],
   "source": [
    "# graf pravděpodobnostní funkce\n",
    "# teoreticky může být v roztoku až nekonečně mnoho mikroorganismů,\n",
    "# od jisté hodnoty je pravděpodobnost zanedbatelná\n",
    "x <- 0:20\n",
    "p <- dpois(x, lt) # hodnoty pravděpodobnostní funkce pro x\n",
    "plot(x, p)\n"
   ]
  },
  {
   "cell_type": "markdown",
   "metadata": {},
   "source": [
    "## Příklad 5.\n",
    "Na stůl vysypeme 15 mincí. Jaká je pravděpodobnost, že počet mincí ležících lícem nahoře, je od 8 do 15?"
   ]
  },
  {
   "cell_type": "code",
   "execution_count": null,
   "metadata": {
    "vscode": {
     "languageId": "r"
    }
   },
   "outputs": [],
   "source": [
    "# X ... počet mincí, které padnou lícem nahoru z celkového množství 15 mincí\n",
    "# X ~ Bi(n = 15, p = 0.5)\n",
    "\n",
    "n <- 15\n",
    "p <- 0.5\n",
    "\n",
    "# P(8 <= X <= 15) = P(X <= 15) - P(X < 8) = P(X <= 15) - P(X <= 7)\n",
    "pbinom(15, n, p) - pbinom(7, n, p)\n"
   ]
  },
  {
   "cell_type": "code",
   "execution_count": null,
   "metadata": {
    "vscode": {
     "languageId": "r"
    }
   },
   "outputs": [],
   "source": [
    "# jinak: P(8<=X<=15)=P(X>7)=1-P(X<=7)\n",
    "1 - pbinom(7, n, p)\n"
   ]
  },
  {
   "cell_type": "code",
   "execution_count": null,
   "metadata": {
    "vscode": {
     "languageId": "r"
    }
   },
   "outputs": [],
   "source": [
    "# graf pravděpodobnostní funkce\n",
    "x <- 0:15 # všechny možné realizace NV X\n",
    "p <- dbinom(x, n, p) # hodnoty pravděpodobnostní funkce pro x\n",
    "plot(x, p)\n"
   ]
  },
  {
   "cell_type": "markdown",
   "metadata": {},
   "source": [
    "## Příklad 6.\n",
    "Pravděpodobnost, že se dovoláme do studia rozhlasové stanice, která právě vyhlásila telefonickou soutěž je 0,08. Jaká je pravděpodobnost, že se dovoláme nejvýše na 4. pokus?"
   ]
  },
  {
   "cell_type": "code",
   "execution_count": null,
   "metadata": {
    "vscode": {
     "languageId": "r"
    }
   },
   "outputs": [],
   "source": [
    "# X ... počet pokusů než se dovoláme do rozhlasového studia\n",
    "# X ~ NB(k = 1,p = 0.08) nebo G(0.08)\n",
    "\n",
    "x <- 4\n",
    "k <- 1\n",
    "p <- 0.08\n",
    "\n",
    "# P(X <= 4)\n",
    "pnbinom(x - k, k, p)\n"
   ]
  },
  {
   "cell_type": "code",
   "execution_count": null,
   "metadata": {
    "vscode": {
     "languageId": "r"
    }
   },
   "outputs": [],
   "source": [
    "# graf pravděpodobnostní funkce\n",
    "# teoreticky můžeme uskutečnit až nekonečně mnoho pokusů,\n",
    "# od jisté hodnoty je pravděpodobnost zanedbatelná\n",
    "x <- 1:40\n",
    "p <- dnbinom(x - k, k, p) # hodnoty pravděpodobnostní funkce pro x\n",
    "plot(x, p)\n"
   ]
  },
  {
   "cell_type": "markdown",
   "metadata": {},
   "source": [
    "## Příklad 7.\n",
    "V továrně se vyrobí denně 10 % vadných součástek. Jaká je pravděpodobnost, že vybereme-li třicet součástek z denní produkce, tak nejméně dvě budou vadné?"
   ]
  },
  {
   "cell_type": "code",
   "execution_count": null,
   "metadata": {
    "vscode": {
     "languageId": "r"
    }
   },
   "outputs": [],
   "source": [
    "# X ... počet vadných součástek ze 30 vybraných\n",
    "# X ~ Bi(n = 30, p = 0.1)\n",
    "\n",
    "n <- 30\n",
    "p <- 0.1\n",
    "\n",
    "# P(X >= 2) = 1 - P(X < 2) = 1 - P(X <= 1)\n",
    "1 - pbinom(1, n, p)\n",
    "\n",
    "# nebo P(X >= 2) vsechno mimo 0 a 1\n",
    "1 - (dbinom(0, n, p) + dbinom(1, n, p))\n"
   ]
  },
  {
   "cell_type": "code",
   "execution_count": null,
   "metadata": {
    "vscode": {
     "languageId": "r"
    }
   },
   "outputs": [],
   "source": [
    "# graf pravděpodobnostní funkce\n",
    "x <- 0:30 # všechny možné realizace NV X\n",
    "p <- dbinom(x, n, p) # hodnoty pravděpodobnostní funkce pro x\n",
    "plot(x, p)\n"
   ]
  },
  {
   "cell_type": "markdown",
   "metadata": {},
   "source": [
    "## Příklad 8.\n",
    "Ve skladu je 200 součástek. 10 % z nich je vadných. Jaká je pravděpodobnost, že vybereme-li ze skladu třicet součástek, tak nejméně dvě budou vadné?"
   ]
  },
  {
   "cell_type": "code",
   "execution_count": null,
   "metadata": {
    "vscode": {
     "languageId": "r"
    }
   },
   "outputs": [],
   "source": [
    "# X ... počet vadných součástek ze 30 vybraných z 200\n",
    "# X ~ H(N = 200, M = 20, n = 30)\n",
    "\n",
    "N <- 200\n",
    "M <- 20\n",
    "n <- 30\n",
    "\n",
    "# P(X >= 2) = 1 - P(X < 2) = 1 - P(X <= 1)\n",
    "1 - phyper(2 - 1, M, N - M, n)\n"
   ]
  },
  {
   "cell_type": "code",
   "execution_count": null,
   "metadata": {
    "vscode": {
     "languageId": "r"
    }
   },
   "outputs": [],
   "source": [
    "# graf pravděpodobnostní funkce\n",
    "x <- 0:30 # všechny možné realizace NV X\n",
    "p <- dhyper(x, M, N - M, n) # hodnoty pravděpodobnostní funkce pro x\n",
    "plot(x, p)\n"
   ]
  },
  {
   "cell_type": "markdown",
   "metadata": {},
   "source": [
    "## Příklad 9.\n",
    "V určité firmě bylo zjištěno, že na 33 % počítačů je nainstalován nějaký nelegální software. Určete pravděpodobnostní a distribuční funkci počtu počítačů s nelegálním softwarem mezi třemi kontrolovanými počítači."
   ]
  },
  {
   "cell_type": "code",
   "execution_count": null,
   "metadata": {
    "vscode": {
     "languageId": "r"
    }
   },
   "outputs": [],
   "source": [
    "# X ... počet počítačů s nelegálním softwarem ze 3 kontrolovaných\n",
    "# X ~ Bi(n = 3,p = 0.33)\n",
    "\n",
    "n <- 3\n",
    "p <- 0.33\n",
    "\n",
    "# pravděpodobnostní funkce\n",
    "x <- 0:3 # všechny možné realizace NV X\n",
    "p <- dbinom(x, n, p) # hodnoty pravděpodobnostní funkce pro x\n",
    "\n",
    "p <- round(p, 3) # zaokrouhlení pravděpodobností na 3 des. místa\n",
    "p[4] <- 1 - sum(p[1:3]) # dopočet poslední hodnoty do 1\n",
    "\n",
    "tab <- rbind(x, p) # vytvoření tabulky pravděpodobnostní funkce\n",
    "rownames(tab) <- c(\"x\", \"P(x)\")\n",
    "tab\n"
   ]
  },
  {
   "cell_type": "code",
   "execution_count": null,
   "metadata": {
    "vscode": {
     "languageId": "r"
    }
   },
   "outputs": [],
   "source": [
    "# graf pravděpodobnostní funkce\n",
    "plot(x, p)\n",
    "\n",
    "# distribuční funkce\n",
    "cumsum(p) # zjednodušený výpis distribuční funkce\n"
   ]
  },
  {
   "cell_type": "markdown",
   "metadata": {},
   "source": [
    "## Příklad 10.\n",
    "Sportka je loterijní hra, v níž sázející tipuje šest čísel ze čtyřiceti devíti, která očekává, že padnou při budoucím slosování. K účasti ve hře je nutné zvolit alespoň jednu kombinaci 6 čísel (vždy 6 čísel na jeden sloupec) a pomocí křížků tato čísla označit na sázence společnosti Sazka a.s. do sloupců, počínaje sloupcem prvním. Sázející vyhrává v případě, že uhodne alespoň tři čísla z tažené šestice čísel. Jaká je pravděpodobnost, že proto, aby sázející vyhrál, bude muset vyplnit:"
   ]
  },
  {
   "cell_type": "code",
   "execution_count": null,
   "metadata": {
    "vscode": {
     "languageId": "r"
    }
   },
   "outputs": [],
   "source": [
    "# Nejprve pravděpodobnost, že vehrajeme v jednom sloupci\n",
    "\n",
    "# Y ... počet uhádnutých čísel v 6 tažených ze 49\n",
    "# Y ~ H(N = 49, M = 6, n = 6)\n",
    "\n",
    "N <- 49\n",
    "M <- 6\n",
    "n <- 6\n",
    "\n",
    "# P-st uhádnutí alespoň 3 čísel v jednom sloupci\n",
    "# P(Y >= 3) = 1 - P(Y < 3) = 1 - P(Y <= 2)\n",
    "pp <- 1 - phyper(3 - 1, M, N - M, n)\n",
    "pp\n"
   ]
  },
  {
   "cell_type": "markdown",
   "metadata": {},
   "source": [
    "### a)\n",
    "právě tři sloupce,"
   ]
  },
  {
   "cell_type": "code",
   "execution_count": null,
   "metadata": {
    "vscode": {
     "languageId": "r"
    }
   },
   "outputs": [],
   "source": [
    "# X … počet sloupců, které bude muset sázející vyplnit, aby vyhrál\n",
    "# X ~ NB(k = 1, p = pp)\n",
    "\n",
    "# a) P(X = 3)\n",
    "k <- 1\n",
    "p <- pp\n",
    "\n",
    "dnbinom(3 - k, k, pp)\n"
   ]
  },
  {
   "cell_type": "markdown",
   "metadata": {},
   "source": [
    "### b) \n",
    "alespoň 5 sloupců,"
   ]
  },
  {
   "cell_type": "code",
   "execution_count": null,
   "metadata": {
    "vscode": {
     "languageId": "r"
    }
   },
   "outputs": [],
   "source": [
    "# b) P(X >= 5) = 1 - P(X < 5) = 1 - P(X <= 4)\n",
    "\n",
    "1 - pnbinom(5 - k - 1, k, pp)\n"
   ]
  },
  {
   "cell_type": "markdown",
   "metadata": {},
   "source": [
    "### c)\n",
    "méně než 10 sloupců,"
   ]
  },
  {
   "cell_type": "code",
   "execution_count": null,
   "metadata": {
    "vscode": {
     "languageId": "r"
    }
   },
   "outputs": [],
   "source": [
    "# c) P(X < 10) = P(X <= 9)\n",
    "pnbinom(10 - k - 1, k, pp)\n"
   ]
  },
  {
   "cell_type": "markdown",
   "metadata": {},
   "source": [
    "## d)\n",
    "více než 5 a nejvýše 10 sloupců?"
   ]
  },
  {
   "cell_type": "code",
   "execution_count": null,
   "metadata": {
    "vscode": {
     "languageId": "r"
    }
   },
   "outputs": [],
   "source": [
    "# P(5 < X <= 10) = P(X <= 10) - P(X <= 5)\n",
    "pnbinom(10 - k, k, pp) - pnbinom(5 - k, k, pp)\n",
    "# nebo P(X < 11) - P(X < 6)\n",
    "pnbinom(11 - k - 1, k, pp) - pnbinom(6 - k - 1, k, pp)\n"
   ]
  },
  {
   "cell_type": "markdown",
   "metadata": {},
   "source": [
    "## Příklad 11.\n",
    "Pravděpodobnost, že hodíme 6 na 6stěnné kostce je 1/6. Hážeme tak dlouho, než hodíme šestku 10 krát. \n",
    "### a) \n",
    "Jaká je střední hodnota počtu hodů."
   ]
  },
  {
   "cell_type": "code",
   "execution_count": null,
   "metadata": {
    "vscode": {
     "languageId": "r"
    }
   },
   "outputs": [],
   "source": [
    "# X … hodů kostkou než hodíme 10 šestek\n",
    "# X ~ NB(k = 10, p = 1/6)\n",
    "\n",
    "k <- 10\n",
    "p <- 1 / 6\n",
    "\n",
    "E_X <- k / p\n",
    "E_X\n"
   ]
  },
  {
   "cell_type": "markdown",
   "metadata": {},
   "source": [
    "### b) \n",
    "S kolika hody nejméně musíme počítat, pokud chceme, aby pradvěpodobnost, že se nám podaří naházet 10 šestek, byla alespoň 70%."
   ]
  },
  {
   "cell_type": "code",
   "execution_count": null,
   "metadata": {
    "vscode": {
     "languageId": "r"
    }
   },
   "outputs": [],
   "source": [
    "# P(X <= k) >= 0.7\n",
    "qnbinom(0.7, k, p) + k\n"
   ]
  }
 ],
 "metadata": {
  "kernelspec": {
   "display_name": "R",
   "language": "R",
   "name": "ir"
  },
  "language_info": {
   "codemirror_mode": "r",
   "file_extension": ".r",
   "mimetype": "text/x-r-source",
   "name": "R",
   "pygments_lexer": "r",
   "version": "4.3.1"
  }
 },
 "nbformat": 4,
 "nbformat_minor": 4
}

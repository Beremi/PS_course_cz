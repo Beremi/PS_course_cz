{
 "cells": [
  {
   "cell_type": "markdown",
   "id": "b6219073",
   "metadata": {},
   "source": [
    " # Cvičení 7. Preprocesing dat a explorační analýza \n",
    " ## Adéla Vrtková, Martina Litschmannová, Michal Béreš"
   ]
  },
  {
   "cell_type": "markdown",
   "id": "540ecd41",
   "metadata": {},
   "source": [
    " # 1. Rozšiřující balíčky funkcí - instalace a načítání"
   ]
  },
  {
   "cell_type": "code",
   "execution_count": null,
   "id": "740ac111",
   "metadata": {},
   "outputs": [],
   "source": [
    "# Instalování balíčků nutné pouze jednou (pokud je již nemáte)\n",
    "# install.packages(\"readxl\")\n",
    "# install.packages(\"dplyr\")\n",
    "# install.packages(\"openxlsx\")"
   ]
  },
  {
   "cell_type": "code",
   "execution_count": null,
   "id": "08d77491",
   "metadata": {},
   "outputs": [],
   "source": [
    "# Načtení balíčku (nutno opakovat při každém novém spuštění Rka, vhodné mít na začátku skriptu)\n",
    "library(readxl)\n",
    "library(dplyr)\n",
    "library(openxlsx)\n",
    "# obsahuje upozornění na přepsané funkce případně na starší verzi balíčku"
   ]
  },
  {
   "cell_type": "markdown",
   "id": "9e79b7bf",
   "metadata": {},
   "source": [
    "# 2. Pracovního adresář (working directory) - odkud načítáme a kam ukládáme data\n",
    "- Pozor aktuální otebvřená složka v Rstudiu, případně umístění Rskriptu není automaticky pracovní adresář"
   ]
  },
  {
   "cell_type": "code",
   "execution_count": null,
   "id": "1882d279",
   "metadata": {},
   "outputs": [],
   "source": [
    "# Výpis pracovního adresáře\n",
    "getwd()"
   ]
  },
  {
   "cell_type": "code",
   "execution_count": null,
   "id": "60bd7580",
   "metadata": {},
   "outputs": [],
   "source": [
    "# Nastavení pracovního adresáře -> do uvozovek, celou cestu (relativní nebo absolutní)\n",
    "setwd(\"./data\")"
   ]
  },
  {
   "cell_type": "code",
   "execution_count": null,
   "id": "b318736c",
   "metadata": {},
   "outputs": [],
   "source": [
    "getwd() # kde jsme teď"
   ]
  },
  {
   "cell_type": "code",
   "execution_count": null,
   "id": "e37586e9",
   "metadata": {},
   "outputs": [],
   "source": [
    "setwd(\"./..\") # zase zpátky"
   ]
  },
  {
   "cell_type": "code",
   "execution_count": null,
   "id": "aaef208c",
   "metadata": {},
   "outputs": [],
   "source": [
    "getwd() # kontrola"
   ]
  },
  {
   "cell_type": "markdown",
   "id": "8a9e8127",
   "metadata": {},
   "source": [
    "# 3. Načtení datového souboru"
   ]
  },
  {
   "cell_type": "markdown",
   "id": "78e56a5e",
   "metadata": {},
   "source": [
    "## Ze souboru CSV\n",
    "Základní funkce - read.table, read.csv, read.csv2, ...\n",
    "\n",
    "Záleží hlavně na formátu souboru (.txt, .csv), na tzv. oddělovači jednotlivých hodnot, desetinné čárce/tečce"
   ]
  },
  {
   "cell_type": "code",
   "execution_count": null,
   "id": "8ea93e05",
   "metadata": {},
   "outputs": [],
   "source": [
    "# Načtení a uložení datového souboru ve formátu csv2 z pracovního adresáře\n",
    "data = read.csv2(file=\"aku.csv\")"
   ]
  },
  {
   "cell_type": "code",
   "execution_count": null,
   "id": "13bc4bfe",
   "metadata": {
    "jupyter": {
     "source_hidden": true
    },
    "scrolled": true
   },
   "outputs": [],
   "source": [
    "data"
   ]
  },
  {
   "cell_type": "code",
   "execution_count": null,
   "id": "f47d209e",
   "metadata": {
    "scrolled": true
   },
   "outputs": [],
   "source": [
    "data = read.csv2(file=\"aku.csv\", sep=\";\", quote=\"\", skip=0, header=TRUE)\n",
    "data"
   ]
  },
  {
   "cell_type": "code",
   "execution_count": null,
   "id": "9ddb43a8",
   "metadata": {},
   "outputs": [],
   "source": [
    "help(read.csv2)"
   ]
  },
  {
   "cell_type": "code",
   "execution_count": null,
   "id": "d3a7a14d",
   "metadata": {},
   "outputs": [],
   "source": [
    "# Načtení a uložení datového souboru ve formátu csv2 z lokálního disku do datového rámce data\n",
    "data = read.csv2(file=\"./data/aku.csv\")"
   ]
  },
  {
   "cell_type": "code",
   "execution_count": null,
   "id": "c21039fb",
   "metadata": {},
   "outputs": [],
   "source": [
    "# Načtení a uložení datového souboru ve formátu csv2 z internetu do datového rámce data\n",
    "data = read.csv2(file=\"http://am-nas.vsb.cz/lit40/DATA/aku.csv\")"
   ]
  },
  {
   "cell_type": "markdown",
   "id": "c0dcf13d",
   "metadata": {},
   "source": [
    "## Z Excelu (souboru xlsx)\n",
    "Načtení a uložení datového souboru ve formátu xlsx z lokálního disku do datového rámce data\n",
    "\n",
    "Používáme funkci z balíčku readxl, který jsme v úvodu rozbalili"
   ]
  },
  {
   "cell_type": "code",
   "execution_count": null,
   "id": "328c6686",
   "metadata": {},
   "outputs": [],
   "source": [
    "data = read_excel(\"./data/aku.xlsx\", \n",
    "                  sheet = \"Data\",           # specifikace listu v xlsx souboru\n",
    "                  skip = 3)                 # řádky, které se přeskočí"
   ]
  },
  {
   "cell_type": "code",
   "execution_count": null,
   "id": "93dc8daf",
   "metadata": {},
   "outputs": [],
   "source": [
    "head(data)"
   ]
  },
  {
   "cell_type": "markdown",
   "id": "00f2d426",
   "metadata": {},
   "source": [
    "## Odstranění nepotřebných řádků/sloupců a pojmenování řádků/sloupců pro snadnější adresování dat"
   ]
  },
  {
   "cell_type": "code",
   "execution_count": null,
   "id": "4bc97d08",
   "metadata": {},
   "outputs": [],
   "source": [
    "# indexování se zápornými indexy vrátí vše kromě hodnoty indexů\n",
    "# nemíchat záporné a kladné indexy!\n",
    "data = data[,-1] # odstraníme první sloupec s indexy\n",
    "head(data)"
   ]
  },
  {
   "cell_type": "code",
   "execution_count": null,
   "id": "47f3946b",
   "metadata": {},
   "outputs": [],
   "source": [
    "# Přejmenování sloupců - je-li nutné\n",
    "colnames(data)=c(\"A5\",\"B5\",\"C5\",\"D5\",\"A100\",\"B100\",\"C100\",\"D100\") \n",
    "head(data)"
   ]
  },
  {
   "cell_type": "markdown",
   "id": "84458612",
   "metadata": {},
   "source": [
    "#### Poznámka (kterou je dobré dočíst až do konce....)\n",
    "(v Rstudiu) je možné importovat pomocí \"Import Dataset\" z okna Environment bez nutnosti psát kód\n",
    "\n",
    "V tom případě ale nesmí být v \"cestě\" k souboru žádné speciální znaky (háčky, čárky). Jinak se objeví error.\n",
    "\n",
    "Objekt importovaný touto cestou bude v novém RStudiu jako typ \"tibble\".\n",
    "\n",
    "Jedná se o modernější \"data.frame\" a v některých funkcích může dělat problémy a házet errory!\n",
    "Jednoduše lze tento objekt převést na typ data.frame pomocí **as.data.frame()**\n",
    "\n",
    "Pokud budete mít problém, s tím, že nějaká funkce nebude brát sloupec z \"tibble\" jakožto non-numeric output, můžete to napravit příkazem pull: data[,1] nahradit pull(data,1)"
   ]
  },
  {
   "cell_type": "markdown",
   "id": "b0e566ee",
   "metadata": {},
   "source": [
    "# 4. Pre-processing dat + knihovna Dplyr\n",
    "### Přehled funkcí knihovny Dplyr\n",
    "- **%>%** je takzvaný pipe operátor, typické využití je \"res = data %>% operace\", kde výsledkem je operace opalikovaná na data\n",
    "- **select(...)** je jednou z operací kterou můžeme vložit do \"pipe\" operátoru - slouží k výběru dat\n",
    " - select(1) - vybere první sloupec\n",
    " - select(A5) - vybere sloupec se jménem A5\n",
    " - select(1,3,5) - vybere sloupce 1,3,5\n",
    "- **mutate(novy_sloupec=...)** je operace, které vyrobí v datovém rámci nový datový sloupec pomocí zadaného výpočtu nad aktuálními sloupci\n",
    " - data %>% mutate(C=A-B) vyrobí v datovém rámci \"data\" nový sloupec s názvem \"C\" jako rozdíl hodnot ve stávajícím sloupci \"A\" a \"B\"\n",
    "- **filter(...)** vyfiltruje z dat hodnoty splňující zadané požadavky\n",
    " - data %>% filter(vyrobce==\"A\" | vyrobce==\"B\") vrátí datový soubor, který má ve sloupci \"vyrobce\" pouze hodnoty \"A\" nebo \"B\"\n",
    " - data %>% filter(vyrobce==\"A\", hodnoty>1000) pokud požadavky píšeme za sebou (oddělené čárkou) chápeme to jako a zároveň\n",
    "- **summarise(...)** vypočte předepsanéčíslené charakteristiky v rámci zadaných sloupců (vhodné pro kombinaci s group.by)\n",
    " - data %>% summarise(prum=mean(kap5),median=median(kap5)) \n",
    "- **arrange(...)** vzestupné, případně sestupné seřazení řádků\n",
    " - data %>% arrange(pokles) vzestupně\n",
    " - data %>% arrange(desc(pokles)) sestupně\n",
    "- **group_by(...)** seskupení dat dle unikátních hodnot v zadaném sloupci\n",
    " - data %>% group_by(vyrobce)\n",
    " \n",
    "Velice užitečný Dplyr \"cheat sheet\" naleznete zde: https://github.com/rstudio/cheatsheets/raw/master/data-transformation.pdf"
   ]
  },
  {
   "cell_type": "markdown",
   "id": "f8a15af5",
   "metadata": {},
   "source": [
    "### Výběry sloupců/řádků"
   ]
  },
  {
   "cell_type": "code",
   "execution_count": null,
   "id": "daf03057",
   "metadata": {},
   "outputs": [],
   "source": [
    "# Výpis datového souboru\n",
    "data"
   ]
  },
  {
   "cell_type": "code",
   "execution_count": null,
   "id": "45ae19d1",
   "metadata": {},
   "outputs": [],
   "source": [
    "# Zobrazení prvních šesti řádků\n",
    "head(data)"
   ]
  },
  {
   "cell_type": "code",
   "execution_count": null,
   "id": "6ef83fd6",
   "metadata": {},
   "outputs": [],
   "source": [
    "# Zobrazení posledních šesti řádků\n",
    "tail(data)"
   ]
  },
  {
   "cell_type": "code",
   "execution_count": null,
   "id": "9ceede00",
   "metadata": {},
   "outputs": [],
   "source": [
    "# Zobrazení 10. řádku\n",
    "data[10,]"
   ]
  },
  {
   "cell_type": "code",
   "execution_count": null,
   "id": "2c23e514",
   "metadata": {},
   "outputs": [],
   "source": [
    "# Zobrazení 3. sloupce - několik způsobů\n",
    "data[,3]"
   ]
  },
  {
   "cell_type": "code",
   "execution_count": null,
   "id": "da389036",
   "metadata": {},
   "outputs": [],
   "source": [
    "# nebo (víme-li, jak se jmenuje proměnná zapsána ve 3. sloupci)\n",
    "data$C5"
   ]
  },
  {
   "cell_type": "code",
   "execution_count": null,
   "id": "7dbfc90d",
   "metadata": {},
   "outputs": [],
   "source": [
    "# nebo pomocí funkce select balíčku dplyr, která vybere zvolené sloupce\n",
    "data %>% select(C5)"
   ]
  },
  {
   "cell_type": "markdown",
   "id": "809e77dd",
   "metadata": {},
   "source": [
    "<hr>"
   ]
  },
  {
   "cell_type": "code",
   "execution_count": null,
   "id": "781542fd",
   "metadata": {},
   "outputs": [],
   "source": [
    "# Uložení prvního a pátého sloupce dat. rámce data do dat. rámce pokus\n",
    "pokus = data[,c(1,5)]\n",
    "head(pokus)"
   ]
  },
  {
   "cell_type": "code",
   "execution_count": null,
   "id": "139ab551",
   "metadata": {},
   "outputs": [],
   "source": [
    "# nebo pomocí funkce z dplyr\n",
    "pokus = data %>% select(1,5)\n",
    "head(pokus)"
   ]
  },
  {
   "cell_type": "code",
   "execution_count": null,
   "id": "515ff1aa",
   "metadata": {},
   "outputs": [],
   "source": [
    "# nebo pomocí názvů\n",
    "naz_sl = \"A100\"\n",
    "pokus = data %>% select(A5, naz_sl)\n",
    "head(pokus)"
   ]
  },
  {
   "cell_type": "markdown",
   "id": "ef58ab02",
   "metadata": {},
   "source": [
    "<hr>\n",
    "\n",
    "Vylučování dat ze souboru."
   ]
  },
  {
   "cell_type": "code",
   "execution_count": null,
   "id": "54debeea",
   "metadata": {},
   "outputs": [],
   "source": [
    "# Vyloučení prvního a pátého sloupce z dat. rámce data a uložení do dat. rámce pokus\n",
    "pokus = data[,-c(1,5)]\n",
    "head(pokus)"
   ]
  },
  {
   "cell_type": "code",
   "execution_count": null,
   "id": "6ec027d4",
   "metadata": {},
   "outputs": [],
   "source": [
    "# nebo pomocí dplyr\n",
    "pokus = data %>% select(-1, -5)\n",
    "head(pokus)"
   ]
  },
  {
   "cell_type": "code",
   "execution_count": null,
   "id": "ddf0b80a",
   "metadata": {},
   "outputs": [],
   "source": [
    "# nebo pomocí názvů\n",
    "pokus = data %>% select(-A5,-A100)\n",
    "head(pokus)"
   ]
  },
  {
   "cell_type": "markdown",
   "id": "53b9a678",
   "metadata": {},
   "source": [
    "<hr>\n",
    "Úprava dat do několika menších logických celků s různou strukturou\n",
    "\n",
    "Pozn. při ukládání dat mysleme na přehlednost v názvech\n",
    "### Základní převod jednoduché datové matice do standardního datového formátu - stack(...)"
   ]
  },
  {
   "cell_type": "code",
   "execution_count": null,
   "id": "fbd5ef8b",
   "metadata": {},
   "outputs": [],
   "source": [
    "data5 = data[,1:4] # z dat vybereme ty sloupce, které odpovídají měřením po 5 cyklech\n",
    "colnames(data5) = c(\"A\",\"B\",\"C\",\"D\") # přejmenujeme sloupce\n",
    "head(data5)"
   ]
  },
  {
   "cell_type": "code",
   "execution_count": null,
   "id": "63ddc570",
   "metadata": {},
   "outputs": [],
   "source": [
    "data5S = stack(data5)         # a převedeme do st. datového formátu \n",
    "colnames(data5S) = c(\"kap5\",\"vyrobce\") # a ještě jednou upravíme názvy sloupců\n",
    "head(data5S)"
   ]
  },
  {
   "cell_type": "code",
   "execution_count": null,
   "id": "40dd1008",
   "metadata": {},
   "outputs": [],
   "source": [
    "# Totéž provedeme pro měření provedené po 100 cyklech\n",
    "data100 = data[,5:8] # z dat vybereme ty sloupce, které odpovídají měřením po 100 cyklech\n",
    "colnames(data100) = c(\"A\",\"B\",\"C\",\"D\") # přejmenujeme sloupce\n",
    "data100S = stack(data100)         # a převedeme do st. datového formátu \n",
    "colnames(data100S) = c(\"kap100\",\"vyrobce\") # a ještě jednou upravíme názvy sloupců"
   ]
  },
  {
   "cell_type": "code",
   "execution_count": null,
   "id": "0870052c",
   "metadata": {},
   "outputs": [],
   "source": [
    "# Nakonec si ještě vytvoříme datový soubor ve st. datovém formátu se všemi údaji\n",
    "dataS = cbind(data5S,data100S) # sloučení \"podle sloupců\"\n",
    "head(dataS)"
   ]
  },
  {
   "cell_type": "code",
   "execution_count": null,
   "id": "5890b9b9",
   "metadata": {
    "scrolled": true
   },
   "outputs": [],
   "source": [
    "dataS = dataS[,-2] # vynecháme nadbytečný druhý sloupec\n",
    "dataS = na.omit(dataS) # vynecháme řádky s NA hodnotami\n",
    "head(dataS)"
   ]
  },
  {
   "cell_type": "markdown",
   "id": "f234a620",
   "metadata": {},
   "source": [
    "**!!! S funkci na.omit zacházejte extrémně opatrně, aby jste nechtěně nepřišli o data !!!**"
   ]
  },
  {
   "cell_type": "markdown",
   "id": "cba60e42",
   "metadata": {},
   "source": [
    "<hr>\n",
    "\n",
    "### Definování nových sloupců v datovém rámci"
   ]
  },
  {
   "cell_type": "code",
   "execution_count": null,
   "id": "74f85784",
   "metadata": {},
   "outputs": [],
   "source": [
    "# Definování nové proměnné pokles\n",
    "dataS$pokles = dataS$kap5 - dataS$kap100"
   ]
  },
  {
   "cell_type": "code",
   "execution_count": null,
   "id": "e3924c54",
   "metadata": {},
   "outputs": [],
   "source": [
    "head(dataS)"
   ]
  },
  {
   "cell_type": "code",
   "execution_count": null,
   "id": "f305cc18",
   "metadata": {},
   "outputs": [],
   "source": [
    "# nebo pomocí funkce z balíčku dplyr\n",
    "dataS = dataS %>% mutate(pokles=kap5-kap100)"
   ]
  },
  {
   "cell_type": "markdown",
   "id": "b6f7b5c0",
   "metadata": {},
   "source": [
    "### Vybírání dat ze standardního datového formátu"
   ]
  },
  {
   "cell_type": "code",
   "execution_count": null,
   "id": "e5c73e7f",
   "metadata": {},
   "outputs": [],
   "source": [
    "dataS$kap5"
   ]
  },
  {
   "cell_type": "code",
   "execution_count": null,
   "id": "6ff110f5",
   "metadata": {},
   "outputs": [],
   "source": [
    "# Může se hodit - vytvoření samostatných proměnných\n",
    "a5 = dataS$kap5[dataS$vyrobce==\"A\"] # Třída (typ) numeric\n",
    "a5"
   ]
  },
  {
   "cell_type": "code",
   "execution_count": null,
   "id": "e91e81ed",
   "metadata": {},
   "outputs": [],
   "source": [
    "# takto s výsledkem typu data frame\n",
    "a5.df = dataS %>%\n",
    "  filter(vyrobce==\"A\") %>%  # vyfiltruje řádky odpovídající výrobci A\n",
    "  select(kap5)   # Vybere pouze hodnoty ve sloupci kap5,\n",
    "head(a5.df)"
   ]
  },
  {
   "cell_type": "code",
   "execution_count": null,
   "id": "3420ae8c",
   "metadata": {},
   "outputs": [],
   "source": [
    "# Ostatní samostatné proměnné (uveden pouze jeden způsob)\n",
    "b5=dataS$kap5[dataS$vyrobce==\"B\"]\n",
    "c5=dataS$kap5[dataS$vyrobce==\"C\"]\n",
    "d5=dataS$kap5[dataS$vyrobce==\"D\"]\n",
    "\n",
    "a100=dataS$kap100[dataS$vyrobce==\"A\"]\n",
    "b100=dataS$kap100[dataS$vyrobce==\"B\"]\n",
    "c100=dataS$kap100[dataS$vyrobce==\"C\"]\n",
    "d100=dataS$kap100[dataS$vyrobce==\"D\"]\n",
    "\n",
    "pokles.a=dataS$pokles[dataS$vyrobce==\"A\"]\n",
    "pokles.b=dataS$pokles[dataS$vyrobce==\"B\"]\n",
    "pokles.c=dataS$pokles[dataS$vyrobce==\"C\"]\n",
    "pokles.d=dataS$pokles[dataS$vyrobce==\"D\"]"
   ]
  },
  {
   "cell_type": "markdown",
   "id": "5bae3e3f",
   "metadata": {},
   "source": [
    "### Podrobnější okénko do funkcí knihovny Dplyr - práce nad daty ve standardním datovém formátu"
   ]
  },
  {
   "cell_type": "markdown",
   "id": "166d5a69",
   "metadata": {},
   "source": [
    "Je nutné aplikovat na data ve st. datovém formátu !!!\n",
    "\n",
    "Operátor pipe %>% - pomáhá při řetězení funkcí - v novém RStudiu klávesová zkratka Ctrl+Shift+M\n",
    "\n",
    "#### filter - aplikuje filtr na daný sloupec"
   ]
  },
  {
   "cell_type": "code",
   "execution_count": null,
   "id": "6321e04b",
   "metadata": {},
   "outputs": [],
   "source": [
    "# filter - vybere / vyfiltruje řádky na základě daných podmínek\n",
    "# Výběr výrobků od výrobce A\n",
    "dataS %>% filter(vyrobce==\"A\")"
   ]
  },
  {
   "cell_type": "code",
   "execution_count": null,
   "id": "6b243f3a",
   "metadata": {},
   "outputs": [],
   "source": [
    "# Výběr výrobků od výrobce A nebo B\n",
    "# | oddělující podmínky odpovídá logickému \"nebo\"\n",
    "dataS %>% filter(vyrobce==\"A\" | vyrobce==\"B\")  "
   ]
  },
  {
   "cell_type": "code",
   "execution_count": null,
   "id": "b5c38c72",
   "metadata": {},
   "outputs": [],
   "source": [
    "# Výběr všech výrobků s poklesem o 200 mAh a větším od výrobce C\n",
    "# čárka oddělující podmínky odpovídá logickému \"a zároveň\"\n",
    "dataS %>% filter(pokles>=200, vyrobce==\"C\")  "
   ]
  },
  {
   "cell_type": "markdown",
   "id": "fb6fe641",
   "metadata": {},
   "source": [
    "#### mutate - vyrobí nový sloupec"
   ]
  },
  {
   "cell_type": "code",
   "execution_count": null,
   "id": "6a9fb3bd",
   "metadata": {},
   "outputs": [],
   "source": [
    "# mutate - přidá novou proměnnou nebo transformuje existující\n",
    "# Vytvoření nového sloupce pokles_Ah, který údává pokles kapacit v Ah (původní data v mAh, 1 Ah = 1000 mAh)\n",
    "pokus = dataS %>% mutate(pokles_Ah=pokles/1000)\n",
    "head(pokus)\n",
    "# pozor! pokud výsledek s nový sloupcem nikam neuložíme, tak se pouze vypíše a zmizí"
   ]
  },
  {
   "cell_type": "markdown",
   "id": "ddf66835",
   "metadata": {},
   "source": [
    "#### summarise - generuje souhrnné charakteristiky různých proměnných"
   ]
  },
  {
   "cell_type": "code",
   "execution_count": null,
   "id": "cca73c5c",
   "metadata": {},
   "outputs": [],
   "source": [
    "# Výpočet průměru a mediánu všech hodnot proměnné kap5\n",
    "dataS %>% summarise(prum=mean(kap5),median=median(kap5))"
   ]
  },
  {
   "cell_type": "markdown",
   "id": "2ec63027",
   "metadata": {},
   "source": [
    "#### arrange - seřadí řádky podle zvolené proměnné"
   ]
  },
  {
   "cell_type": "code",
   "execution_count": null,
   "id": "f3b94668",
   "metadata": {},
   "outputs": [],
   "source": [
    "# Vzestupné a sestupné seřazení řádků podle hodnoty poklesu\n",
    "dataS %>% arrange(pokles)"
   ]
  },
  {
   "cell_type": "code",
   "execution_count": null,
   "id": "eb0669dd",
   "metadata": {},
   "outputs": [],
   "source": [
    "dataS %>% arrange(desc(pokles))"
   ]
  },
  {
   "cell_type": "markdown",
   "id": "4dc4871e",
   "metadata": {},
   "source": [
    "#### group_by - seskupí hodnoty do skupin podle zvolené proměnné"
   ]
  },
  {
   "cell_type": "code",
   "execution_count": null,
   "id": "a3d57979",
   "metadata": {},
   "outputs": [],
   "source": [
    "# tabulka je \"virtuálně\" rozdělená na skupiny pro pozdější zpracování např. summarise\n",
    "dataS %>% group_by(vyrobce)"
   ]
  },
  {
   "cell_type": "code",
   "execution_count": null,
   "id": "d214bbdd",
   "metadata": {},
   "outputs": [],
   "source": [
    "# Ideální pro spočítání sumárních charakteristik pro každého výrobce zvlášť, např. průměru\n",
    "dataS %>%\n",
    "  group_by(vyrobce) %>% \n",
    "  summarise(prum=mean(kap5), \"směrodatná odchylka\"=sd(kap5))"
   ]
  },
  {
   "cell_type": "markdown",
   "id": "89dc7985",
   "metadata": {},
   "source": [
    "**Závěrečná poznámka k dplyr (kterou je dobré dočíst až do konce...)\n",
    "Některé operace mohou vyhodit objekt typu \"tibble\".\n",
    "Jedná se o modernější data.frame, nicméně v některých funkcích může dělat problémy a způsobovat chybová hlášení!\n",
    "Jednoduše lze tento \"tibble\" objekt převést na typ data.frame pomocí as.data.frame().**"
   ]
  },
  {
   "cell_type": "markdown",
   "id": "2949b97e",
   "metadata": {},
   "source": [
    "# 5. Převod dat do standardního datového formátu (u dvou nejčastějších formátu dat)\n",
    "## Z dat ve formátu Datová matice"
   ]
  },
  {
   "cell_type": "code",
   "execution_count": null,
   "id": "10e8b6bb",
   "metadata": {},
   "outputs": [],
   "source": [
    "data_DM = read_excel(\"./data/datova_matice.xlsx\")\n",
    "head(data_DM)"
   ]
  },
  {
   "cell_type": "code",
   "execution_count": null,
   "id": "81cece12",
   "metadata": {},
   "outputs": [],
   "source": [
    "data_DM = data_DM[,-1]\n",
    "colnames(data_DM) = c(\"A22\", \"A5\", \"B22\", \"B5\", \"C22\", \"C5\", \"D22\", \"D5\")\n",
    "head(data_DM)"
   ]
  },
  {
   "cell_type": "markdown",
   "id": "d11627ef",
   "metadata": {},
   "source": [
    "### Funkce reshape\n",
    "Její parametry:\n",
    "- **data** - data k převedení musí být fe formátu data.frame (as.data.frame(data))\n",
    "- **direction** - kterým směrem chceme transformaci udělat\n",
    "    - \"long\" - do standardního formátu\n",
    "    - \"wide\" - zpátky do datové matice\n",
    "- **varying** - názvy sloupců, které označují stejná data pro různé kategorie\n",
    "    - je to list vektorů\n",
    "    - každá položka listu je jedno měření\n",
    "    - každý vektor je pak seznam sloupců\n",
    "- **v.names** - názvy sloupců ve st. dat. formátu\n",
    "    - počet názvů musí sedět na počet vektorů v varying\n",
    "- **times** - názvy jednotlivých kategorií\n",
    "    - POZOR!! musí být ve stejném pořadí jako u proměné varying\n",
    "- **timevar** - název sloupce s kategoriemi"
   ]
  },
  {
   "cell_type": "code",
   "execution_count": null,
   "id": "8b565d82",
   "metadata": {},
   "outputs": [],
   "source": [
    "data_DM_S=reshape(data=as.data.frame(data_DM),\n",
    "                  direction=\"long\",\n",
    "                  varying=list(c(\"A5\", \"B5\", \"C5\", \"D5\"),\n",
    "                               c(\"A22\",\"B22\",\"C22\",\"D22\")),\n",
    "                  v.names=c(\"5 C\",\"22  C\"),   \n",
    "                  times=c(\"Amber\",\"Bright\",\"Clear\",\"Dim\"),  \n",
    "                  timevar=\"vyrobce\")\n",
    "head(data_DM_S)"
   ]
  },
  {
   "cell_type": "code",
   "execution_count": null,
   "id": "519f22e4",
   "metadata": {},
   "outputs": [],
   "source": [
    "help(reshape)"
   ]
  },
  {
   "cell_type": "code",
   "execution_count": null,
   "id": "f7ef2b21",
   "metadata": {},
   "outputs": [],
   "source": [
    "# a pokud bychom chtěli, můžeme převést data zpět\n",
    "data_DM_2=reshape(data=data_DM_S,\n",
    "                  direction=\"wide\",\n",
    "                  varying=list(c(\"A5\", \"B5\", \"C5\", \"D5\"),\n",
    "                               c(\"A22\",\"B22\",\"C22\",\"D22\")),\n",
    "                  v.names=c(\"5 C\",\"22  C\"),   \n",
    "                  times=c(\"Amber\",\"Bright\",\"Clear\",\"Dim\"),  \n",
    "                  timevar=\"vyrobce\")\n",
    "head(data_DM_2)"
   ]
  },
  {
   "cell_type": "markdown",
   "id": "2e081d55",
   "metadata": {},
   "source": [
    "## Z datového souboru, kde jsou kategorie v jednotlivých listech excelu"
   ]
  },
  {
   "cell_type": "code",
   "execution_count": null,
   "id": "74aaf76b",
   "metadata": {},
   "outputs": [],
   "source": [
    "data_A = read_excel(\"./data/po_listech.xlsx\", sheet=1)\n",
    "head(data_A)\n",
    "data_B = read_excel(\"./data/po_listech.xlsx\", sheet=2)\n",
    "data_C = read_excel(\"./data/po_listech.xlsx\", sheet=3)\n",
    "data_D = read_excel(\"./data/po_listech.xlsx\", sheet=4)"
   ]
  },
  {
   "cell_type": "code",
   "execution_count": null,
   "id": "40512f65",
   "metadata": {},
   "outputs": [],
   "source": [
    "data_A$vyrobce = \"Amber\"\n",
    "data_B$vyrobce = \"Bright\"\n",
    "data_C$vyrobce = \"Clear\"\n",
    "data_D$vyrobce = \"Dim\"\n",
    "head(data_A)"
   ]
  },
  {
   "cell_type": "code",
   "execution_count": null,
   "id": "ea00cbb8",
   "metadata": {
    "scrolled": true
   },
   "outputs": [],
   "source": [
    "data_PL_S = rbind(data_A, data_B, data_C, data_D)\n",
    "data_PL_S"
   ]
  },
  {
   "cell_type": "markdown",
   "id": "eb48f82c",
   "metadata": {},
   "source": [
    "# 6. Explorační analýza a vizualizace kategoriální proměnné\n",
    "\n",
    "### Poznámky ke grafice v R\n",
    " základem jsou tzv. high-level funkce, které vytvoří graf (tj. otevřou grafické oknou a vykreslí dle zadaných parametrů)\n",
    " na ně navazují tzv. low-level funkce, které něco do aktviního grafického okna přidají, samy o sobě neotevřou nové\n",
    " př. low-level funkcí - např. abline, points, lines, legend, title, axis ... které přidají přímku, body, legendu...\n",
    " tzn. před použitím \"low-level\" funkce je potřeba, volat \"high-level\" funkci (např. plot, boxplot, hist, barplot, pie,...)\n",
    "\n",
    " Další grafické parametry naleznete v nápovědě\n",
    " nebo např. zde http://www.statmethods.net/advgraphs/parameters.html\n",
    " nebo zde https://flowingdata.com/2015/03/17/r-cheat-sheet-for-graphical-parameters/\n",
    " nebo http://bcb.dfci.harvard.edu/~aedin/courses/BiocDec2011/2.Plotting.pdf\n",
    "\n",
    " Barvy v R\n",
    " http://www.stat.columbia.edu/~tzheng/files/Rcolor.pdf\n",
    " https://www.nceas.ucsb.edu/~frazier/RSpatialGuides/colorPaletteCheatsheet.pdf\n",
    "\n",
    " Ukládání grafů lze např. pomocí funkce dev.print, jpeg, pdf a dalších.\n",
    " Jednodušeji pak v okně Plots -> Export"
   ]
  },
  {
   "cell_type": "code",
   "execution_count": null,
   "id": "5f47eb9f",
   "metadata": {},
   "outputs": [],
   "source": [
    "# Tabulka absolutních četností kategoriální proměnné výrobce...\n",
    "cetnosti=table(dataS$vyrobce)\n",
    "cetnosti #výpis - objekt typu \"table\" - většinou vhodnější, ale těžší převedení do typu data.frame"
   ]
  },
  {
   "cell_type": "code",
   "execution_count": null,
   "id": "f8276f6e",
   "metadata": {},
   "outputs": [],
   "source": [
    "#...a pomocí funkcí z dplyr (složitější)\n",
    "abs.cetnosti = dataS %>%\n",
    "                  group_by(vyrobce) %>%\n",
    "                  summarise(cetnost = n())  # počet výrobků pro každého výrobce"
   ]
  },
  {
   "cell_type": "code",
   "execution_count": null,
   "id": "0d1e3aae",
   "metadata": {},
   "outputs": [],
   "source": [
    "abs.cetnosti #výpis - objekt typu \"tibble\" - hodí se, když potřebujeme jednoduše převést na typ data.frame"
   ]
  },
  {
   "cell_type": "markdown",
   "id": "a3624bdf",
   "metadata": {},
   "source": [
    "### Tabulka relativních četností"
   ]
  },
  {
   "cell_type": "code",
   "execution_count": null,
   "id": "9bed4ddb",
   "metadata": {},
   "outputs": [],
   "source": [
    "# Přímým výpočtem\n",
    "rel.cetnosti=100*cetnosti/sum(cetnosti)   \n",
    "rel.cetnosti # výpis"
   ]
  },
  {
   "cell_type": "code",
   "execution_count": null,
   "id": "04b53b44",
   "metadata": {},
   "outputs": [],
   "source": [
    "# nebo pomocí funkce prop.table\n",
    "rel.cetnosti2=prop.table(cetnosti)*100\n",
    "rel.cetnosti2 # výpis"
   ]
  },
  {
   "cell_type": "code",
   "execution_count": null,
   "id": "96ce9045",
   "metadata": {},
   "outputs": [],
   "source": [
    "# nebo pomocí funkcí dplyr, kde budou zahrnuty i absolutní četnosti\n",
    "tabulka_abs_rel = dataS %>%\n",
    "                    group_by(vyrobce) %>%\n",
    "                    summarise(cetnost = n()) %>%   \n",
    "                    mutate(rel_cet_proc = round(100*(cetnost / sum(cetnost) ),1) )\n",
    "tabulka_abs_rel # výpis\n",
    "t(tabulka_abs_rel)"
   ]
  },
  {
   "cell_type": "code",
   "execution_count": null,
   "id": "a165daba",
   "metadata": {},
   "outputs": [],
   "source": [
    "# U všech tabulek je potřeba pohlídat zaokrouhlení a s ním spojené riziko zaokrouhlovací chyby.\n",
    "# Postup pro rel.cetnosti a rel.cetnosti2 je stejný.\n",
    "rel.cetnosti=round(rel.cetnosti,digits=1) # zaokrouhlení na 1 desetinné místo\n",
    "rel.cetnosti[4]=100-sum(rel.cetnosti[1:3]) # ohlídání zaokrouhlovací chyby\n",
    "rel.cetnosti"
   ]
  },
  {
   "cell_type": "code",
   "execution_count": null,
   "id": "5be0a65d",
   "metadata": {},
   "outputs": [],
   "source": [
    "# Postup pro tabulka_abs_rel je jiný, a to kvůli jinému formátu (tibble)\n",
    "tabulka_abs_rel[4,3]=100-sum((tabulka_abs_rel[1:3,3]))\n",
    "tabulka_abs_rel"
   ]
  },
  {
   "cell_type": "markdown",
   "id": "f307f453",
   "metadata": {},
   "source": [
    "#### Vytvoření tabulky s absolutními i rel. četnostmi (bez dplyr). Máme:"
   ]
  },
  {
   "cell_type": "code",
   "execution_count": null,
   "id": "5cb8a703",
   "metadata": {},
   "outputs": [],
   "source": [
    "cetnosti"
   ]
  },
  {
   "cell_type": "code",
   "execution_count": null,
   "id": "354afa43",
   "metadata": {},
   "outputs": [],
   "source": [
    "rel.cetnosti"
   ]
  },
  {
   "cell_type": "code",
   "execution_count": null,
   "id": "a7e3cf1e",
   "metadata": {},
   "outputs": [],
   "source": [
    "tabulka=cbind(cetnosti,rel.cetnosti)  # sloučení tabulek\n",
    "colnames(tabulka)=c(\"četnost\",\"rel.četnost (%)\") # změna názvů sloupců\n",
    "tabulka"
   ]
  },
  {
   "cell_type": "markdown",
   "id": "2795ea7b",
   "metadata": {},
   "source": [
    "#### Uložení tabulky do csv souboru"
   ]
  },
  {
   "cell_type": "code",
   "execution_count": null,
   "id": "f10ee87c",
   "metadata": {},
   "outputs": [],
   "source": [
    "write.csv2(tabulka,file=\"tabulka.csv\")"
   ]
  },
  {
   "cell_type": "code",
   "execution_count": null,
   "id": "ac52f6ad",
   "metadata": {},
   "outputs": [],
   "source": [
    "# Kde je tabulka uložena? Bez uvedení kompletní cesty v předchozím příkazu je uložena v pracovním adresáři.\n",
    "getwd()"
   ]
  },
  {
   "cell_type": "markdown",
   "id": "de752a10",
   "metadata": {},
   "source": [
    "<hr>\n",
    "\n",
    "### Vizualizace pomocí grafů"
   ]
  },
  {
   "cell_type": "code",
   "execution_count": null,
   "id": "e1ceaf10",
   "metadata": {},
   "outputs": [],
   "source": [
    "# Sloupcový graf\n",
    "# Základní (tzn. nevyžadující žádný balíček) sloupcový graf vychází z tabulky četností, kterou máme nachystanou\n",
    "par(mfrow = c(1,1), # jednoduché rozdělení grafického okna - 1 řádek, 1 sloupec\n",
    "    mar = c(2,2,2,2), # okraje kolem každého z grafů v počtech řádků - - c(dole, vlevo, nahoře, vpravo)\n",
    "    oma = c(2,2,2,2)) # vnější okraje v počtech řádků - c(dole, vlevo, nahoře, vpravo)\n",
    "barplot(cetnosti)"
   ]
  },
  {
   "cell_type": "code",
   "execution_count": null,
   "id": "96c89ae7",
   "metadata": {},
   "outputs": [],
   "source": [
    "# Změna barev, přidání názvu\n",
    "barplot(cetnosti,\n",
    "        col=heat.colors(4), # alt. může být volen vektor konkrétních barev, např. c(\"blue\",\"yellow,\"red\",\"green\") \n",
    "        # nebo jiné škály (heat.colors, topo.colors, terrain.colors a mnoho dalších)\n",
    "        main=\"Zastoupení výrobců ve výběru\",\n",
    "        space=0.6) # parametr space vytvoří mezeru mezi sloupci"
   ]
  },
  {
   "cell_type": "code",
   "execution_count": null,
   "id": "f000a2ee",
   "metadata": {},
   "outputs": [],
   "source": [
    "# Přidání dalších popisků a legendy\n",
    "barplot(cetnosti,\n",
    "        col=heat.colors(4),\n",
    "        horiz=TRUE,                            # horizontální orientace grafu\n",
    "        border=FALSE,                   # nevykresluje čáru kolem sloupečků\n",
    "        main=\"Zastoupení výrobců ve výběru\",\n",
    "        names.arg=paste0(\"Výrobce \\n\",names(cetnosti))) \n",
    "# Funkce paste0 umožňuje sloučit textové řetězce a hodnoty proměnných, symbol \"\\n\" tvoří nový řádek v textu\n",
    "legend(\"right\",                             # umístění legendy u sloupcového grafu je velmi ošemetné\n",
    "       paste(\"Výrobce\",names(cetnosti)),       # mnohem snadněji se v tomto případě pracuje s ggplot2\n",
    "       col=heat.colors(4),\n",
    "       fill=heat.colors(4),\n",
    "       border=TRUE,\n",
    "       bty=\"n\")"
   ]
  },
  {
   "cell_type": "code",
   "execution_count": null,
   "id": "6626c4c8",
   "metadata": {},
   "outputs": [],
   "source": [
    "# Přidání absolutních a relativních četností k odpovídajícím sloupcům\n",
    "bp = barplot(cetnosti,\n",
    "             col=heat.colors(4),\n",
    "             main=\"Zastoupení výrobců ve výběru\",\n",
    "             names.arg=paste(\"Výrobce\",names(cetnosti)))\n",
    "text(bp,\n",
    "     cetnosti,paste0(cetnosti,\"; \",rel.cetnosti,\"%\"),\n",
    "     pos=1)\n",
    "# parametr pos udává, kde bude text uveden vzhledem k dané pozici (1 = pod, 2 = vlevo, 3 = nad, 4 = vpravo) "
   ]
  },
  {
   "cell_type": "markdown",
   "id": "1256668b",
   "metadata": {},
   "source": [
    "Zkuste využít předešlého kódu a vytvořit si sloupcový graf pro proměnnou Výrobce podle sebe."
   ]
  },
  {
   "cell_type": "markdown",
   "id": "34c0cc8e",
   "metadata": {},
   "source": [
    "# 7. Explorační analýza a vizualizace kvantitativní proměnné"
   ]
  },
  {
   "cell_type": "code",
   "execution_count": null,
   "id": "e3f3b699",
   "metadata": {},
   "outputs": [],
   "source": [
    "# Popisná statistika\n",
    "summary(dataS$kap5)"
   ]
  },
  {
   "cell_type": "code",
   "execution_count": null,
   "id": "54d1dbc3",
   "metadata": {},
   "outputs": [],
   "source": [
    "# Výpočet průměru jedné proměnné\n",
    "mean(dataS$kap5)"
   ]
  },
  {
   "cell_type": "code",
   "execution_count": null,
   "id": "3eb6ac88",
   "metadata": {},
   "outputs": [],
   "source": [
    "mean(a5)"
   ]
  },
  {
   "cell_type": "code",
   "execution_count": null,
   "id": "85b09b33",
   "metadata": {},
   "outputs": [],
   "source": [
    "# Pozor na chybějící hodnoty\n",
    "mean(data$C5)"
   ]
  },
  {
   "cell_type": "code",
   "execution_count": null,
   "id": "f3323aa9",
   "metadata": {},
   "outputs": [],
   "source": [
    "mean(data$C5,na.rm=TRUE)"
   ]
  },
  {
   "cell_type": "code",
   "execution_count": null,
   "id": "075e7b49",
   "metadata": {},
   "outputs": [],
   "source": [
    "# Výpočet mediánu jedné proměnné\n",
    "quantile(dataS$kap5,probs=0.5)"
   ]
  },
  {
   "cell_type": "code",
   "execution_count": null,
   "id": "59017721",
   "metadata": {},
   "outputs": [],
   "source": [
    "quantile(a5,probs=0.5)"
   ]
  },
  {
   "cell_type": "code",
   "execution_count": null,
   "id": "330977a6",
   "metadata": {},
   "outputs": [],
   "source": [
    "# Určení rozsahu\n",
    "length(dataS$kap5)"
   ]
  },
  {
   "cell_type": "markdown",
   "id": "8f175436",
   "metadata": {},
   "source": [
    "#### Další charakteristiky -> var(), sd(), min(), max(),...\n",
    "\n",
    "Pozor! Funkce pro výpočet šikmosti (skewness) a špičatosti (kurtosis) nejsou součástí základního R, najdete je v balíčku moments\n",
    "\n",
    "Normálnímu rozdělení odpovídá špičatost 3, resp. špčatost v intervalu (1,5)\n",
    "\n",
    "Pro standardizaci špičatosti je nutno od vypočtené hodnoty odečíst 3.\n",
    "\n",
    "Napíšete-li před název funkce název balíčku a \"::\", zajistíte tím, že bude použita funkce z daného balíčku\n",
    "\n",
    "Nutno ohlídat, když jsou v různých balíčcích definovány různé funkce pod stejným jménem"
   ]
  },
  {
   "cell_type": "code",
   "execution_count": null,
   "id": "0c7e72fb",
   "metadata": {},
   "outputs": [],
   "source": [
    "# install.packages(\"moments\")"
   ]
  },
  {
   "cell_type": "code",
   "execution_count": null,
   "id": "2a2f7d7b",
   "metadata": {},
   "outputs": [],
   "source": [
    "library(moments)"
   ]
  },
  {
   "cell_type": "code",
   "execution_count": null,
   "id": "592efee8",
   "metadata": {},
   "outputs": [],
   "source": [
    "skewness(a5)"
   ]
  },
  {
   "cell_type": "code",
   "execution_count": null,
   "id": "8fd9ba32",
   "metadata": {},
   "outputs": [],
   "source": [
    "kurtosis(a5)-3"
   ]
  },
  {
   "cell_type": "code",
   "execution_count": null,
   "id": "205cc9be",
   "metadata": {},
   "outputs": [],
   "source": [
    "# Chceme-li spočítat danou charakteristiku pro proměnnou kapacita po 5 cyklech \n",
    "# podle výrobců, můžeme použít funkci tapply\n",
    "tapply(dataS$kap5, dataS$vyrobce, mean, na.rm=TRUE)"
   ]
  },
  {
   "cell_type": "code",
   "execution_count": null,
   "id": "3f812a25",
   "metadata": {},
   "outputs": [],
   "source": [
    "# nebo pomocí dplyr - zde pozor na automatické (ne vždy správné zaokrouhlení)\n",
    "dataS %>% \n",
    "  group_by(vyrobce) %>% \n",
    "  summarise(mean(kap5,na.rm=T))"
   ]
  },
  {
   "cell_type": "code",
   "execution_count": null,
   "id": "d5ae0d79",
   "metadata": {},
   "outputs": [],
   "source": [
    "# Pro zjednodušení práce můžeme využít funkce dplyr a všechny charakteristiky si nasázet do jedné tabulky\n",
    "dataS %>%    # bez použití group_by pro celou proměnnou kap5\n",
    "  summarise(rozsah=length(kap5),\n",
    "            minimum=min(kap5,na.rm=T),     # preventivní na.rm=T\n",
    "            Q1=quantile(kap5,0.25,na.rm=T),\n",
    "            prumer=mean(kap5,na.rm=T),\n",
    "            median=median(kap5,na.rm=T),\n",
    "            Q3=quantile(kap5,0.75,na.rm=T),\n",
    "            maximum=max(kap5,na.rm=T),\n",
    "            rozptyl=var(kap5,na.rm=T),\n",
    "            smerodatna_odchylka=sd(kap5,na.rm=T),\n",
    "            variacni_koeficient=(100*(smerodatna_odchylka/prumer)),  # variační koeficient v procentech\n",
    "            sikmost=(moments::skewness(kap5,na.rm=T)),       # preventivní specifikace balíčku moments\n",
    "            spicatost=(moments::kurtosis(kap5,na.rm=T)-3)) "
   ]
  },
  {
   "cell_type": "code",
   "execution_count": null,
   "id": "5e50e9f1",
   "metadata": {},
   "outputs": [],
   "source": [
    "# Nezapoměňte na správné zaokrouhlení!\n",
    "# Použijeme group_by a dostaneme charakteristiky pro kapacitu po 5 cyklech podle výrobců\n",
    "# Vzhledem k neúplnému výpisu je vhodné si výstup uložit a prohlédnout si jej v novém okně\n",
    "charakteristiky_dle_vyrobce = \n",
    "  dataS %>%\n",
    "    group_by(vyrobce) %>% \n",
    "    summarise(rozsah=length(kap5),\n",
    "            minimum=min(kap5,na.rm=T),\n",
    "            Q1=quantile(kap5,0.25,na.rm=T),\n",
    "            prumer=mean(kap5,na.rm=T),\n",
    "            median=median(kap5,na.rm=T),\n",
    "            Q3=quantile(kap5,0.75,na.rm=T),\n",
    "            maximum=max(kap5,na.rm=T),\n",
    "            rozptyl=var(kap5,na.rm=T),\n",
    "            smerodatna_odchylka=sd(kap5,na.rm=T),\n",
    "            variacni_koeficient=(100*(smerodatna_odchylka/prumer)),  # variační koeficient v procentech\n",
    "            sikmost=(moments::skewness(kap5,na.rm=T)),\n",
    "            spicatost=(moments::kurtosis(kap5,na.rm=T)-3))"
   ]
  },
  {
   "cell_type": "code",
   "execution_count": null,
   "id": "dbc0f7b2",
   "metadata": {},
   "outputs": [],
   "source": [
    "charakteristiky_dle_vyrobce"
   ]
  },
  {
   "cell_type": "markdown",
   "id": "06493d3e",
   "metadata": {},
   "source": [
    "### Krabicový graf\n",
    "**Vykreslujeme pro originální data, můžeme doplnit i vykreslení pro data bez OP.**"
   ]
  },
  {
   "cell_type": "code",
   "execution_count": null,
   "id": "e6298f35",
   "metadata": {},
   "outputs": [],
   "source": [
    "# Jednoduché a rychlé vykreslení pomocí základní funkce pouze pro výrobce C\n",
    "boxplot(c5)"
   ]
  },
  {
   "cell_type": "code",
   "execution_count": null,
   "id": "669b2d1f",
   "metadata": {},
   "outputs": [],
   "source": [
    "# Další úprava grafu, využití funkce points pro zobrazení průměru\n",
    "boxplot(c5,\n",
    "        main=\"Kapacita po 5 cyklech (mAh)\", \n",
    "        xlab=\"Výrobce C\",\n",
    "        ylab=\"kapacita (mAh)\",\n",
    "        col=\"grey\")\n",
    "points(1, mean(c5,na.rm=TRUE), pch=3) # do stávajícího grafu doplní bod znázorňující průměr"
   ]
  },
  {
   "cell_type": "code",
   "execution_count": null,
   "id": "e4397742",
   "metadata": {},
   "outputs": [],
   "source": [
    "# Horizontální orientace, změna šířky krabice\n",
    "boxplot(c5,\n",
    "        main=\"Kapacita po 5 cyklech (mAh), výrobce C\", \n",
    "        horizontal=TRUE,  # při horizontální orientaci je třeba si ohlídat opačné nastavení popisků\n",
    "        xlab=\"kapacita (mAh)\",\n",
    "        boxwex=0.5)  # změní šířku krabice na 1/2"
   ]
  },
  {
   "cell_type": "markdown",
   "id": "d351ca15",
   "metadata": {},
   "source": [
    "Využijte předešlého kódu a vytvořte si krabicový graf podle sebe."
   ]
  },
  {
   "cell_type": "code",
   "execution_count": null,
   "id": "82b9985d",
   "metadata": {},
   "outputs": [],
   "source": []
  },
  {
   "cell_type": "code",
   "execution_count": null,
   "id": "6cee2466",
   "metadata": {},
   "outputs": [],
   "source": [
    "# A ještě vykreslení vícenásobného krabicového grafu\n",
    "boxplot(dataS$kap5~dataS$vyrobce) # grafické parametry lze nastavit obdobně jako u předchozích"
   ]
  },
  {
   "cell_type": "code",
   "execution_count": null,
   "id": "314c3985",
   "metadata": {},
   "outputs": [],
   "source": [
    "boxplot(a5,b5,c5,d5)"
   ]
  },
  {
   "cell_type": "markdown",
   "id": "d866a8cc",
   "metadata": {},
   "source": [
    "### Histogram\n",
    "**Vykreslujeme vždy pro data bez odlehlých pozorování!!**"
   ]
  },
  {
   "cell_type": "code",
   "execution_count": null,
   "id": "c8314d42",
   "metadata": {},
   "outputs": [],
   "source": [
    "# Jednoduché a rychlé vykreslení\n",
    "hist(a5)"
   ]
  },
  {
   "cell_type": "code",
   "execution_count": null,
   "id": "841bbc5d",
   "metadata": {},
   "outputs": [],
   "source": [
    "hist(a5,breaks=20) # Co dělají různé hodnoty parametru breaks s grafem?"
   ]
  },
  {
   "cell_type": "code",
   "execution_count": null,
   "id": "40d613ef",
   "metadata": {},
   "outputs": [],
   "source": [
    "# Již tradičně lze nastavit popisky, barvy a další parametry\n",
    "hist(a5, \n",
    "     main=\"Histogram pro kapacitu akumulátorů po 5 cyklech, výrobce A\", \n",
    "     xlab=\"kapacita (mAh)\",\n",
    "     ylab=\"četnost\",\n",
    "     col=\"blue\",       # barva výplně\n",
    "     border=\"grey\",    # barva ohraničení sloupců\n",
    "     labels=TRUE)         # přidá absolutní četnosti daných kategorií ve formě popisků"
   ]
  },
  {
   "cell_type": "code",
   "execution_count": null,
   "id": "0881d73f",
   "metadata": {},
   "outputs": [],
   "source": [
    "# Změna měřítka osy y, kvůli vykreslení odhadu hustoty pravděpodobnosti\n",
    "hist(a5, \n",
    "     main=\"Histogram pro kapacitu akumulátorů po 5 cyklech, výrobce A\", \n",
    "     xlab=\"kapacita (mAh)\",\n",
    "     ylab=\"f(x)\",\n",
    "     col=\"cadetblue1\", \n",
    "     border=\"grey\",\n",
    "     freq=FALSE)          # změna měřítka na ose y --> f(x)\n",
    "lines(density(a5))        # připojí graf odhadu hustoty pravděpodobnosti\n",
    "# Generování hustoty normálního rozdělení a přidání k histogramu\n",
    "xfit=seq(min(a5), max(a5), length=40)     # generování hodnot pro osu x\n",
    "yfit=dnorm(xfit, mean=mean(a5), sd=sd(a5))  # generování hodnot pro osu y\n",
    "lines(xfit, yfit, col=\"black\", lwd=2)    # do posledního grafu přidání křivky na základě výše vygenerovaných hodnot\n",
    "# Takto kombinovaný graf může posloužit k vizuálnímu posouzení normality."
   ]
  },
  {
   "cell_type": "markdown",
   "id": "aadd1916",
   "metadata": {},
   "source": [
    "**Využijte předešlého kódu a vytvořte si histogram podle sebe.**"
   ]
  },
  {
   "cell_type": "code",
   "execution_count": null,
   "id": "263d717b",
   "metadata": {},
   "outputs": [],
   "source": []
  },
  {
   "cell_type": "markdown",
   "id": "aac3e85b",
   "metadata": {},
   "source": [
    "### QQ-graf\n",
    "**Vykreslujeme vždy pro data bez odlehlých pozorování!!**"
   ]
  },
  {
   "cell_type": "code",
   "execution_count": null,
   "id": "c7a7decd",
   "metadata": {},
   "outputs": [],
   "source": [
    "# Jednoduché a velmi rychlé vykreslení...\n",
    "qqnorm(a5)\n",
    "qqline(a5)"
   ]
  },
  {
   "cell_type": "code",
   "execution_count": null,
   "id": "b9e70d5c",
   "metadata": {},
   "outputs": [],
   "source": [
    "# ... s úpravou popisků os...\n",
    "qqnorm(a5, \n",
    "       xlab=\"Teoretické kvantily\",\n",
    "       ylab=\"Výběrové kvantily\",\n",
    "       main=\"QQ-graf, kapacita po 5 cyklech, výrobce A\")\n",
    "qqline(a5)"
   ]
  },
  {
   "cell_type": "code",
   "execution_count": null,
   "id": "9f29944f",
   "metadata": {},
   "outputs": [],
   "source": []
  },
  {
   "cell_type": "markdown",
   "id": "1ad2f7eb",
   "metadata": {},
   "source": [
    "Pro pokročilé a zájemce - automatizace, využití for-cyklu, více grafů do jednoho obrázku\n",
    "\n",
    "Využíváme-li základní funkce (barplot, boxplot, histogram), pak se využívá funkce par() nebo layout()\n",
    "\n",
    "V těchto funkcích specifikujeme strukturu - jak chceme více obrázků vykreslit"
   ]
  },
  {
   "cell_type": "code",
   "execution_count": null,
   "id": "20e78661",
   "metadata": {},
   "outputs": [],
   "source": [
    "# Např. chceme vykreslit histogram i boxplot pro kapacitu po 5 cyklech akumulátorů od výrobce A\n",
    "pom=layout(mat = matrix(1:2,2,1, byrow=FALSE), height = c(2.5,1)) # vytvoření struktury\n",
    "par(oma=c(2,2,3,2),mar=c(2,2,3,2)) # nastavení velikosti okrajů\n",
    "\n",
    "hist(a5, \n",
    "     main=\"Výrobce A\",\n",
    "     xlab=\"kapacita (mAh) po 5 cyklech\", \n",
    "     ylab=\"četnost\", \n",
    "     ylim=c(0,32), \n",
    "     xlim=c(1730,2040))\n",
    "boxplot(a5, \n",
    "        horizontal=TRUE, \n",
    "        ylim=c(1700,2040), \n",
    "        boxwex=1.5)"
   ]
  },
  {
   "cell_type": "code",
   "execution_count": null,
   "id": "8282439e",
   "metadata": {},
   "outputs": [],
   "source": [
    "# Pomocí for-cyklu histogramy a boxploty pro všechny výrobce\n",
    "pom=layout(mat = matrix(1:8,2,4, byrow=FALSE), height = c(1.5,1))\n",
    "\n",
    "for (i in 1:4){\n",
    "  hist(pull(data5,i), \n",
    "       main=paste(\"Výrobce\",colnames(data5)[i]), \n",
    "       xlab=\"\", \n",
    "       ylab=\"četnost\", \n",
    "       xlim=c(min(data5,na.rm=TRUE), max(data5,na.rm=TRUE)), \n",
    "       ylim=c(0,32))\n",
    "  boxplot(pull(data5,i), \n",
    "          horizontal=TRUE, \n",
    "          ylim=c(min(data5,na.rm=TRUE), max(data5,na.rm=TRUE)), \n",
    "          xlab=\"kapacita (mAh) po 5 cyklech\",\n",
    "          boxwex=1.5)\n",
    "}\n",
    "mtext(\"Kapacita akumulátorů (mAh) po 5 cyklech dle výrobců\", cex = 1.1, outer=TRUE, side=3)"
   ]
  },
  {
   "cell_type": "code",
   "execution_count": null,
   "id": "6bc68e86",
   "metadata": {},
   "outputs": [],
   "source": [
    "# Kombinace histogramu a QQ-plotu\n",
    "pom=layout(mat = matrix(1:8,2,4, byrow=FALSE), height = c(2,1.5))\n",
    "par(oma=c(2,2,3,2), mar=c(2,2,3,2))\n",
    "\n",
    "for (i in 1:4){\n",
    "  hist(pull(data5,i), \n",
    "       main=paste(\"Výrobce\",colnames(data5)[i]), \n",
    "       xlab=\"kapacita (mAh) po 5 cyklech\", \n",
    "       ylab=\"četnost\", \n",
    "       xlim=c(min(data5,na.rm=TRUE), max(data5,na.rm=TRUE)), \n",
    "       ylim=c(0,0.037),\n",
    "       freq=FALSE)\n",
    "  lines(density(pull(data5,i), na.rm=TRUE))\n",
    "  xfit=seq(min(pull(data5,i), na.rm=TRUE), max(pull(data5,i), na.rm=TRUE), length=40) \n",
    "  yfit=dnorm(xfit, mean=mean(pull(data5,i), na.rm=TRUE), sd=sd(pull(data5,i), na.rm=TRUE)) \n",
    "  lines(xfit, yfit, col=\"blue\", lty=2)\n",
    "  qqnorm(pull(data5,i),main = \"\")\n",
    "  qqline(pull(data5,i))\n",
    "}\n",
    "mtext(\"Kapacita akumulátorů po 5 cyklech (mAh)\", cex = 1.5, outer=TRUE, side=3)"
   ]
  },
  {
   "cell_type": "markdown",
   "id": "8dd418f6",
   "metadata": {},
   "source": [
    "# 8. Vnitřní hradby a identifikace odlehlých pozorování\n",
    "## Ruční odstranění pomocí napočítání vnitřních hradeb"
   ]
  },
  {
   "cell_type": "code",
   "execution_count": null,
   "id": "f7f7b15a",
   "metadata": {},
   "outputs": [],
   "source": [
    "# separace datového sloupce pro výrobce A\n",
    "data_A_kap5 = dataS$kap5[dataS$vyrobce == \"A\"]\n",
    "data_A_kap5"
   ]
  },
  {
   "cell_type": "code",
   "execution_count": null,
   "id": "dc9f89a4",
   "metadata": {},
   "outputs": [],
   "source": [
    "dolni_kvartil = quantile(data_A_kap5,0.25,na.rm=T)\n",
    "horni_kvartil = quantile(data_A_kap5,0.75,na.rm=T)\n",
    "IQR = horni_kvartil - dolni_kvartil  # mezikvartilové rozpěti\n",
    "dolni_mez = dolni_kvartil - 1.5*IQR  # výpočet dolní mezi vnitřních hradeb\n",
    "horni_mez = horni_kvartil + 1.5*IQR  # výpočet horní mezi vnitřních hradeb\n",
    "dolni_mez\n",
    "horni_mez"
   ]
  },
  {
   "cell_type": "code",
   "execution_count": null,
   "id": "882defc8",
   "metadata": {},
   "outputs": [],
   "source": [
    "data_A_kap5_bezOP = data_A_kap5\n",
    "# nastavíme hodnoty které jsou mimo meze na NA \n",
    "data_A_kap5_bezOP[data_A_kap5>=horni_mez | data_A_kap5<=dolni_mez] = NA\n",
    "data_A_kap5_bezOP"
   ]
  },
  {
   "cell_type": "code",
   "execution_count": null,
   "id": "b71c6fee",
   "metadata": {},
   "outputs": [],
   "source": [
    "# můžeme hondoty NA smazat\n",
    "data_A_kap5_bezOP = na.omit(data_A_kap5_bezOP)"
   ]
  },
  {
   "cell_type": "markdown",
   "id": "16a78db0",
   "metadata": {},
   "source": [
    "## Automatické odstranění dle box-plotu"
   ]
  },
  {
   "cell_type": "code",
   "execution_count": null,
   "id": "7ce37344",
   "metadata": {},
   "outputs": [],
   "source": [
    "pom = boxplot(data_A_kap5)"
   ]
  },
  {
   "cell_type": "code",
   "execution_count": null,
   "id": "0c347a7e",
   "metadata": {},
   "outputs": [],
   "source": [
    "pom"
   ]
  },
  {
   "cell_type": "code",
   "execution_count": null,
   "id": "b353794e",
   "metadata": {},
   "outputs": [],
   "source": [
    "data_A_kap5_bezOP = data_A_kap5\n",
    "data_A_kap5_bezOP[data_A_kap5 %in% pom$out] = NA\n",
    "data_A_kap5_bezOP"
   ]
  },
  {
   "cell_type": "markdown",
   "id": "2a03f6c8",
   "metadata": {},
   "source": [
    "### Jak to udělat pro data ve standardním formátu s více kategoriemi?"
   ]
  },
  {
   "cell_type": "code",
   "execution_count": null,
   "id": "021da1de",
   "metadata": {},
   "outputs": [],
   "source": [
    "head(data5S)"
   ]
  },
  {
   "cell_type": "code",
   "execution_count": null,
   "id": "b55afb6b",
   "metadata": {},
   "outputs": [],
   "source": [
    "pom = boxplot(data5S$kap5 ~ data5S$vyrobce)\n",
    "pom"
   ]
  },
  {
   "cell_type": "markdown",
   "id": "89591f82",
   "metadata": {},
   "source": [
    "**Pozor, je to třeba udělat po jednotlivých kategoriích, jinak riskujeme smazání dat, které do dat. souboru patří!!!**"
   ]
  },
  {
   "cell_type": "code",
   "execution_count": null,
   "id": "27082e08",
   "metadata": {},
   "outputs": [],
   "source": [
    "vyrobci = unique(data5S$vyrobce) # c(\"A\",\"B\",..)\n",
    "vyrobci\n",
    "\n",
    "data5S_bezOP = data5S\n",
    "\n",
    "for(vyrobce in vyrobci){\n",
    "    pom = boxplot(data5S$kap5[data5S$vyrobce == vyrobce],plot = FALSE)\n",
    "    data5S_bezOP$kap5[data5S$kap5 %in% pom$out & data5S$vyrobce == vyrobce]=NA\n",
    "}"
   ]
  },
  {
   "cell_type": "code",
   "execution_count": null,
   "id": "a68681c3",
   "metadata": {},
   "outputs": [],
   "source": [
    "boxplot(data5S_bezOP$kap5 ~ data5S_bezOP$vyrobce)"
   ]
  },
  {
   "cell_type": "markdown",
   "id": "828037f8",
   "metadata": {},
   "source": [
    "**Analytik může vždy říct, že odlehlá pozorování odstraňovat nebude, ale tuto informaci musí do zápisu o analýze uvést!**"
   ]
  },
  {
   "cell_type": "markdown",
   "id": "6ef1e4f3",
   "metadata": {},
   "source": [
    "# 9. pravidlo 3 $\\sigma$ a Čebyševova nerovnost\n",
    "## Empirické ověření normality\n",
    "**Vycházíme z dat po odstranění odlehlých pozorování:**"
   ]
  },
  {
   "cell_type": "code",
   "execution_count": null,
   "id": "98667a65",
   "metadata": {},
   "outputs": [],
   "source": [
    "# použijeme data z ukázky odstranění op\n",
    "data_A_kap5_bezOP = na.omit(data_A_kap5_bezOP)\n",
    "data_A_kap5_bezOP"
   ]
  },
  {
   "cell_type": "markdown",
   "id": "6063b922",
   "metadata": {},
   "source": [
    "Vykreslíme QQ graf a spočteme šikmost a špičatost:"
   ]
  },
  {
   "cell_type": "code",
   "execution_count": null,
   "id": "81e28411",
   "metadata": {},
   "outputs": [],
   "source": [
    "qqnorm(data_A_kap5_bezOP)\n",
    "qqline(data_A_kap5_bezOP)"
   ]
  },
  {
   "cell_type": "code",
   "execution_count": null,
   "id": "e1f9beac",
   "metadata": {},
   "outputs": [],
   "source": [
    "skewness(data_A_kap5_bezOP)\n",
    "kurtosis(data_A_kap5_bezOP) - 3 # jiná definice posunutá o 3"
   ]
  },
  {
   "cell_type": "markdown",
   "id": "7b28789e",
   "metadata": {},
   "source": [
    "- tečky v QQ grafu musí ležet přibližně na čáře - tzn. kvantily odpovídají přibližně kvantilům normálního rozdělení\n",
    "- šikmost (skewness) musí ležet v intervalu <-2, 2>\n",
    "- špočatost (kurtosis) musí ležet v intervalu <-2,2>\n",
    " - pozor výsledek Rkové funkce musíme ponížit o 3\n",
    " \n",
    "**Je-li splněna normalita dat -> pravidlo 3σ**<br>\n",
    "σ:  P(µ − σ < X < µ + σ) = 0,6827<br>\n",
    "2σ: P(µ − 2σ < X < µ + 2σ) = 0,9545<br>\n",
    "3σ: P(µ − 3σ < X < µ + 3σ) = 0,9973<br>\n",
    "<br>\n",
    "**Není-li splněna normalita dat -> Čebyševova nerovnost**<br>\n",
    "σ:  P(µ − σ < X < µ + σ) = 0<br>\n",
    "2σ: P(µ − 2σ < X < µ + 2σ) = 0,75<br>\n",
    "3σ: P(µ − 3σ < X < µ + 3σ) = 0,8889<br>"
   ]
  },
  {
   "cell_type": "code",
   "execution_count": null,
   "id": "5cbaf393",
   "metadata": {},
   "outputs": [],
   "source": [
    "mu = mean(data_A_kap5_bezOP)\n",
    "sigma = sd(data_A_kap5_bezOP)\n",
    "paste0(\"<\", mu - sigma, \", \", mu + sigma, \">\")\n",
    "paste0(\"<\", mu - 2*sigma, \", \", mu + 2*sigma, \">\")\n",
    "paste0(\"<\", mu - 3*sigma, \", \", mu + 3*sigma, \">\")"
   ]
  },
  {
   "cell_type": "markdown",
   "id": "0c9db44b",
   "metadata": {},
   "source": [
    "# 10. Zaokrouhlování\n",
    "vše potřebné k zaokrouhlování naleznete na LMS v dokumento zaokrouhlování. https://lms.vsb.cz/pluginfile.php/1298954/mod_folder/content/0/Leg%C3%A1ln%C3%AD%20tah%C3%A1ky/zaokrouhlovani.pdf <br>\n",
    "To nejdůležitější:\n",
    "- směrodatnou odchylku zaokrouhlujeme na předepsaný počet cifer nahoru (ceiling)\n",
    " - velikost datového souboru = <2,10> -> 1 platná cifra\n",
    " - velikost datového souboru = (10,30> -> 2 platné cifry\n",
    " - velikost datového souboru = (30,2000> -> 3 platné cifry\n",
    "- míry polohy (průměry, kvantily, ...) pak zaokrouhlujeme klasicky (round) na stejnou platnou cifru jako směrodatnou odchylku"
   ]
  },
  {
   "cell_type": "code",
   "execution_count": null,
   "id": "188f10cb",
   "metadata": {},
   "outputs": [],
   "source": [
    "length(data_A_kap5_bezOP)\n",
    "smer_odch = sd(data_A_kap5_bezOP)\n",
    "smer_odch"
   ]
  },
  {
   "cell_type": "code",
   "execution_count": null,
   "id": "b66c3a99",
   "metadata": {},
   "outputs": [],
   "source": [
    "ceiling(smer_odch*10)/10"
   ]
  },
  {
   "cell_type": "code",
   "execution_count": null,
   "id": "ad2777f3",
   "metadata": {},
   "outputs": [],
   "source": [
    "prumer = mean(data_A_kap5_bezOP)\n",
    "prumer"
   ]
  },
  {
   "cell_type": "code",
   "execution_count": null,
   "id": "d87afae2",
   "metadata": {},
   "outputs": [],
   "source": [
    "round(prumer,digits=1)"
   ]
  },
  {
   "cell_type": "code",
   "execution_count": null,
   "id": "dcfdc05f",
   "metadata": {},
   "outputs": [],
   "source": [
    "max(data_A_kap5_bezOP)"
   ]
  },
  {
   "cell_type": "code",
   "execution_count": null,
   "id": "2e969982",
   "metadata": {},
   "outputs": [],
   "source": []
  }
 ],
 "metadata": {
  "kernelspec": {
   "display_name": "R",
   "language": "R",
   "name": "ir"
  },
  "language_info": {
   "codemirror_mode": "r",
   "file_extension": ".r",
   "mimetype": "text/x-r-source",
   "name": "R",
   "pygments_lexer": "r",
   "version": "4.0.5"
  }
 },
 "nbformat": 4,
 "nbformat_minor": 5
}

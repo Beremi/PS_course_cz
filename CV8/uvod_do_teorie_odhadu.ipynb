{
 "cells": [
  {
   "cell_type": "markdown",
   "metadata": {},
   "source": [
    " # Cvičení 8. Úvod do teorie odhadů - Intervalové odhady (jednoho výběru)\n",
    " ## Michal Béreš, Martina Litschmannová, Veronika Kubíčková"
   ]
  },
  {
   "cell_type": "markdown",
   "metadata": {},
   "source": [
    "# Demonstrace na úvod - co je to intervalový odhad?\n",
    "Uvažujme náhodnou veličinu z normálního rozdělení se střední hodnotou $\\mu$ a směrodatnou odchylkou $\\sigma$. Budeme pracovat s výběry z této náhodné veličiny a pomoci jich se budeme snažit odhadnout střední hodnutu rozdělení (zde známe její skutečnou hodnotu, ale v praxi je její hodnota neznámá)."
   ]
  },
  {
   "cell_type": "code",
   "execution_count": 2,
   "metadata": {
    "vscode": {
     "languageId": "r"
    }
   },
   "outputs": [
    {
     "data": {
      "text/html": [
       "0.22313016014843"
      ],
      "text/latex": [
       "0.22313016014843"
      ],
      "text/markdown": [
       "0.22313016014843"
      ],
      "text/plain": [
       "[1] 0.2231302"
      ]
     },
     "metadata": {},
     "output_type": "display_data"
    }
   ],
   "source": [
    "1 - pexp(45, 1 / 30)"
   ]
  },
  {
   "cell_type": "code",
   "execution_count": 3,
   "metadata": {
    "vscode": {
     "languageId": "r"
    }
   },
   "outputs": [
    {
     "data": {
      "text/html": [
       "6.69430653942629"
      ],
      "text/latex": [
       "6.69430653942629"
      ],
      "text/markdown": [
       "6.69430653942629"
      ],
      "text/plain": [
       "[1] 6.694307"
      ]
     },
     "metadata": {},
     "output_type": "display_data"
    }
   ],
   "source": [
    "qexp(0.2,1/30)"
   ]
  },
  {
   "cell_type": "code",
   "execution_count": null,
   "metadata": {
    "vscode": {
     "languageId": "r"
    }
   },
   "outputs": [],
   "source": [
    "n <- 30 # velikost výběru\n",
    "mu <- 100 # střední hodnota\n",
    "sigma <- 10 # směr. odchylka\n",
    "\n",
    "# simulace náhodného výběru ze zadané náhodné veličiny\n",
    "vyber <- rnorm(n = n, mean = mu, sd = sigma)\n",
    "\n",
    "X <- mean(vyber) # výběrový průměr jako bodový odhad\n",
    "S <- sd(vyber) # výběrová směr. odch.\n",
    "X\n",
    "S\n"
   ]
  },
  {
   "cell_type": "markdown",
   "metadata": {},
   "source": [
    "Pro přehlednost si můžeme výběr vizualizovat."
   ]
  },
  {
   "cell_type": "code",
   "execution_count": null,
   "metadata": {
    "vscode": {
     "languageId": "r"
    }
   },
   "outputs": [],
   "source": [
    "options(repr.plot.width = 12) # šířka grafů v Jupyteru\n",
    "par(mfrow = c(1, 2)) # matice grafů 1x2\n",
    "\n",
    "hist(vyber)\n",
    "boxplot(vyber)\n"
   ]
  },
  {
   "cell_type": "markdown",
   "metadata": {},
   "source": [
    "### Samotné sestrojení Intervalového odhadu pomocí výběrové charakteristiky\n",
    "Použijeme tuto výběrovou charakteristiku: (předpokládáme, že neznáme žádné skutečné parametry rozdělení, pouze to, že je normální)<br>\n",
    "$Y=\\frac{\\bar X - \\mu}{S}\\sqrt{n} \\sim t_{n-1}$ <br>\n",
    "Jelikož, známe rozdělení Y jsme schopni napočítat $a$ a $b$ v následujícím výrazu:<br>\n",
    "$P(a<Y<b)\\geq 1 - \\alpha$ <br>\n",
    "- $\\alpha$ nazýváme hladinou významnosti (pravděpodobnost, že hledaná hodnota leží mimo náš interval)\n",
    "- $1-\\alpha$ nazýváme spolehlivost intervalového odhadu"
   ]
  },
  {
   "cell_type": "markdown",
   "metadata": {},
   "source": [
    "$a$ a $b$ zvolíme tak aby byly v pravděpodobnosti symetrické, tzn.:\n",
    "- $P(Y<a)\\leq \\alpha / 2 \\rightarrow a=t_{\\alpha / 2;n-1}$ \n",
    "- $P(b<Y)\\leq \\alpha / 2 \\rightarrow P(Y\\leq b)\\geq 1 - \\alpha / 2 \\rightarrow b=t_{1-\\alpha / 2;n-1}$ "
   ]
  },
  {
   "cell_type": "code",
   "execution_count": null,
   "metadata": {
    "vscode": {
     "languageId": "r"
    }
   },
   "outputs": [],
   "source": [
    "# maximální pravděpodobnost s jakou připouštíme aby\n",
    "# skutečná st. hod. ležela mimo sestrojený interval\n",
    "alpha <- 0.05\n",
    "\n",
    "# příslušné kvantily studentova rozdělení\n",
    "t_low <- qt(alpha / 2, df = n - 1)\n",
    "t_high <- qt(1 - alpha / 2, df = n - 1)\n",
    "\n",
    "t_low\n",
    "t_high\n"
   ]
  },
  {
   "cell_type": "markdown",
   "metadata": {},
   "source": [
    "Dále jen doplníme do výrazu a upravíme:<br>\n",
    "$P(t_{\\alpha / 2;n-1}<\\frac{\\bar X - \\mu}{S}\\sqrt{n}<t_{1-\\alpha / 2;n-1})\\geq 1 - \\alpha$ <br>\n",
    "$P(\\bar X - t_{1-\\alpha / 2;n-1}\\frac{S}{\\sqrt{n}}<\\mu<\\bar X - t_{\\alpha / 2;n-1}\\frac{S}{\\sqrt{n}})\\geq 1 - \\alpha$ <br>"
   ]
  },
  {
   "cell_type": "code",
   "execution_count": null,
   "metadata": {
    "vscode": {
     "languageId": "r"
    }
   },
   "outputs": [],
   "source": [
    "I_dolni <- X - t_high * S / sqrt(n)\n",
    "I_horni <- X - t_low * S / sqrt(n)\n",
    "paste(\"P(\", I_dolni, \" < µ < \", I_horni, \") ≥ \", 1 - alpha)\n"
   ]
  },
  {
   "cell_type": "markdown",
   "metadata": {},
   "source": [
    "Tento konkrétní odhad, můžeme dostat také pomocí Rkovské funkce t.test:"
   ]
  },
  {
   "cell_type": "code",
   "execution_count": null,
   "metadata": {
    "vscode": {
     "languageId": "r"
    }
   },
   "outputs": [],
   "source": [
    "t.test(vyber, alternative = \"two.sided\", conf.level = 1 - alpha)$conf.int\n"
   ]
  },
  {
   "cell_type": "markdown",
   "metadata": {},
   "source": [
    "### Otestování intervalového odhadu na více výběrech"
   ]
  },
  {
   "cell_type": "code",
   "execution_count": null,
   "metadata": {
    "vscode": {
     "languageId": "r"
    }
   },
   "outputs": [],
   "source": [
    "pocet_pokusu <- 10000 # počet výběrů\n",
    "\n",
    "n <- 30 # velikost výběru\n",
    "mu <- 100 # střední hodnota\n",
    "sigma <- 10 # směrodat. odchyl.\n",
    "\n",
    "alpha <- 0.05 # hladina významnosti\n",
    "\n",
    "# příslušné kvantily studentova rozdělení\n",
    "t_low <- qt(alpha / 2, df = n - 1)\n",
    "t_high <- qt(1 - alpha / 2, df = n - 1)\n",
    "\n",
    "# vykreslení skutečné střední hodnoty\n",
    "plot(c(1, pocet_pokusu), c(mu, mu), type = \"l\", ylim = c(90, 110))\n",
    "\n",
    "pocet_neuspesnych <- 0\n",
    "# cyklus přes jednotlivé výběry\n",
    "for (i in 1:pocet_pokusu) {\n",
    "    vyber <- rnorm(n = n, mean = mu, sd = sigma)\n",
    "    X <- mean(vyber)\n",
    "    S <- sd(vyber)\n",
    "    I_dolni <- X - t_high * S / sqrt(n)\n",
    "    I_horni <- X - t_low * S / sqrt(n)\n",
    "\n",
    "    # zvolíme barvu vykreslení, podle toho zda IO obsahuje stř. hod.\n",
    "    if (I_dolni < mu && mu < I_horni) {\n",
    "        barva <- \"blue\"\n",
    "    } else {\n",
    "        barva <- \"red\"\n",
    "        pocet_neuspesnych <- pocet_neuspesnych + 1\n",
    "    }\n",
    "    # vykreslíme IO jako vertikální čáru\n",
    "    lines(c(i, i), c(I_dolni, I_horni), col = barva)\n",
    "}\n",
    "paste(\n",
    "    \"alpha = \", alpha, \", relativní četnost něúspěšných IO = \",\n",
    "    pocet_neuspesnych / pocet_pokusu\n",
    ")\n"
   ]
  },
  {
   "cell_type": "code",
   "execution_count": null,
   "metadata": {
    "vscode": {
     "languageId": "r"
    }
   },
   "outputs": [],
   "source": [
    "# vrátím šířku na standardní velikost\n",
    "options(repr.plot.width = 8) # šířka grafů v Jupyteru\n"
   ]
  },
  {
   "cell_type": "markdown",
   "metadata": {},
   "source": [
    "# Typy intervalových odhadů\n",
    "(Ukázky na odhadu střední hodnoty dat z normálního rozdělení.)\n",
    "## Dolní/Levostranný IO\n",
    "- $P(M_D^* < \\mu) = 1-\\alpha$\n",
    "- v Rku **alternative=\"greater\"**"
   ]
  },
  {
   "cell_type": "code",
   "execution_count": null,
   "metadata": {
    "vscode": {
     "languageId": "r"
    }
   },
   "outputs": [],
   "source": [
    "vyber <- rnorm(n = 30, mean = 100, sd = 10)\n",
    "alpha <- 0.05\n",
    "t.test(vyber, alternative = \"greater\", conf.level = 1 - alpha)$conf.int\n"
   ]
  },
  {
   "cell_type": "markdown",
   "metadata": {},
   "source": [
    "## Horní/Pravostranný IO\n",
    "- $P(\\mu < M_H^*) = 1-\\alpha$\n",
    "- v Rku **alternative=\"less\"**"
   ]
  },
  {
   "cell_type": "code",
   "execution_count": null,
   "metadata": {
    "vscode": {
     "languageId": "r"
    }
   },
   "outputs": [],
   "source": [
    "vyber <- rnorm(n = 30, mean = 100, sd = 10)\n",
    "alpha <- 0.05\n",
    "t.test(vyber, alternative = \"less\", conf.level = 1 - alpha)$conf.int\n"
   ]
  },
  {
   "cell_type": "markdown",
   "metadata": {},
   "source": [
    "## Oboustranný IO\n",
    "- $P(M_D < \\mu < M_H) = 1-\\alpha$\n",
    "- v Rku **alternative=\"two.sided\"**"
   ]
  },
  {
   "cell_type": "code",
   "execution_count": null,
   "metadata": {
    "vscode": {
     "languageId": "r"
    }
   },
   "outputs": [],
   "source": [
    "vyber <- rnorm(n = 30, mean = 100, sd = 10)\n",
    "alpha <- 0.05\n",
    "t.test(vyber, alternative = \"two.sided\", conf.level = 1 - alpha)$conf.int\n"
   ]
  },
  {
   "cell_type": "markdown",
   "metadata": {},
   "source": [
    "# Přehled parametrů výběru a jejich bodových/intervalových odhadů\n",
    "Běžně máme k dispozici více konstrukcí IO (funkcí v Rku které to za nás udělají), ale každá konstrukce má jiné požadavky na data a vytváří různě \"kvalitní\" (ve smyslu velikosti IO) odhady. My budeme vždy vybírat \"nejkvalitnější\" IO, který **má splněny** předpoklady použití.<br>\n",
    "Pořadí různých IO níže bude vždy od \"nejlepšího\" po nejrobustnější.\n",
    "## Míry polohy jednoho výběru\n",
    "Mírami polohy rozumíme údaj určující polohu dat, nehledě na tom jak jsou rozptýlená. Pro data z normálního rozdělení můžeme odhadovat střední hodnotu, pro ostatní medián.\n",
    "#### a) studentův t-test IO\n",
    "- odhadujeme střední hodnotu - bodový odhad je výběrový průměr\n",
    "- data musejí pocházet z normálního rozdělení\n",
    "    - exploračně: šikmost a špičatost leží v (-2,2)\n",
    "    - exploračně: QQ graf má body přibližně na čáře\n",
    "    - exaktně: pomocí statistického testu, např. Shapiro-Wilk test (shapiro.test(data))"
   ]
  },
  {
   "cell_type": "code",
   "execution_count": null,
   "metadata": {
    "vscode": {
     "languageId": "r"
    }
   },
   "outputs": [],
   "source": [
    "vyber <- rnorm(n = 30, mean = 100, sd = 10)\n",
    "alpha <- 0.05\n"
   ]
  },
  {
   "cell_type": "code",
   "execution_count": null,
   "metadata": {
    "vscode": {
     "languageId": "r"
    }
   },
   "outputs": [],
   "source": [
    "# exploračně test normality\n",
    "# library(moments) - tomuto se můžeme vyhnout voláním moments::\n",
    "# je to bezpečnější - máme jistotu, že voláme funkci z tohoto balíčku\n",
    "moments::skewness(vyber)\n",
    "moments::kurtosis(vyber) - 3\n",
    "qqnorm(vyber)\n",
    "qqline(vyber)\n"
   ]
  },
  {
   "cell_type": "code",
   "execution_count": null,
   "metadata": {
    "vscode": {
     "languageId": "r"
    }
   },
   "outputs": [],
   "source": [
    "# exaktně test normality dat\n",
    "shapiro.test(vyber)$p.value\n",
    "# vysledná p-hodnota musím být větší než hl. výz. (př. 0.05)\n"
   ]
  },
  {
   "cell_type": "code",
   "execution_count": null,
   "metadata": {
    "vscode": {
     "languageId": "r"
    }
   },
   "outputs": [],
   "source": [
    "# bodový odhad\n",
    "mean(vyber)\n",
    "# IO\n",
    "t.test(vyber, alternative = \"two.sided\", conf.level = 1 - alpha)$conf.int\n"
   ]
  },
  {
   "cell_type": "markdown",
   "metadata": {},
   "source": [
    "#### b) Wilcoxnův test IO\n",
    "- odhadujeme medián - bodový odhad je výběrový medián\n",
    "- data musejí pocházet ze symetrického rozdělení\n",
    "    - exploračně: šikmost leží v (-2,2)\n",
    "    - exploračně: histogram vypadá přibližně symetricky\n",
    "    - exaktně: pomocí statistického testu, např. balíček \"lawstat\", funkce \"symmetry.test(data,boot=FALSE)\"\n",
    "- funkce v Rku vyžaduje dodatečný parametr (conf.int = TRUE)"
   ]
  },
  {
   "cell_type": "code",
   "execution_count": null,
   "metadata": {
    "vscode": {
     "languageId": "r"
    }
   },
   "outputs": [],
   "source": [
    "vyber <- runif(n = 30, min = 80, max = 120)\n",
    "alpha <- 0.05\n"
   ]
  },
  {
   "cell_type": "code",
   "execution_count": null,
   "metadata": {
    "vscode": {
     "languageId": "r"
    }
   },
   "outputs": [],
   "source": [
    "# exploračně\n",
    "moments::skewness(vyber)\n",
    "hist(vyber, breaks = 5)\n"
   ]
  },
  {
   "cell_type": "code",
   "execution_count": null,
   "metadata": {
    "vscode": {
     "languageId": "r"
    }
   },
   "outputs": [],
   "source": [
    "# exaktně: test symetrie\n",
    "# install.packages(\"lawstat\")\n",
    "library(lawstat)\n",
    "symmetry.test(vyber, boot = FALSE)$p.value\n",
    "# vysledná p-hodnota musím být větší než hl. výz. (př. 0.05)\n"
   ]
  },
  {
   "cell_type": "code",
   "execution_count": null,
   "metadata": {
    "vscode": {
     "languageId": "r"
    }
   },
   "outputs": [],
   "source": [
    "# bodový odhad\n",
    "quantile(vyber, probs = 0.5)\n",
    "median(vyber)\n",
    "# IO\n",
    "wilcox.test(vyber,\n",
    "    alternative = \"two.sided\", conf.level = 1 - alpha,\n",
    "    conf.int = TRUE\n",
    ")$conf.int\n"
   ]
  },
  {
   "cell_type": "markdown",
   "metadata": {},
   "source": [
    "#### c) znaménkový test test IO\n",
    "- odhadujeme medián - bodový odhad je výběrový medián\n",
    "- výběr většího rozsahu (>10)\n",
    "- funkce v Rku vyžaduje dodatečný parametr (conf.int = TRUE)\n",
    "- vyžaduje knihovnu \"BSDA\"\n",
    "- jakožto nejrobustnější test, se dá použít i na nespojitá data - např. pořadí v nějakém seznamu"
   ]
  },
  {
   "cell_type": "code",
   "execution_count": null,
   "metadata": {
    "vscode": {
     "languageId": "r"
    }
   },
   "outputs": [],
   "source": [
    "vyber <- rexp(n = 30, rate = 1 / 100)\n",
    "alpha <- 0.05\n"
   ]
  },
  {
   "cell_type": "code",
   "execution_count": null,
   "metadata": {
    "vscode": {
     "languageId": "r"
    }
   },
   "outputs": [],
   "source": [
    "# skutečný medián\n",
    "qexp(p = 0.5, rate = 1 / 100)\n"
   ]
  },
  {
   "cell_type": "code",
   "execution_count": null,
   "metadata": {
    "vscode": {
     "languageId": "r"
    }
   },
   "outputs": [],
   "source": [
    "# bodový odhad\n",
    "# quantile(vyber, probs = 0.5)\n",
    "median(vyber)\n",
    "# IO\n",
    "# install.packages(\"BSDA\")\n",
    "library(BSDA)\n",
    "SIGN.test(vyber,\n",
    "    alternative = \"two.sided\", conf.level = 1 - alpha,\n",
    "    conf.int = TRUE\n",
    ")$conf.int\n"
   ]
  },
  {
   "cell_type": "markdown",
   "metadata": {},
   "source": [
    "## Míry variability jednoho výběru\n",
    "Mírami variability rozumíme údaj určující rozptýlenost/variabilitu dat, nehledě na celkových hodnotách. Pro data z normálního rozdělení můžeme odhadovat směrodatnou odchylku.\n",
    "#### IO směrodatné odchylky\n",
    "- odhadujeme směrodatnou odchylku - bodovým odhadem je výběrový směrodatná odchylka\n",
    "- data musejí pocházet z normálního rozdělení\n",
    "    - exploračně: šikmost a špičatost leží v (-2,2)\n",
    "    - exploračně: QQ graf má body přibližně na čáře\n",
    "    - exaktně: pomocí statistického testu, např. Shapiro-Wilk test (shapiro.test(data))\n",
    "- vyžaduje balíček \"EnvStats\"\n",
    "- funkce v Rku, dává výpočet rozptylu - nutná odmocnina výsledku"
   ]
  },
  {
   "cell_type": "code",
   "execution_count": null,
   "metadata": {
    "vscode": {
     "languageId": "r"
    }
   },
   "outputs": [],
   "source": [
    "vyber <- rnorm(n = 30, mean = 100, sd = 10)\n",
    "alpha <- 0.05\n"
   ]
  },
  {
   "cell_type": "code",
   "execution_count": null,
   "metadata": {
    "vscode": {
     "languageId": "r"
    }
   },
   "outputs": [],
   "source": [
    "# exploračně test normality\n",
    "moments::skewness(vyber)\n",
    "moments::kurtosis(vyber) - 3\n",
    "qqnorm(vyber)\n",
    "qqline(vyber)\n"
   ]
  },
  {
   "cell_type": "code",
   "execution_count": null,
   "metadata": {
    "vscode": {
     "languageId": "r"
    }
   },
   "outputs": [],
   "source": [
    "# exaktně test normality dat\n",
    "shapiro.test(vyber)$p.value\n",
    "# vysledná p-hodnota musím být větší než hl. výz. (př. 0.05)\n"
   ]
  },
  {
   "cell_type": "code",
   "execution_count": null,
   "metadata": {
    "vscode": {
     "languageId": "r"
    }
   },
   "outputs": [],
   "source": [
    "# bodový odhad\n",
    "sd(vyber)\n",
    "# IO\n",
    "# install.packages(\"EnvStats\")\n",
    "library(EnvStats)\n",
    "sqrt(varTest(vyber, alternative = \"two.sided\", conf.level = 1 - alpha)$conf.int)\n"
   ]
  },
  {
   "cell_type": "markdown",
   "metadata": {},
   "source": [
    "Přidáme si ruční výpočet:\n",
    "- vycházíme ze statistiky: $\\frac{S^2}{\\sigma^2}(n-1) \\sim \\chi^2_{n-1}$\n",
    "- Horní mez:\n",
    "    - $P(\\frac{S^2}{\\sigma^2}(n-1) < \\chi^2_{\\alpha /2, n-1}) = \\alpha /2$\n",
    "    - $P(\\frac{S^2}{\\chi^2_{\\alpha /2, n-1}}(n-1) < \\sigma^2 ) = \\alpha /2$\n",
    "- Dolní mez:\n",
    "    - $P(\\frac{S^2}{\\sigma^2}(n-1) > \\chi^2_{1-\\alpha /2, n-1}) = \\alpha /2$\n",
    "    - $P(\\frac{S^2}{\\chi^2_{1-\\alpha /2, n-1}}(n-1) > \\sigma^2 ) = \\alpha /2$\n",
    "- Dohromady: $P(\\frac{S^2}{\\chi^2_{1-\\alpha /2, n-1}}(n-1) < \\sigma^2 <\\frac{S^2}{\\chi^2_{\\alpha /2, n-1}}(n-1)) = 1 - \\alpha$"
   ]
  },
  {
   "cell_type": "code",
   "execution_count": null,
   "metadata": {
    "vscode": {
     "languageId": "r"
    }
   },
   "outputs": [],
   "source": [
    "# ruční výpočet\n",
    "alpha <- 0.05\n",
    "n <- 30\n",
    "S <- sd(vyber)\n"
   ]
  },
  {
   "cell_type": "code",
   "execution_count": null,
   "metadata": {
    "vscode": {
     "languageId": "r"
    }
   },
   "outputs": [],
   "source": [
    "hor_q <- qchisq(1 - alpha / 2, n - 1)\n",
    "dol_q <- qchisq(alpha / 2, n - 1)\n",
    "hor_q\n",
    "dol_q\n"
   ]
  },
  {
   "cell_type": "code",
   "execution_count": null,
   "metadata": {
    "vscode": {
     "languageId": "r"
    }
   },
   "outputs": [],
   "source": [
    "sqrt(S^2 * (n - 1) / dol_q)\n",
    "sqrt(S^2 * (n - 1) / hor_q)\n"
   ]
  },
  {
   "cell_type": "markdown",
   "metadata": {},
   "source": [
    "## Pravděpodobnost výskytu u jednoho výběru\n",
    "#### IO pravděpodobnosti\n",
    "- odhadujeme pravděpodobnost - bodový odhad je relativní četnost\n",
    "- vyžadujeme dostatečný počet dat: $n>\\frac{9}{p(1-p)}$\n",
    "- Clopperův - Pearsonův odhad (binom.test)\n",
    "    - jako parametr nebere data, ale počet úspěchů a počet pozorování \n",
    "- Waldův - z výběrových charakteristik"
   ]
  },
  {
   "cell_type": "code",
   "execution_count": null,
   "metadata": {
    "vscode": {
     "languageId": "r"
    }
   },
   "outputs": [],
   "source": [
    "pi <- 0.3\n",
    "n <- 60\n",
    "alpha <- 0.05\n",
    "vyber <- runif(n = n, min = 0, max = 1) < pi\n"
   ]
  },
  {
   "cell_type": "code",
   "execution_count": null,
   "metadata": {
    "vscode": {
     "languageId": "r"
    }
   },
   "outputs": [],
   "source": [
    "# ověření předpokladů\n",
    "p <- mean(vyber)\n",
    "p\n",
    "9 / (p * (1 - p))\n"
   ]
  },
  {
   "cell_type": "code",
   "execution_count": null,
   "metadata": {
    "vscode": {
     "languageId": "r"
    }
   },
   "outputs": [],
   "source": [
    "# bodový odhad\n",
    "p\n",
    "# intervalový odhad Clopperův - Pearsonův\n",
    "celk_pocet <- length(vyber)\n",
    "pocet_poz <- sum(vyber)\n",
    "binom.test(\n",
    "    x = pocet_poz, n = celk_pocet, alternative = \"two.sided\",\n",
    "    conf.level = 1 - alpha\n",
    ")$conf.int\n"
   ]
  },
  {
   "cell_type": "code",
   "execution_count": null,
   "metadata": {
    "vscode": {
     "languageId": "r"
    }
   },
   "outputs": [],
   "source": [
    "# Intervalový odhad Waldův\n",
    "dol_q <- qnorm(alpha / 2)\n",
    "hor_q <- qnorm(1 - alpha / 2)\n",
    "\n",
    "p - hor_q * sqrt(p * (1 - p) / n) # dolní mez IO\n",
    "p - dol_q * sqrt(p * (1 - p) / n) # horní mez IO\n"
   ]
  },
  {
   "cell_type": "code",
   "execution_count": null,
   "metadata": {
    "vscode": {
     "languageId": "r"
    }
   },
   "outputs": [],
   "source": [
    "# Výpočet 11 nejčastěji používaných intervalů spolehlivosti param. bin. rozdělení\n",
    "# pomocí balíčku binom\n",
    "# install.packages(\"binom\")\n",
    "library(binom)\n",
    "binom.confint(n = celk_pocet, x = pocet_poz)\n"
   ]
  },
  {
   "cell_type": "markdown",
   "metadata": {},
   "source": [
    "# Příklady\n",
    "## Příklad 1.\n",
    "Při kontrolních zkouškách 16 žárovek byl stanoven odhad střední hodnoty $\\bar x$ = 3 000 hodin a směrodatné odchylky s = 20 hodin jejich životnosti. Za předpokladu,že životnost žárovky má normální rozdělení, určete 90% intervalový odhad pro parametry µ a σ"
   ]
  },
  {
   "cell_type": "code",
   "execution_count": null,
   "metadata": {
    "vscode": {
     "languageId": "r"
    }
   },
   "outputs": [],
   "source": [
    "# Odhadujeme stř.hodnotu a směr.odchylku životnosti žárovek\n",
    "# Součástí zadání je informace o normalitě dat\n",
    "\n",
    "n <- 16 # rozsah souboru\n",
    "x.bar <- 3000 # hodin.... průměr (bodový odhad střední hodnoty)\n",
    "s <- 20 # hodin.... výběrová směrodatná odchylka (bodový odhad sm. odchylky)\n",
    "alpha <- 0.1 # hladina významnosti (spolehlivost 1-alpha = 0.9)\n"
   ]
  },
  {
   "cell_type": "code",
   "execution_count": null,
   "metadata": {
    "vscode": {
     "languageId": "r"
    }
   },
   "outputs": [],
   "source": [
    "# Oboustranný intervalový odhad střední hodnoty\n",
    "dol_q <- qt(alpha / 2, n - 1)\n",
    "hor_q <- qt(1 - alpha / 2, n - 1)\n",
    "\n",
    "x.bar - hor_q * s / sqrt(n) # dolní mez IO\n",
    "x.bar - dol_q * s / sqrt(n) # horní mez IO\n"
   ]
  },
  {
   "cell_type": "code",
   "execution_count": null,
   "metadata": {
    "vscode": {
     "languageId": "r"
    }
   },
   "outputs": [],
   "source": [
    "# Oboustranný intervalový odhad směrodatné odchylky\n",
    "dol_q <- qchisq(alpha / 2, n - 1)\n",
    "hor_q <- qchisq(1 - alpha / 2, n - 1)\n",
    "\n",
    "sqrt((n - 1) * s^2 / hor_q) # dolní mez IO\n",
    "sqrt((n - 1) * s^2 / dol_q) # horní mez IO\n"
   ]
  },
  {
   "cell_type": "markdown",
   "metadata": {},
   "source": [
    "## Příklad 2.\n",
    "Hloubka moře se měří přístrojem, jehož systematická chyba je rovna nule a náhodné chyby mají normální rozdělení se směrodatnou odchylkou 20 m. Kolik nezávislých měření je třeba provést,aby s pravděpodobností 95 % stanovila hloubku s chybou menší než 10 m?"
   ]
  },
  {
   "cell_type": "code",
   "execution_count": null,
   "metadata": {
    "vscode": {
     "languageId": "r"
    }
   },
   "outputs": [],
   "source": [
    "# Určujeme odhad potřebného rozsahu výběru (počtu potřebnych měření)\n",
    "\n",
    "# Předpokládáme normalitu dat, se známým rozpylem (dle zadání)\n",
    "\n",
    "sigma <- 20 # metrů .... známá směrodatná odchylka\n",
    "alpha <- 0.05 # hladina významnosti (spolehlivost 1-alpha = 0.95)\n",
    "delta <- 10 # metrů ... přípustná chyba měření\n",
    "\n",
    "# Odhad rozsahu výběru\n",
    "# Y = delta/sigma*sqrt(n) ~ N(0,1), delta = X-mu\n",
    "# P(Y > Z_(1-alpha/2)) = alpha/2\n",
    "\n",
    "(qnorm(1 - alpha / 2) * sigma / delta)^2\n"
   ]
  },
  {
   "cell_type": "markdown",
   "metadata": {},
   "source": [
    "## Příklad 3.\n",
    "Úkolem je určit průměrnou hladinu cholesterolu v séru v určité populaci mužů. V náhodném výběru (pocházejícím z normálního rozdělení ) 25 mužů je výběrový průměr 6,3 mmol/l a výběrová směrodatná odchylka 1,3 mmol/l."
   ]
  },
  {
   "cell_type": "code",
   "execution_count": null,
   "metadata": {
    "vscode": {
     "languageId": "r"
    }
   },
   "outputs": [],
   "source": [
    "# Odhadujeme střední hladinu cholesterolu v séru\n",
    "# Předpokládáme normalitu dat (dle zadání)\n",
    "\n",
    "n <- 25 # rozsah souboru\n",
    "x.bar <- 6.3 # mmol/l .... průměr (bodový odhad střední hodnoty)\n",
    "s <- 1.3 # mmol/l .... výběrová směr. odchylka (bodový odhad sm. odchylky)\n",
    "alpha <- 0.05 # hladina významnosti (spolehlivost 1-alpha = 0.95)\n"
   ]
  },
  {
   "cell_type": "code",
   "execution_count": null,
   "metadata": {
    "vscode": {
     "languageId": "r"
    }
   },
   "outputs": [],
   "source": [
    "# Oboustranný intervalový odhad střední hodnoty\n",
    "dol_q <- qt(alpha / 2, n - 1)\n",
    "hor_q <- qt(1 - alpha / 2, n - 1)\n",
    "\n",
    "x.bar - hor_q * s / sqrt(n) # dolní mez IO\n",
    "x.bar - dol_q * s / sqrt(n) # horní mez IO\n"
   ]
  },
  {
   "cell_type": "markdown",
   "metadata": {},
   "source": [
    "## Příklad 4.\n",
    "Předpokládejme, že v náhodném výběru 200 mladých mužů má 120 z nich vyšší než doporučenou hladinu cholesterolu v séru. Určete 95% interval spolehlivosti pro procento mladých mužů\n",
    "s vyšší hladinou cholesterolu v populaci."
   ]
  },
  {
   "cell_type": "code",
   "execution_count": null,
   "metadata": {
    "vscode": {
     "languageId": "r"
    }
   },
   "outputs": [],
   "source": [
    "# Odhadujeme podíl mužů s vyšší hladinou cholesterolu v celé populaci,\n",
    "# tj. pravděpodobnost,že náhodně vybraný muž bude mít vyšší hladinu cholesterolu\n",
    "\n",
    "n <- 200 # rozsah souboru\n",
    "x <- 120 # počet \"úspěchů\"\n",
    "p <- x / n # relativní četnost (bodový odhad pravděpodobnosti)\n",
    "p\n",
    "alpha <- 0.05 # hladina významnosti (spolehlivost 1-alpha = 0.95)\n"
   ]
  },
  {
   "cell_type": "code",
   "execution_count": null,
   "metadata": {
    "vscode": {
     "languageId": "r"
    }
   },
   "outputs": [],
   "source": [
    "# Ověření předpokladů\n",
    "9 / (p * (1 - p))\n"
   ]
  },
  {
   "cell_type": "code",
   "execution_count": null,
   "metadata": {
    "vscode": {
     "languageId": "r"
    }
   },
   "outputs": [],
   "source": [
    "# Oboustranný Clopperův - Pearsonův (exaktní) int.ý odhad param. binom. rozdělení\n",
    "binom.test(x, n, alternative = \"two.sided\", conf.level = 0.95)$conf.int\n"
   ]
  },
  {
   "cell_type": "code",
   "execution_count": null,
   "metadata": {
    "vscode": {
     "languageId": "r"
    }
   },
   "outputs": [],
   "source": [
    "## Waldův (asymptotický) odhad (z-statistika) - aprox. normálním rozdělením dle CLV\n",
    "dol_q <- qnorm(alpha / 2)\n",
    "hor_q <- qnorm(1 - alpha / 2)\n",
    "\n",
    "p - hor_q * sqrt(p * (1 - p) / n) # dolní mez IO\n",
    "p - dol_q * sqrt(p * (1 - p) / n) # horní mez IO\n"
   ]
  },
  {
   "cell_type": "markdown",
   "metadata": {},
   "source": [
    "## Příklad 5.\n",
    "V rámci výzkumné studie pracujeme s náhodným výběrem 70 žen z české populace. U každé z žen byl změřen hemoglobin s přesností 0,1 g/100 ml. Naměřené hodnoty jsou v uvedeny v souboru Hemoglobin.xls. Nalezněte 95% intervalové odhady směrodatné odchylky a střední hodnoty hemoglobinu v populaci českých žen. (Normalitu ověřte na základě exploračních grafů.)"
   ]
  },
  {
   "cell_type": "code",
   "execution_count": null,
   "metadata": {
    "vscode": {
     "languageId": "r"
    }
   },
   "outputs": [],
   "source": [
    "## Odhadujeme střední hodnotu a směrodatnou odchylku hemoglobinu v séru\n",
    "\n",
    "## Načtení dat z xlsx souboru (pomoci balíčku readxl)\n",
    "library(readxl)\n",
    "hem <- read_excel(\"data/intervalove_odhady.xlsx\",\n",
    "    sheet = \"Hemoglobin\"\n",
    ")\n",
    "colnames(hem) <- \"hodnoty\"\n",
    "head(hem)\n"
   ]
  },
  {
   "cell_type": "code",
   "execution_count": null,
   "metadata": {
    "vscode": {
     "languageId": "r"
    }
   },
   "outputs": [],
   "source": [
    "## Explorační analýza\n",
    "boxplot(hem$hodnoty)\n"
   ]
  },
  {
   "cell_type": "code",
   "execution_count": null,
   "metadata": {
    "vscode": {
     "languageId": "r"
    }
   },
   "outputs": [],
   "source": [
    "# Data neobsahují odlehlá pozorování.\n",
    "summary(hem$hodnoty)\n",
    "sd(hem$hodnoty)\n"
   ]
  },
  {
   "cell_type": "code",
   "execution_count": null,
   "metadata": {
    "vscode": {
     "languageId": "r"
    }
   },
   "outputs": [],
   "source": [
    "# Ověření normality - exploračně\n",
    "qqnorm(hem$hodnoty)\n",
    "qqline(hem$hodnoty)\n",
    "\n",
    "moments::skewness(hem$hodnoty)\n",
    "moments::kurtosis(hem$hodnoty) - 3\n",
    "# Šikmost i špičatost odpovídá norm. rozdělení.\n"
   ]
  },
  {
   "cell_type": "code",
   "execution_count": null,
   "metadata": {
    "vscode": {
     "languageId": "r"
    }
   },
   "outputs": [],
   "source": [
    "# ověření normality: exaktně - test normality.\n",
    "# Známe-li testování hypotéz, ověříme Shapirovým . Wilkovým testem.\n",
    "shapiro.test(hem$hodnoty)$p.value\n",
    "# Na hl. významnosti 0.05\n"
   ]
  },
  {
   "cell_type": "code",
   "execution_count": null,
   "metadata": {
    "vscode": {
     "languageId": "r"
    }
   },
   "outputs": [],
   "source": [
    "# 95% oboustranný intervalový odhad střední hodnoty\n",
    "mean(hem$hodnoty)\n",
    "t.test(hem$hodnoty, altarnative = \"two.sided\", conf.level = 0.95)$conf.int\n"
   ]
  },
  {
   "cell_type": "code",
   "execution_count": null,
   "metadata": {
    "vscode": {
     "languageId": "r"
    }
   },
   "outputs": [],
   "source": [
    "## 95% oboustranný intervalový odhad směrodatné odchylky\n",
    "library(EnvStats)\n",
    "sd(hem$hodnoty)\n",
    "\n",
    "sqrt(varTest(hem$hodnoty, alternative = \"two.sided\", conf.level = 0.95)$conf.int)\n"
   ]
  },
  {
   "cell_type": "markdown",
   "metadata": {},
   "source": [
    "## Příklad 6.\n",
    "Jaký musí být počet pozorování, jestliže chceme s pravděpodobností 0,95 stanovit průměrnou hodnotu hemoglobinu u novorozenců s chybou nejvýše 1,0 $g/l$. Populační rozptyl hodnot se\n",
    "odhaduje hodnotou 46,0 $g^2/l^2$."
   ]
  },
  {
   "cell_type": "code",
   "execution_count": null,
   "metadata": {
    "vscode": {
     "languageId": "r"
    }
   },
   "outputs": [],
   "source": [
    "# Určujeme odhad potřebného rozsahu výb. (počtu novorozenců, které musíme testovat)\n",
    "\n",
    "# Předpokládáme normalitu dat, bez tohoto předpokladu je příklad neřešitelný\n",
    "\n",
    "sigma <- sqrt(46) # g/l .... známá směrodatná odchylka\n",
    "alpha <- 0.05 # hladina významnosti (spolehlivost 1-alpha = 0.95)\n",
    "delta <- 1 # g/l ... přípustná chyba měření\n"
   ]
  },
  {
   "cell_type": "code",
   "execution_count": null,
   "metadata": {
    "vscode": {
     "languageId": "r"
    }
   },
   "outputs": [],
   "source": [
    "# Odhad rozsahu výběru\n",
    "# Y = delta/sigma*sqrt(n) ~ N(0,1), delta = X-mu\n",
    "# P(Y > Z_(1-alpha/2)) = alpha/2\n",
    "\n",
    "(qnorm(1 - alpha / 2) * sigma / delta)^2\n"
   ]
  },
  {
   "cell_type": "markdown",
   "metadata": {},
   "source": [
    "## Příklad 7.\n",
    "V datovém souboru pr7.xlsx naleznete měření hluku způsobeného větrákem počítače [dB]. Spočtěte 95% intervalový odhad průměrného hluku a 95% intervalový odhad variability hluku."
   ]
  },
  {
   "cell_type": "code",
   "execution_count": null,
   "metadata": {
    "vscode": {
     "languageId": "r"
    }
   },
   "outputs": [],
   "source": [
    "library(readxl)\n",
    "# načtení dat\n",
    "data <- read_excel(\"data/pr7.xlsx\")\n",
    "head(data)\n"
   ]
  },
  {
   "cell_type": "code",
   "execution_count": null,
   "metadata": {
    "vscode": {
     "languageId": "r"
    }
   },
   "outputs": [],
   "source": [
    "length(data$dB)\n"
   ]
  },
  {
   "cell_type": "code",
   "execution_count": null,
   "metadata": {
    "vscode": {
     "languageId": "r"
    }
   },
   "outputs": [],
   "source": [
    "# vizualizace\n",
    "pom <- boxplot(data$dB)\n"
   ]
  },
  {
   "cell_type": "code",
   "execution_count": null,
   "metadata": {
    "vscode": {
     "languageId": "r"
    }
   },
   "outputs": [],
   "source": [
    "# odstranění OP\n",
    "data_op <- data\n",
    "data_op$dB[data_op$dB %in% pom$out] <- NA\n",
    "data_op <- na.omit(data_op)\n",
    "boxplot(data_op$dB)\n"
   ]
  },
  {
   "cell_type": "code",
   "execution_count": null,
   "metadata": {
    "vscode": {
     "languageId": "r"
    }
   },
   "outputs": [],
   "source": [
    "# test normality dat exploračně\n",
    "moments::skewness(data_op$dB)\n",
    "moments::kurtosis(data_op$dB) - 3\n",
    "\n",
    "qqnorm(data_op$dB)\n",
    "qqline(data_op$dB)\n"
   ]
  },
  {
   "cell_type": "code",
   "execution_count": null,
   "metadata": {
    "vscode": {
     "languageId": "r"
    }
   },
   "outputs": [],
   "source": [
    "# test normality exaktně\n",
    "shapiro.test(data_op$dB)$p.value\n"
   ]
  },
  {
   "cell_type": "code",
   "execution_count": null,
   "metadata": {
    "vscode": {
     "languageId": "r"
    }
   },
   "outputs": [],
   "source": [
    "# bodový a intervalový odhad střední hodnoty\n",
    "mean(data_op$dB)\n",
    "\n",
    "t.test(data_op$dB, alternative = \"two.sided\", conf.level = 0.95)$conf.int\n"
   ]
  },
  {
   "cell_type": "code",
   "execution_count": null,
   "metadata": {
    "vscode": {
     "languageId": "r"
    }
   },
   "outputs": [],
   "source": [
    "# bodový a intervalový odhad směrodatné odchylky\n",
    "sd(data_op$dB)\n",
    "\n",
    "sqrt(varTest(data_op$dB, alternative = \"two.sided\", conf.level = 0.95)$conf.int)\n"
   ]
  },
  {
   "cell_type": "markdown",
   "metadata": {},
   "source": [
    "## Příklad 8.\n",
    "V datovém souboru pr8.xlsx naleznete měření doby do poruchy elektrické součástky [h]. Spočtěte 99% intervalový odhad průměrné životnosti daného typu součastky."
   ]
  },
  {
   "cell_type": "code",
   "execution_count": null,
   "metadata": {
    "vscode": {
     "languageId": "r"
    }
   },
   "outputs": [],
   "source": [
    "library(readxl)\n",
    "# načtení dat\n",
    "data <- read_excel(\"data/pr8.xlsx\")\n",
    "head(data)\n"
   ]
  },
  {
   "cell_type": "code",
   "execution_count": null,
   "metadata": {
    "vscode": {
     "languageId": "r"
    }
   },
   "outputs": [],
   "source": [
    "length(data$cas_h)\n"
   ]
  },
  {
   "cell_type": "code",
   "execution_count": null,
   "metadata": {
    "vscode": {
     "languageId": "r"
    }
   },
   "outputs": [],
   "source": [
    "# vizualizace a ověření OP\n",
    "boxplot(data$cas_h)\n"
   ]
  },
  {
   "cell_type": "code",
   "execution_count": null,
   "metadata": {
    "vscode": {
     "languageId": "r"
    }
   },
   "outputs": [],
   "source": [
    "hist(data$cas_h)\n"
   ]
  },
  {
   "cell_type": "code",
   "execution_count": null,
   "metadata": {
    "vscode": {
     "languageId": "r"
    }
   },
   "outputs": [],
   "source": [
    "# test normality dat exploračně\n",
    "moments::skewness(data$cas_h)\n",
    "moments::kurtosis(data$cas_h) - 3\n",
    "\n",
    "qqnorm(data$cas_h)\n",
    "qqline(data$cas_h)\n"
   ]
  },
  {
   "cell_type": "code",
   "execution_count": null,
   "metadata": {
    "vscode": {
     "languageId": "r"
    }
   },
   "outputs": [],
   "source": [
    "# test normality exaktně\n",
    "shapiro.test(data$cas_h)$p.value\n"
   ]
  },
  {
   "cell_type": "code",
   "execution_count": null,
   "metadata": {
    "vscode": {
     "languageId": "r"
    }
   },
   "outputs": [],
   "source": [
    "# test symetrie exploračně\n",
    "moments::skewness(data$cas_h)\n",
    "hist(data$cas_h)\n"
   ]
  },
  {
   "cell_type": "code",
   "execution_count": null,
   "metadata": {
    "vscode": {
     "languageId": "r"
    }
   },
   "outputs": [],
   "source": [
    "# exaktně: test symetrie\n",
    "# install.packages(\"lawstat\")\n",
    "library(lawstat)\n",
    "symmetry.test(data$cas_h, boot = FALSE)$p.value\n",
    "# vysledná p-hodnota musím být větší než hl. výz. (př. 0.05)\n"
   ]
  },
  {
   "cell_type": "code",
   "execution_count": null,
   "metadata": {
    "vscode": {
     "languageId": "r"
    }
   },
   "outputs": [],
   "source": [
    "# bodový a intervalový odhad mediánu\n",
    "median(data$cas_h)\n",
    "# IO\n",
    "# install.packages(\"BSDA\")\n",
    "alpha <- 0.01\n",
    "library(BSDA)\n",
    "SIGN.test(data$cas_h,\n",
    "    alternative = \"two.sided\", conf.level = 1 - alpha,\n",
    "    conf.int = TRUE\n",
    ")$conf.int\n"
   ]
  },
  {
   "cell_type": "code",
   "execution_count": null,
   "metadata": {
    "vscode": {
     "languageId": "r"
    }
   },
   "outputs": [],
   "source": [
    "sd(data$cas_h)\n"
   ]
  }
 ],
 "metadata": {
  "kernelspec": {
   "display_name": "R",
   "language": "R",
   "name": "ir"
  },
  "language_info": {
   "codemirror_mode": "r",
   "file_extension": ".r",
   "mimetype": "text/x-r-source",
   "name": "R",
   "pygments_lexer": "r",
   "version": "4.3.2"
  }
 },
 "nbformat": 4,
 "nbformat_minor": 4
}

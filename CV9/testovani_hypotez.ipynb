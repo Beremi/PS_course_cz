{
 "cells": [
  {
   "cell_type": "markdown",
   "metadata": {},
   "source": [
    " # Cvičení 9. Úvod do testování hypotéz, jednovýběrové testy\n",
    " ## Michal Béreš, Martina Litschmannová"
   ]
  },
  {
   "cell_type": "markdown",
   "metadata": {},
   "source": [
    "# Od intervalových odhadů k testům hypotéz\n",
    "## Co je to statistický test hypotéz?\n",
    "Mějme následující:\n",
    "- náhodná veličina X (například výška mužů)\n",
    "- výběr z náhodné veličiny (měření výšky 30 mužů)\n",
    "\n",
    "Statistické testování hypotéz rozhoduje na základě získaných dat z náhodného výběru o platnosti:\n",
    "- $H_0$ - nulové hypotézy\n",
    "- $H_A$ - alternativní hypotézy\n",
    "\n",
    "Například:<br>\n",
    "$H_0$: $\\mu_X = 175$<br>\n",
    "$H_A$: $\\mu_X > 175$<br>\n",
    "Jelikož se jedná o statistické rozhodnutí, vždy bude vázáno k nějaké hladnině významnosti $\\alpha$. Vždy můžeme dospět pouze k 2 různým rozhodnutím:\n",
    "- Zamítám $H_0$ ve prospěch $H_A$\n",
    "    - to znamená, že tvrdím, že $H_0$ neplatí\n",
    "    - toto rozhodnutí je s maximální chybou $\\alpha$ (hladina významnosti, chyba I. druhu) - to znamená, že velikost této chyby jsme schopni ovlivnit\n",
    "- Nezamítám $H_0$\n",
    "    - to znamená, že tvrdím, že vzhledem k získaným datům (výběr) nelze vyvrátit $H_0$\n",
    "    - toto rozhodnutí je s chybou $\\beta$ (chyba II. druhu), tato chyba není přímo ovlivnitelná a záleží na typu použitého testu\n",
    "    \n",
    "Jak testy hypotéz souvisí s intervalovými odhady a jak do nich vstupuje hladina významnosti si ukážeme v další části."
   ]
  },
  {
   "cell_type": "markdown",
   "metadata": {},
   "source": [
    "## Intervalový odhad a hladina významnosti"
   ]
  },
  {
   "cell_type": "code",
   "execution_count": null,
   "metadata": {
    "vscode": {
     "languageId": "r"
    }
   },
   "outputs": [],
   "source": [
    "data <- readxl::read_excel(\"data/uvod.xlsx\")\n",
    "head(data)\n"
   ]
  },
  {
   "cell_type": "code",
   "execution_count": null,
   "metadata": {
    "vscode": {
     "languageId": "r"
    }
   },
   "outputs": [],
   "source": [
    "options(repr.plot.width = 12) # šířka grafů v Jupyteru\n",
    "par(mfrow = c(1, 2)) # matice grafů 1x2\n",
    "\n",
    "boxplot(data$data)\n",
    "hist(data$data)\n"
   ]
  },
  {
   "cell_type": "code",
   "execution_count": null,
   "metadata": {
    "vscode": {
     "languageId": "r"
    }
   },
   "outputs": [],
   "source": [
    "moments::skewness(data$data) # šikmost\n",
    "moments::kurtosis(data$data) - 3 # špičatost\n",
    "\n",
    "shapiro.test(data$data)$p.value # test normality\n"
   ]
  },
  {
   "cell_type": "code",
   "execution_count": null,
   "metadata": {
    "vscode": {
     "languageId": "r"
    }
   },
   "outputs": [],
   "source": [
    "length(data$data)\n",
    "mean(data$data)\n",
    "sd(data$data)\n"
   ]
  },
  {
   "cell_type": "markdown",
   "metadata": {},
   "source": [
    "Vyrobíme 95% intervalový odhad střední hodnoty pomocí t-testu:"
   ]
  },
  {
   "cell_type": "code",
   "execution_count": null,
   "metadata": {
    "vscode": {
     "languageId": "r"
    }
   },
   "outputs": [],
   "source": [
    "t.test(data$data, alternative = \"two.sided\", conf.level = 0.95)$conf.int\n"
   ]
  },
  {
   "cell_type": "markdown",
   "metadata": {},
   "source": [
    "Představme si nyní, že chceme testovat hypotézu:<br>\n",
    "$H_0$: $\\mu = 100$<br>\n",
    "$H_A$: $\\mu \\neq 100$<br>\n",
    "Jaké by bylo rozhodnutí vzhledem k spočtenému IO a tedy hladině významnosti $\\alpha = 0.05$?"
   ]
  },
  {
   "cell_type": "markdown",
   "metadata": {},
   "source": [
    "Představme si dále, že chceme testovat hypotézu:<br>\n",
    "$H_0$: $\\mu = 105$<br>\n",
    "$H_A$: $\\mu \\neq 105$<br>\n",
    "Jaké by bylo rozhodnutí vzhledem k spočtenému IO a tedy hladině významnosti $\\alpha = 0.05$?"
   ]
  },
  {
   "cell_type": "markdown",
   "metadata": {},
   "source": [
    "**To co jsme právě udělali se nazývá klasický test.**<br>\n",
    "Ukážeme si ještě klasické testy pro jednostranné alternativy.<br>\n",
    "$H_0$: $\\mu = 105$<br>\n",
    "$H_A$: $\\mu > 105$<br>"
   ]
  },
  {
   "cell_type": "code",
   "execution_count": null,
   "metadata": {
    "vscode": {
     "languageId": "r"
    }
   },
   "outputs": [],
   "source": [
    "t.test(data$data, alternative = \"greater\", conf.level = 0.95)$conf.int\n"
   ]
  },
  {
   "cell_type": "markdown",
   "metadata": {},
   "source": [
    "$H_0$: $\\mu = 105$<br>\n",
    "$H_A$: $\\mu < 105$<br>"
   ]
  },
  {
   "cell_type": "code",
   "execution_count": null,
   "metadata": {
    "vscode": {
     "languageId": "r"
    }
   },
   "outputs": [],
   "source": [
    "t.test(data$data, alternative = \"less\", conf.level = 0.95)$conf.int\n"
   ]
  },
  {
   "cell_type": "markdown",
   "metadata": {},
   "source": [
    "Všimněte si, že první z těchto jednostranných alternativ vedla k \"nezamítnutí\" $H_0$. Je to z důvodu porovnávání nepravděpodobné $H_0$ s ještě méně pravděpodobnou $H_A$.\n",
    "#### Čistý test významnosti a souvislost s IO\n",
    "Alternativou ke klasickému testu (kde vytváříme IO - v terminologii klasických testů tzv. obor přijetí a jeho doplněk do R kritický obor) je tzv. čistý test významnosti:"
   ]
  },
  {
   "cell_type": "code",
   "execution_count": null,
   "metadata": {
    "vscode": {
     "languageId": "r"
    }
   },
   "outputs": [],
   "source": [
    "# H_0: mu = 105\n",
    "# H_A: mu <> 105\n",
    "t.test(data$data, mu = 105, alternative = \"two.sided\")\n"
   ]
  },
  {
   "cell_type": "code",
   "execution_count": null,
   "metadata": {
    "vscode": {
     "languageId": "r"
    }
   },
   "outputs": [],
   "source": [
    "t.test(data$data, mu = 105, alternative = \"two.sided\")$p.value\n"
   ]
  },
  {
   "cell_type": "markdown",
   "metadata": {},
   "source": [
    "Výsledkem čistého testu významnosti je p-hodnota. Na jejím základě rozhodujeme o zamítnutí či nezamítnutí $H_0$.<br>\n",
    "p-hodnota se dá chápat jako nejvyšší možná hladina váznamnosti, taková aby naše rozhodnutí bylo - nezamítám. Tedy IO/obor přijetí by obsahoval zkoumanou hodnotu:"
   ]
  },
  {
   "cell_type": "code",
   "execution_count": null,
   "metadata": {
    "vscode": {
     "languageId": "r"
    }
   },
   "outputs": [],
   "source": [
    "# H_0: mu = 105\n",
    "# H_A: mu <> 105\n",
    "\n",
    "p.hod <- t.test(data$data, mu = 105, alternative = \"two.sided\")$p.value\n",
    "p.hod\n",
    "\n",
    "t.test(data$data, alternative = \"two.sided\", conf.level = 1 - p.hod)$conf.int\n"
   ]
  },
  {
   "cell_type": "code",
   "execution_count": null,
   "metadata": {
    "vscode": {
     "languageId": "r"
    }
   },
   "outputs": [],
   "source": [
    "# H_0: mu = 105\n",
    "# H_A: mu > 105\n",
    "\n",
    "p.hod <- t.test(data$data, mu = 105, alternative = \"greater\")$p.value\n",
    "p.hod\n",
    "\n",
    "t.test(data$data, alternative = \"greater\", conf.level = 1 - p.hod)$conf.int\n"
   ]
  },
  {
   "cell_type": "code",
   "execution_count": null,
   "metadata": {
    "vscode": {
     "languageId": "r"
    }
   },
   "outputs": [],
   "source": [
    "# H_0: mu = 105\n",
    "# H_A: mu < 105\n",
    "\n",
    "p.hod <- t.test(data$data, mu = 105, alternative = \"less\")$p.value\n",
    "p.hod\n",
    "\n",
    "t.test(data$data, alternative = \"less\", conf.level = 1 - p.hod)$conf.int\n"
   ]
  },
  {
   "cell_type": "markdown",
   "metadata": {},
   "source": [
    "## Přehled testů\n",
    "### Míry polohy\n",
    "Mírami polohy rozumíme údaj určující polohu dat, nehledě na tom jak jsou rozptýlená. Pro data z normálního rozdělení můžeme odhadovat střední hodnotu, pro ostatní medián.\n",
    "#### a) studentův t-test\n",
    "- testujeme střední hodnotu\n",
    "- data musejí pocházet z normálního rozdělení\n",
    "    - exploračně: šikmost a špičatost leží v (-2,2)\n",
    "    - exploračně: QQ graf má body přibližně na čáře\n",
    "    - exaktně: pomocí statistického testu, např. Shapiro-Wilk test (shapiro.test(data))"
   ]
  },
  {
   "cell_type": "code",
   "execution_count": null,
   "metadata": {
    "vscode": {
     "languageId": "r"
    }
   },
   "outputs": [],
   "source": [
    "# H_0: mu = 100\n",
    "# H_A: mu <> 100\n",
    "t.test(data$data, mu = 100, alternative = \"two.sided\")$p.value\n"
   ]
  },
  {
   "cell_type": "code",
   "execution_count": null,
   "metadata": {
    "vscode": {
     "languageId": "r"
    }
   },
   "outputs": [],
   "source": [
    "# H_0: mu = 100\n",
    "# H_A: mu > 100\n",
    "t.test(data$data, mu = 100, alternative = \"greater\")$p.value\n"
   ]
  },
  {
   "cell_type": "code",
   "execution_count": null,
   "metadata": {
    "vscode": {
     "languageId": "r"
    }
   },
   "outputs": [],
   "source": [
    "# H_0: mu = 100\n",
    "# H_A: mu < 100\n",
    "t.test(data$data, mu = 100, alternative = \"less\")$p.value\n"
   ]
  },
  {
   "cell_type": "markdown",
   "metadata": {},
   "source": [
    "#### b) Wilcoxnův test\n",
    "- testujeme medián\n",
    "- data musejí pocházet ze symetrického rozdělení\n",
    "    - exploračně: šikmost leží v (-2,2)\n",
    "    - exploračně: histogram vypadá přibližně symetricky\n",
    "    - exaktně: pomocí statistického testu, např. balíček \"lawstat\", funkce \"symmetry.test(data,boot=FALSE)\""
   ]
  },
  {
   "cell_type": "code",
   "execution_count": null,
   "metadata": {
    "vscode": {
     "languageId": "r"
    }
   },
   "outputs": [],
   "source": [
    "# H_0: X_0.5 = 100\n",
    "# H_A: X_0.5 <> 100\n",
    "wilcox.test(data$data, mu = 100, alternative = \"two.sided\")$p.value\n"
   ]
  },
  {
   "cell_type": "code",
   "execution_count": null,
   "metadata": {
    "vscode": {
     "languageId": "r"
    }
   },
   "outputs": [],
   "source": [
    "# H_0: X_0.5 = 100\n",
    "# H_A: X_0.5 > 100\n",
    "wilcox.test(data$data, mu = 100, alternative = \"greater\")$p.value\n"
   ]
  },
  {
   "cell_type": "code",
   "execution_count": null,
   "metadata": {
    "vscode": {
     "languageId": "r"
    }
   },
   "outputs": [],
   "source": [
    "# H_0: X_0.5 = 100\n",
    "# H_A: X_0.5 < 100\n",
    "wilcox.test(data$data, mu = 100, alternative = \"less\")$p.value\n"
   ]
  },
  {
   "cell_type": "markdown",
   "metadata": {},
   "source": [
    "#### c) znaménkový test test\n",
    "- testujeme medián\n",
    "- výběr většího rozsahu (>10)\n",
    "- vyžaduje knihovnu \"BSDA\"\n",
    "- jakožto nejrobustnější test, se dá použít i na nespojitá data - např. pořadí v nějakém seznamu"
   ]
  },
  {
   "cell_type": "code",
   "execution_count": null,
   "metadata": {
    "vscode": {
     "languageId": "r"
    }
   },
   "outputs": [],
   "source": [
    "# H_0: X_0.5 = 100\n",
    "# H_A: X_0.5 <> 100\n",
    "BSDA::SIGN.test(data$data, md = 100, alternative = \"two.sided\")$p.value\n"
   ]
  },
  {
   "cell_type": "code",
   "execution_count": null,
   "metadata": {
    "vscode": {
     "languageId": "r"
    }
   },
   "outputs": [],
   "source": [
    "# H_0: X_0.5 = 100\n",
    "# H_A: X_0.5 > 100\n",
    "BSDA::SIGN.test(data$data, md = 100, alternative = \"greater\")$p.value\n"
   ]
  },
  {
   "cell_type": "code",
   "execution_count": null,
   "metadata": {
    "vscode": {
     "languageId": "r"
    }
   },
   "outputs": [],
   "source": [
    "# H_0: X_0.5 = 100\n",
    "# H_A: X_0.5 < 100\n",
    "BSDA::SIGN.test(data$data, md = 100, alternative = \"less\")$p.value\n"
   ]
  },
  {
   "cell_type": "markdown",
   "metadata": {},
   "source": [
    "### Míry variability\n",
    "Mírami variability rozumíme údaj určující rozptýlenost/variabilitu dat, nehledě na celkových hodnotách. Pro data z normálního rozdělení můžeme odhadovat směrodatnou odchylku.\n",
    "#### test směrodatné odchylky\n",
    "- testujeme směrodatnou odchylku\n",
    "- data musejí pocházet z normálního rozdělení\n",
    "    - exploračně: šikmost a špičatost leží v (-2,2)\n",
    "    - exploračně: QQ graf má body přibližně na čáře\n",
    "    - exaktně: pomocí statistického testu, např. Shapiro-Wilk test (shapiro.test(data))\n",
    "- vyžaduje balíček \"EnvStats\"\n",
    "- funkce v Rku, porovnává rozptyl!!!"
   ]
  },
  {
   "cell_type": "code",
   "execution_count": null,
   "metadata": {
    "vscode": {
     "languageId": "r"
    }
   },
   "outputs": [],
   "source": [
    "# H_0: sigma = 10\n",
    "# H_A: sigma <> 10\n",
    "EnvStats::varTest(data$data,\n",
    "    sigma.squared = 10 * 10,\n",
    "    alternative = \"two.sided\"\n",
    ")$p.value\n"
   ]
  },
  {
   "cell_type": "code",
   "execution_count": null,
   "metadata": {
    "vscode": {
     "languageId": "r"
    }
   },
   "outputs": [],
   "source": [
    "# H_0: sigma = 10\n",
    "# H_A: sigma > 10\n",
    "EnvStats::varTest(data$data,\n",
    "    sigma.squared = 10 * 10,\n",
    "    alternative = \"greater\"\n",
    ")$p.value\n"
   ]
  },
  {
   "cell_type": "code",
   "execution_count": null,
   "metadata": {
    "vscode": {
     "languageId": "r"
    }
   },
   "outputs": [],
   "source": [
    "# H_0: sigma = 10\n",
    "# H_A: sigma < 10\n",
    "EnvStats::varTest(data$data,\n",
    "    sigma.squared = 10 * 10,\n",
    "    alternative = \"less\"\n",
    ")$p.value\n"
   ]
  },
  {
   "cell_type": "markdown",
   "metadata": {},
   "source": [
    "## Pravděpodobnost výskytu u jednoho výběru\n",
    "#### IO pravděpodobnosti\n",
    "- testujeme pravděpodobnost\n",
    "- vyžadujeme dostatečný počet dat: $n>\\frac{9}{p(1-p)}$\n",
    "- Clopperův - Pearsonův odhad (binom.test)\n",
    "    - jako parametr nebere data, ale počet úspěchů a počet pozorování "
   ]
  },
  {
   "cell_type": "code",
   "execution_count": null,
   "metadata": {
    "vscode": {
     "languageId": "r"
    }
   },
   "outputs": [],
   "source": [
    "pi <- 0.3\n",
    "data_bin <- runif(n = 100, min = 0, max = 1) < pi\n",
    "\n",
    "n <- length(data_bin)\n",
    "x <- sum(data_bin)\n",
    "n\n",
    "x\n"
   ]
  },
  {
   "cell_type": "code",
   "execution_count": null,
   "metadata": {
    "vscode": {
     "languageId": "r"
    }
   },
   "outputs": [],
   "source": [
    "# H_0: pi = 0.2\n",
    "# H_A: pi <> 0.2\n",
    "binom.test(x = x, n = n, p = 0.2, alternative = \"two.sided\")$p.value\n"
   ]
  },
  {
   "cell_type": "code",
   "execution_count": null,
   "metadata": {
    "vscode": {
     "languageId": "r"
    }
   },
   "outputs": [],
   "source": [
    "# H_0: pi = 0.2\n",
    "# H_A: pi > 0.2\n",
    "binom.test(x = x, n = n, p = 0.2, alternative = \"greater\")$p.value\n"
   ]
  },
  {
   "cell_type": "code",
   "execution_count": null,
   "metadata": {
    "vscode": {
     "languageId": "r"
    }
   },
   "outputs": [],
   "source": [
    "# H_0: pi = 0.2\n",
    "# H_A: pi < 0.2\n",
    "binom.test(x = x, n = n, p = 0.2, alternative = \"less\")$p.value\n"
   ]
  },
  {
   "cell_type": "markdown",
   "metadata": {},
   "source": [
    "# Příklady\n",
    "## Příklad 1.\n",
    "Máme výběr 216 pacientů a změřili jsme jejich bílkovinné sérum (soubor testy_jednovyberove.xlsx list bilk_serum). Ověřte, zda se průměrné bílkovinné sérum (Albumin) všech pacientů tohoto typu (populační průměr µ) statisticky významně liší od hodnoty 35 g/l."
   ]
  },
  {
   "cell_type": "code",
   "execution_count": null,
   "metadata": {
    "vscode": {
     "languageId": "r"
    }
   },
   "outputs": [],
   "source": [
    "# Načtení dat z xlsx souboru (pomoci balíčku readxl)\n",
    "albumin <- readxl::read_excel(\"data/testy_jednovyberove.xlsx\",\n",
    "    sheet = \"bilk_serum\"\n",
    ")\n",
    "head(albumin)\n"
   ]
  },
  {
   "cell_type": "code",
   "execution_count": null,
   "metadata": {
    "vscode": {
     "languageId": "r"
    }
   },
   "outputs": [],
   "source": [
    "colnames(albumin) <- \"hodnoty\"\n"
   ]
  },
  {
   "cell_type": "code",
   "execution_count": null,
   "metadata": {
    "vscode": {
     "languageId": "r"
    }
   },
   "outputs": [],
   "source": [
    "# Explorační analýza\n",
    "boxplot(albumin$hodnoty)\n",
    "summary(albumin$hodnoty)\n"
   ]
  },
  {
   "cell_type": "code",
   "execution_count": null,
   "metadata": {
    "vscode": {
     "languageId": "r"
    }
   },
   "outputs": [],
   "source": [
    "length(albumin$hodnoty) # sd zaokrouhlujeme na 3 platné cifry\n",
    "sd(albumin$hodnoty) # sd a míry polohy zaokrouhlujeme na tisíciny\n"
   ]
  },
  {
   "cell_type": "markdown",
   "metadata": {},
   "source": [
    "**Test na míru polohy**"
   ]
  },
  {
   "cell_type": "code",
   "execution_count": null,
   "metadata": {
    "vscode": {
     "languageId": "r"
    }
   },
   "outputs": [],
   "source": [
    "# Ověření normality - exploračně\n",
    "moments::skewness(albumin$hodnoty) # šikmost\n",
    "moments::kurtosis(albumin$hodnoty) - 3 # špičatost\n",
    "\n",
    "options(repr.plot.width = 12) # šířka grafů v Jupyteru\n",
    "par(mfrow = c(1, 2)) # matice grafů 1x2\n",
    "\n",
    "qqnorm(albumin$hodnoty)\n",
    "qqline(albumin$hodnoty)\n",
    "hist(albumin$hodnoty)\n"
   ]
  },
  {
   "cell_type": "code",
   "execution_count": null,
   "metadata": {
    "vscode": {
     "languageId": "r"
    }
   },
   "outputs": [],
   "source": [
    "# Pro konečné rozhodnutí o normalitě dat použijeme test normality.\n",
    "\n",
    "# Předpoklad normality ověříme Shapirovovým - Wilkovovým testem.\n",
    "# H0: Data jsou výběrem z normálního rozdělení.\n",
    "# Ha: Data nejsou výběrem z normálního rozdělení.\n",
    "shapiro.test(albumin$hodnoty)\n",
    "# p-value > 0.05 -> Na hl. významnosti 0,05 nelze předpoklad normality zamít.\n"
   ]
  },
  {
   "cell_type": "code",
   "execution_count": null,
   "metadata": {
    "vscode": {
     "languageId": "r"
    }
   },
   "outputs": [],
   "source": [
    "# normalita OK -> t.test\n",
    "\n",
    "# H0: mu = 35 g/l\n",
    "# Ha: mu <> 35 g/l\n",
    "\n",
    "t.test(albumin$hodnoty, mu = 35, alternative = \"two.sided\")\n",
    "\n",
    "# p-value < 0.05 -> Na hl. významnosti 0,05 zamítáme nulovou hypotézu\n",
    "# ve prospěch hypotézy alternativní\n",
    "# Střední hodnota albuminu se statisticky významně liší od 35 g/l.\n"
   ]
  },
  {
   "cell_type": "markdown",
   "metadata": {},
   "source": [
    "## Příklad 2.\n",
    "V souboru testy_jednovyberove.xlsx list preziti jsou uvedeny doby přežití pro 100 pacientů s rakovinou plic léčených novým lékem. Z předchozích studií je známo, že průměrné přežití takových pacientů bez podávání nového léku je 22,2 měsíce. Lze na základě těchto dat usoudit, že nový lék prodlužuje přežití?"
   ]
  },
  {
   "cell_type": "code",
   "execution_count": null,
   "metadata": {
    "vscode": {
     "languageId": "r"
    }
   },
   "outputs": [],
   "source": [
    "# Načtení dat z xlsx souboru (pomoci balíčku readxl)\n",
    "preziti <- readxl::read_excel(\"data/testy_jednovyberove.xlsx\",\n",
    "    sheet = \"preziti\"\n",
    ")\n",
    "head(preziti)\n"
   ]
  },
  {
   "cell_type": "code",
   "execution_count": null,
   "metadata": {
    "vscode": {
     "languageId": "r"
    }
   },
   "outputs": [],
   "source": [
    "colnames(preziti) <- \"hodnoty\"\n"
   ]
  },
  {
   "cell_type": "code",
   "execution_count": null,
   "metadata": {
    "vscode": {
     "languageId": "r"
    }
   },
   "outputs": [],
   "source": [
    "## Explorační analýza\n",
    "par(mfrow = c(1, 2)) # matice grafů 1x2\n",
    "\n",
    "boxplot(preziti$hodnoty)\n",
    "hist(preziti$hodnoty)\n"
   ]
  },
  {
   "cell_type": "markdown",
   "metadata": {},
   "source": [
    "**Data obsahují OP -> můžeme je odstranit. Nebo si také všimnout, že se pravděpdobně jedná o exponenciální rozdělení a OP tam ve skutečnosti nejsou (rozdělení se tak prostě chová).**"
   ]
  },
  {
   "cell_type": "code",
   "execution_count": null,
   "metadata": {
    "vscode": {
     "languageId": "r"
    }
   },
   "outputs": [],
   "source": [
    "# Data obsahují odlehlá pozorování. Pomoci f-ce boxplot je umíme vypsat.\n",
    "pom <- boxplot(preziti$hodnoty, plot = FALSE)\n",
    "pom$out\n",
    "# rozhodli-li jsme se pro odstranění odlehlých hodnot, pak\n",
    "preziti$hodnoty.bez <- preziti$hodnoty # doporučujeme nepřepisovat původní data\n",
    "preziti$hodnoty.bez[preziti$hodnoty %in% pom$out] <- NA\n"
   ]
  },
  {
   "cell_type": "code",
   "execution_count": null,
   "metadata": {
    "vscode": {
     "languageId": "r"
    }
   },
   "outputs": [],
   "source": [
    "## Explorační analýza pro data bez odlehlých pozorování\n",
    "boxplot(preziti$hodnoty.bez)\n",
    "summary(preziti$hodnoty.bez, na.rm = TRUE)\n"
   ]
  },
  {
   "cell_type": "code",
   "execution_count": null,
   "metadata": {
    "vscode": {
     "languageId": "r"
    }
   },
   "outputs": [],
   "source": [
    "length(na.omit(preziti$hodnoty.bez)) # sd zaokrouhlujeme na 3 platné cifry\n",
    "sd(preziti$hodnoty.bez, na.rm = TRUE) # sd a míry polohy zaokr. na desetiny\n"
   ]
  },
  {
   "cell_type": "markdown",
   "metadata": {},
   "source": [
    "**Test o míře polohy (střední hodnotě / mediánu)**"
   ]
  },
  {
   "cell_type": "code",
   "execution_count": null,
   "metadata": {
    "vscode": {
     "languageId": "r"
    }
   },
   "outputs": [],
   "source": [
    "# Ověření normality - exploračně\n",
    "moments::skewness(preziti$hodnoty.bez, na.rm = TRUE)\n",
    "moments::kurtosis(preziti$hodnoty.bez, na.rm = TRUE) - 3\n",
    "\n",
    "par(mfrow = c(1, 2)) # matice grafů 1x2\n",
    "\n",
    "qqnorm(preziti$hodnoty.bez)\n",
    "qqline(preziti$hodnoty.bez)\n",
    "hist(preziti$hodnoty.bez)\n",
    "\n",
    "# QQ - graf i hist. ukazují, že výběr pravd. není výběrem z norm. rozdělení.\n",
    "# Šikmost i špičatost odpovídá norm. rozdělení.\n",
    "# použijeme test normality.\n"
   ]
  },
  {
   "cell_type": "code",
   "execution_count": null,
   "metadata": {
    "vscode": {
     "languageId": "r"
    }
   },
   "outputs": [],
   "source": [
    "# Předpoklad normality ověříme Shapirovovým . Wilkovovým testem.\n",
    "shapiro.test(preziti$hodnoty.bez)\n",
    "# p-value < 0.05 -> Na hl. významnosti 0.05 zamítáme předpoklad normality\n"
   ]
  },
  {
   "cell_type": "code",
   "execution_count": null,
   "metadata": {
    "vscode": {
     "languageId": "r"
    }
   },
   "outputs": [],
   "source": [
    "# explorační posouzení symetrie - výše hist. a šikmost\n",
    "\n",
    "# Předpoklad symetrie - ověření testem\n",
    "# H0: data pocházejí ze symetrického rozdělení\n",
    "# HA: ~H0\n",
    "\n",
    "lawstat::symmetry.test(preziti$hodnoty.bez, boot = FALSE)\n",
    "# p-value < 0.05 -> Na hl. významnosti 0.05 zamítáme předpoklad symetrie\n"
   ]
  },
  {
   "cell_type": "code",
   "execution_count": null,
   "metadata": {
    "vscode": {
     "languageId": "r"
    }
   },
   "outputs": [],
   "source": [
    "# normalita zamítnuta -> symetrie zamítnuta -> Sign. test\n",
    "# H0: median = 22,2 měsíců\n",
    "# Ha: median > 22,2 měsíců\n",
    "\n",
    "BSDA::SIGN.test(preziti$hodnoty.bez,\n",
    "    md = 22.2,\n",
    "    alternative = \"greater\", conf.level = 0.95\n",
    ")\n",
    "\n",
    "# p-value > 0.05 -> Na hl. významnosti 0,05 nelze zamítnout nulovou hypotézu\n",
    "# Medián doby přežití není statisticky významně větší než 22,2 měsíců.\n"
   ]
  },
  {
   "cell_type": "code",
   "execution_count": null,
   "metadata": {
    "vscode": {
     "languageId": "r"
    }
   },
   "outputs": [],
   "source": [
    "median(preziti$hodnoty.bez, na.rm = TRUE)\n"
   ]
  },
  {
   "cell_type": "code",
   "execution_count": null,
   "metadata": {
    "vscode": {
     "languageId": "r"
    }
   },
   "outputs": [],
   "source": [
    "# H0: median = 22,2 měsíců\n",
    "# Ha: median < 22,2 měsíců\n",
    "\n",
    "BSDA::SIGN.test(preziti$hodnoty.bez,\n",
    "    md = 22.2,\n",
    "    alternative = \"less\", conf.level = 0.95\n",
    ")\n"
   ]
  },
  {
   "cell_type": "markdown",
   "metadata": {},
   "source": [
    "## Příklad 3.\n",
    "Automat vyrábí pístové kroužky o daném průměru. Výrobce udává, že směrodatná odchylka průměru kroužku je 0,05 mm. K ověření této informace bylo náhodně vybráno 80 kroužků a vypočtena směrodatná odchylka jejich průměru 0,04 mm. Lze tento rozdíl považovat za statisticky významný ve smyslu zlepšení kvality produkce? Ověřte čistým testem významnosti. Předpokládejte, že průměr pístových kroužků má normální rozdělení."
   ]
  },
  {
   "cell_type": "code",
   "execution_count": null,
   "metadata": {
    "vscode": {
     "languageId": "r"
    }
   },
   "outputs": [],
   "source": [
    "# Test o směrodatné odchylce\n",
    "\n",
    "# Předpokládáme normalitu dat (dle zadání)\n",
    "n <- 80 # rozsah souboru\n",
    "s <- 0.04 # mm .... výběrová směrodatná odchylka (bodový odhad sm. odchylky)\n",
    "\n",
    "# H0: sigma = 0.05 mm\n",
    "# Ha: sigma < 0.05 mm\n",
    "\n",
    "x.obs <- (n - 1) * s^2 / 0.05^2\n",
    "x.obs\n"
   ]
  },
  {
   "cell_type": "code",
   "execution_count": null,
   "metadata": {
    "vscode": {
     "languageId": "r"
    }
   },
   "outputs": [],
   "source": [
    "p.hodnota <- pchisq(x.obs, n - 1)\n",
    "p.hodnota\n",
    "\n",
    "# p.hodnota < 0.05 -> Na hladině významnosti 0,05 zamítáme nulovou hypotézu\n",
    "# ve prospěch alternativní hypotézy\n",
    "# Směr. odchylka průměru kroužku je statisticky významně menší než 0,05 mm.\n"
   ]
  },
  {
   "cell_type": "markdown",
   "metadata": {},
   "source": [
    "## Příklad 4.\n",
    "Automat vyrábí pístové kroužky o daném průměru. Výrobce udává, že směrodatná odchylka průměru kroužku je 0,05 mm. K ověření této informace bylo náhodně vybráno 80 kroužků a byl změřen jejich průměr (soubor testy_jednovyberove.xlsx list krouzky). Lze zjištěné výsledky považovat za statisticky významné ve smyslu zlepšení kvality produkce? Ověřte čistým testem významnosti."
   ]
  },
  {
   "cell_type": "code",
   "execution_count": null,
   "metadata": {
    "vscode": {
     "languageId": "r"
    }
   },
   "outputs": [],
   "source": [
    "# Načtení dat z xlsx souboru (pomoci balíčku readxl)\n",
    "krouzky <- readxl::read_excel(\"data/testy_jednovyberove.xlsx\",\n",
    "    sheet = \"krouzky\"\n",
    ")\n",
    "head(krouzky)\n"
   ]
  },
  {
   "cell_type": "code",
   "execution_count": null,
   "metadata": {
    "vscode": {
     "languageId": "r"
    }
   },
   "outputs": [],
   "source": [
    "colnames(krouzky) <- \"hodnoty\"\n"
   ]
  },
  {
   "cell_type": "code",
   "execution_count": null,
   "metadata": {
    "vscode": {
     "languageId": "r"
    }
   },
   "outputs": [],
   "source": [
    "## Explorační analýza\n",
    "boxplot(krouzky$hodnoty)\n"
   ]
  },
  {
   "cell_type": "code",
   "execution_count": null,
   "metadata": {
    "vscode": {
     "languageId": "r"
    }
   },
   "outputs": [],
   "source": [
    "# Data obsahují odlehlá pozorování. Pomoci f-ce boxplot je umíme vypsat.\n",
    "pom <- boxplot(krouzky$hodnoty, plot = FALSE)\n",
    "pom$out\n",
    "# rozhodli-li jsme se pro odstranění odlehlých hodnot, pak\n",
    "krouzky$hodnoty.bez <- krouzky$hodnoty\n",
    "krouzky$hodnoty.bez[krouzky$hodnoty %in% pom$out] <- NA\n"
   ]
  },
  {
   "cell_type": "code",
   "execution_count": null,
   "metadata": {
    "vscode": {
     "languageId": "r"
    }
   },
   "outputs": [],
   "source": [
    "# Explorační analýza pro data bez odlehlých pozorování\n",
    "summary(krouzky$hodnoty.bez, na.rm = TRUE)\n",
    "boxplot(krouzky$hodnoty.bez)\n"
   ]
  },
  {
   "cell_type": "code",
   "execution_count": null,
   "metadata": {
    "vscode": {
     "languageId": "r"
    }
   },
   "outputs": [],
   "source": [
    "length(na.omit(krouzky$hodnoty.bez)) # sd zaokrouhlujeme na 3 platné cifry\n",
    "sd(krouzky$hodnoty.bez, na.rm = TRUE) # sd a míry polohy zaokr. na tisíciny\n"
   ]
  },
  {
   "cell_type": "code",
   "execution_count": null,
   "metadata": {
    "vscode": {
     "languageId": "r"
    }
   },
   "outputs": [],
   "source": [
    "# Ověření normality - exploračně\n",
    "moments::skewness(krouzky$hodnoty.bez, na.rm = TRUE)\n",
    "moments::kurtosis(krouzky$hodnoty.bez, na.rm = TRUE) - 3\n",
    "\n",
    "par(mfrow = c(1, 2)) # matice grafů 1x2\n",
    "\n",
    "qqnorm(krouzky$hodnoty.bez)\n",
    "qqline(krouzky$hodnoty.bez)\n",
    "hist(krouzky$hodnoty.bez)\n",
    "# Šikmost i špičatost odpovídá norm. rozdělení.\n",
    "# Pro konečné rozhodnutí o normalitě dat použijeme\n"
   ]
  },
  {
   "cell_type": "code",
   "execution_count": null,
   "metadata": {
    "vscode": {
     "languageId": "r"
    }
   },
   "outputs": [],
   "source": [
    "# test normality.\n",
    "# Předpoklad normality ověříme Shapirovovým . Wilkovovým testem.\n",
    "shapiro.test(krouzky$hodnoty.bez)\n",
    "# p-value > 0.05 -> Na hl. významnosti 0,05 nelze předpoklad norm. zamítnout\n"
   ]
  },
  {
   "cell_type": "code",
   "execution_count": null,
   "metadata": {
    "vscode": {
     "languageId": "r"
    }
   },
   "outputs": [],
   "source": [
    "# test na míru variability -> test o rozptylu\n",
    "\n",
    "# H0: sigma = 0,05 mm\n",
    "# Ha: sigma < 0,05 mm\n",
    "EnvStats::varTest(krouzky$hodnoty.bez,\n",
    "    sigma.squared = 0.05^2,\n",
    "    alternative = \"less\"\n",
    ")\n",
    "\n",
    "# p-value < 0.05 -> Na hladině významnosti 0,05 zamítáme H0 ve prospěch Ha\n"
   ]
  },
  {
   "cell_type": "code",
   "execution_count": null,
   "metadata": {
    "vscode": {
     "languageId": "r"
    }
   },
   "outputs": [],
   "source": [
    "# Jak najít 95% intervalový odhad směrodatné odchylky?\n",
    "pom <- EnvStats::varTest(krouzky$hodnoty.bez,\n",
    "    sigma.squared = 0.05^2,\n",
    "    alternative = \"less\", conf.level = 0.95\n",
    ")\n",
    "\n",
    "sqrt(pom$conf.int)\n"
   ]
  },
  {
   "cell_type": "markdown",
   "metadata": {},
   "source": [
    "## Příklad 5.\n",
    "Firma TT udává, že 1% jejich rezistorů nesplňuje požadovaná kritéria. V testované dodávce 1000 ks bylo nalezeno 15 nevyhovujících rezistorů. Potvrzuje tento výsledek tvrzení TT? Ověřte čistým testem významnosti."
   ]
  },
  {
   "cell_type": "code",
   "execution_count": null,
   "metadata": {
    "vscode": {
     "languageId": "r"
    }
   },
   "outputs": [],
   "source": [
    "n <- 1000 # rozsah výběru\n",
    "x <- 15 # počet \"úspěchů\"\n",
    "p <- x / n # relativní četnost (bodový odhad pravděpodobnosti)\n",
    "p\n"
   ]
  },
  {
   "cell_type": "code",
   "execution_count": null,
   "metadata": {
    "vscode": {
     "languageId": "r"
    }
   },
   "outputs": [],
   "source": [
    "# Ověření předpokladů\n",
    "9 / (p * (1 - p))\n",
    "# Dále předpokládáme  n/N < 0.05, tj. že daná populace (rezistorů) má rozsah\n",
    "# alespoň 1000/0.05 = 1000*20 = 20 000 rezistorů\n"
   ]
  },
  {
   "cell_type": "code",
   "execution_count": null,
   "metadata": {
    "vscode": {
     "languageId": "r"
    }
   },
   "outputs": [],
   "source": [
    "## Clopperův - Pearsonův (exaktní) test\n",
    "## H0: pi = 0.01\n",
    "## Ha: pi <> 0.01\n",
    "\n",
    "binom.test(x = x, n = n, p = 0.01, alternative = \"two.sided\")\n"
   ]
  },
  {
   "cell_type": "code",
   "execution_count": null,
   "metadata": {
    "vscode": {
     "languageId": "r"
    }
   },
   "outputs": [],
   "source": [
    "## Clopperův - Pearsonův (exaktní) test\n",
    "## H0: pi = 0.01\n",
    "## Ha: pi > 0.01\n",
    "\n",
    "binom.test(x = x, n = n, p = 0.01, alternative = \"greater\")\n",
    "\n",
    "# Na hladině významnosti 0,05 nezamítáme H0\n",
    "# Nelze očekávat, že podíl vadných rezistorů ve výrobě statisticky významně\n",
    "# převyšuje 1 %.\n"
   ]
  }
 ],
 "metadata": {
  "kernelspec": {
   "display_name": "R",
   "language": "R",
   "name": "ir"
  },
  "language_info": {
   "codemirror_mode": "r",
   "file_extension": ".r",
   "mimetype": "text/x-r-source",
   "name": "R",
   "pygments_lexer": "r",
   "version": "4.3.1"
  }
 },
 "nbformat": 4,
 "nbformat_minor": 4
}

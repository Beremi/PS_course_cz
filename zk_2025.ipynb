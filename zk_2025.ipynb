{
 "cells": [
  {
   "cell_type": "code",
   "execution_count": 9,
   "metadata": {
    "vscode": {
     "languageId": "r"
    }
   },
   "outputs": [
    {
     "data": {
      "text/html": [
       "0.59428670867253"
      ],
      "text/latex": [
       "0.59428670867253"
      ],
      "text/markdown": [
       "0.59428670867253"
      ],
      "text/plain": [
       "[1] 0.5942867"
      ]
     },
     "metadata": {},
     "output_type": "display_data"
    }
   ],
   "source": [
    "0.5/(1 - pnorm(180, 200, 20))"
   ]
  },
  {
   "cell_type": "code",
   "execution_count": 12,
   "metadata": {
    "vscode": {
     "languageId": "r"
    }
   },
   "outputs": [
    {
     "data": {
      "text/html": [
       "0.158655253931457"
      ],
      "text/latex": [
       "0.158655253931457"
      ],
      "text/markdown": [
       "0.158655253931457"
      ],
      "text/plain": [
       "[1] 0.1586553"
      ]
     },
     "metadata": {},
     "output_type": "display_data"
    }
   ],
   "source": [
    "pnorm(180, 200, 20)"
   ]
  },
  {
   "cell_type": "code",
   "execution_count": 15,
   "metadata": {
    "vscode": {
     "languageId": "r"
    }
   },
   "outputs": [
    {
     "data": {
      "text/html": [
       "6.34621015725828"
      ],
      "text/latex": [
       "6.34621015725828"
      ],
      "text/markdown": [
       "6.34621015725828"
      ],
      "text/plain": [
       "[1] 6.34621"
      ]
     },
     "metadata": {},
     "output_type": "display_data"
    }
   ],
   "source": [
    "pnorm(180, 200, 20) * 40\n"
   ]
  },
  {
   "cell_type": "code",
   "execution_count": 14,
   "metadata": {
    "vscode": {
     "languageId": "r"
    }
   },
   "outputs": [
    {
     "data": {
      "text/html": [
       "0.0910817289581282"
      ],
      "text/latex": [
       "0.0910817289581282"
      ],
      "text/markdown": [
       "0.0910817289581282"
      ],
      "text/plain": [
       "[1] 0.09108173"
      ]
     },
     "metadata": {},
     "output_type": "display_data"
    }
   ],
   "source": [
    "1-pbinom(9, 40, pnorm(180, 200, 20))"
   ]
  },
  {
   "cell_type": "code",
   "execution_count": 8,
   "metadata": {
    "vscode": {
     "languageId": "r"
    }
   },
   "outputs": [
    {
     "data": {
      "text/html": [
       "<style>\n",
       ".list-inline {list-style: none; margin:0; padding: 0}\n",
       ".list-inline>li {display: inline-block}\n",
       ".list-inline>li:not(:last-child)::after {content: \"\\00b7\"; padding: 0 .5ex}\n",
       "</style>\n",
       "<ol class=list-inline><li>1</li><li>2</li><li>3</li><li>4</li><li>5</li><li>6</li><li>7</li><li>8</li><li>9</li><li>10</li></ol>\n"
      ],
      "text/latex": [
       "\\begin{enumerate*}\n",
       "\\item 1\n",
       "\\item 2\n",
       "\\item 3\n",
       "\\item 4\n",
       "\\item 5\n",
       "\\item 6\n",
       "\\item 7\n",
       "\\item 8\n",
       "\\item 9\n",
       "\\item 10\n",
       "\\end{enumerate*}\n"
      ],
      "text/markdown": [
       "1. 1\n",
       "2. 2\n",
       "3. 3\n",
       "4. 4\n",
       "5. 5\n",
       "6. 6\n",
       "7. 7\n",
       "8. 8\n",
       "9. 9\n",
       "10. 10\n",
       "\n",
       "\n"
      ],
      "text/plain": [
       " [1]  1  2  3  4  5  6  7  8  9 10"
      ]
     },
     "metadata": {},
     "output_type": "display_data"
    },
    {
     "data": {
      "image/png": "[encoded data removed]",
      "text/plain": [
       "Plot with title “Binomial Distribution”"
      ]
     },
     "metadata": {
      "image/png": {
       "height": 420,
       "width": 420
      }
     },
     "output_type": "display_data"
    }
   ],
   "source": [
    "x = seq(1, 10)\n",
    "x\n",
    "p = dbinom(x, 40, pnorm(180, 200, 20))\n",
    "plot(x = x, y = p, type = \"l\", xlab = \"x\", ylab = \"P(X <= x)\", main = \"Binomial Distribution\")"
   ]
  },
  {
   "cell_type": "code",
   "execution_count": 16,
   "metadata": {
    "vscode": {
     "languageId": "r"
    }
   },
   "outputs": [
    {
     "data": {
      "text/html": [
       "0.393469340287367"
      ],
      "text/latex": [
       "0.393469340287367"
      ],
      "text/markdown": [
       "0.393469340287367"
      ],
      "text/plain": [
       "[1] 0.3934693"
      ]
     },
     "metadata": {},
     "output_type": "display_data"
    }
   ],
   "source": [
    "pexp(1, 0.5)"
   ]
  },
  {
   "cell_type": "code",
   "execution_count": 17,
   "metadata": {
    "vscode": {
     "languageId": "r"
    }
   },
   "outputs": [
    {
     "data": {
      "text/html": [
       "0.367879441171442"
      ],
      "text/latex": [
       "0.367879441171442"
      ],
      "text/markdown": [
       "0.367879441171442"
      ],
      "text/plain": [
       "[1] 0.3678794"
      ]
     },
     "metadata": {},
     "output_type": "display_data"
    }
   ],
   "source": [
    "1 - pexp(2, 0.5)"
   ]
  },
  {
   "cell_type": "code",
   "execution_count": 18,
   "metadata": {
    "vscode": {
     "languageId": "r"
    }
   },
   "outputs": [
    {
     "data": {
      "text/html": [
       "0.622459331201855"
      ],
      "text/latex": [
       "0.622459331201855"
      ],
      "text/markdown": [
       "0.622459331201855"
      ],
      "text/plain": [
       "[1] 0.6224593"
      ]
     },
     "metadata": {},
     "output_type": "display_data"
    }
   ],
   "source": [
    "pexp(1, 0.5) / pexp(2, 0.5)"
   ]
  },
  {
   "cell_type": "code",
   "execution_count": 20,
   "metadata": {
    "vscode": {
     "languageId": "r"
    }
   },
   "outputs": [
    {
     "data": {
      "text/html": [
       "0.367879441171442"
      ],
      "text/latex": [
       "0.367879441171442"
      ],
      "text/markdown": [
       "0.367879441171442"
      ],
      "text/plain": [
       "[1] 0.3678794"
      ]
     },
     "metadata": {},
     "output_type": "display_data"
    }
   ],
   "source": [
    "1-pexp(2, 0.5)"
   ]
  },
  {
   "cell_type": "code",
   "execution_count": 21,
   "metadata": {
    "vscode": {
     "languageId": "r"
    }
   },
   "outputs": [
    {
     "data": {
      "text/html": [
       "0.715376086422418"
      ],
      "text/latex": [
       "0.715376086422418"
      ],
      "text/markdown": [
       "0.715376086422418"
      ],
      "text/plain": [
       "[1] 0.7153761"
      ]
     },
     "metadata": {},
     "output_type": "display_data"
    }
   ],
   "source": [
    "pnbinom(20, 10, 0.367879441171442)"
   ]
  },
  {
   "cell_type": "code",
   "execution_count": 22,
   "metadata": {
    "vscode": {
     "languageId": "r"
    }
   },
   "outputs": [
    {
     "data": {
      "text/html": [
       "27.1828182845905"
      ],
      "text/latex": [
       "27.1828182845905"
      ],
      "text/markdown": [
       "27.1828182845905"
      ],
      "text/plain": [
       "[1] 27.18282"
      ]
     },
     "metadata": {},
     "output_type": "display_data"
    }
   ],
   "source": [
    "10 / 0.367879441171442"
   ]
  },
  {
   "cell_type": "code",
   "execution_count": 24,
   "metadata": {
    "vscode": {
     "languageId": "r"
    }
   },
   "outputs": [
    {
     "data": {
      "image/png": "[encoded data removed]",
      "text/plain": [
       "plot without title"
      ]
     },
     "metadata": {
      "image/png": {
       "height": 420,
       "width": 420
      }
     },
     "output_type": "display_data"
    }
   ],
   "source": [
    "x = seq(22, 28)\n",
    "p = dnbinom(x-10, 10, 0.367879441171442)\n",
    "plot(x,p)"
   ]
  },
  {
   "cell_type": "code",
   "execution_count": 28,
   "metadata": {
    "vscode": {
     "languageId": "r"
    }
   },
   "outputs": [
    {
     "data": {
      "text/html": [
       "2.2"
      ],
      "text/latex": [
       "2.2"
      ],
      "text/markdown": [
       "2.2"
      ],
      "text/plain": [
       "[1] 2.2"
      ]
     },
     "metadata": {},
     "output_type": "display_data"
    },
    {
     "data": {
      "text/html": [
       "1.16619037896906"
      ],
      "text/latex": [
       "1.16619037896906"
      ],
      "text/markdown": [
       "1.16619037896906"
      ],
      "text/plain": [
       "[1] 1.16619"
      ]
     },
     "metadata": {},
     "output_type": "display_data"
    }
   ],
   "source": [
    "x = seq(0, 4)\n",
    "p = c(0.1, 0.2, 0.2, 0.4, 0.1)\n",
    "\n",
    "ex = sum(x * p)\n",
    "ex\n",
    "\n",
    "varx = sum((x - ex)^2 * p)\n",
    "sqrt(varx)"
   ]
  },
  {
   "cell_type": "code",
   "execution_count": 27,
   "metadata": {
    "vscode": {
     "languageId": "r"
    }
   },
   "outputs": [
    {
     "data": {
      "text/html": [
       "1100"
      ],
      "text/latex": [
       "1100"
      ],
      "text/markdown": [
       "1100"
      ],
      "text/plain": [
       "[1] 1100"
      ]
     },
     "metadata": {},
     "output_type": "display_data"
    },
    {
     "data": {
      "text/html": [
       "583.09518948453"
      ],
      "text/latex": [
       "583.09518948453"
      ],
      "text/markdown": [
       "583.09518948453"
      ],
      "text/plain": [
       "[1] 583.0952"
      ]
     },
     "metadata": {},
     "output_type": "display_data"
    }
   ],
   "source": [
    "ex * 500\n",
    "sqrt(varx)*500"
   ]
  },
  {
   "cell_type": "code",
   "execution_count": 29,
   "metadata": {
    "vscode": {
     "languageId": "r"
    }
   },
   "outputs": [
    {
     "data": {
      "text/html": [
       "0.0755"
      ],
      "text/latex": [
       "0.0755"
      ],
      "text/markdown": [
       "0.0755"
      ],
      "text/plain": [
       "[1] 0.0755"
      ]
     },
     "metadata": {},
     "output_type": "display_data"
    }
   ],
   "source": [
    "0.05*0.94+0.95*0.03"
   ]
  },
  {
   "cell_type": "code",
   "execution_count": 30,
   "metadata": {
    "vscode": {
     "languageId": "r"
    }
   },
   "outputs": [
    {
     "data": {
      "text/html": [
       "0.622516556291391"
      ],
      "text/latex": [
       "0.622516556291391"
      ],
      "text/markdown": [
       "0.622516556291391"
      ],
      "text/plain": [
       "[1] 0.6225166"
      ]
     },
     "metadata": {},
     "output_type": "display_data"
    }
   ],
   "source": [
    "0.05 * 0.94 / 0.0755\n"
   ]
  },
  {
   "cell_type": "code",
   "execution_count": 31,
   "metadata": {
    "vscode": {
     "languageId": "r"
    }
   },
   "outputs": [
    {
     "data": {
      "text/html": [
       "0.1016"
      ],
      "text/latex": [
       "0.1016"
      ],
      "text/markdown": [
       "0.1016"
      ],
      "text/plain": [
       "[1] 0.1016"
      ]
     },
     "metadata": {},
     "output_type": "display_data"
    }
   ],
   "source": [
    "0.07*0.92+0.93*0.04"
   ]
  },
  {
   "cell_type": "code",
   "execution_count": 32,
   "metadata": {
    "vscode": {
     "languageId": "r"
    }
   },
   "outputs": [
    {
     "data": {
      "text/html": [
       "0.633858267716535"
      ],
      "text/latex": [
       "0.633858267716535"
      ],
      "text/markdown": [
       "0.633858267716535"
      ],
      "text/plain": [
       "[1] 0.6338583"
      ]
     },
     "metadata": {},
     "output_type": "display_data"
    }
   ],
   "source": [
    "0.07 * 0.92 / (0.07 * 0.92 + 0.93 * 0.04)"
   ]
  }
 ],
 "metadata": {
  "kernelspec": {
   "display_name": "R",
   "language": "R",
   "name": "ir"
  },
  "language_info": {
   "codemirror_mode": "r",
   "file_extension": ".r",
   "mimetype": "text/x-r-source",
   "name": "R",
   "pygments_lexer": "r",
   "version": "4.3.2"
  }
 },
 "nbformat": 4,
 "nbformat_minor": 2
}

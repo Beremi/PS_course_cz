{
 "cells": [
  {
   "cell_type": "code",
   "execution_count": null,
   "metadata": {
    "vscode": {
     "languageId": "r"
    }
   },
   "outputs": [],
   "source": [
    "library(readxl)\n",
    "library(dplyr)\n",
    "library(ggplot2)\n",
    "library(rstatix)\n",
    "library(tidyr)\n",
    "\n",
    "# Load the data\n",
    "data <- read_excel(\"data_20240522_B.xlsx\")\n",
    "\n",
    "\n",
    "# Zobrazení prvních několika řádků data frame\n",
    "data$zlepseni <- (data$emise_pred - data$emise_po) / data$emise_pred * 100\n",
    "\n",
    "boxplot(data$zlepseni ~ data$znacka, xlab = \"Značka\", ylab = \"Emise před seřízením\", col = \"lightblue\")\n",
    "\n",
    "outliers <- data %>%\n",
    "    group_by(znacka) %>%\n",
    "    rstatix::identify_outliers(zlepseni)\n",
    "\n",
    "outliers\n",
    "\n",
    "data$zlepseni <- ifelse(data$id %in% outliers$id, NA, data$zlepseni)\n",
    "data <- na.omit(data)\n",
    "boxplot(data$zlepseni ~ data$znacka, xlab = \"Značka\", ylab = \"Emise před seřízením\", col = \"lightblue\")\n",
    "\n",
    "summry <- data %>%\n",
    "    group_by(znacka) %>%\n",
    "    summarise(\n",
    "        mean = mean(zlepseni),\n",
    "        median = median(zlepseni),\n",
    "        min = min(zlepseni),\n",
    "        max = max(zlepseni),\n",
    "        sd = sd(zlepseni),\n",
    "        norm_test = shapiro.test(zlepseni)$p.value,\n",
    "        sym_test = lawstat::symmetry.test(zlepseni, boot = FALSE)$p.value\n",
    "    )\n",
    "summry\n",
    "bartlett.test(zlepseni ~ znacka, data = data)\n",
    "kruskal.test(zlepseni ~ znacka, data = data)\n",
    "dunn.test::dunn.test(data$zlepseni, data$znacka, method = \"bonferroni\", altp = TRUE)\n",
    "\n",
    "data <- data\n"
   ]
  },
  {
   "cell_type": "code",
   "execution_count": null,
   "metadata": {
    "vscode": {
     "languageId": "r"
    }
   },
   "outputs": [],
   "source": [
    "res = aov(zlepseni ~ znacka, data = data)\n",
    "summary(res)\n",
    "TukeyHSD(res)"
   ]
  },
  {
   "cell_type": "code",
   "execution_count": null,
   "metadata": {
    "vscode": {
     "languageId": "r"
    }
   },
   "outputs": [],
   "source": [
    "t.test(data$zlepseni[data$znacka == \"X\"], conf.level = 0.95)"
   ]
  },
  {
   "cell_type": "code",
   "execution_count": null,
   "metadata": {
    "vscode": {
     "languageId": "r"
    }
   },
   "outputs": [],
   "source": [
    "table(data$zlepseni[data$znacka == \"X\"] > 12)\n",
    "binom.test(x = 0,n = 146, alternative = \"less\")"
   ]
  },
  {
   "cell_type": "code",
   "execution_count": null,
   "metadata": {
    "vscode": {
     "languageId": "r"
    }
   },
   "outputs": [],
   "source": [
    "var.test(data$zlepseni[data$znacka == \"X\"], data$zlepseni[data$znacka == \"Y\"],ratio = 1)"
   ]
  },
  {
   "cell_type": "code",
   "execution_count": null,
   "metadata": {
    "vscode": {
     "languageId": "r"
    }
   },
   "outputs": [],
   "source": [
    "t.test(data$zlepseni[data$znacka == \"X\"], data$zlepseni[data$znacka == \"Y\"], alternative = \"two.sided\", conf.level = 0.95)\n",
    "13.48434 - 10.98947"
   ]
  },
  {
   "cell_type": "code",
   "execution_count": null,
   "metadata": {
    "vscode": {
     "languageId": "r"
    }
   },
   "outputs": [],
   "source": [
    "autox_horsi = data$zlepseni[data$znacka == \"X\"] < 10\n",
    "table(autox_horsi)\n",
    "auto_x_zavada = data$problem[data$znacka == \"X\"]\n",
    "table(auto_x_zavada)\n",
    "tab = table(auto_x_zavada, autox_horsi)\n",
    "tab = tab[c(2, 1), c(2, 1)]\n",
    "tab"
   ]
  },
  {
   "cell_type": "code",
   "execution_count": null,
   "metadata": {
    "vscode": {
     "languageId": "r"
    }
   },
   "outputs": [],
   "source": [
    "mosaicplot(tab, color = c(\"red\", \"blue\"), main = \"Vztah mezi závadou a zhoršením emisí\")\n",
    "cramer_v(tab)"
   ]
  },
  {
   "cell_type": "code",
   "execution_count": null,
   "metadata": {
    "vscode": {
     "languageId": "r"
    }
   },
   "outputs": [],
   "source": [
    "epiR::epi.2by2(tab)"
   ]
  }
 ],
 "metadata": {
  "kernelspec": {
   "display_name": "R",
   "language": "R",
   "name": "ir"
  },
  "language_info": {
   "codemirror_mode": "r",
   "file_extension": ".r",
   "mimetype": "text/x-r-source",
   "name": "R",
   "pygments_lexer": "r",
   "version": "4.3.2"
  }
 },
 "nbformat": 4,
 "nbformat_minor": 2
}

{
 "cells": [
  {
   "cell_type": "code",
   "execution_count": 25,
   "metadata": {
    "vscode": {
     "languageId": "r"
    }
   },
   "outputs": [
    {
     "data": {
      "text/html": [
       "<table class=\"dataframe\">\n",
       "<caption>A tibble: 1 × 8</caption>\n",
       "<thead>\n",
       "\t<tr><th scope=col>vyrobce</th><th scope=col>id</th><th scope=col>propustnost_pred</th><th scope=col>propustnost_po</th><th scope=col>montaz</th><th scope=col>zlepseni</th><th scope=col>is.outlier</th><th scope=col>is.extreme</th></tr>\n",
       "\t<tr><th scope=col>&lt;chr&gt;</th><th scope=col>&lt;dbl&gt;</th><th scope=col>&lt;dbl&gt;</th><th scope=col>&lt;dbl&gt;</th><th scope=col>&lt;chr&gt;</th><th scope=col>&lt;dbl&gt;</th><th scope=col>&lt;lgl&gt;</th><th scope=col>&lt;lgl&gt;</th></tr>\n",
       "</thead>\n",
       "<tbody>\n",
       "\t<tr><td>A</td><td>16</td><td>304.69</td><td>350</td><td>amater</td><td>45.31</td><td>TRUE</td><td>TRUE</td></tr>\n",
       "</tbody>\n",
       "</table>\n"
      ],
      "text/latex": [
       "A tibble: 1 × 8\n",
       "\\begin{tabular}{llllllll}\n",
       " vyrobce & id & propustnost\\_pred & propustnost\\_po & montaz & zlepseni & is.outlier & is.extreme\\\\\n",
       " <chr> & <dbl> & <dbl> & <dbl> & <chr> & <dbl> & <lgl> & <lgl>\\\\\n",
       "\\hline\n",
       "\t A & 16 & 304.69 & 350 & amater & 45.31 & TRUE & TRUE\\\\\n",
       "\\end{tabular}\n"
      ],
      "text/markdown": [
       "\n",
       "A tibble: 1 × 8\n",
       "\n",
       "| vyrobce &lt;chr&gt; | id &lt;dbl&gt; | propustnost_pred &lt;dbl&gt; | propustnost_po &lt;dbl&gt; | montaz &lt;chr&gt; | zlepseni &lt;dbl&gt; | is.outlier &lt;lgl&gt; | is.extreme &lt;lgl&gt; |\n",
       "|---|---|---|---|---|---|---|---|\n",
       "| A | 16 | 304.69 | 350 | amater | 45.31 | TRUE | TRUE |\n",
       "\n"
      ],
      "text/plain": [
       "  vyrobce id propustnost_pred propustnost_po montaz zlepseni is.outlier\n",
       "1 A       16 304.69           350            amater 45.31    TRUE      \n",
       "  is.extreme\n",
       "1 TRUE      "
      ]
     },
     "metadata": {},
     "output_type": "display_data"
    },
    {
     "data": {
      "text/html": [
       "<table class=\"dataframe\">\n",
       "<caption>A tibble: 4 × 8</caption>\n",
       "<thead>\n",
       "\t<tr><th scope=col>vyrobce</th><th scope=col>mean</th><th scope=col>median</th><th scope=col>min</th><th scope=col>max</th><th scope=col>sd</th><th scope=col>norm_test</th><th scope=col>sym_test</th></tr>\n",
       "\t<tr><th scope=col>&lt;chr&gt;</th><th scope=col>&lt;dbl&gt;</th><th scope=col>&lt;dbl&gt;</th><th scope=col>&lt;dbl&gt;</th><th scope=col>&lt;dbl&gt;</th><th scope=col>&lt;dbl&gt;</th><th scope=col>&lt;dbl&gt;</th><th scope=col>&lt;dbl&gt;</th></tr>\n",
       "</thead>\n",
       "<tbody>\n",
       "\t<tr><td>A</td><td>4.022323</td><td>4.020</td><td>-8.17</td><td>15.68</td><td>5.188408</td><td>0.7473916</td><td>0.9953094</td></tr>\n",
       "\t<tr><td>B</td><td>6.526240</td><td>6.935</td><td>-4.18</td><td>15.70</td><td>4.597049</td><td>0.3707375</td><td>0.2379752</td></tr>\n",
       "\t<tr><td>C</td><td>5.871260</td><td>5.395</td><td>-6.40</td><td>19.00</td><td>5.424914</td><td>0.5583202</td><td>0.2432175</td></tr>\n",
       "\t<tr><td>D</td><td>4.621900</td><td>4.625</td><td>-5.70</td><td>15.90</td><td>4.410722</td><td>0.9229796</td><td>0.9926549</td></tr>\n",
       "</tbody>\n",
       "</table>\n"
      ],
      "text/latex": [
       "A tibble: 4 × 8\n",
       "\\begin{tabular}{llllllll}\n",
       " vyrobce & mean & median & min & max & sd & norm\\_test & sym\\_test\\\\\n",
       " <chr> & <dbl> & <dbl> & <dbl> & <dbl> & <dbl> & <dbl> & <dbl>\\\\\n",
       "\\hline\n",
       "\t A & 4.022323 & 4.020 & -8.17 & 15.68 & 5.188408 & 0.7473916 & 0.9953094\\\\\n",
       "\t B & 6.526240 & 6.935 & -4.18 & 15.70 & 4.597049 & 0.3707375 & 0.2379752\\\\\n",
       "\t C & 5.871260 & 5.395 & -6.40 & 19.00 & 5.424914 & 0.5583202 & 0.2432175\\\\\n",
       "\t D & 4.621900 & 4.625 & -5.70 & 15.90 & 4.410722 & 0.9229796 & 0.9926549\\\\\n",
       "\\end{tabular}\n"
      ],
      "text/markdown": [
       "\n",
       "A tibble: 4 × 8\n",
       "\n",
       "| vyrobce &lt;chr&gt; | mean &lt;dbl&gt; | median &lt;dbl&gt; | min &lt;dbl&gt; | max &lt;dbl&gt; | sd &lt;dbl&gt; | norm_test &lt;dbl&gt; | sym_test &lt;dbl&gt; |\n",
       "|---|---|---|---|---|---|---|---|\n",
       "| A | 4.022323 | 4.020 | -8.17 | 15.68 | 5.188408 | 0.7473916 | 0.9953094 |\n",
       "| B | 6.526240 | 6.935 | -4.18 | 15.70 | 4.597049 | 0.3707375 | 0.2379752 |\n",
       "| C | 5.871260 | 5.395 | -6.40 | 19.00 | 5.424914 | 0.5583202 | 0.2432175 |\n",
       "| D | 4.621900 | 4.625 | -5.70 | 15.90 | 4.410722 | 0.9229796 | 0.9926549 |\n",
       "\n"
      ],
      "text/plain": [
       "  vyrobce mean     median min   max   sd       norm_test sym_test \n",
       "1 A       4.022323 4.020  -8.17 15.68 5.188408 0.7473916 0.9953094\n",
       "2 B       6.526240 6.935  -4.18 15.70 4.597049 0.3707375 0.2379752\n",
       "3 C       5.871260 5.395  -6.40 19.00 5.424914 0.5583202 0.2432175\n",
       "4 D       4.621900 4.625  -5.70 15.90 4.410722 0.9229796 0.9926549"
      ]
     },
     "metadata": {},
     "output_type": "display_data"
    },
    {
     "data": {
      "image/png": "[encoded data removed]",
      "text/plain": [
       "plot without title"
      ]
     },
     "metadata": {
      "image/png": {
       "height": 420,
       "width": 420
      }
     },
     "output_type": "display_data"
    }
   ],
   "source": [
    "library(readxl)\n",
    "library(dplyr)\n",
    "library(ggplot2)\n",
    "library(rstatix)\n",
    "library(tidyr)\n",
    "\n",
    "# Load the data\n",
    "data <- read_excel(\"data_20240624_A (2).xlsx\")\n",
    "\n",
    "\n",
    "# Zobrazení prvních několika řádků data frame\n",
    "data$zlepseni <- (data$propustnost_po - data$propustnost_pred)\n",
    "\n",
    "boxplot(data$zlepseni ~ data$vyrobce, xlab = \"Značka\", ylab = \"Emise před seřízením\", col = \"lightblue\")\n",
    "\n",
    "outliers <- data %>%\n",
    "    group_by(vyrobce) %>%\n",
    "    rstatix::identify_outliers(zlepseni)\n",
    "\n",
    "outliers\n",
    "\n",
    "data$zlepseni <- ifelse(data$id %in% outliers$id, NA, data$zlepseni)\n",
    "data <- na.omit(data)\n",
    "summry <- data %>%\n",
    "    group_by(vyrobce) %>%\n",
    "    summarise(\n",
    "        mean = mean(zlepseni),\n",
    "        median = median(zlepseni),\n",
    "        min = min(zlepseni),\n",
    "        max = max(zlepseni),\n",
    "        sd = sd(zlepseni),\n",
    "        norm_test = shapiro.test(zlepseni)$p.value,\n",
    "        sym_test = lawstat::symmetry.test(zlepseni, boot = FALSE)$p.value\n",
    "    )\n",
    "summry\n"
   ]
  },
  {
   "cell_type": "markdown",
   "metadata": {},
   "source": [
    "# 4"
   ]
  },
  {
   "cell_type": "code",
   "execution_count": 26,
   "metadata": {
    "vscode": {
     "languageId": "r"
    }
   },
   "outputs": [],
   "source": [
    "A <- data$zlepseni[data$vyrobce == \"A\"]\n"
   ]
  },
  {
   "cell_type": "markdown",
   "metadata": {},
   "source": [
    "### b,c)"
   ]
  },
  {
   "cell_type": "code",
   "execution_count": 27,
   "metadata": {
    "vscode": {
     "languageId": "r"
    }
   },
   "outputs": [
    {
     "data": {
      "text/plain": [
       "\n",
       "\tOne Sample t-test\n",
       "\n",
       "data:  A\n",
       "t = 7.7137, df = 98, p-value = 5.152e-12\n",
       "alternative hypothesis: true mean is greater than 0\n",
       "95 percent confidence interval:\n",
       " 3.156421      Inf\n",
       "sample estimates:\n",
       "mean of x \n",
       " 4.022323 \n"
      ]
     },
     "metadata": {},
     "output_type": "display_data"
    }
   ],
   "source": [
    "t.test(A, alternative = \"greater\")\n"
   ]
  },
  {
   "cell_type": "markdown",
   "metadata": {},
   "source": [
    "### d)"
   ]
  },
  {
   "cell_type": "code",
   "execution_count": 28,
   "metadata": {
    "vscode": {
     "languageId": "r"
    }
   },
   "outputs": [
    {
     "data": {
      "text/plain": [
       "\n",
       "\tExact binomial test\n",
       "\n",
       "data:  x and n\n",
       "number of successes = 19, number of trials = 99, p-value = 4.394e-10\n",
       "alternative hypothesis: true probability of success is not equal to 0.5\n",
       "95 percent confidence interval:\n",
       " 0.1196844 0.2833676\n",
       "sample estimates:\n",
       "probability of success \n",
       "             0.1919192 \n"
      ]
     },
     "metadata": {},
     "output_type": "display_data"
    }
   ],
   "source": [
    "A_fail <- data$zlepseni[data$vyrobce == \"A\"] < 0\n",
    "tab <- table(A_fail)\n",
    "n <- sum(tab)\n",
    "x <- tab[2]\n",
    "\n",
    "binom.test(x, n)\n"
   ]
  },
  {
   "cell_type": "code",
   "execution_count": 29,
   "metadata": {
    "vscode": {
     "languageId": "r"
    }
   },
   "outputs": [
    {
     "data": {
      "text/html": [
       "<strong>TRUE:</strong> 0.191919191919192"
      ],
      "text/latex": [
       "\\textbf{TRUE:} 0.191919191919192"
      ],
      "text/markdown": [
       "**TRUE:** 0.191919191919192"
      ],
      "text/plain": [
       "     TRUE \n",
       "0.1919192 "
      ]
     },
     "metadata": {},
     "output_type": "display_data"
    },
    {
     "data": {
      "text/html": [
       "<strong>TRUE:</strong> 58.0322368421053"
      ],
      "text/latex": [
       "\\textbf{TRUE:} 58.0322368421053"
      ],
      "text/markdown": [
       "**TRUE:** 58.0322368421053"
      ],
      "text/plain": [
       "    TRUE \n",
       "58.03224 "
      ]
     },
     "metadata": {},
     "output_type": "display_data"
    }
   ],
   "source": [
    "p <- x / n\n",
    "p\n",
    "9/(p * (1 - p))"
   ]
  },
  {
   "cell_type": "markdown",
   "metadata": {},
   "source": [
    "# 5"
   ]
  },
  {
   "cell_type": "code",
   "execution_count": 30,
   "metadata": {
    "vscode": {
     "languageId": "r"
    }
   },
   "outputs": [
    {
     "data": {
      "text/plain": [
       "             A_fail\n",
       "A_hnojivo     TRUE FALSE\n",
       "  amater        16    55\n",
       "  profesional    3    25"
      ]
     },
     "metadata": {},
     "output_type": "display_data"
    }
   ],
   "source": [
    "A_fail <- data$zlepseni[data$vyrobce == \"A\"] < 0\n",
    "A_hnojivo <- data$montaz[data$vyrobce == \"A\"]\n",
    "tab <- table(A_hnojivo, A_fail)\n",
    "tab <- tab[c(1, 2), c(2, 1)]\n",
    "tab"
   ]
  },
  {
   "cell_type": "markdown",
   "metadata": {},
   "source": [
    "### b)"
   ]
  },
  {
   "cell_type": "code",
   "execution_count": 31,
   "metadata": {
    "vscode": {
     "languageId": "r"
    }
   },
   "outputs": [
    {
     "data": {
      "text/html": [
       "0.106712164727436"
      ],
      "text/latex": [
       "0.106712164727436"
      ],
      "text/markdown": [
       "0.106712164727436"
      ],
      "text/plain": [
       "[1] 0.1067122"
      ]
     },
     "metadata": {},
     "output_type": "display_data"
    },
    {
     "data": {
      "image/png": "[encoded data removed]",
      "text/plain": [
       "Plot with title “tab”"
      ]
     },
     "metadata": {
      "image/png": {
       "height": 420,
       "width": 420
      }
     },
     "output_type": "display_data"
    }
   ],
   "source": [
    "cramer_v(tab)\n",
    "mosaicplot(tab, color = TRUE)\n"
   ]
  },
  {
   "cell_type": "markdown",
   "metadata": {},
   "source": [
    "### c)"
   ]
  },
  {
   "cell_type": "code",
   "execution_count": 32,
   "metadata": {
    "vscode": {
     "languageId": "r"
    }
   },
   "outputs": [
    {
     "data": {
      "text/plain": [
       "             Outcome +    Outcome -      Total                 Inc risk *\n",
       "Exposed +           16           55         71     22.54 (13.46 to 34.00)\n",
       "Exposed -            3           25         28      10.71 (2.27 to 28.23)\n",
       "Total               19           80         99     19.19 (11.97 to 28.34)\n",
       "\n",
       "Point estimates and 95% CIs:\n",
       "-------------------------------------------------------------------\n",
       "Inc risk ratio                                 2.10 (0.66, 6.66)\n",
       "Inc odds ratio                                 2.42 (0.65, 9.08)\n",
       "Attrib risk in the exposed *                   11.82 (-3.20, 26.84)\n",
       "Attrib fraction in the exposed (%)            52.46 (-50.60, 84.99)\n",
       "Attrib risk in the population *                8.48 (-5.36, 22.31)\n",
       "Attrib fraction in the population (%)         44.17 (-47.63, 78.89)\n",
       "-------------------------------------------------------------------\n",
       "Uncorrected chi2 test that OR = 1: chi2(1) = 1.809 Pr>chi2 = 0.179\n",
       "Fisher exact test that OR = 1: Pr>chi2 = 0.259\n",
       " Wald confidence limits\n",
       " CI: confidence interval\n",
       " * Outcomes per 100 population units "
      ]
     },
     "metadata": {},
     "output_type": "display_data"
    }
   ],
   "source": [
    "epiR::epi.2by2(tab)\n"
   ]
  }
 ],
 "metadata": {
  "kernelspec": {
   "display_name": "R",
   "language": "R",
   "name": "ir"
  },
  "language_info": {
   "codemirror_mode": "r",
   "file_extension": ".r",
   "mimetype": "text/x-r-source",
   "name": "R",
   "pygments_lexer": "r",
   "version": "4.3.2"
  }
 },
 "nbformat": 4,
 "nbformat_minor": 2
}

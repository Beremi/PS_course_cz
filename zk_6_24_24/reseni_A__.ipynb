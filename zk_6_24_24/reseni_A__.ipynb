{
 "cells": [
  {
   "cell_type": "code",
   "execution_count": 2,
   "metadata": {
    "vscode": {
     "languageId": "r"
    }
   },
   "outputs": [
    {
     "data": {
      "text/html": [
       "<table class=\"dataframe\">\n",
       "<caption>A tibble: 1 × 9</caption>\n",
       "<thead>\n",
       "\t<tr><th scope=col>data$vyrobce</th><th scope=col>id</th><th scope=col>vyrobce</th><th scope=col>propustnost_puvodni</th><th scope=col>propustnost_nova</th><th scope=col>montaz</th><th scope=col>zlepseni</th><th scope=col>is.outlier</th><th scope=col>is.extreme</th></tr>\n",
       "\t<tr><th scope=col>&lt;chr&gt;</th><th scope=col>&lt;dbl&gt;</th><th scope=col>&lt;chr&gt;</th><th scope=col>&lt;dbl&gt;</th><th scope=col>&lt;dbl&gt;</th><th scope=col>&lt;chr&gt;</th><th scope=col>&lt;dbl&gt;</th><th scope=col>&lt;lgl&gt;</th><th scope=col>&lt;lgl&gt;</th></tr>\n",
       "</thead>\n",
       "<tbody>\n",
       "\t<tr><td>A</td><td>16</td><td>A</td><td>304.69</td><td>350</td><td>amater</td><td>350</td><td>TRUE</td><td>TRUE</td></tr>\n",
       "</tbody>\n",
       "</table>\n"
      ],
      "text/latex": [
       "A tibble: 1 × 9\n",
       "\\begin{tabular}{lllllllll}\n",
       " data\\$vyrobce & id & vyrobce & propustnost\\_puvodni & propustnost\\_nova & montaz & zlepseni & is.outlier & is.extreme\\\\\n",
       " <chr> & <dbl> & <chr> & <dbl> & <dbl> & <chr> & <dbl> & <lgl> & <lgl>\\\\\n",
       "\\hline\n",
       "\t A & 16 & A & 304.69 & 350 & amater & 350 & TRUE & TRUE\\\\\n",
       "\\end{tabular}\n"
      ],
      "text/markdown": [
       "\n",
       "A tibble: 1 × 9\n",
       "\n",
       "| data$vyrobce &lt;chr&gt; | id &lt;dbl&gt; | vyrobce &lt;chr&gt; | propustnost_puvodni &lt;dbl&gt; | propustnost_nova &lt;dbl&gt; | montaz &lt;chr&gt; | zlepseni &lt;dbl&gt; | is.outlier &lt;lgl&gt; | is.extreme &lt;lgl&gt; |\n",
       "|---|---|---|---|---|---|---|---|---|\n",
       "| A | 16 | A | 304.69 | 350 | amater | 350 | TRUE | TRUE |\n",
       "\n"
      ],
      "text/plain": [
       "  data$vyrobce id vyrobce propustnost_puvodni propustnost_nova montaz zlepseni\n",
       "1 A            16 A       304.69              350              amater 350     \n",
       "  is.outlier is.extreme\n",
       "1 TRUE       TRUE      "
      ]
     },
     "metadata": {},
     "output_type": "display_data"
    },
    {
     "data": {
      "text/html": [
       "<table class=\"dataframe\">\n",
       "<caption>A tibble: 4 × 8</caption>\n",
       "<thead>\n",
       "\t<tr><th scope=col>data$vyrobce</th><th scope=col>mean</th><th scope=col>median</th><th scope=col>min</th><th scope=col>max</th><th scope=col>sd</th><th scope=col>norm_test</th><th scope=col>sym_test</th></tr>\n",
       "\t<tr><th scope=col>&lt;chr&gt;</th><th scope=col>&lt;dbl&gt;</th><th scope=col>&lt;dbl&gt;</th><th scope=col>&lt;dbl&gt;</th><th scope=col>&lt;dbl&gt;</th><th scope=col>&lt;dbl&gt;</th><th scope=col>&lt;dbl&gt;</th><th scope=col>&lt;dbl&gt;</th></tr>\n",
       "</thead>\n",
       "<tbody>\n",
       "\t<tr><td>A</td><td>297.6117</td><td>297.430</td><td>288.170</td><td>307.860</td><td>5.713020</td><td>2.054773e-04</td><td>0.7046258</td></tr>\n",
       "\t<tr><td>B</td><td>301.7005</td><td>301.595</td><td>292.770</td><td>311.170</td><td>5.327701</td><td>4.203618e-04</td><td>0.8101666</td></tr>\n",
       "\t<tr><td>C</td><td>299.8996</td><td>300.294</td><td>288.192</td><td>311.928</td><td>6.854141</td><td>3.144214e-03</td><td>0.4785374</td></tr>\n",
       "\t<tr><td>D</td><td>300.2972</td><td>300.280</td><td>290.870</td><td>309.940</td><td>6.316066</td><td>1.292412e-05</td><td>0.9742477</td></tr>\n",
       "</tbody>\n",
       "</table>\n"
      ],
      "text/latex": [
       "A tibble: 4 × 8\n",
       "\\begin{tabular}{llllllll}\n",
       " data\\$vyrobce & mean & median & min & max & sd & norm\\_test & sym\\_test\\\\\n",
       " <chr> & <dbl> & <dbl> & <dbl> & <dbl> & <dbl> & <dbl> & <dbl>\\\\\n",
       "\\hline\n",
       "\t A & 297.6117 & 297.430 & 288.170 & 307.860 & 5.713020 & 2.054773e-04 & 0.7046258\\\\\n",
       "\t B & 301.7005 & 301.595 & 292.770 & 311.170 & 5.327701 & 4.203618e-04 & 0.8101666\\\\\n",
       "\t C & 299.8996 & 300.294 & 288.192 & 311.928 & 6.854141 & 3.144214e-03 & 0.4785374\\\\\n",
       "\t D & 300.2972 & 300.280 & 290.870 & 309.940 & 6.316066 & 1.292412e-05 & 0.9742477\\\\\n",
       "\\end{tabular}\n"
      ],
      "text/markdown": [
       "\n",
       "A tibble: 4 × 8\n",
       "\n",
       "| data$vyrobce &lt;chr&gt; | mean &lt;dbl&gt; | median &lt;dbl&gt; | min &lt;dbl&gt; | max &lt;dbl&gt; | sd &lt;dbl&gt; | norm_test &lt;dbl&gt; | sym_test &lt;dbl&gt; |\n",
       "|---|---|---|---|---|---|---|---|\n",
       "| A | 297.6117 | 297.430 | 288.170 | 307.860 | 5.713020 | 2.054773e-04 | 0.7046258 |\n",
       "| B | 301.7005 | 301.595 | 292.770 | 311.170 | 5.327701 | 4.203618e-04 | 0.8101666 |\n",
       "| C | 299.8996 | 300.294 | 288.192 | 311.928 | 6.854141 | 3.144214e-03 | 0.4785374 |\n",
       "| D | 300.2972 | 300.280 | 290.870 | 309.940 | 6.316066 | 1.292412e-05 | 0.9742477 |\n",
       "\n"
      ],
      "text/plain": [
       "  data$vyrobce mean     median  min     max     sd       norm_test    sym_test \n",
       "1 A            297.6117 297.430 288.170 307.860 5.713020 2.054773e-04 0.7046258\n",
       "2 B            301.7005 301.595 292.770 311.170 5.327701 4.203618e-04 0.8101666\n",
       "3 C            299.8996 300.294 288.192 311.928 6.854141 3.144214e-03 0.4785374\n",
       "4 D            300.2972 300.280 290.870 309.940 6.316066 1.292412e-05 0.9742477"
      ]
     },
     "metadata": {},
     "output_type": "display_data"
    },
    {
     "data": {
      "image/png": "[encoded data removed]",
      "text/plain": [
       "plot without title"
      ]
     },
     "metadata": {
      "image/png": {
       "height": 420,
       "width": 420
      }
     },
     "output_type": "display_data"
    }
   ],
   "source": [
    "library(readxl)\n",
    "library(dplyr)\n",
    "library(ggplot2)\n",
    "library(rstatix)\n",
    "library(tidyr)\n",
    "\n",
    "# Load the data\n",
    "data <- read_excel(\"data_20240624_A.xlsx\")\n",
    "\n",
    "\n",
    "# Zobrazení prvních několika řádků data frame\n",
    "data$zlepseni <- (data$propustnost_nova)\n",
    "\n",
    "boxplot(data$zlepseni ~ data$vyrobce, xlab = \"Značka\", ylab = \"Emise před seřízením\", col = \"lightblue\")\n",
    "\n",
    "outliers <- data %>%\n",
    "    group_by(data$vyrobce) %>%\n",
    "    rstatix::identify_outliers(zlepseni)\n",
    "\n",
    "outliers\n",
    "\n",
    "data$zlepseni <- ifelse(data$id %in% outliers$id, NA, data$zlepseni)\n",
    "data <- na.omit(data)\n",
    "summry <- data %>%\n",
    "    group_by(data$vyrobce) %>%\n",
    "    summarise(\n",
    "        mean = mean(zlepseni),\n",
    "        median = median(zlepseni),\n",
    "        min = min(zlepseni),\n",
    "        max = max(zlepseni),\n",
    "        sd = sd(zlepseni),\n",
    "        norm_test = shapiro.test(zlepseni)$p.value,\n",
    "        sym_test = lawstat::symmetry.test(zlepseni, boot = FALSE)$p.value\n",
    "    )\n",
    "summry\n"
   ]
  },
  {
   "cell_type": "markdown",
   "metadata": {},
   "source": [
    "# 4"
   ]
  },
  {
   "cell_type": "code",
   "execution_count": 3,
   "metadata": {
    "vscode": {
     "languageId": "r"
    }
   },
   "outputs": [],
   "source": [
    "A <- data$zlepseni[data$vyrobce == \"A\"]\n",
    "B <- data$zlepseni[data$vyrobce == \"B\"]"
   ]
  },
  {
   "cell_type": "markdown",
   "metadata": {},
   "source": [
    "### b)"
   ]
  },
  {
   "cell_type": "code",
   "execution_count": 7,
   "metadata": {
    "vscode": {
     "languageId": "r"
    }
   },
   "outputs": [
    {
     "data": {
      "text/plain": [
       "\n",
       "\tWilcoxon signed rank test with continuity correction\n",
       "\n",
       "data:  A\n",
       "V = 4950, p-value < 2.2e-16\n",
       "alternative hypothesis: true location is not equal to 0\n",
       "95 percent confidence interval:\n",
       " 300.415 302.760\n",
       "sample estimates:\n",
       "(pseudo)median \n",
       "       301.665 \n"
      ]
     },
     "metadata": {},
     "output_type": "display_data"
    },
    {
     "data": {
      "text/plain": [
       "\n",
       "\tWilcoxon signed rank test with continuity correction\n",
       "\n",
       "data:  B\n",
       "V = 5050, p-value < 2.2e-16\n",
       "alternative hypothesis: true location is not equal to 0\n",
       "95 percent confidence interval:\n",
       " 296.5900 298.7699\n",
       "sample estimates:\n",
       "(pseudo)median \n",
       "      297.7024 \n"
      ]
     },
     "metadata": {},
     "output_type": "display_data"
    }
   ],
   "source": [
    "wilcox.test(A, conf.int = TRUE)\n",
    "wilcox.test(B, conf.int = TRUE)"
   ]
  },
  {
   "cell_type": "markdown",
   "metadata": {},
   "source": [
    "### c,d)"
   ]
  },
  {
   "cell_type": "code",
   "execution_count": 9,
   "metadata": {
    "vscode": {
     "languageId": "r"
    }
   },
   "outputs": [
    {
     "data": {
      "text/plain": [
       "\n",
       "\tWilcoxon rank sum test with continuity correction\n",
       "\n",
       "data:  A and B\n",
       "W = 6786.5, p-value = 3.093e-06\n",
       "alternative hypothesis: true location shift is greater than 0\n",
       "95 percent confidence interval:\n",
       " 2.659965      Inf\n",
       "sample estimates:\n",
       "difference in location \n",
       "              3.929984 \n"
      ]
     },
     "metadata": {},
     "output_type": "display_data"
    }
   ],
   "source": [
    "\n",
    "wilcox.test(A, B, var.equal = TRUE, alternative = \"greater\", conf.int = TRUE)"
   ]
  },
  {
   "cell_type": "code",
   "execution_count": 5,
   "metadata": {
    "vscode": {
     "languageId": "r"
    }
   },
   "outputs": [
    {
     "data": {
      "text/html": [
       "0.2087818"
      ],
      "text/latex": [
       "0.2087818"
      ],
      "text/markdown": [
       "0.2087818"
      ],
      "text/plain": [
       "[1] 0.2087818"
      ]
     },
     "metadata": {},
     "output_type": "display_data"
    }
   ],
   "source": [
    "0.5381818 - 0.3294000"
   ]
  },
  {
   "cell_type": "markdown",
   "metadata": {},
   "source": [
    "# 5"
   ]
  },
  {
   "cell_type": "code",
   "execution_count": 11,
   "metadata": {
    "vscode": {
     "languageId": "r"
    }
   },
   "outputs": [
    {
     "data": {
      "text/plain": [
       "\n",
       "\tBartlett test of homogeneity of variances\n",
       "\n",
       "data:  zlepseni by odruda\n",
       "Bartlett's K-squared = 6.1673, df = 3, p-value = 0.1038\n"
      ]
     },
     "metadata": {},
     "output_type": "display_data"
    }
   ],
   "source": [
    "bartlett.test(zlepseni ~ odruda, data = data)"
   ]
  },
  {
   "cell_type": "code",
   "execution_count": 11,
   "metadata": {
    "vscode": {
     "languageId": "r"
    }
   },
   "outputs": [
    {
     "data": {
      "text/plain": [
       "\n",
       "\tKruskal-Wallis rank sum test\n",
       "\n",
       "data:  zlepseni by vyrobce\n",
       "Kruskal-Wallis chi-squared = 20.255, df = 3, p-value = 0.0001503\n"
      ]
     },
     "metadata": {},
     "output_type": "display_data"
    }
   ],
   "source": [
    "kruskal.test(zlepseni ~ vyrobce, data = data)"
   ]
  },
  {
   "cell_type": "code",
   "execution_count": 18,
   "metadata": {
    "vscode": {
     "languageId": "r"
    }
   },
   "outputs": [
    {
     "name": "stdout",
     "output_type": "stream",
     "text": [
      "  Kruskal-Wallis rank sum test\n",
      "\n",
      "data: x and group\n",
      "Kruskal-Wallis chi-squared = 20.2547, df = 3, p-value = 0\n",
      "\n",
      "\n",
      "                           Comparison of x by group                            \n",
      "                                 (Bonferroni)                                  \n",
      "Col Mean-|\n",
      "Row Mean |          A          B          C\n",
      "---------+---------------------------------\n",
      "       B |   4.418312\n",
      "         |    0.0001*\n",
      "         |\n",
      "       C |   1.821162  -2.603700\n",
      "         |     0.4115     0.0553\n",
      "         |\n",
      "       D |   1.499156  -2.926519  -0.322818\n",
      "         |     0.8030    0.0206*     1.0000\n",
      "\n",
      "alpha = 0.05\n",
      "Reject Ho if p <= alpha\n"
     ]
    }
   ],
   "source": [
    "dunn.test::dunn.test(data$zlepseni, data$vyrobce, method = \"bonferroni\", altp = TRUE)"
   ]
  }
 ],
 "metadata": {
  "kernelspec": {
   "display_name": "R",
   "language": "R",
   "name": "ir"
  },
  "language_info": {
   "codemirror_mode": "r",
   "file_extension": ".r",
   "mimetype": "text/x-r-source",
   "name": "R",
   "pygments_lexer": "r",
   "version": "4.3.2"
  }
 },
 "nbformat": 4,
 "nbformat_minor": 2
}

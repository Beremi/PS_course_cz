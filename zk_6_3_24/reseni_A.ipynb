{
 "cells": [
  {
   "cell_type": "code",
   "execution_count": 2,
   "metadata": {
    "vscode": {
     "languageId": "r"
    }
   },
   "outputs": [
    {
     "name": "stderr",
     "output_type": "stream",
     "text": [
      "\n",
      "Attaching package: ‘dplyr’\n",
      "\n",
      "\n",
      "The following objects are masked from ‘package:stats’:\n",
      "\n",
      "    filter, lag\n",
      "\n",
      "\n",
      "The following objects are masked from ‘package:base’:\n",
      "\n",
      "    intersect, setdiff, setequal, union\n",
      "\n",
      "\n",
      "\n",
      "Attaching package: ‘rstatix’\n",
      "\n",
      "\n",
      "The following object is masked from ‘package:stats’:\n",
      "\n",
      "    filter\n",
      "\n",
      "\n"
     ]
    },
    {
     "data": {
      "text/html": [
       "<table class=\"dataframe\">\n",
       "<caption>A tibble: 1 × 8</caption>\n",
       "<thead>\n",
       "\t<tr><th scope=col>odruda</th><th scope=col>id</th><th scope=col>vynos_2022</th><th scope=col>vynos_2023</th><th scope=col>typ_hnojiva</th><th scope=col>zlepseni</th><th scope=col>is.outlier</th><th scope=col>is.extreme</th></tr>\n",
       "\t<tr><th scope=col>&lt;chr&gt;</th><th scope=col>&lt;dbl&gt;</th><th scope=col>&lt;dbl&gt;</th><th scope=col>&lt;dbl&gt;</th><th scope=col>&lt;chr&gt;</th><th scope=col>&lt;dbl&gt;</th><th scope=col>&lt;lgl&gt;</th><th scope=col>&lt;lgl&gt;</th></tr>\n",
       "</thead>\n",
       "<tbody>\n",
       "\t<tr><td>A</td><td>16</td><td>5</td><td>7.75</td><td>synteticke</td><td>2.75</td><td>TRUE</td><td>FALSE</td></tr>\n",
       "</tbody>\n",
       "</table>\n"
      ],
      "text/latex": [
       "A tibble: 1 × 8\n",
       "\\begin{tabular}{llllllll}\n",
       " odruda & id & vynos\\_2022 & vynos\\_2023 & typ\\_hnojiva & zlepseni & is.outlier & is.extreme\\\\\n",
       " <chr> & <dbl> & <dbl> & <dbl> & <chr> & <dbl> & <lgl> & <lgl>\\\\\n",
       "\\hline\n",
       "\t A & 16 & 5 & 7.75 & synteticke & 2.75 & TRUE & FALSE\\\\\n",
       "\\end{tabular}\n"
      ],
      "text/markdown": [
       "\n",
       "A tibble: 1 × 8\n",
       "\n",
       "| odruda &lt;chr&gt; | id &lt;dbl&gt; | vynos_2022 &lt;dbl&gt; | vynos_2023 &lt;dbl&gt; | typ_hnojiva &lt;chr&gt; | zlepseni &lt;dbl&gt; | is.outlier &lt;lgl&gt; | is.extreme &lt;lgl&gt; |\n",
       "|---|---|---|---|---|---|---|---|\n",
       "| A | 16 | 5 | 7.75 | synteticke | 2.75 | TRUE | FALSE |\n",
       "\n"
      ],
      "text/plain": [
       "  odruda id vynos_2022 vynos_2023 typ_hnojiva zlepseni is.outlier is.extreme\n",
       "1 A      16 5          7.75       synteticke  2.75     TRUE       FALSE     "
      ]
     },
     "metadata": {},
     "output_type": "display_data"
    },
    {
     "data": {
      "text/html": [
       "<table class=\"dataframe\">\n",
       "<caption>A tibble: 4 × 8</caption>\n",
       "<thead>\n",
       "\t<tr><th scope=col>odruda</th><th scope=col>mean</th><th scope=col>median</th><th scope=col>min</th><th scope=col>max</th><th scope=col>sd</th><th scope=col>norm_test</th><th scope=col>sym_test</th></tr>\n",
       "\t<tr><th scope=col>&lt;chr&gt;</th><th scope=col>&lt;dbl&gt;</th><th scope=col>&lt;dbl&gt;</th><th scope=col>&lt;dbl&gt;</th><th scope=col>&lt;dbl&gt;</th><th scope=col>&lt;dbl&gt;</th><th scope=col>&lt;dbl&gt;</th><th scope=col>&lt;dbl&gt;</th></tr>\n",
       "</thead>\n",
       "<tbody>\n",
       "\t<tr><td>A</td><td>0.5381818</td><td>0.52000</td><td>-0.57</td><td>1.7800</td><td>0.5514514</td><td>0.3540508</td><td>0.6716412</td></tr>\n",
       "\t<tr><td>B</td><td>0.3294000</td><td>0.28000</td><td>-0.62</td><td>1.3200</td><td>0.4592766</td><td>0.3339221</td><td>0.1576341</td></tr>\n",
       "\t<tr><td>C</td><td>0.5273050</td><td>0.51975</td><td>-0.73</td><td>1.6645</td><td>0.5494186</td><td>0.3962977</td><td>0.8597575</td></tr>\n",
       "\t<tr><td>D</td><td>0.5067000</td><td>0.48500</td><td>-0.70</td><td>1.5800</td><td>0.4626036</td><td>0.7489013</td><td>0.5377519</td></tr>\n",
       "</tbody>\n",
       "</table>\n"
      ],
      "text/latex": [
       "A tibble: 4 × 8\n",
       "\\begin{tabular}{llllllll}\n",
       " odruda & mean & median & min & max & sd & norm\\_test & sym\\_test\\\\\n",
       " <chr> & <dbl> & <dbl> & <dbl> & <dbl> & <dbl> & <dbl> & <dbl>\\\\\n",
       "\\hline\n",
       "\t A & 0.5381818 & 0.52000 & -0.57 & 1.7800 & 0.5514514 & 0.3540508 & 0.6716412\\\\\n",
       "\t B & 0.3294000 & 0.28000 & -0.62 & 1.3200 & 0.4592766 & 0.3339221 & 0.1576341\\\\\n",
       "\t C & 0.5273050 & 0.51975 & -0.73 & 1.6645 & 0.5494186 & 0.3962977 & 0.8597575\\\\\n",
       "\t D & 0.5067000 & 0.48500 & -0.70 & 1.5800 & 0.4626036 & 0.7489013 & 0.5377519\\\\\n",
       "\\end{tabular}\n"
      ],
      "text/markdown": [
       "\n",
       "A tibble: 4 × 8\n",
       "\n",
       "| odruda &lt;chr&gt; | mean &lt;dbl&gt; | median &lt;dbl&gt; | min &lt;dbl&gt; | max &lt;dbl&gt; | sd &lt;dbl&gt; | norm_test &lt;dbl&gt; | sym_test &lt;dbl&gt; |\n",
       "|---|---|---|---|---|---|---|---|\n",
       "| A | 0.5381818 | 0.52000 | -0.57 | 1.7800 | 0.5514514 | 0.3540508 | 0.6716412 |\n",
       "| B | 0.3294000 | 0.28000 | -0.62 | 1.3200 | 0.4592766 | 0.3339221 | 0.1576341 |\n",
       "| C | 0.5273050 | 0.51975 | -0.73 | 1.6645 | 0.5494186 | 0.3962977 | 0.8597575 |\n",
       "| D | 0.5067000 | 0.48500 | -0.70 | 1.5800 | 0.4626036 | 0.7489013 | 0.5377519 |\n",
       "\n"
      ],
      "text/plain": [
       "  odruda mean      median  min   max    sd        norm_test sym_test \n",
       "1 A      0.5381818 0.52000 -0.57 1.7800 0.5514514 0.3540508 0.6716412\n",
       "2 B      0.3294000 0.28000 -0.62 1.3200 0.4592766 0.3339221 0.1576341\n",
       "3 C      0.5273050 0.51975 -0.73 1.6645 0.5494186 0.3962977 0.8597575\n",
       "4 D      0.5067000 0.48500 -0.70 1.5800 0.4626036 0.7489013 0.5377519"
      ]
     },
     "metadata": {},
     "output_type": "display_data"
    },
    {
     "data": {
      "image/png": "[encoded data removed]",
      "text/plain": [
       "plot without title"
      ]
     },
     "metadata": {
      "image/png": {
       "height": 420,
       "width": 420
      }
     },
     "output_type": "display_data"
    }
   ],
   "source": [
    "library(readxl)\n",
    "library(dplyr)\n",
    "library(ggplot2)\n",
    "library(rstatix)\n",
    "library(tidyr)\n",
    "\n",
    "# Load the data\n",
    "data <- read_excel(\"data_20240603_A.xlsx\")\n",
    "\n",
    "\n",
    "# Zobrazení prvních několika řádků data frame\n",
    "data$zlepseni <- (data$vynos_2023 - data$vynos_2022)\n",
    "\n",
    "boxplot(data$zlepseni ~ data$odruda, xlab = \"Značka\", ylab = \"Emise před seřízením\", col = \"lightblue\")\n",
    "\n",
    "outliers <- data %>%\n",
    "    group_by(odruda) %>%\n",
    "    rstatix::identify_outliers(zlepseni)\n",
    "\n",
    "outliers\n",
    "\n",
    "data$zlepseni <- ifelse(data$id %in% outliers$id, NA, data$zlepseni)\n",
    "data <- na.omit(data)\n",
    "summry <- data %>%\n",
    "    group_by(odruda) %>%\n",
    "    summarise(\n",
    "        mean = mean(zlepseni),\n",
    "        median = median(zlepseni),\n",
    "        min = min(zlepseni),\n",
    "        max = max(zlepseni),\n",
    "        sd = sd(zlepseni),\n",
    "        norm_test = shapiro.test(zlepseni)$p.value,\n",
    "        sym_test = lawstat::symmetry.test(zlepseni, boot = FALSE)$p.value\n",
    "    )\n",
    "summry\n"
   ]
  },
  {
   "cell_type": "markdown",
   "metadata": {},
   "source": [
    "# 4"
   ]
  },
  {
   "cell_type": "code",
   "execution_count": 3,
   "metadata": {
    "vscode": {
     "languageId": "r"
    }
   },
   "outputs": [],
   "source": [
    "A <- data$zlepseni[data$odruda == \"A\"]\n",
    "B <- data$zlepseni[data$odruda == \"B\"]"
   ]
  },
  {
   "cell_type": "markdown",
   "metadata": {},
   "source": [
    "### b)"
   ]
  },
  {
   "cell_type": "code",
   "execution_count": 4,
   "metadata": {
    "vscode": {
     "languageId": "r"
    }
   },
   "outputs": [
    {
     "data": {
      "text/plain": [
       "\n",
       "\tOne Sample t-test\n",
       "\n",
       "data:  A\n",
       "t = 9.7104, df = 98, p-value = 5.146e-16\n",
       "alternative hypothesis: true mean is not equal to 0\n",
       "95 percent confidence interval:\n",
       " 0.4281968 0.6481669\n",
       "sample estimates:\n",
       "mean of x \n",
       "0.5381818 \n"
      ]
     },
     "metadata": {},
     "output_type": "display_data"
    },
    {
     "data": {
      "text/plain": [
       "\n",
       "\tOne Sample t-test\n",
       "\n",
       "data:  B\n",
       "t = 7.1721, df = 99, p-value = 1.357e-10\n",
       "alternative hypothesis: true mean is not equal to 0\n",
       "95 percent confidence interval:\n",
       " 0.2382696 0.4205304\n",
       "sample estimates:\n",
       "mean of x \n",
       "   0.3294 \n"
      ]
     },
     "metadata": {},
     "output_type": "display_data"
    }
   ],
   "source": [
    "t.test(A)\n",
    "t.test(B)"
   ]
  },
  {
   "cell_type": "markdown",
   "metadata": {},
   "source": [
    "### c,d)"
   ]
  },
  {
   "cell_type": "code",
   "execution_count": 10,
   "metadata": {
    "vscode": {
     "languageId": "r"
    }
   },
   "outputs": [
    {
     "data": {
      "text/html": [
       "0.0708377438483465"
      ],
      "text/latex": [
       "0.0708377438483465"
      ],
      "text/markdown": [
       "0.0708377438483465"
      ],
      "text/plain": [
       "[1] 0.07083774"
      ]
     },
     "metadata": {},
     "output_type": "display_data"
    },
    {
     "data": {
      "text/plain": [
       "\n",
       "\tTwo Sample t-test\n",
       "\n",
       "data:  A and B\n",
       "t = 2.9032, df = 197, p-value = 0.002057\n",
       "alternative hypothesis: true difference in means is greater than 0\n",
       "95 percent confidence interval:\n",
       " 0.08993525        Inf\n",
       "sample estimates:\n",
       "mean of x mean of y \n",
       "0.5381818 0.3294000 \n"
      ]
     },
     "metadata": {},
     "output_type": "display_data"
    }
   ],
   "source": [
    "var.test(A, B, ratio = 1)$p.value\n",
    "t.test(A, B, var.equal = TRUE, alternative = \"greater\")"
   ]
  },
  {
   "cell_type": "code",
   "execution_count": 5,
   "metadata": {
    "vscode": {
     "languageId": "r"
    }
   },
   "outputs": [
    {
     "data": {
      "text/html": [
       "0.2087818"
      ],
      "text/latex": [
       "0.2087818"
      ],
      "text/markdown": [
       "0.2087818"
      ],
      "text/plain": [
       "[1] 0.2087818"
      ]
     },
     "metadata": {},
     "output_type": "display_data"
    }
   ],
   "source": [
    "0.5381818 - 0.3294000"
   ]
  },
  {
   "cell_type": "markdown",
   "metadata": {},
   "source": [
    "# 5"
   ]
  },
  {
   "cell_type": "code",
   "execution_count": 11,
   "metadata": {
    "vscode": {
     "languageId": "r"
    }
   },
   "outputs": [
    {
     "data": {
      "text/plain": [
       "\n",
       "\tBartlett test of homogeneity of variances\n",
       "\n",
       "data:  zlepseni by odruda\n",
       "Bartlett's K-squared = 6.1673, df = 3, p-value = 0.1038\n"
      ]
     },
     "metadata": {},
     "output_type": "display_data"
    }
   ],
   "source": [
    "bartlett.test(zlepseni ~ odruda, data = data)"
   ]
  },
  {
   "cell_type": "code",
   "execution_count": 12,
   "metadata": {
    "vscode": {
     "languageId": "r"
    }
   },
   "outputs": [
    {
     "data": {
      "text/plain": [
       "             Df Sum Sq Mean Sq F value Pr(>F)  \n",
       "odruda        3   2.89  0.9631   3.738 0.0113 *\n",
       "Residuals   395 101.75  0.2576                 \n",
       "---\n",
       "Signif. codes:  0 ‘***’ 0.001 ‘**’ 0.01 ‘*’ 0.05 ‘.’ 0.1 ‘ ’ 1"
      ]
     },
     "metadata": {},
     "output_type": "display_data"
    }
   ],
   "source": [
    "tab <- aov(zlepseni ~ odruda, data = data)\n",
    "summary(tab)"
   ]
  },
  {
   "cell_type": "code",
   "execution_count": 13,
   "metadata": {
    "vscode": {
     "languageId": "r"
    }
   },
   "outputs": [
    {
     "data": {
      "text/plain": [
       "  Tukey multiple comparisons of means\n",
       "    95% family-wise confidence level\n",
       "\n",
       "Fit: aov(formula = zlepseni ~ odruda, data = data)\n",
       "\n",
       "$odruda\n",
       "           diff          lwr         upr     p adj\n",
       "B-A -0.20878182 -0.394437110 -0.02312653 0.0204016\n",
       "C-A -0.01087682 -0.196532110  0.17477847 0.9987680\n",
       "D-A -0.03148182 -0.217137110  0.15417347 0.9719529\n",
       "C-B  0.19790500  0.012716766  0.38309323 0.0309165\n",
       "D-B  0.17730000 -0.007888234  0.36248823 0.0662424\n",
       "D-C -0.02060500 -0.205793234  0.16458323 0.9917474\n"
      ]
     },
     "metadata": {},
     "output_type": "display_data"
    }
   ],
   "source": [
    "TukeyHSD(tab)"
   ]
  }
 ],
 "metadata": {
  "kernelspec": {
   "display_name": "R",
   "language": "R",
   "name": "ir"
  },
  "language_info": {
   "codemirror_mode": "r",
   "file_extension": ".r",
   "mimetype": "text/x-r-source",
   "name": "R",
   "pygments_lexer": "r",
   "version": "4.3.2"
  }
 },
 "nbformat": 4,
 "nbformat_minor": 2
}

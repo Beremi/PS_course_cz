{
 "cells": [
  {
   "cell_type": "code",
   "execution_count": 5,
   "metadata": {
    "vscode": {
     "languageId": "r"
    }
   },
   "outputs": [
    {
     "data": {
      "text/html": [
       "<table class=\"dataframe\">\n",
       "<caption>A tibble: 1 × 8</caption>\n",
       "<thead>\n",
       "\t<tr><th scope=col>odruda</th><th scope=col>id</th><th scope=col>vynos_2022</th><th scope=col>vynos_2023</th><th scope=col>typ_hnojiva</th><th scope=col>zlepseni</th><th scope=col>is.outlier</th><th scope=col>is.extreme</th></tr>\n",
       "\t<tr><th scope=col>&lt;chr&gt;</th><th scope=col>&lt;dbl&gt;</th><th scope=col>&lt;dbl&gt;</th><th scope=col>&lt;dbl&gt;</th><th scope=col>&lt;chr&gt;</th><th scope=col>&lt;dbl&gt;</th><th scope=col>&lt;lgl&gt;</th><th scope=col>&lt;lgl&gt;</th></tr>\n",
       "</thead>\n",
       "<tbody>\n",
       "\t<tr><td>A</td><td>16</td><td>5</td><td>7.97</td><td>synteticke</td><td>2.97</td><td>TRUE</td><td>FALSE</td></tr>\n",
       "</tbody>\n",
       "</table>\n"
      ],
      "text/latex": [
       "A tibble: 1 × 8\n",
       "\\begin{tabular}{llllllll}\n",
       " odruda & id & vynos\\_2022 & vynos\\_2023 & typ\\_hnojiva & zlepseni & is.outlier & is.extreme\\\\\n",
       " <chr> & <dbl> & <dbl> & <dbl> & <chr> & <dbl> & <lgl> & <lgl>\\\\\n",
       "\\hline\n",
       "\t A & 16 & 5 & 7.97 & synteticke & 2.97 & TRUE & FALSE\\\\\n",
       "\\end{tabular}\n"
      ],
      "text/markdown": [
       "\n",
       "A tibble: 1 × 8\n",
       "\n",
       "| odruda &lt;chr&gt; | id &lt;dbl&gt; | vynos_2022 &lt;dbl&gt; | vynos_2023 &lt;dbl&gt; | typ_hnojiva &lt;chr&gt; | zlepseni &lt;dbl&gt; | is.outlier &lt;lgl&gt; | is.extreme &lt;lgl&gt; |\n",
       "|---|---|---|---|---|---|---|---|\n",
       "| A | 16 | 5 | 7.97 | synteticke | 2.97 | TRUE | FALSE |\n",
       "\n"
      ],
      "text/plain": [
       "  odruda id vynos_2022 vynos_2023 typ_hnojiva zlepseni is.outlier is.extreme\n",
       "1 A      16 5          7.97       synteticke  2.97     TRUE       FALSE     "
      ]
     },
     "metadata": {},
     "output_type": "display_data"
    },
    {
     "data": {
      "text/html": [
       "<table class=\"dataframe\">\n",
       "<caption>A tibble: 4 × 8</caption>\n",
       "<thead>\n",
       "\t<tr><th scope=col>odruda</th><th scope=col>mean</th><th scope=col>median</th><th scope=col>min</th><th scope=col>max</th><th scope=col>sd</th><th scope=col>norm_test</th><th scope=col>sym_test</th></tr>\n",
       "\t<tr><th scope=col>&lt;chr&gt;</th><th scope=col>&lt;dbl&gt;</th><th scope=col>&lt;dbl&gt;</th><th scope=col>&lt;dbl&gt;</th><th scope=col>&lt;dbl&gt;</th><th scope=col>&lt;dbl&gt;</th><th scope=col>&lt;dbl&gt;</th><th scope=col>&lt;dbl&gt;</th></tr>\n",
       "</thead>\n",
       "<tbody>\n",
       "\t<tr><td>A</td><td> 0.1029293</td><td> 0.06000</td><td>-1.2500</td><td>1.390</td><td>0.5770690</td><td>0.78995539</td><td>0.3287805</td></tr>\n",
       "\t<tr><td>B</td><td>-0.0381000</td><td>-0.04500</td><td>-1.3100</td><td>1.060</td><td>0.5067956</td><td>0.62550391</td><td>0.8551948</td></tr>\n",
       "\t<tr><td>C</td><td>-0.0219550</td><td>-0.02975</td><td>-1.5935</td><td>1.625</td><td>0.6473816</td><td>0.98402362</td><td>0.8713272</td></tr>\n",
       "\t<tr><td>D</td><td> 0.0632000</td><td> 0.11000</td><td>-1.1500</td><td>1.140</td><td>0.5708029</td><td>0.05441567</td><td>0.3029567</td></tr>\n",
       "</tbody>\n",
       "</table>\n"
      ],
      "text/latex": [
       "A tibble: 4 × 8\n",
       "\\begin{tabular}{llllllll}\n",
       " odruda & mean & median & min & max & sd & norm\\_test & sym\\_test\\\\\n",
       " <chr> & <dbl> & <dbl> & <dbl> & <dbl> & <dbl> & <dbl> & <dbl>\\\\\n",
       "\\hline\n",
       "\t A &  0.1029293 &  0.06000 & -1.2500 & 1.390 & 0.5770690 & 0.78995539 & 0.3287805\\\\\n",
       "\t B & -0.0381000 & -0.04500 & -1.3100 & 1.060 & 0.5067956 & 0.62550391 & 0.8551948\\\\\n",
       "\t C & -0.0219550 & -0.02975 & -1.5935 & 1.625 & 0.6473816 & 0.98402362 & 0.8713272\\\\\n",
       "\t D &  0.0632000 &  0.11000 & -1.1500 & 1.140 & 0.5708029 & 0.05441567 & 0.3029567\\\\\n",
       "\\end{tabular}\n"
      ],
      "text/markdown": [
       "\n",
       "A tibble: 4 × 8\n",
       "\n",
       "| odruda &lt;chr&gt; | mean &lt;dbl&gt; | median &lt;dbl&gt; | min &lt;dbl&gt; | max &lt;dbl&gt; | sd &lt;dbl&gt; | norm_test &lt;dbl&gt; | sym_test &lt;dbl&gt; |\n",
       "|---|---|---|---|---|---|---|---|\n",
       "| A |  0.1029293 |  0.06000 | -1.2500 | 1.390 | 0.5770690 | 0.78995539 | 0.3287805 |\n",
       "| B | -0.0381000 | -0.04500 | -1.3100 | 1.060 | 0.5067956 | 0.62550391 | 0.8551948 |\n",
       "| C | -0.0219550 | -0.02975 | -1.5935 | 1.625 | 0.6473816 | 0.98402362 | 0.8713272 |\n",
       "| D |  0.0632000 |  0.11000 | -1.1500 | 1.140 | 0.5708029 | 0.05441567 | 0.3029567 |\n",
       "\n"
      ],
      "text/plain": [
       "  odruda mean       median   min     max   sd        norm_test  sym_test \n",
       "1 A       0.1029293  0.06000 -1.2500 1.390 0.5770690 0.78995539 0.3287805\n",
       "2 B      -0.0381000 -0.04500 -1.3100 1.060 0.5067956 0.62550391 0.8551948\n",
       "3 C      -0.0219550 -0.02975 -1.5935 1.625 0.6473816 0.98402362 0.8713272\n",
       "4 D       0.0632000  0.11000 -1.1500 1.140 0.5708029 0.05441567 0.3029567"
      ]
     },
     "metadata": {},
     "output_type": "display_data"
    },
    {
     "data": {
      "image/png": "[encoded data removed]",
      "text/plain": [
       "plot without title"
      ]
     },
     "metadata": {
      "image/png": {
       "height": 420,
       "width": 420
      }
     },
     "output_type": "display_data"
    }
   ],
   "source": [
    "library(readxl)\n",
    "library(dplyr)\n",
    "library(ggplot2)\n",
    "library(rstatix)\n",
    "library(tidyr)\n",
    "\n",
    "# Load the data\n",
    "data <- read_excel(\"data_20240603_B.xlsx\")\n",
    "\n",
    "\n",
    "# Zobrazení prvních několika řádků data frame\n",
    "data$zlepseni <- (data$vynos_2023 - data$vynos_2022)\n",
    "\n",
    "boxplot(data$zlepseni ~ data$odruda, xlab = \"Značka\", ylab = \"Emise před seřízením\", col = \"lightblue\")\n",
    "\n",
    "outliers <- data %>%\n",
    "    group_by(odruda) %>%\n",
    "    rstatix::identify_outliers(zlepseni)\n",
    "\n",
    "outliers\n",
    "\n",
    "data$zlepseni <- ifelse(data$id %in% outliers$id, NA, data$zlepseni)\n",
    "data <- na.omit(data)\n",
    "summry <- data %>%\n",
    "    group_by(odruda) %>%\n",
    "    summarise(\n",
    "        mean = mean(zlepseni),\n",
    "        median = median(zlepseni),\n",
    "        min = min(zlepseni),\n",
    "        max = max(zlepseni),\n",
    "        sd = sd(zlepseni),\n",
    "        norm_test = shapiro.test(zlepseni)$p.value,\n",
    "        sym_test = lawstat::symmetry.test(zlepseni, boot = FALSE)$p.value\n",
    "    )\n",
    "summry\n"
   ]
  },
  {
   "cell_type": "markdown",
   "metadata": {},
   "source": [
    "# 4"
   ]
  },
  {
   "cell_type": "code",
   "execution_count": 6,
   "metadata": {
    "vscode": {
     "languageId": "r"
    }
   },
   "outputs": [],
   "source": [
    "A <- data$zlepseni[data$odruda == \"A\"]\n"
   ]
  },
  {
   "cell_type": "markdown",
   "metadata": {},
   "source": [
    "### b,c)"
   ]
  },
  {
   "cell_type": "code",
   "execution_count": 7,
   "metadata": {
    "vscode": {
     "languageId": "r"
    }
   },
   "outputs": [
    {
     "data": {
      "text/plain": [
       "\n",
       "\tOne Sample t-test\n",
       "\n",
       "data:  A\n",
       "t = 1.7747, df = 98, p-value = 0.03952\n",
       "alternative hypothesis: true mean is greater than 0\n",
       "95 percent confidence interval:\n",
       " 0.006621273         Inf\n",
       "sample estimates:\n",
       "mean of x \n",
       "0.1029293 \n"
      ]
     },
     "metadata": {},
     "output_type": "display_data"
    }
   ],
   "source": [
    "t.test(A, alternative = \"greater\")\n"
   ]
  },
  {
   "cell_type": "markdown",
   "metadata": {},
   "source": [
    "### d)"
   ]
  },
  {
   "cell_type": "code",
   "execution_count": 8,
   "metadata": {
    "vscode": {
     "languageId": "r"
    }
   },
   "outputs": [
    {
     "data": {
      "text/plain": [
       "\n",
       "\tExact binomial test\n",
       "\n",
       "data:  x and n\n",
       "number of successes = 45, number of trials = 99, p-value = 0.4215\n",
       "alternative hypothesis: true probability of success is not equal to 0.5\n",
       "95 percent confidence interval:\n",
       " 0.3541366 0.5577462\n",
       "sample estimates:\n",
       "probability of success \n",
       "             0.4545455 \n"
      ]
     },
     "metadata": {},
     "output_type": "display_data"
    }
   ],
   "source": [
    "A_fail <- data$zlepseni[data$odruda == \"A\"] < 0\n",
    "tab <- table(A_fail)\n",
    "n <- sum(tab)\n",
    "x <- tab[2]\n",
    "\n",
    "binom.test(x, n)\n"
   ]
  },
  {
   "cell_type": "code",
   "execution_count": 9,
   "metadata": {
    "vscode": {
     "languageId": "r"
    }
   },
   "outputs": [
    {
     "data": {
      "text/html": [
       "<strong>TRUE:</strong> 0.454545454545455"
      ],
      "text/latex": [
       "\\textbf{TRUE:} 0.454545454545455"
      ],
      "text/markdown": [
       "**TRUE:** 0.454545454545455"
      ],
      "text/plain": [
       "     TRUE \n",
       "0.4545455 "
      ]
     },
     "metadata": {},
     "output_type": "display_data"
    },
    {
     "data": {
      "text/html": [
       "<strong>TRUE:</strong> 36.3"
      ],
      "text/latex": [
       "\\textbf{TRUE:} 36.3"
      ],
      "text/markdown": [
       "**TRUE:** 36.3"
      ],
      "text/plain": [
       "TRUE \n",
       "36.3 "
      ]
     },
     "metadata": {},
     "output_type": "display_data"
    }
   ],
   "source": [
    "p <- x / n\n",
    "p\n",
    "9/(p * (1 - p))"
   ]
  },
  {
   "cell_type": "markdown",
   "metadata": {},
   "source": [
    "# 5"
   ]
  },
  {
   "cell_type": "code",
   "execution_count": 21,
   "metadata": {
    "vscode": {
     "languageId": "r"
    }
   },
   "outputs": [
    {
     "data": {
      "text/plain": [
       "            A_fail\n",
       "A_hnojivo    TRUE FALSE\n",
       "  synteticke   23    11\n",
       "  prirodni     22    43"
      ]
     },
     "metadata": {},
     "output_type": "display_data"
    }
   ],
   "source": [
    "A_fail <- data$zlepseni[data$odruda == \"A\"] < 0\n",
    "A_hnojivo <- data$typ_hnojiva[data$odruda == \"A\"]\n",
    "tab <- table(A_hnojivo, A_fail)\n",
    "tab <- tab[c(2, 1), c(2, 1)]\n",
    "tab"
   ]
  },
  {
   "cell_type": "markdown",
   "metadata": {},
   "source": [
    "### b)"
   ]
  },
  {
   "cell_type": "code",
   "execution_count": 22,
   "metadata": {
    "vscode": {
     "languageId": "r"
    }
   },
   "outputs": [
    {
     "data": {
      "text/html": [
       "0.300985059484989"
      ],
      "text/latex": [
       "0.300985059484989"
      ],
      "text/markdown": [
       "0.300985059484989"
      ],
      "text/plain": [
       "[1] 0.3009851"
      ]
     },
     "metadata": {},
     "output_type": "display_data"
    },
    {
     "data": {
      "image/png": "[encoded data removed]",
      "text/plain": [
       "Plot with title “tab”"
      ]
     },
     "metadata": {
      "image/png": {
       "height": 420,
       "width": 420
      }
     },
     "output_type": "display_data"
    }
   ],
   "source": [
    "cramer_v(tab)\n",
    "mosaicplot(tab, color = TRUE)\n"
   ]
  },
  {
   "cell_type": "markdown",
   "metadata": {},
   "source": [
    "### c)"
   ]
  },
  {
   "cell_type": "code",
   "execution_count": 23,
   "metadata": {
    "vscode": {
     "languageId": "r"
    }
   },
   "outputs": [
    {
     "data": {
      "text/plain": [
       "             Outcome +    Outcome -      Total                 Inc risk *\n",
       "Exposed +           23           11         34     67.65 (49.47 to 82.61)\n",
       "Exposed -           22           43         65     33.85 (22.57 to 46.65)\n",
       "Total               45           54         99     45.45 (35.41 to 55.77)\n",
       "\n",
       "Point estimates and 95% CIs:\n",
       "-------------------------------------------------------------------\n",
       "Inc risk ratio                                 2.00 (1.32, 3.02)\n",
       "Inc odds ratio                                 4.09 (1.69, 9.89)\n",
       "Attrib risk in the exposed *                   33.80 (14.32, 53.28)\n",
       "Attrib fraction in the exposed (%)            49.97 (24.48, 66.85)\n",
       "Attrib risk in the population *                11.61 (-3.51, 26.73)\n",
       "Attrib fraction in the population (%)         25.54 (7.06, 40.34)\n",
       "-------------------------------------------------------------------\n",
       "Uncorrected chi2 test that OR = 1: chi2(1) = 10.287 Pr>chi2 = 0.001\n",
       "Fisher exact test that OR = 1: Pr>chi2 = 0.002\n",
       " Wald confidence limits\n",
       " CI: confidence interval\n",
       " * Outcomes per 100 population units "
      ]
     },
     "metadata": {},
     "output_type": "display_data"
    }
   ],
   "source": [
    "epiR::epi.2by2(tab)\n"
   ]
  }
 ],
 "metadata": {
  "kernelspec": {
   "display_name": "R",
   "language": "R",
   "name": "ir"
  },
  "language_info": {
   "codemirror_mode": "r",
   "file_extension": ".r",
   "mimetype": "text/x-r-source",
   "name": "R",
   "pygments_lexer": "r",
   "version": "4.3.2"
  }
 },
 "nbformat": 4,
 "nbformat_minor": 2
}
